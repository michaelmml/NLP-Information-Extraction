{
  "nbformat": 4,
  "nbformat_minor": 0,
  "metadata": {
    "colab": {
      "name": "BERTopicModelling.ipynb",
      "provenance": [],
      "toc_visible": true,
      "authorship_tag": "ABX9TyPieBB++Bmfv6ZTX7mN0UU/"
    },
    "kernelspec": {
      "name": "python3",
      "display_name": "Python 3"
    },
    "language_info": {
      "name": "python"
    },
    "widgets": {
      "application/vnd.jupyter.widget-state+json": {
        "eadbb4c6914046bcb94040a6a7fd83b5": {
          "model_module": "@jupyter-widgets/controls",
          "model_name": "HBoxModel",
          "model_module_version": "1.5.0",
          "state": {
            "_dom_classes": [],
            "_model_module": "@jupyter-widgets/controls",
            "_model_module_version": "1.5.0",
            "_model_name": "HBoxModel",
            "_view_count": null,
            "_view_module": "@jupyter-widgets/controls",
            "_view_module_version": "1.5.0",
            "_view_name": "HBoxView",
            "box_style": "",
            "children": [
              "IPY_MODEL_0000ee3f9a0c4159b8a3d9ab76730ebc",
              "IPY_MODEL_c5103375e2614c888144537dd3021539",
              "IPY_MODEL_badd3064dca141c3a7a780e418598ded"
            ],
            "layout": "IPY_MODEL_f7dc6d1337cc447b965b829bc0c6354f"
          }
        },
        "0000ee3f9a0c4159b8a3d9ab76730ebc": {
          "model_module": "@jupyter-widgets/controls",
          "model_name": "HTMLModel",
          "model_module_version": "1.5.0",
          "state": {
            "_dom_classes": [],
            "_model_module": "@jupyter-widgets/controls",
            "_model_module_version": "1.5.0",
            "_model_name": "HTMLModel",
            "_view_count": null,
            "_view_module": "@jupyter-widgets/controls",
            "_view_module_version": "1.5.0",
            "_view_name": "HTMLView",
            "description": "",
            "description_tooltip": null,
            "layout": "IPY_MODEL_41557b4c8381402393fdb8ce620bb480",
            "placeholder": "​",
            "style": "IPY_MODEL_fa75f2b21557439c84ebe73cd8c27171",
            "value": "Downloading: 100%"
          }
        },
        "c5103375e2614c888144537dd3021539": {
          "model_module": "@jupyter-widgets/controls",
          "model_name": "FloatProgressModel",
          "model_module_version": "1.5.0",
          "state": {
            "_dom_classes": [],
            "_model_module": "@jupyter-widgets/controls",
            "_model_module_version": "1.5.0",
            "_model_name": "FloatProgressModel",
            "_view_count": null,
            "_view_module": "@jupyter-widgets/controls",
            "_view_module_version": "1.5.0",
            "_view_name": "ProgressView",
            "bar_style": "success",
            "description": "",
            "description_tooltip": null,
            "layout": "IPY_MODEL_25b43297465842aa8ea96c8908f3399c",
            "max": 690,
            "min": 0,
            "orientation": "horizontal",
            "style": "IPY_MODEL_a95eee8a39ed4f48818c31aead07d81a",
            "value": 690
          }
        },
        "badd3064dca141c3a7a780e418598ded": {
          "model_module": "@jupyter-widgets/controls",
          "model_name": "HTMLModel",
          "model_module_version": "1.5.0",
          "state": {
            "_dom_classes": [],
            "_model_module": "@jupyter-widgets/controls",
            "_model_module_version": "1.5.0",
            "_model_name": "HTMLModel",
            "_view_count": null,
            "_view_module": "@jupyter-widgets/controls",
            "_view_module_version": "1.5.0",
            "_view_name": "HTMLView",
            "description": "",
            "description_tooltip": null,
            "layout": "IPY_MODEL_2f1fa58b372d4c3f94083253983f05e9",
            "placeholder": "​",
            "style": "IPY_MODEL_5944b8d949524a1799c29991fcef8ca5",
            "value": " 690/690 [00:00&lt;00:00, 8.97kB/s]"
          }
        },
        "f7dc6d1337cc447b965b829bc0c6354f": {
          "model_module": "@jupyter-widgets/base",
          "model_name": "LayoutModel",
          "model_module_version": "1.2.0",
          "state": {
            "_model_module": "@jupyter-widgets/base",
            "_model_module_version": "1.2.0",
            "_model_name": "LayoutModel",
            "_view_count": null,
            "_view_module": "@jupyter-widgets/base",
            "_view_module_version": "1.2.0",
            "_view_name": "LayoutView",
            "align_content": null,
            "align_items": null,
            "align_self": null,
            "border": null,
            "bottom": null,
            "display": null,
            "flex": null,
            "flex_flow": null,
            "grid_area": null,
            "grid_auto_columns": null,
            "grid_auto_flow": null,
            "grid_auto_rows": null,
            "grid_column": null,
            "grid_gap": null,
            "grid_row": null,
            "grid_template_areas": null,
            "grid_template_columns": null,
            "grid_template_rows": null,
            "height": null,
            "justify_content": null,
            "justify_items": null,
            "left": null,
            "margin": null,
            "max_height": null,
            "max_width": null,
            "min_height": null,
            "min_width": null,
            "object_fit": null,
            "object_position": null,
            "order": null,
            "overflow": null,
            "overflow_x": null,
            "overflow_y": null,
            "padding": null,
            "right": null,
            "top": null,
            "visibility": null,
            "width": null
          }
        },
        "41557b4c8381402393fdb8ce620bb480": {
          "model_module": "@jupyter-widgets/base",
          "model_name": "LayoutModel",
          "model_module_version": "1.2.0",
          "state": {
            "_model_module": "@jupyter-widgets/base",
            "_model_module_version": "1.2.0",
            "_model_name": "LayoutModel",
            "_view_count": null,
            "_view_module": "@jupyter-widgets/base",
            "_view_module_version": "1.2.0",
            "_view_name": "LayoutView",
            "align_content": null,
            "align_items": null,
            "align_self": null,
            "border": null,
            "bottom": null,
            "display": null,
            "flex": null,
            "flex_flow": null,
            "grid_area": null,
            "grid_auto_columns": null,
            "grid_auto_flow": null,
            "grid_auto_rows": null,
            "grid_column": null,
            "grid_gap": null,
            "grid_row": null,
            "grid_template_areas": null,
            "grid_template_columns": null,
            "grid_template_rows": null,
            "height": null,
            "justify_content": null,
            "justify_items": null,
            "left": null,
            "margin": null,
            "max_height": null,
            "max_width": null,
            "min_height": null,
            "min_width": null,
            "object_fit": null,
            "object_position": null,
            "order": null,
            "overflow": null,
            "overflow_x": null,
            "overflow_y": null,
            "padding": null,
            "right": null,
            "top": null,
            "visibility": null,
            "width": null
          }
        },
        "fa75f2b21557439c84ebe73cd8c27171": {
          "model_module": "@jupyter-widgets/controls",
          "model_name": "DescriptionStyleModel",
          "model_module_version": "1.5.0",
          "state": {
            "_model_module": "@jupyter-widgets/controls",
            "_model_module_version": "1.5.0",
            "_model_name": "DescriptionStyleModel",
            "_view_count": null,
            "_view_module": "@jupyter-widgets/base",
            "_view_module_version": "1.2.0",
            "_view_name": "StyleView",
            "description_width": ""
          }
        },
        "25b43297465842aa8ea96c8908f3399c": {
          "model_module": "@jupyter-widgets/base",
          "model_name": "LayoutModel",
          "model_module_version": "1.2.0",
          "state": {
            "_model_module": "@jupyter-widgets/base",
            "_model_module_version": "1.2.0",
            "_model_name": "LayoutModel",
            "_view_count": null,
            "_view_module": "@jupyter-widgets/base",
            "_view_module_version": "1.2.0",
            "_view_name": "LayoutView",
            "align_content": null,
            "align_items": null,
            "align_self": null,
            "border": null,
            "bottom": null,
            "display": null,
            "flex": null,
            "flex_flow": null,
            "grid_area": null,
            "grid_auto_columns": null,
            "grid_auto_flow": null,
            "grid_auto_rows": null,
            "grid_column": null,
            "grid_gap": null,
            "grid_row": null,
            "grid_template_areas": null,
            "grid_template_columns": null,
            "grid_template_rows": null,
            "height": null,
            "justify_content": null,
            "justify_items": null,
            "left": null,
            "margin": null,
            "max_height": null,
            "max_width": null,
            "min_height": null,
            "min_width": null,
            "object_fit": null,
            "object_position": null,
            "order": null,
            "overflow": null,
            "overflow_x": null,
            "overflow_y": null,
            "padding": null,
            "right": null,
            "top": null,
            "visibility": null,
            "width": null
          }
        },
        "a95eee8a39ed4f48818c31aead07d81a": {
          "model_module": "@jupyter-widgets/controls",
          "model_name": "ProgressStyleModel",
          "model_module_version": "1.5.0",
          "state": {
            "_model_module": "@jupyter-widgets/controls",
            "_model_module_version": "1.5.0",
            "_model_name": "ProgressStyleModel",
            "_view_count": null,
            "_view_module": "@jupyter-widgets/base",
            "_view_module_version": "1.2.0",
            "_view_name": "StyleView",
            "bar_color": null,
            "description_width": ""
          }
        },
        "2f1fa58b372d4c3f94083253983f05e9": {
          "model_module": "@jupyter-widgets/base",
          "model_name": "LayoutModel",
          "model_module_version": "1.2.0",
          "state": {
            "_model_module": "@jupyter-widgets/base",
            "_model_module_version": "1.2.0",
            "_model_name": "LayoutModel",
            "_view_count": null,
            "_view_module": "@jupyter-widgets/base",
            "_view_module_version": "1.2.0",
            "_view_name": "LayoutView",
            "align_content": null,
            "align_items": null,
            "align_self": null,
            "border": null,
            "bottom": null,
            "display": null,
            "flex": null,
            "flex_flow": null,
            "grid_area": null,
            "grid_auto_columns": null,
            "grid_auto_flow": null,
            "grid_auto_rows": null,
            "grid_column": null,
            "grid_gap": null,
            "grid_row": null,
            "grid_template_areas": null,
            "grid_template_columns": null,
            "grid_template_rows": null,
            "height": null,
            "justify_content": null,
            "justify_items": null,
            "left": null,
            "margin": null,
            "max_height": null,
            "max_width": null,
            "min_height": null,
            "min_width": null,
            "object_fit": null,
            "object_position": null,
            "order": null,
            "overflow": null,
            "overflow_x": null,
            "overflow_y": null,
            "padding": null,
            "right": null,
            "top": null,
            "visibility": null,
            "width": null
          }
        },
        "5944b8d949524a1799c29991fcef8ca5": {
          "model_module": "@jupyter-widgets/controls",
          "model_name": "DescriptionStyleModel",
          "model_module_version": "1.5.0",
          "state": {
            "_model_module": "@jupyter-widgets/controls",
            "_model_module_version": "1.5.0",
            "_model_name": "DescriptionStyleModel",
            "_view_count": null,
            "_view_module": "@jupyter-widgets/base",
            "_view_module_version": "1.2.0",
            "_view_name": "StyleView",
            "description_width": ""
          }
        },
        "d834db0d847b4d22a3e94db2df570498": {
          "model_module": "@jupyter-widgets/controls",
          "model_name": "HBoxModel",
          "model_module_version": "1.5.0",
          "state": {
            "_dom_classes": [],
            "_model_module": "@jupyter-widgets/controls",
            "_model_module_version": "1.5.0",
            "_model_name": "HBoxModel",
            "_view_count": null,
            "_view_module": "@jupyter-widgets/controls",
            "_view_module_version": "1.5.0",
            "_view_name": "HBoxView",
            "box_style": "",
            "children": [
              "IPY_MODEL_97797071992545e7a0ce4bed21e293ee",
              "IPY_MODEL_49051b5435354fa5bcf0824e8df345ea",
              "IPY_MODEL_f2d4641d654d468fa1552f7869b91517"
            ],
            "layout": "IPY_MODEL_0ad0804c8f8f480ca0543f2f2b2c3b4c"
          }
        },
        "97797071992545e7a0ce4bed21e293ee": {
          "model_module": "@jupyter-widgets/controls",
          "model_name": "HTMLModel",
          "model_module_version": "1.5.0",
          "state": {
            "_dom_classes": [],
            "_model_module": "@jupyter-widgets/controls",
            "_model_module_version": "1.5.0",
            "_model_name": "HTMLModel",
            "_view_count": null,
            "_view_module": "@jupyter-widgets/controls",
            "_view_module_version": "1.5.0",
            "_view_name": "HTMLView",
            "description": "",
            "description_tooltip": null,
            "layout": "IPY_MODEL_89140291fd564e4a885714cfad8320c2",
            "placeholder": "​",
            "style": "IPY_MODEL_26e976f34eb04d4ca1ee16acefcc5a04",
            "value": "Downloading: 100%"
          }
        },
        "49051b5435354fa5bcf0824e8df345ea": {
          "model_module": "@jupyter-widgets/controls",
          "model_name": "FloatProgressModel",
          "model_module_version": "1.5.0",
          "state": {
            "_dom_classes": [],
            "_model_module": "@jupyter-widgets/controls",
            "_model_module_version": "1.5.0",
            "_model_name": "FloatProgressModel",
            "_view_count": null,
            "_view_module": "@jupyter-widgets/controls",
            "_view_module_version": "1.5.0",
            "_view_name": "ProgressView",
            "bar_style": "success",
            "description": "",
            "description_tooltip": null,
            "layout": "IPY_MODEL_4a0b793d795a4c17a2d8346bb9a1b0ab",
            "max": 3693,
            "min": 0,
            "orientation": "horizontal",
            "style": "IPY_MODEL_5f4621b640c84ee697020aa78ac5659a",
            "value": 3693
          }
        },
        "f2d4641d654d468fa1552f7869b91517": {
          "model_module": "@jupyter-widgets/controls",
          "model_name": "HTMLModel",
          "model_module_version": "1.5.0",
          "state": {
            "_dom_classes": [],
            "_model_module": "@jupyter-widgets/controls",
            "_model_module_version": "1.5.0",
            "_model_name": "HTMLModel",
            "_view_count": null,
            "_view_module": "@jupyter-widgets/controls",
            "_view_module_version": "1.5.0",
            "_view_name": "HTMLView",
            "description": "",
            "description_tooltip": null,
            "layout": "IPY_MODEL_7708c339a09d4281bf540e069d72545c",
            "placeholder": "​",
            "style": "IPY_MODEL_0e54fc012f4f4c3791343a11969ec94b",
            "value": " 3.69k/3.69k [00:00&lt;00:00, 8.75kB/s]"
          }
        },
        "0ad0804c8f8f480ca0543f2f2b2c3b4c": {
          "model_module": "@jupyter-widgets/base",
          "model_name": "LayoutModel",
          "model_module_version": "1.2.0",
          "state": {
            "_model_module": "@jupyter-widgets/base",
            "_model_module_version": "1.2.0",
            "_model_name": "LayoutModel",
            "_view_count": null,
            "_view_module": "@jupyter-widgets/base",
            "_view_module_version": "1.2.0",
            "_view_name": "LayoutView",
            "align_content": null,
            "align_items": null,
            "align_self": null,
            "border": null,
            "bottom": null,
            "display": null,
            "flex": null,
            "flex_flow": null,
            "grid_area": null,
            "grid_auto_columns": null,
            "grid_auto_flow": null,
            "grid_auto_rows": null,
            "grid_column": null,
            "grid_gap": null,
            "grid_row": null,
            "grid_template_areas": null,
            "grid_template_columns": null,
            "grid_template_rows": null,
            "height": null,
            "justify_content": null,
            "justify_items": null,
            "left": null,
            "margin": null,
            "max_height": null,
            "max_width": null,
            "min_height": null,
            "min_width": null,
            "object_fit": null,
            "object_position": null,
            "order": null,
            "overflow": null,
            "overflow_x": null,
            "overflow_y": null,
            "padding": null,
            "right": null,
            "top": null,
            "visibility": null,
            "width": null
          }
        },
        "89140291fd564e4a885714cfad8320c2": {
          "model_module": "@jupyter-widgets/base",
          "model_name": "LayoutModel",
          "model_module_version": "1.2.0",
          "state": {
            "_model_module": "@jupyter-widgets/base",
            "_model_module_version": "1.2.0",
            "_model_name": "LayoutModel",
            "_view_count": null,
            "_view_module": "@jupyter-widgets/base",
            "_view_module_version": "1.2.0",
            "_view_name": "LayoutView",
            "align_content": null,
            "align_items": null,
            "align_self": null,
            "border": null,
            "bottom": null,
            "display": null,
            "flex": null,
            "flex_flow": null,
            "grid_area": null,
            "grid_auto_columns": null,
            "grid_auto_flow": null,
            "grid_auto_rows": null,
            "grid_column": null,
            "grid_gap": null,
            "grid_row": null,
            "grid_template_areas": null,
            "grid_template_columns": null,
            "grid_template_rows": null,
            "height": null,
            "justify_content": null,
            "justify_items": null,
            "left": null,
            "margin": null,
            "max_height": null,
            "max_width": null,
            "min_height": null,
            "min_width": null,
            "object_fit": null,
            "object_position": null,
            "order": null,
            "overflow": null,
            "overflow_x": null,
            "overflow_y": null,
            "padding": null,
            "right": null,
            "top": null,
            "visibility": null,
            "width": null
          }
        },
        "26e976f34eb04d4ca1ee16acefcc5a04": {
          "model_module": "@jupyter-widgets/controls",
          "model_name": "DescriptionStyleModel",
          "model_module_version": "1.5.0",
          "state": {
            "_model_module": "@jupyter-widgets/controls",
            "_model_module_version": "1.5.0",
            "_model_name": "DescriptionStyleModel",
            "_view_count": null,
            "_view_module": "@jupyter-widgets/base",
            "_view_module_version": "1.2.0",
            "_view_name": "StyleView",
            "description_width": ""
          }
        },
        "4a0b793d795a4c17a2d8346bb9a1b0ab": {
          "model_module": "@jupyter-widgets/base",
          "model_name": "LayoutModel",
          "model_module_version": "1.2.0",
          "state": {
            "_model_module": "@jupyter-widgets/base",
            "_model_module_version": "1.2.0",
            "_model_name": "LayoutModel",
            "_view_count": null,
            "_view_module": "@jupyter-widgets/base",
            "_view_module_version": "1.2.0",
            "_view_name": "LayoutView",
            "align_content": null,
            "align_items": null,
            "align_self": null,
            "border": null,
            "bottom": null,
            "display": null,
            "flex": null,
            "flex_flow": null,
            "grid_area": null,
            "grid_auto_columns": null,
            "grid_auto_flow": null,
            "grid_auto_rows": null,
            "grid_column": null,
            "grid_gap": null,
            "grid_row": null,
            "grid_template_areas": null,
            "grid_template_columns": null,
            "grid_template_rows": null,
            "height": null,
            "justify_content": null,
            "justify_items": null,
            "left": null,
            "margin": null,
            "max_height": null,
            "max_width": null,
            "min_height": null,
            "min_width": null,
            "object_fit": null,
            "object_position": null,
            "order": null,
            "overflow": null,
            "overflow_x": null,
            "overflow_y": null,
            "padding": null,
            "right": null,
            "top": null,
            "visibility": null,
            "width": null
          }
        },
        "5f4621b640c84ee697020aa78ac5659a": {
          "model_module": "@jupyter-widgets/controls",
          "model_name": "ProgressStyleModel",
          "model_module_version": "1.5.0",
          "state": {
            "_model_module": "@jupyter-widgets/controls",
            "_model_module_version": "1.5.0",
            "_model_name": "ProgressStyleModel",
            "_view_count": null,
            "_view_module": "@jupyter-widgets/base",
            "_view_module_version": "1.2.0",
            "_view_name": "StyleView",
            "bar_color": null,
            "description_width": ""
          }
        },
        "7708c339a09d4281bf540e069d72545c": {
          "model_module": "@jupyter-widgets/base",
          "model_name": "LayoutModel",
          "model_module_version": "1.2.0",
          "state": {
            "_model_module": "@jupyter-widgets/base",
            "_model_module_version": "1.2.0",
            "_model_name": "LayoutModel",
            "_view_count": null,
            "_view_module": "@jupyter-widgets/base",
            "_view_module_version": "1.2.0",
            "_view_name": "LayoutView",
            "align_content": null,
            "align_items": null,
            "align_self": null,
            "border": null,
            "bottom": null,
            "display": null,
            "flex": null,
            "flex_flow": null,
            "grid_area": null,
            "grid_auto_columns": null,
            "grid_auto_flow": null,
            "grid_auto_rows": null,
            "grid_column": null,
            "grid_gap": null,
            "grid_row": null,
            "grid_template_areas": null,
            "grid_template_columns": null,
            "grid_template_rows": null,
            "height": null,
            "justify_content": null,
            "justify_items": null,
            "left": null,
            "margin": null,
            "max_height": null,
            "max_width": null,
            "min_height": null,
            "min_width": null,
            "object_fit": null,
            "object_position": null,
            "order": null,
            "overflow": null,
            "overflow_x": null,
            "overflow_y": null,
            "padding": null,
            "right": null,
            "top": null,
            "visibility": null,
            "width": null
          }
        },
        "0e54fc012f4f4c3791343a11969ec94b": {
          "model_module": "@jupyter-widgets/controls",
          "model_name": "DescriptionStyleModel",
          "model_module_version": "1.5.0",
          "state": {
            "_model_module": "@jupyter-widgets/controls",
            "_model_module_version": "1.5.0",
            "_model_name": "DescriptionStyleModel",
            "_view_count": null,
            "_view_module": "@jupyter-widgets/base",
            "_view_module_version": "1.2.0",
            "_view_name": "StyleView",
            "description_width": ""
          }
        },
        "cc1d3fc9b0c54e809e6dba6ce4fe0f87": {
          "model_module": "@jupyter-widgets/controls",
          "model_name": "HBoxModel",
          "model_module_version": "1.5.0",
          "state": {
            "_dom_classes": [],
            "_model_module": "@jupyter-widgets/controls",
            "_model_module_version": "1.5.0",
            "_model_name": "HBoxModel",
            "_view_count": null,
            "_view_module": "@jupyter-widgets/controls",
            "_view_module_version": "1.5.0",
            "_view_name": "HBoxView",
            "box_style": "",
            "children": [
              "IPY_MODEL_de7539be1edd4544b8ab45324dd8d203",
              "IPY_MODEL_1a7eded8ef3d4edca8d16b1c7bead676",
              "IPY_MODEL_26e421a5723b4f55b57622ca98fca8f6"
            ],
            "layout": "IPY_MODEL_699da9d727f14fd3bd4384796cc070c0"
          }
        },
        "de7539be1edd4544b8ab45324dd8d203": {
          "model_module": "@jupyter-widgets/controls",
          "model_name": "HTMLModel",
          "model_module_version": "1.5.0",
          "state": {
            "_dom_classes": [],
            "_model_module": "@jupyter-widgets/controls",
            "_model_module_version": "1.5.0",
            "_model_name": "HTMLModel",
            "_view_count": null,
            "_view_module": "@jupyter-widgets/controls",
            "_view_module_version": "1.5.0",
            "_view_name": "HTMLView",
            "description": "",
            "description_tooltip": null,
            "layout": "IPY_MODEL_c5880996f60f41b881e9e82bf8473b86",
            "placeholder": "​",
            "style": "IPY_MODEL_051a850913844c218d410d11375aca26",
            "value": "Downloading: 100%"
          }
        },
        "1a7eded8ef3d4edca8d16b1c7bead676": {
          "model_module": "@jupyter-widgets/controls",
          "model_name": "FloatProgressModel",
          "model_module_version": "1.5.0",
          "state": {
            "_dom_classes": [],
            "_model_module": "@jupyter-widgets/controls",
            "_model_module_version": "1.5.0",
            "_model_name": "FloatProgressModel",
            "_view_count": null,
            "_view_module": "@jupyter-widgets/controls",
            "_view_module_version": "1.5.0",
            "_view_name": "ProgressView",
            "bar_style": "success",
            "description": "",
            "description_tooltip": null,
            "layout": "IPY_MODEL_3b71d004c1c04e83acad463c4cf873e5",
            "max": 629,
            "min": 0,
            "orientation": "horizontal",
            "style": "IPY_MODEL_095d162ec30a4ffaab457c52edf32891",
            "value": 629
          }
        },
        "26e421a5723b4f55b57622ca98fca8f6": {
          "model_module": "@jupyter-widgets/controls",
          "model_name": "HTMLModel",
          "model_module_version": "1.5.0",
          "state": {
            "_dom_classes": [],
            "_model_module": "@jupyter-widgets/controls",
            "_model_module_version": "1.5.0",
            "_model_name": "HTMLModel",
            "_view_count": null,
            "_view_module": "@jupyter-widgets/controls",
            "_view_module_version": "1.5.0",
            "_view_name": "HTMLView",
            "description": "",
            "description_tooltip": null,
            "layout": "IPY_MODEL_cad160956a824cc7a30ea845fc20f447",
            "placeholder": "​",
            "style": "IPY_MODEL_0901861067824831869e374e2c119e07",
            "value": " 629/629 [00:00&lt;00:00, 12.2kB/s]"
          }
        },
        "699da9d727f14fd3bd4384796cc070c0": {
          "model_module": "@jupyter-widgets/base",
          "model_name": "LayoutModel",
          "model_module_version": "1.2.0",
          "state": {
            "_model_module": "@jupyter-widgets/base",
            "_model_module_version": "1.2.0",
            "_model_name": "LayoutModel",
            "_view_count": null,
            "_view_module": "@jupyter-widgets/base",
            "_view_module_version": "1.2.0",
            "_view_name": "LayoutView",
            "align_content": null,
            "align_items": null,
            "align_self": null,
            "border": null,
            "bottom": null,
            "display": null,
            "flex": null,
            "flex_flow": null,
            "grid_area": null,
            "grid_auto_columns": null,
            "grid_auto_flow": null,
            "grid_auto_rows": null,
            "grid_column": null,
            "grid_gap": null,
            "grid_row": null,
            "grid_template_areas": null,
            "grid_template_columns": null,
            "grid_template_rows": null,
            "height": null,
            "justify_content": null,
            "justify_items": null,
            "left": null,
            "margin": null,
            "max_height": null,
            "max_width": null,
            "min_height": null,
            "min_width": null,
            "object_fit": null,
            "object_position": null,
            "order": null,
            "overflow": null,
            "overflow_x": null,
            "overflow_y": null,
            "padding": null,
            "right": null,
            "top": null,
            "visibility": null,
            "width": null
          }
        },
        "c5880996f60f41b881e9e82bf8473b86": {
          "model_module": "@jupyter-widgets/base",
          "model_name": "LayoutModel",
          "model_module_version": "1.2.0",
          "state": {
            "_model_module": "@jupyter-widgets/base",
            "_model_module_version": "1.2.0",
            "_model_name": "LayoutModel",
            "_view_count": null,
            "_view_module": "@jupyter-widgets/base",
            "_view_module_version": "1.2.0",
            "_view_name": "LayoutView",
            "align_content": null,
            "align_items": null,
            "align_self": null,
            "border": null,
            "bottom": null,
            "display": null,
            "flex": null,
            "flex_flow": null,
            "grid_area": null,
            "grid_auto_columns": null,
            "grid_auto_flow": null,
            "grid_auto_rows": null,
            "grid_column": null,
            "grid_gap": null,
            "grid_row": null,
            "grid_template_areas": null,
            "grid_template_columns": null,
            "grid_template_rows": null,
            "height": null,
            "justify_content": null,
            "justify_items": null,
            "left": null,
            "margin": null,
            "max_height": null,
            "max_width": null,
            "min_height": null,
            "min_width": null,
            "object_fit": null,
            "object_position": null,
            "order": null,
            "overflow": null,
            "overflow_x": null,
            "overflow_y": null,
            "padding": null,
            "right": null,
            "top": null,
            "visibility": null,
            "width": null
          }
        },
        "051a850913844c218d410d11375aca26": {
          "model_module": "@jupyter-widgets/controls",
          "model_name": "DescriptionStyleModel",
          "model_module_version": "1.5.0",
          "state": {
            "_model_module": "@jupyter-widgets/controls",
            "_model_module_version": "1.5.0",
            "_model_name": "DescriptionStyleModel",
            "_view_count": null,
            "_view_module": "@jupyter-widgets/base",
            "_view_module_version": "1.2.0",
            "_view_name": "StyleView",
            "description_width": ""
          }
        },
        "3b71d004c1c04e83acad463c4cf873e5": {
          "model_module": "@jupyter-widgets/base",
          "model_name": "LayoutModel",
          "model_module_version": "1.2.0",
          "state": {
            "_model_module": "@jupyter-widgets/base",
            "_model_module_version": "1.2.0",
            "_model_name": "LayoutModel",
            "_view_count": null,
            "_view_module": "@jupyter-widgets/base",
            "_view_module_version": "1.2.0",
            "_view_name": "LayoutView",
            "align_content": null,
            "align_items": null,
            "align_self": null,
            "border": null,
            "bottom": null,
            "display": null,
            "flex": null,
            "flex_flow": null,
            "grid_area": null,
            "grid_auto_columns": null,
            "grid_auto_flow": null,
            "grid_auto_rows": null,
            "grid_column": null,
            "grid_gap": null,
            "grid_row": null,
            "grid_template_areas": null,
            "grid_template_columns": null,
            "grid_template_rows": null,
            "height": null,
            "justify_content": null,
            "justify_items": null,
            "left": null,
            "margin": null,
            "max_height": null,
            "max_width": null,
            "min_height": null,
            "min_width": null,
            "object_fit": null,
            "object_position": null,
            "order": null,
            "overflow": null,
            "overflow_x": null,
            "overflow_y": null,
            "padding": null,
            "right": null,
            "top": null,
            "visibility": null,
            "width": null
          }
        },
        "095d162ec30a4ffaab457c52edf32891": {
          "model_module": "@jupyter-widgets/controls",
          "model_name": "ProgressStyleModel",
          "model_module_version": "1.5.0",
          "state": {
            "_model_module": "@jupyter-widgets/controls",
            "_model_module_version": "1.5.0",
            "_model_name": "ProgressStyleModel",
            "_view_count": null,
            "_view_module": "@jupyter-widgets/base",
            "_view_module_version": "1.2.0",
            "_view_name": "StyleView",
            "bar_color": null,
            "description_width": ""
          }
        },
        "cad160956a824cc7a30ea845fc20f447": {
          "model_module": "@jupyter-widgets/base",
          "model_name": "LayoutModel",
          "model_module_version": "1.2.0",
          "state": {
            "_model_module": "@jupyter-widgets/base",
            "_model_module_version": "1.2.0",
            "_model_name": "LayoutModel",
            "_view_count": null,
            "_view_module": "@jupyter-widgets/base",
            "_view_module_version": "1.2.0",
            "_view_name": "LayoutView",
            "align_content": null,
            "align_items": null,
            "align_self": null,
            "border": null,
            "bottom": null,
            "display": null,
            "flex": null,
            "flex_flow": null,
            "grid_area": null,
            "grid_auto_columns": null,
            "grid_auto_flow": null,
            "grid_auto_rows": null,
            "grid_column": null,
            "grid_gap": null,
            "grid_row": null,
            "grid_template_areas": null,
            "grid_template_columns": null,
            "grid_template_rows": null,
            "height": null,
            "justify_content": null,
            "justify_items": null,
            "left": null,
            "margin": null,
            "max_height": null,
            "max_width": null,
            "min_height": null,
            "min_width": null,
            "object_fit": null,
            "object_position": null,
            "order": null,
            "overflow": null,
            "overflow_x": null,
            "overflow_y": null,
            "padding": null,
            "right": null,
            "top": null,
            "visibility": null,
            "width": null
          }
        },
        "0901861067824831869e374e2c119e07": {
          "model_module": "@jupyter-widgets/controls",
          "model_name": "DescriptionStyleModel",
          "model_module_version": "1.5.0",
          "state": {
            "_model_module": "@jupyter-widgets/controls",
            "_model_module_version": "1.5.0",
            "_model_name": "DescriptionStyleModel",
            "_view_count": null,
            "_view_module": "@jupyter-widgets/base",
            "_view_module_version": "1.2.0",
            "_view_name": "StyleView",
            "description_width": ""
          }
        },
        "84ef15814191441c99be146002602012": {
          "model_module": "@jupyter-widgets/controls",
          "model_name": "HBoxModel",
          "model_module_version": "1.5.0",
          "state": {
            "_dom_classes": [],
            "_model_module": "@jupyter-widgets/controls",
            "_model_module_version": "1.5.0",
            "_model_name": "HBoxModel",
            "_view_count": null,
            "_view_module": "@jupyter-widgets/controls",
            "_view_module_version": "1.5.0",
            "_view_name": "HBoxView",
            "box_style": "",
            "children": [
              "IPY_MODEL_a1f95eaaad134f2b818d9aa6cc9a228f",
              "IPY_MODEL_bcac693090694b4ea14d35ed9adfe136",
              "IPY_MODEL_0d9cea0bcc7e40daaf650441a6b33498"
            ],
            "layout": "IPY_MODEL_9661b0f74fef44a2ba266cbcbdd68cf0"
          }
        },
        "a1f95eaaad134f2b818d9aa6cc9a228f": {
          "model_module": "@jupyter-widgets/controls",
          "model_name": "HTMLModel",
          "model_module_version": "1.5.0",
          "state": {
            "_dom_classes": [],
            "_model_module": "@jupyter-widgets/controls",
            "_model_module_version": "1.5.0",
            "_model_name": "HTMLModel",
            "_view_count": null,
            "_view_module": "@jupyter-widgets/controls",
            "_view_module_version": "1.5.0",
            "_view_name": "HTMLView",
            "description": "",
            "description_tooltip": null,
            "layout": "IPY_MODEL_f1e0b0b66041422c8807015197d1f9c3",
            "placeholder": "​",
            "style": "IPY_MODEL_c0733f6db34448ca89f2f9a9a8ffbe4b",
            "value": "Downloading: 100%"
          }
        },
        "bcac693090694b4ea14d35ed9adfe136": {
          "model_module": "@jupyter-widgets/controls",
          "model_name": "FloatProgressModel",
          "model_module_version": "1.5.0",
          "state": {
            "_dom_classes": [],
            "_model_module": "@jupyter-widgets/controls",
            "_model_module_version": "1.5.0",
            "_model_name": "FloatProgressModel",
            "_view_count": null,
            "_view_module": "@jupyter-widgets/controls",
            "_view_module_version": "1.5.0",
            "_view_name": "ProgressView",
            "bar_style": "success",
            "description": "",
            "description_tooltip": null,
            "layout": "IPY_MODEL_28123e75bcc547c588c4520861be2a51",
            "max": 122,
            "min": 0,
            "orientation": "horizontal",
            "style": "IPY_MODEL_554bd4de12c84902b12f1005c4e0e099",
            "value": 122
          }
        },
        "0d9cea0bcc7e40daaf650441a6b33498": {
          "model_module": "@jupyter-widgets/controls",
          "model_name": "HTMLModel",
          "model_module_version": "1.5.0",
          "state": {
            "_dom_classes": [],
            "_model_module": "@jupyter-widgets/controls",
            "_model_module_version": "1.5.0",
            "_model_name": "HTMLModel",
            "_view_count": null,
            "_view_module": "@jupyter-widgets/controls",
            "_view_module_version": "1.5.0",
            "_view_name": "HTMLView",
            "description": "",
            "description_tooltip": null,
            "layout": "IPY_MODEL_5467b1f863574a2395b1c51e1734ae18",
            "placeholder": "​",
            "style": "IPY_MODEL_50397b296f5447f08d9b26a75ebcb5f8",
            "value": " 122/122 [00:00&lt;00:00, 2.94kB/s]"
          }
        },
        "9661b0f74fef44a2ba266cbcbdd68cf0": {
          "model_module": "@jupyter-widgets/base",
          "model_name": "LayoutModel",
          "model_module_version": "1.2.0",
          "state": {
            "_model_module": "@jupyter-widgets/base",
            "_model_module_version": "1.2.0",
            "_model_name": "LayoutModel",
            "_view_count": null,
            "_view_module": "@jupyter-widgets/base",
            "_view_module_version": "1.2.0",
            "_view_name": "LayoutView",
            "align_content": null,
            "align_items": null,
            "align_self": null,
            "border": null,
            "bottom": null,
            "display": null,
            "flex": null,
            "flex_flow": null,
            "grid_area": null,
            "grid_auto_columns": null,
            "grid_auto_flow": null,
            "grid_auto_rows": null,
            "grid_column": null,
            "grid_gap": null,
            "grid_row": null,
            "grid_template_areas": null,
            "grid_template_columns": null,
            "grid_template_rows": null,
            "height": null,
            "justify_content": null,
            "justify_items": null,
            "left": null,
            "margin": null,
            "max_height": null,
            "max_width": null,
            "min_height": null,
            "min_width": null,
            "object_fit": null,
            "object_position": null,
            "order": null,
            "overflow": null,
            "overflow_x": null,
            "overflow_y": null,
            "padding": null,
            "right": null,
            "top": null,
            "visibility": null,
            "width": null
          }
        },
        "f1e0b0b66041422c8807015197d1f9c3": {
          "model_module": "@jupyter-widgets/base",
          "model_name": "LayoutModel",
          "model_module_version": "1.2.0",
          "state": {
            "_model_module": "@jupyter-widgets/base",
            "_model_module_version": "1.2.0",
            "_model_name": "LayoutModel",
            "_view_count": null,
            "_view_module": "@jupyter-widgets/base",
            "_view_module_version": "1.2.0",
            "_view_name": "LayoutView",
            "align_content": null,
            "align_items": null,
            "align_self": null,
            "border": null,
            "bottom": null,
            "display": null,
            "flex": null,
            "flex_flow": null,
            "grid_area": null,
            "grid_auto_columns": null,
            "grid_auto_flow": null,
            "grid_auto_rows": null,
            "grid_column": null,
            "grid_gap": null,
            "grid_row": null,
            "grid_template_areas": null,
            "grid_template_columns": null,
            "grid_template_rows": null,
            "height": null,
            "justify_content": null,
            "justify_items": null,
            "left": null,
            "margin": null,
            "max_height": null,
            "max_width": null,
            "min_height": null,
            "min_width": null,
            "object_fit": null,
            "object_position": null,
            "order": null,
            "overflow": null,
            "overflow_x": null,
            "overflow_y": null,
            "padding": null,
            "right": null,
            "top": null,
            "visibility": null,
            "width": null
          }
        },
        "c0733f6db34448ca89f2f9a9a8ffbe4b": {
          "model_module": "@jupyter-widgets/controls",
          "model_name": "DescriptionStyleModel",
          "model_module_version": "1.5.0",
          "state": {
            "_model_module": "@jupyter-widgets/controls",
            "_model_module_version": "1.5.0",
            "_model_name": "DescriptionStyleModel",
            "_view_count": null,
            "_view_module": "@jupyter-widgets/base",
            "_view_module_version": "1.2.0",
            "_view_name": "StyleView",
            "description_width": ""
          }
        },
        "28123e75bcc547c588c4520861be2a51": {
          "model_module": "@jupyter-widgets/base",
          "model_name": "LayoutModel",
          "model_module_version": "1.2.0",
          "state": {
            "_model_module": "@jupyter-widgets/base",
            "_model_module_version": "1.2.0",
            "_model_name": "LayoutModel",
            "_view_count": null,
            "_view_module": "@jupyter-widgets/base",
            "_view_module_version": "1.2.0",
            "_view_name": "LayoutView",
            "align_content": null,
            "align_items": null,
            "align_self": null,
            "border": null,
            "bottom": null,
            "display": null,
            "flex": null,
            "flex_flow": null,
            "grid_area": null,
            "grid_auto_columns": null,
            "grid_auto_flow": null,
            "grid_auto_rows": null,
            "grid_column": null,
            "grid_gap": null,
            "grid_row": null,
            "grid_template_areas": null,
            "grid_template_columns": null,
            "grid_template_rows": null,
            "height": null,
            "justify_content": null,
            "justify_items": null,
            "left": null,
            "margin": null,
            "max_height": null,
            "max_width": null,
            "min_height": null,
            "min_width": null,
            "object_fit": null,
            "object_position": null,
            "order": null,
            "overflow": null,
            "overflow_x": null,
            "overflow_y": null,
            "padding": null,
            "right": null,
            "top": null,
            "visibility": null,
            "width": null
          }
        },
        "554bd4de12c84902b12f1005c4e0e099": {
          "model_module": "@jupyter-widgets/controls",
          "model_name": "ProgressStyleModel",
          "model_module_version": "1.5.0",
          "state": {
            "_model_module": "@jupyter-widgets/controls",
            "_model_module_version": "1.5.0",
            "_model_name": "ProgressStyleModel",
            "_view_count": null,
            "_view_module": "@jupyter-widgets/base",
            "_view_module_version": "1.2.0",
            "_view_name": "StyleView",
            "bar_color": null,
            "description_width": ""
          }
        },
        "5467b1f863574a2395b1c51e1734ae18": {
          "model_module": "@jupyter-widgets/base",
          "model_name": "LayoutModel",
          "model_module_version": "1.2.0",
          "state": {
            "_model_module": "@jupyter-widgets/base",
            "_model_module_version": "1.2.0",
            "_model_name": "LayoutModel",
            "_view_count": null,
            "_view_module": "@jupyter-widgets/base",
            "_view_module_version": "1.2.0",
            "_view_name": "LayoutView",
            "align_content": null,
            "align_items": null,
            "align_self": null,
            "border": null,
            "bottom": null,
            "display": null,
            "flex": null,
            "flex_flow": null,
            "grid_area": null,
            "grid_auto_columns": null,
            "grid_auto_flow": null,
            "grid_auto_rows": null,
            "grid_column": null,
            "grid_gap": null,
            "grid_row": null,
            "grid_template_areas": null,
            "grid_template_columns": null,
            "grid_template_rows": null,
            "height": null,
            "justify_content": null,
            "justify_items": null,
            "left": null,
            "margin": null,
            "max_height": null,
            "max_width": null,
            "min_height": null,
            "min_width": null,
            "object_fit": null,
            "object_position": null,
            "order": null,
            "overflow": null,
            "overflow_x": null,
            "overflow_y": null,
            "padding": null,
            "right": null,
            "top": null,
            "visibility": null,
            "width": null
          }
        },
        "50397b296f5447f08d9b26a75ebcb5f8": {
          "model_module": "@jupyter-widgets/controls",
          "model_name": "DescriptionStyleModel",
          "model_module_version": "1.5.0",
          "state": {
            "_model_module": "@jupyter-widgets/controls",
            "_model_module_version": "1.5.0",
            "_model_name": "DescriptionStyleModel",
            "_view_count": null,
            "_view_module": "@jupyter-widgets/base",
            "_view_module_version": "1.2.0",
            "_view_name": "StyleView",
            "description_width": ""
          }
        },
        "ae6e4c376481494b91a850b62f06d6e3": {
          "model_module": "@jupyter-widgets/controls",
          "model_name": "HBoxModel",
          "model_module_version": "1.5.0",
          "state": {
            "_dom_classes": [],
            "_model_module": "@jupyter-widgets/controls",
            "_model_module_version": "1.5.0",
            "_model_name": "HBoxModel",
            "_view_count": null,
            "_view_module": "@jupyter-widgets/controls",
            "_view_module_version": "1.5.0",
            "_view_name": "HBoxView",
            "box_style": "",
            "children": [
              "IPY_MODEL_3e8b974b6e664fc0b2e3f5996e32b39b",
              "IPY_MODEL_5def044173b54096a914e27bd5683bb4",
              "IPY_MODEL_0dfa186aefe149f49badad02a5d349ad"
            ],
            "layout": "IPY_MODEL_7a3876719e574e359b65e9a1be9ed909"
          }
        },
        "3e8b974b6e664fc0b2e3f5996e32b39b": {
          "model_module": "@jupyter-widgets/controls",
          "model_name": "HTMLModel",
          "model_module_version": "1.5.0",
          "state": {
            "_dom_classes": [],
            "_model_module": "@jupyter-widgets/controls",
            "_model_module_version": "1.5.0",
            "_model_name": "HTMLModel",
            "_view_count": null,
            "_view_module": "@jupyter-widgets/controls",
            "_view_module_version": "1.5.0",
            "_view_name": "HTMLView",
            "description": "",
            "description_tooltip": null,
            "layout": "IPY_MODEL_5f16110d4fe7410da3c868e90ad3a089",
            "placeholder": "​",
            "style": "IPY_MODEL_4bd5632834664d588459f0f2a9ba2364",
            "value": "Downloading: 100%"
          }
        },
        "5def044173b54096a914e27bd5683bb4": {
          "model_module": "@jupyter-widgets/controls",
          "model_name": "FloatProgressModel",
          "model_module_version": "1.5.0",
          "state": {
            "_dom_classes": [],
            "_model_module": "@jupyter-widgets/controls",
            "_model_module_version": "1.5.0",
            "_model_name": "FloatProgressModel",
            "_view_count": null,
            "_view_module": "@jupyter-widgets/controls",
            "_view_module_version": "1.5.0",
            "_view_name": "ProgressView",
            "bar_style": "success",
            "description": "",
            "description_tooltip": null,
            "layout": "IPY_MODEL_d27addffeb6c4f8f9a5edc366bff2a3e",
            "max": 229,
            "min": 0,
            "orientation": "horizontal",
            "style": "IPY_MODEL_827d3db03f5642239d6a39b9e3ddb0f1",
            "value": 229
          }
        },
        "0dfa186aefe149f49badad02a5d349ad": {
          "model_module": "@jupyter-widgets/controls",
          "model_name": "HTMLModel",
          "model_module_version": "1.5.0",
          "state": {
            "_dom_classes": [],
            "_model_module": "@jupyter-widgets/controls",
            "_model_module_version": "1.5.0",
            "_model_name": "HTMLModel",
            "_view_count": null,
            "_view_module": "@jupyter-widgets/controls",
            "_view_module_version": "1.5.0",
            "_view_name": "HTMLView",
            "description": "",
            "description_tooltip": null,
            "layout": "IPY_MODEL_d6b393d020304bcea8300364424b0422",
            "placeholder": "​",
            "style": "IPY_MODEL_8dfb365650d64a5e94ff76025315f518",
            "value": " 229/229 [00:00&lt;00:00, 4.88kB/s]"
          }
        },
        "7a3876719e574e359b65e9a1be9ed909": {
          "model_module": "@jupyter-widgets/base",
          "model_name": "LayoutModel",
          "model_module_version": "1.2.0",
          "state": {
            "_model_module": "@jupyter-widgets/base",
            "_model_module_version": "1.2.0",
            "_model_name": "LayoutModel",
            "_view_count": null,
            "_view_module": "@jupyter-widgets/base",
            "_view_module_version": "1.2.0",
            "_view_name": "LayoutView",
            "align_content": null,
            "align_items": null,
            "align_self": null,
            "border": null,
            "bottom": null,
            "display": null,
            "flex": null,
            "flex_flow": null,
            "grid_area": null,
            "grid_auto_columns": null,
            "grid_auto_flow": null,
            "grid_auto_rows": null,
            "grid_column": null,
            "grid_gap": null,
            "grid_row": null,
            "grid_template_areas": null,
            "grid_template_columns": null,
            "grid_template_rows": null,
            "height": null,
            "justify_content": null,
            "justify_items": null,
            "left": null,
            "margin": null,
            "max_height": null,
            "max_width": null,
            "min_height": null,
            "min_width": null,
            "object_fit": null,
            "object_position": null,
            "order": null,
            "overflow": null,
            "overflow_x": null,
            "overflow_y": null,
            "padding": null,
            "right": null,
            "top": null,
            "visibility": null,
            "width": null
          }
        },
        "5f16110d4fe7410da3c868e90ad3a089": {
          "model_module": "@jupyter-widgets/base",
          "model_name": "LayoutModel",
          "model_module_version": "1.2.0",
          "state": {
            "_model_module": "@jupyter-widgets/base",
            "_model_module_version": "1.2.0",
            "_model_name": "LayoutModel",
            "_view_count": null,
            "_view_module": "@jupyter-widgets/base",
            "_view_module_version": "1.2.0",
            "_view_name": "LayoutView",
            "align_content": null,
            "align_items": null,
            "align_self": null,
            "border": null,
            "bottom": null,
            "display": null,
            "flex": null,
            "flex_flow": null,
            "grid_area": null,
            "grid_auto_columns": null,
            "grid_auto_flow": null,
            "grid_auto_rows": null,
            "grid_column": null,
            "grid_gap": null,
            "grid_row": null,
            "grid_template_areas": null,
            "grid_template_columns": null,
            "grid_template_rows": null,
            "height": null,
            "justify_content": null,
            "justify_items": null,
            "left": null,
            "margin": null,
            "max_height": null,
            "max_width": null,
            "min_height": null,
            "min_width": null,
            "object_fit": null,
            "object_position": null,
            "order": null,
            "overflow": null,
            "overflow_x": null,
            "overflow_y": null,
            "padding": null,
            "right": null,
            "top": null,
            "visibility": null,
            "width": null
          }
        },
        "4bd5632834664d588459f0f2a9ba2364": {
          "model_module": "@jupyter-widgets/controls",
          "model_name": "DescriptionStyleModel",
          "model_module_version": "1.5.0",
          "state": {
            "_model_module": "@jupyter-widgets/controls",
            "_model_module_version": "1.5.0",
            "_model_name": "DescriptionStyleModel",
            "_view_count": null,
            "_view_module": "@jupyter-widgets/base",
            "_view_module_version": "1.2.0",
            "_view_name": "StyleView",
            "description_width": ""
          }
        },
        "d27addffeb6c4f8f9a5edc366bff2a3e": {
          "model_module": "@jupyter-widgets/base",
          "model_name": "LayoutModel",
          "model_module_version": "1.2.0",
          "state": {
            "_model_module": "@jupyter-widgets/base",
            "_model_module_version": "1.2.0",
            "_model_name": "LayoutModel",
            "_view_count": null,
            "_view_module": "@jupyter-widgets/base",
            "_view_module_version": "1.2.0",
            "_view_name": "LayoutView",
            "align_content": null,
            "align_items": null,
            "align_self": null,
            "border": null,
            "bottom": null,
            "display": null,
            "flex": null,
            "flex_flow": null,
            "grid_area": null,
            "grid_auto_columns": null,
            "grid_auto_flow": null,
            "grid_auto_rows": null,
            "grid_column": null,
            "grid_gap": null,
            "grid_row": null,
            "grid_template_areas": null,
            "grid_template_columns": null,
            "grid_template_rows": null,
            "height": null,
            "justify_content": null,
            "justify_items": null,
            "left": null,
            "margin": null,
            "max_height": null,
            "max_width": null,
            "min_height": null,
            "min_width": null,
            "object_fit": null,
            "object_position": null,
            "order": null,
            "overflow": null,
            "overflow_x": null,
            "overflow_y": null,
            "padding": null,
            "right": null,
            "top": null,
            "visibility": null,
            "width": null
          }
        },
        "827d3db03f5642239d6a39b9e3ddb0f1": {
          "model_module": "@jupyter-widgets/controls",
          "model_name": "ProgressStyleModel",
          "model_module_version": "1.5.0",
          "state": {
            "_model_module": "@jupyter-widgets/controls",
            "_model_module_version": "1.5.0",
            "_model_name": "ProgressStyleModel",
            "_view_count": null,
            "_view_module": "@jupyter-widgets/base",
            "_view_module_version": "1.2.0",
            "_view_name": "StyleView",
            "bar_color": null,
            "description_width": ""
          }
        },
        "d6b393d020304bcea8300364424b0422": {
          "model_module": "@jupyter-widgets/base",
          "model_name": "LayoutModel",
          "model_module_version": "1.2.0",
          "state": {
            "_model_module": "@jupyter-widgets/base",
            "_model_module_version": "1.2.0",
            "_model_name": "LayoutModel",
            "_view_count": null,
            "_view_module": "@jupyter-widgets/base",
            "_view_module_version": "1.2.0",
            "_view_name": "LayoutView",
            "align_content": null,
            "align_items": null,
            "align_self": null,
            "border": null,
            "bottom": null,
            "display": null,
            "flex": null,
            "flex_flow": null,
            "grid_area": null,
            "grid_auto_columns": null,
            "grid_auto_flow": null,
            "grid_auto_rows": null,
            "grid_column": null,
            "grid_gap": null,
            "grid_row": null,
            "grid_template_areas": null,
            "grid_template_columns": null,
            "grid_template_rows": null,
            "height": null,
            "justify_content": null,
            "justify_items": null,
            "left": null,
            "margin": null,
            "max_height": null,
            "max_width": null,
            "min_height": null,
            "min_width": null,
            "object_fit": null,
            "object_position": null,
            "order": null,
            "overflow": null,
            "overflow_x": null,
            "overflow_y": null,
            "padding": null,
            "right": null,
            "top": null,
            "visibility": null,
            "width": null
          }
        },
        "8dfb365650d64a5e94ff76025315f518": {
          "model_module": "@jupyter-widgets/controls",
          "model_name": "DescriptionStyleModel",
          "model_module_version": "1.5.0",
          "state": {
            "_model_module": "@jupyter-widgets/controls",
            "_model_module_version": "1.5.0",
            "_model_name": "DescriptionStyleModel",
            "_view_count": null,
            "_view_module": "@jupyter-widgets/base",
            "_view_module_version": "1.2.0",
            "_view_name": "StyleView",
            "description_width": ""
          }
        },
        "831e8ead385047b094a9e0f2d5d1d72d": {
          "model_module": "@jupyter-widgets/controls",
          "model_name": "HBoxModel",
          "model_module_version": "1.5.0",
          "state": {
            "_dom_classes": [],
            "_model_module": "@jupyter-widgets/controls",
            "_model_module_version": "1.5.0",
            "_model_name": "HBoxModel",
            "_view_count": null,
            "_view_module": "@jupyter-widgets/controls",
            "_view_module_version": "1.5.0",
            "_view_name": "HBoxView",
            "box_style": "",
            "children": [
              "IPY_MODEL_1b9944af025f49539ee7679ea8d3aae7",
              "IPY_MODEL_f84a340d798b4ee281f5653b6931e382",
              "IPY_MODEL_d356f19f47974869bc02d26098d31732"
            ],
            "layout": "IPY_MODEL_b6a1593684b44934a5feec26e3baa6b7"
          }
        },
        "1b9944af025f49539ee7679ea8d3aae7": {
          "model_module": "@jupyter-widgets/controls",
          "model_name": "HTMLModel",
          "model_module_version": "1.5.0",
          "state": {
            "_dom_classes": [],
            "_model_module": "@jupyter-widgets/controls",
            "_model_module_version": "1.5.0",
            "_model_name": "HTMLModel",
            "_view_count": null,
            "_view_module": "@jupyter-widgets/controls",
            "_view_module_version": "1.5.0",
            "_view_name": "HTMLView",
            "description": "",
            "description_tooltip": null,
            "layout": "IPY_MODEL_6079da8faccc4093affb0623251d085f",
            "placeholder": "​",
            "style": "IPY_MODEL_155cfdbec560403788f933aa4f4b2678",
            "value": "Downloading: 100%"
          }
        },
        "f84a340d798b4ee281f5653b6931e382": {
          "model_module": "@jupyter-widgets/controls",
          "model_name": "FloatProgressModel",
          "model_module_version": "1.5.0",
          "state": {
            "_dom_classes": [],
            "_model_module": "@jupyter-widgets/controls",
            "_model_module_version": "1.5.0",
            "_model_name": "FloatProgressModel",
            "_view_count": null,
            "_view_module": "@jupyter-widgets/controls",
            "_view_module_version": "1.5.0",
            "_view_name": "ProgressView",
            "bar_style": "success",
            "description": "",
            "description_tooltip": null,
            "layout": "IPY_MODEL_86073a692ad247588c7648d032d3be22",
            "max": 90895153,
            "min": 0,
            "orientation": "horizontal",
            "style": "IPY_MODEL_76c12bd93bf54d4b9dce97d07bb255cc",
            "value": 90895153
          }
        },
        "d356f19f47974869bc02d26098d31732": {
          "model_module": "@jupyter-widgets/controls",
          "model_name": "HTMLModel",
          "model_module_version": "1.5.0",
          "state": {
            "_dom_classes": [],
            "_model_module": "@jupyter-widgets/controls",
            "_model_module_version": "1.5.0",
            "_model_name": "HTMLModel",
            "_view_count": null,
            "_view_module": "@jupyter-widgets/controls",
            "_view_module_version": "1.5.0",
            "_view_name": "HTMLView",
            "description": "",
            "description_tooltip": null,
            "layout": "IPY_MODEL_4affd70bc39544d6a7519b1d403e2f1e",
            "placeholder": "​",
            "style": "IPY_MODEL_1cc5037a5218458b99c169c3a2fa3f22",
            "value": " 90.9M/90.9M [00:02&lt;00:00, 44.8MB/s]"
          }
        },
        "b6a1593684b44934a5feec26e3baa6b7": {
          "model_module": "@jupyter-widgets/base",
          "model_name": "LayoutModel",
          "model_module_version": "1.2.0",
          "state": {
            "_model_module": "@jupyter-widgets/base",
            "_model_module_version": "1.2.0",
            "_model_name": "LayoutModel",
            "_view_count": null,
            "_view_module": "@jupyter-widgets/base",
            "_view_module_version": "1.2.0",
            "_view_name": "LayoutView",
            "align_content": null,
            "align_items": null,
            "align_self": null,
            "border": null,
            "bottom": null,
            "display": null,
            "flex": null,
            "flex_flow": null,
            "grid_area": null,
            "grid_auto_columns": null,
            "grid_auto_flow": null,
            "grid_auto_rows": null,
            "grid_column": null,
            "grid_gap": null,
            "grid_row": null,
            "grid_template_areas": null,
            "grid_template_columns": null,
            "grid_template_rows": null,
            "height": null,
            "justify_content": null,
            "justify_items": null,
            "left": null,
            "margin": null,
            "max_height": null,
            "max_width": null,
            "min_height": null,
            "min_width": null,
            "object_fit": null,
            "object_position": null,
            "order": null,
            "overflow": null,
            "overflow_x": null,
            "overflow_y": null,
            "padding": null,
            "right": null,
            "top": null,
            "visibility": null,
            "width": null
          }
        },
        "6079da8faccc4093affb0623251d085f": {
          "model_module": "@jupyter-widgets/base",
          "model_name": "LayoutModel",
          "model_module_version": "1.2.0",
          "state": {
            "_model_module": "@jupyter-widgets/base",
            "_model_module_version": "1.2.0",
            "_model_name": "LayoutModel",
            "_view_count": null,
            "_view_module": "@jupyter-widgets/base",
            "_view_module_version": "1.2.0",
            "_view_name": "LayoutView",
            "align_content": null,
            "align_items": null,
            "align_self": null,
            "border": null,
            "bottom": null,
            "display": null,
            "flex": null,
            "flex_flow": null,
            "grid_area": null,
            "grid_auto_columns": null,
            "grid_auto_flow": null,
            "grid_auto_rows": null,
            "grid_column": null,
            "grid_gap": null,
            "grid_row": null,
            "grid_template_areas": null,
            "grid_template_columns": null,
            "grid_template_rows": null,
            "height": null,
            "justify_content": null,
            "justify_items": null,
            "left": null,
            "margin": null,
            "max_height": null,
            "max_width": null,
            "min_height": null,
            "min_width": null,
            "object_fit": null,
            "object_position": null,
            "order": null,
            "overflow": null,
            "overflow_x": null,
            "overflow_y": null,
            "padding": null,
            "right": null,
            "top": null,
            "visibility": null,
            "width": null
          }
        },
        "155cfdbec560403788f933aa4f4b2678": {
          "model_module": "@jupyter-widgets/controls",
          "model_name": "DescriptionStyleModel",
          "model_module_version": "1.5.0",
          "state": {
            "_model_module": "@jupyter-widgets/controls",
            "_model_module_version": "1.5.0",
            "_model_name": "DescriptionStyleModel",
            "_view_count": null,
            "_view_module": "@jupyter-widgets/base",
            "_view_module_version": "1.2.0",
            "_view_name": "StyleView",
            "description_width": ""
          }
        },
        "86073a692ad247588c7648d032d3be22": {
          "model_module": "@jupyter-widgets/base",
          "model_name": "LayoutModel",
          "model_module_version": "1.2.0",
          "state": {
            "_model_module": "@jupyter-widgets/base",
            "_model_module_version": "1.2.0",
            "_model_name": "LayoutModel",
            "_view_count": null,
            "_view_module": "@jupyter-widgets/base",
            "_view_module_version": "1.2.0",
            "_view_name": "LayoutView",
            "align_content": null,
            "align_items": null,
            "align_self": null,
            "border": null,
            "bottom": null,
            "display": null,
            "flex": null,
            "flex_flow": null,
            "grid_area": null,
            "grid_auto_columns": null,
            "grid_auto_flow": null,
            "grid_auto_rows": null,
            "grid_column": null,
            "grid_gap": null,
            "grid_row": null,
            "grid_template_areas": null,
            "grid_template_columns": null,
            "grid_template_rows": null,
            "height": null,
            "justify_content": null,
            "justify_items": null,
            "left": null,
            "margin": null,
            "max_height": null,
            "max_width": null,
            "min_height": null,
            "min_width": null,
            "object_fit": null,
            "object_position": null,
            "order": null,
            "overflow": null,
            "overflow_x": null,
            "overflow_y": null,
            "padding": null,
            "right": null,
            "top": null,
            "visibility": null,
            "width": null
          }
        },
        "76c12bd93bf54d4b9dce97d07bb255cc": {
          "model_module": "@jupyter-widgets/controls",
          "model_name": "ProgressStyleModel",
          "model_module_version": "1.5.0",
          "state": {
            "_model_module": "@jupyter-widgets/controls",
            "_model_module_version": "1.5.0",
            "_model_name": "ProgressStyleModel",
            "_view_count": null,
            "_view_module": "@jupyter-widgets/base",
            "_view_module_version": "1.2.0",
            "_view_name": "StyleView",
            "bar_color": null,
            "description_width": ""
          }
        },
        "4affd70bc39544d6a7519b1d403e2f1e": {
          "model_module": "@jupyter-widgets/base",
          "model_name": "LayoutModel",
          "model_module_version": "1.2.0",
          "state": {
            "_model_module": "@jupyter-widgets/base",
            "_model_module_version": "1.2.0",
            "_model_name": "LayoutModel",
            "_view_count": null,
            "_view_module": "@jupyter-widgets/base",
            "_view_module_version": "1.2.0",
            "_view_name": "LayoutView",
            "align_content": null,
            "align_items": null,
            "align_self": null,
            "border": null,
            "bottom": null,
            "display": null,
            "flex": null,
            "flex_flow": null,
            "grid_area": null,
            "grid_auto_columns": null,
            "grid_auto_flow": null,
            "grid_auto_rows": null,
            "grid_column": null,
            "grid_gap": null,
            "grid_row": null,
            "grid_template_areas": null,
            "grid_template_columns": null,
            "grid_template_rows": null,
            "height": null,
            "justify_content": null,
            "justify_items": null,
            "left": null,
            "margin": null,
            "max_height": null,
            "max_width": null,
            "min_height": null,
            "min_width": null,
            "object_fit": null,
            "object_position": null,
            "order": null,
            "overflow": null,
            "overflow_x": null,
            "overflow_y": null,
            "padding": null,
            "right": null,
            "top": null,
            "visibility": null,
            "width": null
          }
        },
        "1cc5037a5218458b99c169c3a2fa3f22": {
          "model_module": "@jupyter-widgets/controls",
          "model_name": "DescriptionStyleModel",
          "model_module_version": "1.5.0",
          "state": {
            "_model_module": "@jupyter-widgets/controls",
            "_model_module_version": "1.5.0",
            "_model_name": "DescriptionStyleModel",
            "_view_count": null,
            "_view_module": "@jupyter-widgets/base",
            "_view_module_version": "1.2.0",
            "_view_name": "StyleView",
            "description_width": ""
          }
        },
        "6cead310cfe24c158db61c0614f388e5": {
          "model_module": "@jupyter-widgets/controls",
          "model_name": "HBoxModel",
          "model_module_version": "1.5.0",
          "state": {
            "_dom_classes": [],
            "_model_module": "@jupyter-widgets/controls",
            "_model_module_version": "1.5.0",
            "_model_name": "HBoxModel",
            "_view_count": null,
            "_view_module": "@jupyter-widgets/controls",
            "_view_module_version": "1.5.0",
            "_view_name": "HBoxView",
            "box_style": "",
            "children": [
              "IPY_MODEL_5149e8717e3c4230bc31a2830b717e64",
              "IPY_MODEL_39e8cf4d74654c2090a061e53df4f90b",
              "IPY_MODEL_e6193b67c0464a5289265474ab6d3cc5"
            ],
            "layout": "IPY_MODEL_a3e19da08ff34152bc3946773f7f50aa"
          }
        },
        "5149e8717e3c4230bc31a2830b717e64": {
          "model_module": "@jupyter-widgets/controls",
          "model_name": "HTMLModel",
          "model_module_version": "1.5.0",
          "state": {
            "_dom_classes": [],
            "_model_module": "@jupyter-widgets/controls",
            "_model_module_version": "1.5.0",
            "_model_name": "HTMLModel",
            "_view_count": null,
            "_view_module": "@jupyter-widgets/controls",
            "_view_module_version": "1.5.0",
            "_view_name": "HTMLView",
            "description": "",
            "description_tooltip": null,
            "layout": "IPY_MODEL_8e6101c8947c4232b22d1bde68dbe473",
            "placeholder": "​",
            "style": "IPY_MODEL_037ee689131849c78af2c3d70d4fa0f9",
            "value": "Downloading: 100%"
          }
        },
        "39e8cf4d74654c2090a061e53df4f90b": {
          "model_module": "@jupyter-widgets/controls",
          "model_name": "FloatProgressModel",
          "model_module_version": "1.5.0",
          "state": {
            "_dom_classes": [],
            "_model_module": "@jupyter-widgets/controls",
            "_model_module_version": "1.5.0",
            "_model_name": "FloatProgressModel",
            "_view_count": null,
            "_view_module": "@jupyter-widgets/controls",
            "_view_module_version": "1.5.0",
            "_view_name": "ProgressView",
            "bar_style": "success",
            "description": "",
            "description_tooltip": null,
            "layout": "IPY_MODEL_c63b9b5f16fa47b59f8948b3c2f6184f",
            "max": 53,
            "min": 0,
            "orientation": "horizontal",
            "style": "IPY_MODEL_fa90d9af93584102887eb8b534bc7c14",
            "value": 53
          }
        },
        "e6193b67c0464a5289265474ab6d3cc5": {
          "model_module": "@jupyter-widgets/controls",
          "model_name": "HTMLModel",
          "model_module_version": "1.5.0",
          "state": {
            "_dom_classes": [],
            "_model_module": "@jupyter-widgets/controls",
            "_model_module_version": "1.5.0",
            "_model_name": "HTMLModel",
            "_view_count": null,
            "_view_module": "@jupyter-widgets/controls",
            "_view_module_version": "1.5.0",
            "_view_name": "HTMLView",
            "description": "",
            "description_tooltip": null,
            "layout": "IPY_MODEL_7a8c4050f099457f96987ad14f31e908",
            "placeholder": "​",
            "style": "IPY_MODEL_32b90153040c4eb4a3bf69630cd157d3",
            "value": " 53.0/53.0 [00:00&lt;00:00, 1.36kB/s]"
          }
        },
        "a3e19da08ff34152bc3946773f7f50aa": {
          "model_module": "@jupyter-widgets/base",
          "model_name": "LayoutModel",
          "model_module_version": "1.2.0",
          "state": {
            "_model_module": "@jupyter-widgets/base",
            "_model_module_version": "1.2.0",
            "_model_name": "LayoutModel",
            "_view_count": null,
            "_view_module": "@jupyter-widgets/base",
            "_view_module_version": "1.2.0",
            "_view_name": "LayoutView",
            "align_content": null,
            "align_items": null,
            "align_self": null,
            "border": null,
            "bottom": null,
            "display": null,
            "flex": null,
            "flex_flow": null,
            "grid_area": null,
            "grid_auto_columns": null,
            "grid_auto_flow": null,
            "grid_auto_rows": null,
            "grid_column": null,
            "grid_gap": null,
            "grid_row": null,
            "grid_template_areas": null,
            "grid_template_columns": null,
            "grid_template_rows": null,
            "height": null,
            "justify_content": null,
            "justify_items": null,
            "left": null,
            "margin": null,
            "max_height": null,
            "max_width": null,
            "min_height": null,
            "min_width": null,
            "object_fit": null,
            "object_position": null,
            "order": null,
            "overflow": null,
            "overflow_x": null,
            "overflow_y": null,
            "padding": null,
            "right": null,
            "top": null,
            "visibility": null,
            "width": null
          }
        },
        "8e6101c8947c4232b22d1bde68dbe473": {
          "model_module": "@jupyter-widgets/base",
          "model_name": "LayoutModel",
          "model_module_version": "1.2.0",
          "state": {
            "_model_module": "@jupyter-widgets/base",
            "_model_module_version": "1.2.0",
            "_model_name": "LayoutModel",
            "_view_count": null,
            "_view_module": "@jupyter-widgets/base",
            "_view_module_version": "1.2.0",
            "_view_name": "LayoutView",
            "align_content": null,
            "align_items": null,
            "align_self": null,
            "border": null,
            "bottom": null,
            "display": null,
            "flex": null,
            "flex_flow": null,
            "grid_area": null,
            "grid_auto_columns": null,
            "grid_auto_flow": null,
            "grid_auto_rows": null,
            "grid_column": null,
            "grid_gap": null,
            "grid_row": null,
            "grid_template_areas": null,
            "grid_template_columns": null,
            "grid_template_rows": null,
            "height": null,
            "justify_content": null,
            "justify_items": null,
            "left": null,
            "margin": null,
            "max_height": null,
            "max_width": null,
            "min_height": null,
            "min_width": null,
            "object_fit": null,
            "object_position": null,
            "order": null,
            "overflow": null,
            "overflow_x": null,
            "overflow_y": null,
            "padding": null,
            "right": null,
            "top": null,
            "visibility": null,
            "width": null
          }
        },
        "037ee689131849c78af2c3d70d4fa0f9": {
          "model_module": "@jupyter-widgets/controls",
          "model_name": "DescriptionStyleModel",
          "model_module_version": "1.5.0",
          "state": {
            "_model_module": "@jupyter-widgets/controls",
            "_model_module_version": "1.5.0",
            "_model_name": "DescriptionStyleModel",
            "_view_count": null,
            "_view_module": "@jupyter-widgets/base",
            "_view_module_version": "1.2.0",
            "_view_name": "StyleView",
            "description_width": ""
          }
        },
        "c63b9b5f16fa47b59f8948b3c2f6184f": {
          "model_module": "@jupyter-widgets/base",
          "model_name": "LayoutModel",
          "model_module_version": "1.2.0",
          "state": {
            "_model_module": "@jupyter-widgets/base",
            "_model_module_version": "1.2.0",
            "_model_name": "LayoutModel",
            "_view_count": null,
            "_view_module": "@jupyter-widgets/base",
            "_view_module_version": "1.2.0",
            "_view_name": "LayoutView",
            "align_content": null,
            "align_items": null,
            "align_self": null,
            "border": null,
            "bottom": null,
            "display": null,
            "flex": null,
            "flex_flow": null,
            "grid_area": null,
            "grid_auto_columns": null,
            "grid_auto_flow": null,
            "grid_auto_rows": null,
            "grid_column": null,
            "grid_gap": null,
            "grid_row": null,
            "grid_template_areas": null,
            "grid_template_columns": null,
            "grid_template_rows": null,
            "height": null,
            "justify_content": null,
            "justify_items": null,
            "left": null,
            "margin": null,
            "max_height": null,
            "max_width": null,
            "min_height": null,
            "min_width": null,
            "object_fit": null,
            "object_position": null,
            "order": null,
            "overflow": null,
            "overflow_x": null,
            "overflow_y": null,
            "padding": null,
            "right": null,
            "top": null,
            "visibility": null,
            "width": null
          }
        },
        "fa90d9af93584102887eb8b534bc7c14": {
          "model_module": "@jupyter-widgets/controls",
          "model_name": "ProgressStyleModel",
          "model_module_version": "1.5.0",
          "state": {
            "_model_module": "@jupyter-widgets/controls",
            "_model_module_version": "1.5.0",
            "_model_name": "ProgressStyleModel",
            "_view_count": null,
            "_view_module": "@jupyter-widgets/base",
            "_view_module_version": "1.2.0",
            "_view_name": "StyleView",
            "bar_color": null,
            "description_width": ""
          }
        },
        "7a8c4050f099457f96987ad14f31e908": {
          "model_module": "@jupyter-widgets/base",
          "model_name": "LayoutModel",
          "model_module_version": "1.2.0",
          "state": {
            "_model_module": "@jupyter-widgets/base",
            "_model_module_version": "1.2.0",
            "_model_name": "LayoutModel",
            "_view_count": null,
            "_view_module": "@jupyter-widgets/base",
            "_view_module_version": "1.2.0",
            "_view_name": "LayoutView",
            "align_content": null,
            "align_items": null,
            "align_self": null,
            "border": null,
            "bottom": null,
            "display": null,
            "flex": null,
            "flex_flow": null,
            "grid_area": null,
            "grid_auto_columns": null,
            "grid_auto_flow": null,
            "grid_auto_rows": null,
            "grid_column": null,
            "grid_gap": null,
            "grid_row": null,
            "grid_template_areas": null,
            "grid_template_columns": null,
            "grid_template_rows": null,
            "height": null,
            "justify_content": null,
            "justify_items": null,
            "left": null,
            "margin": null,
            "max_height": null,
            "max_width": null,
            "min_height": null,
            "min_width": null,
            "object_fit": null,
            "object_position": null,
            "order": null,
            "overflow": null,
            "overflow_x": null,
            "overflow_y": null,
            "padding": null,
            "right": null,
            "top": null,
            "visibility": null,
            "width": null
          }
        },
        "32b90153040c4eb4a3bf69630cd157d3": {
          "model_module": "@jupyter-widgets/controls",
          "model_name": "DescriptionStyleModel",
          "model_module_version": "1.5.0",
          "state": {
            "_model_module": "@jupyter-widgets/controls",
            "_model_module_version": "1.5.0",
            "_model_name": "DescriptionStyleModel",
            "_view_count": null,
            "_view_module": "@jupyter-widgets/base",
            "_view_module_version": "1.2.0",
            "_view_name": "StyleView",
            "description_width": ""
          }
        },
        "bdb01ef164a246d1824440680ff752ee": {
          "model_module": "@jupyter-widgets/controls",
          "model_name": "HBoxModel",
          "model_module_version": "1.5.0",
          "state": {
            "_dom_classes": [],
            "_model_module": "@jupyter-widgets/controls",
            "_model_module_version": "1.5.0",
            "_model_name": "HBoxModel",
            "_view_count": null,
            "_view_module": "@jupyter-widgets/controls",
            "_view_module_version": "1.5.0",
            "_view_name": "HBoxView",
            "box_style": "",
            "children": [
              "IPY_MODEL_46363fa4939241499c9ddf60e89877fe",
              "IPY_MODEL_391f866ccdc34dec97b8ddeb3bab710a",
              "IPY_MODEL_4c066d6c77bc435e97c19c539b98463e"
            ],
            "layout": "IPY_MODEL_377aa4f58e50400c833aa8a4c14a9ab2"
          }
        },
        "46363fa4939241499c9ddf60e89877fe": {
          "model_module": "@jupyter-widgets/controls",
          "model_name": "HTMLModel",
          "model_module_version": "1.5.0",
          "state": {
            "_dom_classes": [],
            "_model_module": "@jupyter-widgets/controls",
            "_model_module_version": "1.5.0",
            "_model_name": "HTMLModel",
            "_view_count": null,
            "_view_module": "@jupyter-widgets/controls",
            "_view_module_version": "1.5.0",
            "_view_name": "HTMLView",
            "description": "",
            "description_tooltip": null,
            "layout": "IPY_MODEL_58ffa7aa037b44d68073e25ed97edcef",
            "placeholder": "​",
            "style": "IPY_MODEL_9df2bc0a2bed4fadb05f415da6b70111",
            "value": "Downloading: 100%"
          }
        },
        "391f866ccdc34dec97b8ddeb3bab710a": {
          "model_module": "@jupyter-widgets/controls",
          "model_name": "FloatProgressModel",
          "model_module_version": "1.5.0",
          "state": {
            "_dom_classes": [],
            "_model_module": "@jupyter-widgets/controls",
            "_model_module_version": "1.5.0",
            "_model_name": "FloatProgressModel",
            "_view_count": null,
            "_view_module": "@jupyter-widgets/controls",
            "_view_module_version": "1.5.0",
            "_view_name": "ProgressView",
            "bar_style": "success",
            "description": "",
            "description_tooltip": null,
            "layout": "IPY_MODEL_3aea7bdcfca6471797ce5c2009306180",
            "max": 112,
            "min": 0,
            "orientation": "horizontal",
            "style": "IPY_MODEL_337fdb68a28b41a2a50d8df1544b6063",
            "value": 112
          }
        },
        "4c066d6c77bc435e97c19c539b98463e": {
          "model_module": "@jupyter-widgets/controls",
          "model_name": "HTMLModel",
          "model_module_version": "1.5.0",
          "state": {
            "_dom_classes": [],
            "_model_module": "@jupyter-widgets/controls",
            "_model_module_version": "1.5.0",
            "_model_name": "HTMLModel",
            "_view_count": null,
            "_view_module": "@jupyter-widgets/controls",
            "_view_module_version": "1.5.0",
            "_view_name": "HTMLView",
            "description": "",
            "description_tooltip": null,
            "layout": "IPY_MODEL_f554c8e91a734e549532db2aac0f23bb",
            "placeholder": "​",
            "style": "IPY_MODEL_827424148bf34098a002c66ec79f9cab",
            "value": " 112/112 [00:00&lt;00:00, 2.71kB/s]"
          }
        },
        "377aa4f58e50400c833aa8a4c14a9ab2": {
          "model_module": "@jupyter-widgets/base",
          "model_name": "LayoutModel",
          "model_module_version": "1.2.0",
          "state": {
            "_model_module": "@jupyter-widgets/base",
            "_model_module_version": "1.2.0",
            "_model_name": "LayoutModel",
            "_view_count": null,
            "_view_module": "@jupyter-widgets/base",
            "_view_module_version": "1.2.0",
            "_view_name": "LayoutView",
            "align_content": null,
            "align_items": null,
            "align_self": null,
            "border": null,
            "bottom": null,
            "display": null,
            "flex": null,
            "flex_flow": null,
            "grid_area": null,
            "grid_auto_columns": null,
            "grid_auto_flow": null,
            "grid_auto_rows": null,
            "grid_column": null,
            "grid_gap": null,
            "grid_row": null,
            "grid_template_areas": null,
            "grid_template_columns": null,
            "grid_template_rows": null,
            "height": null,
            "justify_content": null,
            "justify_items": null,
            "left": null,
            "margin": null,
            "max_height": null,
            "max_width": null,
            "min_height": null,
            "min_width": null,
            "object_fit": null,
            "object_position": null,
            "order": null,
            "overflow": null,
            "overflow_x": null,
            "overflow_y": null,
            "padding": null,
            "right": null,
            "top": null,
            "visibility": null,
            "width": null
          }
        },
        "58ffa7aa037b44d68073e25ed97edcef": {
          "model_module": "@jupyter-widgets/base",
          "model_name": "LayoutModel",
          "model_module_version": "1.2.0",
          "state": {
            "_model_module": "@jupyter-widgets/base",
            "_model_module_version": "1.2.0",
            "_model_name": "LayoutModel",
            "_view_count": null,
            "_view_module": "@jupyter-widgets/base",
            "_view_module_version": "1.2.0",
            "_view_name": "LayoutView",
            "align_content": null,
            "align_items": null,
            "align_self": null,
            "border": null,
            "bottom": null,
            "display": null,
            "flex": null,
            "flex_flow": null,
            "grid_area": null,
            "grid_auto_columns": null,
            "grid_auto_flow": null,
            "grid_auto_rows": null,
            "grid_column": null,
            "grid_gap": null,
            "grid_row": null,
            "grid_template_areas": null,
            "grid_template_columns": null,
            "grid_template_rows": null,
            "height": null,
            "justify_content": null,
            "justify_items": null,
            "left": null,
            "margin": null,
            "max_height": null,
            "max_width": null,
            "min_height": null,
            "min_width": null,
            "object_fit": null,
            "object_position": null,
            "order": null,
            "overflow": null,
            "overflow_x": null,
            "overflow_y": null,
            "padding": null,
            "right": null,
            "top": null,
            "visibility": null,
            "width": null
          }
        },
        "9df2bc0a2bed4fadb05f415da6b70111": {
          "model_module": "@jupyter-widgets/controls",
          "model_name": "DescriptionStyleModel",
          "model_module_version": "1.5.0",
          "state": {
            "_model_module": "@jupyter-widgets/controls",
            "_model_module_version": "1.5.0",
            "_model_name": "DescriptionStyleModel",
            "_view_count": null,
            "_view_module": "@jupyter-widgets/base",
            "_view_module_version": "1.2.0",
            "_view_name": "StyleView",
            "description_width": ""
          }
        },
        "3aea7bdcfca6471797ce5c2009306180": {
          "model_module": "@jupyter-widgets/base",
          "model_name": "LayoutModel",
          "model_module_version": "1.2.0",
          "state": {
            "_model_module": "@jupyter-widgets/base",
            "_model_module_version": "1.2.0",
            "_model_name": "LayoutModel",
            "_view_count": null,
            "_view_module": "@jupyter-widgets/base",
            "_view_module_version": "1.2.0",
            "_view_name": "LayoutView",
            "align_content": null,
            "align_items": null,
            "align_self": null,
            "border": null,
            "bottom": null,
            "display": null,
            "flex": null,
            "flex_flow": null,
            "grid_area": null,
            "grid_auto_columns": null,
            "grid_auto_flow": null,
            "grid_auto_rows": null,
            "grid_column": null,
            "grid_gap": null,
            "grid_row": null,
            "grid_template_areas": null,
            "grid_template_columns": null,
            "grid_template_rows": null,
            "height": null,
            "justify_content": null,
            "justify_items": null,
            "left": null,
            "margin": null,
            "max_height": null,
            "max_width": null,
            "min_height": null,
            "min_width": null,
            "object_fit": null,
            "object_position": null,
            "order": null,
            "overflow": null,
            "overflow_x": null,
            "overflow_y": null,
            "padding": null,
            "right": null,
            "top": null,
            "visibility": null,
            "width": null
          }
        },
        "337fdb68a28b41a2a50d8df1544b6063": {
          "model_module": "@jupyter-widgets/controls",
          "model_name": "ProgressStyleModel",
          "model_module_version": "1.5.0",
          "state": {
            "_model_module": "@jupyter-widgets/controls",
            "_model_module_version": "1.5.0",
            "_model_name": "ProgressStyleModel",
            "_view_count": null,
            "_view_module": "@jupyter-widgets/base",
            "_view_module_version": "1.2.0",
            "_view_name": "StyleView",
            "bar_color": null,
            "description_width": ""
          }
        },
        "f554c8e91a734e549532db2aac0f23bb": {
          "model_module": "@jupyter-widgets/base",
          "model_name": "LayoutModel",
          "model_module_version": "1.2.0",
          "state": {
            "_model_module": "@jupyter-widgets/base",
            "_model_module_version": "1.2.0",
            "_model_name": "LayoutModel",
            "_view_count": null,
            "_view_module": "@jupyter-widgets/base",
            "_view_module_version": "1.2.0",
            "_view_name": "LayoutView",
            "align_content": null,
            "align_items": null,
            "align_self": null,
            "border": null,
            "bottom": null,
            "display": null,
            "flex": null,
            "flex_flow": null,
            "grid_area": null,
            "grid_auto_columns": null,
            "grid_auto_flow": null,
            "grid_auto_rows": null,
            "grid_column": null,
            "grid_gap": null,
            "grid_row": null,
            "grid_template_areas": null,
            "grid_template_columns": null,
            "grid_template_rows": null,
            "height": null,
            "justify_content": null,
            "justify_items": null,
            "left": null,
            "margin": null,
            "max_height": null,
            "max_width": null,
            "min_height": null,
            "min_width": null,
            "object_fit": null,
            "object_position": null,
            "order": null,
            "overflow": null,
            "overflow_x": null,
            "overflow_y": null,
            "padding": null,
            "right": null,
            "top": null,
            "visibility": null,
            "width": null
          }
        },
        "827424148bf34098a002c66ec79f9cab": {
          "model_module": "@jupyter-widgets/controls",
          "model_name": "DescriptionStyleModel",
          "model_module_version": "1.5.0",
          "state": {
            "_model_module": "@jupyter-widgets/controls",
            "_model_module_version": "1.5.0",
            "_model_name": "DescriptionStyleModel",
            "_view_count": null,
            "_view_module": "@jupyter-widgets/base",
            "_view_module_version": "1.2.0",
            "_view_name": "StyleView",
            "description_width": ""
          }
        },
        "bca8b333c14647c38c7e99132e93dfd7": {
          "model_module": "@jupyter-widgets/controls",
          "model_name": "HBoxModel",
          "model_module_version": "1.5.0",
          "state": {
            "_dom_classes": [],
            "_model_module": "@jupyter-widgets/controls",
            "_model_module_version": "1.5.0",
            "_model_name": "HBoxModel",
            "_view_count": null,
            "_view_module": "@jupyter-widgets/controls",
            "_view_module_version": "1.5.0",
            "_view_name": "HBoxView",
            "box_style": "",
            "children": [
              "IPY_MODEL_211e16d3212d47f1b119e7687af89706",
              "IPY_MODEL_c2172684dd0948ebaeefb1dedf64e02c",
              "IPY_MODEL_31a5d50214904771880889f5746f5939"
            ],
            "layout": "IPY_MODEL_7505e9fbbe4243a18da5c3e6aa819e59"
          }
        },
        "211e16d3212d47f1b119e7687af89706": {
          "model_module": "@jupyter-widgets/controls",
          "model_name": "HTMLModel",
          "model_module_version": "1.5.0",
          "state": {
            "_dom_classes": [],
            "_model_module": "@jupyter-widgets/controls",
            "_model_module_version": "1.5.0",
            "_model_name": "HTMLModel",
            "_view_count": null,
            "_view_module": "@jupyter-widgets/controls",
            "_view_module_version": "1.5.0",
            "_view_name": "HTMLView",
            "description": "",
            "description_tooltip": null,
            "layout": "IPY_MODEL_d12b5803463b4f9ba94b55c6446f6203",
            "placeholder": "​",
            "style": "IPY_MODEL_92267fa8933f490c8bd63cc27eb802b4",
            "value": "Downloading: 100%"
          }
        },
        "c2172684dd0948ebaeefb1dedf64e02c": {
          "model_module": "@jupyter-widgets/controls",
          "model_name": "FloatProgressModel",
          "model_module_version": "1.5.0",
          "state": {
            "_dom_classes": [],
            "_model_module": "@jupyter-widgets/controls",
            "_model_module_version": "1.5.0",
            "_model_name": "FloatProgressModel",
            "_view_count": null,
            "_view_module": "@jupyter-widgets/controls",
            "_view_module_version": "1.5.0",
            "_view_name": "ProgressView",
            "bar_style": "success",
            "description": "",
            "description_tooltip": null,
            "layout": "IPY_MODEL_b2c8a7fb9b174a67ae5efd2a4cf84761",
            "max": 466081,
            "min": 0,
            "orientation": "horizontal",
            "style": "IPY_MODEL_4b01395bc50d4d17b6729b096f2207a4",
            "value": 466081
          }
        },
        "31a5d50214904771880889f5746f5939": {
          "model_module": "@jupyter-widgets/controls",
          "model_name": "HTMLModel",
          "model_module_version": "1.5.0",
          "state": {
            "_dom_classes": [],
            "_model_module": "@jupyter-widgets/controls",
            "_model_module_version": "1.5.0",
            "_model_name": "HTMLModel",
            "_view_count": null,
            "_view_module": "@jupyter-widgets/controls",
            "_view_module_version": "1.5.0",
            "_view_name": "HTMLView",
            "description": "",
            "description_tooltip": null,
            "layout": "IPY_MODEL_94f72c0a51e94764a9fda4655e78c130",
            "placeholder": "​",
            "style": "IPY_MODEL_ec0163036f9a47a4a8e3c8fba60e1619",
            "value": " 466k/466k [00:00&lt;00:00, 1.06MB/s]"
          }
        },
        "7505e9fbbe4243a18da5c3e6aa819e59": {
          "model_module": "@jupyter-widgets/base",
          "model_name": "LayoutModel",
          "model_module_version": "1.2.0",
          "state": {
            "_model_module": "@jupyter-widgets/base",
            "_model_module_version": "1.2.0",
            "_model_name": "LayoutModel",
            "_view_count": null,
            "_view_module": "@jupyter-widgets/base",
            "_view_module_version": "1.2.0",
            "_view_name": "LayoutView",
            "align_content": null,
            "align_items": null,
            "align_self": null,
            "border": null,
            "bottom": null,
            "display": null,
            "flex": null,
            "flex_flow": null,
            "grid_area": null,
            "grid_auto_columns": null,
            "grid_auto_flow": null,
            "grid_auto_rows": null,
            "grid_column": null,
            "grid_gap": null,
            "grid_row": null,
            "grid_template_areas": null,
            "grid_template_columns": null,
            "grid_template_rows": null,
            "height": null,
            "justify_content": null,
            "justify_items": null,
            "left": null,
            "margin": null,
            "max_height": null,
            "max_width": null,
            "min_height": null,
            "min_width": null,
            "object_fit": null,
            "object_position": null,
            "order": null,
            "overflow": null,
            "overflow_x": null,
            "overflow_y": null,
            "padding": null,
            "right": null,
            "top": null,
            "visibility": null,
            "width": null
          }
        },
        "d12b5803463b4f9ba94b55c6446f6203": {
          "model_module": "@jupyter-widgets/base",
          "model_name": "LayoutModel",
          "model_module_version": "1.2.0",
          "state": {
            "_model_module": "@jupyter-widgets/base",
            "_model_module_version": "1.2.0",
            "_model_name": "LayoutModel",
            "_view_count": null,
            "_view_module": "@jupyter-widgets/base",
            "_view_module_version": "1.2.0",
            "_view_name": "LayoutView",
            "align_content": null,
            "align_items": null,
            "align_self": null,
            "border": null,
            "bottom": null,
            "display": null,
            "flex": null,
            "flex_flow": null,
            "grid_area": null,
            "grid_auto_columns": null,
            "grid_auto_flow": null,
            "grid_auto_rows": null,
            "grid_column": null,
            "grid_gap": null,
            "grid_row": null,
            "grid_template_areas": null,
            "grid_template_columns": null,
            "grid_template_rows": null,
            "height": null,
            "justify_content": null,
            "justify_items": null,
            "left": null,
            "margin": null,
            "max_height": null,
            "max_width": null,
            "min_height": null,
            "min_width": null,
            "object_fit": null,
            "object_position": null,
            "order": null,
            "overflow": null,
            "overflow_x": null,
            "overflow_y": null,
            "padding": null,
            "right": null,
            "top": null,
            "visibility": null,
            "width": null
          }
        },
        "92267fa8933f490c8bd63cc27eb802b4": {
          "model_module": "@jupyter-widgets/controls",
          "model_name": "DescriptionStyleModel",
          "model_module_version": "1.5.0",
          "state": {
            "_model_module": "@jupyter-widgets/controls",
            "_model_module_version": "1.5.0",
            "_model_name": "DescriptionStyleModel",
            "_view_count": null,
            "_view_module": "@jupyter-widgets/base",
            "_view_module_version": "1.2.0",
            "_view_name": "StyleView",
            "description_width": ""
          }
        },
        "b2c8a7fb9b174a67ae5efd2a4cf84761": {
          "model_module": "@jupyter-widgets/base",
          "model_name": "LayoutModel",
          "model_module_version": "1.2.0",
          "state": {
            "_model_module": "@jupyter-widgets/base",
            "_model_module_version": "1.2.0",
            "_model_name": "LayoutModel",
            "_view_count": null,
            "_view_module": "@jupyter-widgets/base",
            "_view_module_version": "1.2.0",
            "_view_name": "LayoutView",
            "align_content": null,
            "align_items": null,
            "align_self": null,
            "border": null,
            "bottom": null,
            "display": null,
            "flex": null,
            "flex_flow": null,
            "grid_area": null,
            "grid_auto_columns": null,
            "grid_auto_flow": null,
            "grid_auto_rows": null,
            "grid_column": null,
            "grid_gap": null,
            "grid_row": null,
            "grid_template_areas": null,
            "grid_template_columns": null,
            "grid_template_rows": null,
            "height": null,
            "justify_content": null,
            "justify_items": null,
            "left": null,
            "margin": null,
            "max_height": null,
            "max_width": null,
            "min_height": null,
            "min_width": null,
            "object_fit": null,
            "object_position": null,
            "order": null,
            "overflow": null,
            "overflow_x": null,
            "overflow_y": null,
            "padding": null,
            "right": null,
            "top": null,
            "visibility": null,
            "width": null
          }
        },
        "4b01395bc50d4d17b6729b096f2207a4": {
          "model_module": "@jupyter-widgets/controls",
          "model_name": "ProgressStyleModel",
          "model_module_version": "1.5.0",
          "state": {
            "_model_module": "@jupyter-widgets/controls",
            "_model_module_version": "1.5.0",
            "_model_name": "ProgressStyleModel",
            "_view_count": null,
            "_view_module": "@jupyter-widgets/base",
            "_view_module_version": "1.2.0",
            "_view_name": "StyleView",
            "bar_color": null,
            "description_width": ""
          }
        },
        "94f72c0a51e94764a9fda4655e78c130": {
          "model_module": "@jupyter-widgets/base",
          "model_name": "LayoutModel",
          "model_module_version": "1.2.0",
          "state": {
            "_model_module": "@jupyter-widgets/base",
            "_model_module_version": "1.2.0",
            "_model_name": "LayoutModel",
            "_view_count": null,
            "_view_module": "@jupyter-widgets/base",
            "_view_module_version": "1.2.0",
            "_view_name": "LayoutView",
            "align_content": null,
            "align_items": null,
            "align_self": null,
            "border": null,
            "bottom": null,
            "display": null,
            "flex": null,
            "flex_flow": null,
            "grid_area": null,
            "grid_auto_columns": null,
            "grid_auto_flow": null,
            "grid_auto_rows": null,
            "grid_column": null,
            "grid_gap": null,
            "grid_row": null,
            "grid_template_areas": null,
            "grid_template_columns": null,
            "grid_template_rows": null,
            "height": null,
            "justify_content": null,
            "justify_items": null,
            "left": null,
            "margin": null,
            "max_height": null,
            "max_width": null,
            "min_height": null,
            "min_width": null,
            "object_fit": null,
            "object_position": null,
            "order": null,
            "overflow": null,
            "overflow_x": null,
            "overflow_y": null,
            "padding": null,
            "right": null,
            "top": null,
            "visibility": null,
            "width": null
          }
        },
        "ec0163036f9a47a4a8e3c8fba60e1619": {
          "model_module": "@jupyter-widgets/controls",
          "model_name": "DescriptionStyleModel",
          "model_module_version": "1.5.0",
          "state": {
            "_model_module": "@jupyter-widgets/controls",
            "_model_module_version": "1.5.0",
            "_model_name": "DescriptionStyleModel",
            "_view_count": null,
            "_view_module": "@jupyter-widgets/base",
            "_view_module_version": "1.2.0",
            "_view_name": "StyleView",
            "description_width": ""
          }
        },
        "e8d52c9d90e7488eb53480e363fdf455": {
          "model_module": "@jupyter-widgets/controls",
          "model_name": "HBoxModel",
          "model_module_version": "1.5.0",
          "state": {
            "_dom_classes": [],
            "_model_module": "@jupyter-widgets/controls",
            "_model_module_version": "1.5.0",
            "_model_name": "HBoxModel",
            "_view_count": null,
            "_view_module": "@jupyter-widgets/controls",
            "_view_module_version": "1.5.0",
            "_view_name": "HBoxView",
            "box_style": "",
            "children": [
              "IPY_MODEL_a0e5963a9db54e5b868b32bd1669d859",
              "IPY_MODEL_fa73f4d3a0b340659ddd80489b82fe7a",
              "IPY_MODEL_36da02159fb447cb841bb725d3cea01f"
            ],
            "layout": "IPY_MODEL_16214ab177064588a09f9ac43647b868"
          }
        },
        "a0e5963a9db54e5b868b32bd1669d859": {
          "model_module": "@jupyter-widgets/controls",
          "model_name": "HTMLModel",
          "model_module_version": "1.5.0",
          "state": {
            "_dom_classes": [],
            "_model_module": "@jupyter-widgets/controls",
            "_model_module_version": "1.5.0",
            "_model_name": "HTMLModel",
            "_view_count": null,
            "_view_module": "@jupyter-widgets/controls",
            "_view_module_version": "1.5.0",
            "_view_name": "HTMLView",
            "description": "",
            "description_tooltip": null,
            "layout": "IPY_MODEL_89e49fdab66c4435b9156cee9ff27741",
            "placeholder": "​",
            "style": "IPY_MODEL_48efe2af40254044aae6f82f1d5d8879",
            "value": "Downloading: 100%"
          }
        },
        "fa73f4d3a0b340659ddd80489b82fe7a": {
          "model_module": "@jupyter-widgets/controls",
          "model_name": "FloatProgressModel",
          "model_module_version": "1.5.0",
          "state": {
            "_dom_classes": [],
            "_model_module": "@jupyter-widgets/controls",
            "_model_module_version": "1.5.0",
            "_model_name": "FloatProgressModel",
            "_view_count": null,
            "_view_module": "@jupyter-widgets/controls",
            "_view_module_version": "1.5.0",
            "_view_name": "ProgressView",
            "bar_style": "success",
            "description": "",
            "description_tooltip": null,
            "layout": "IPY_MODEL_f6b278c306e247089893222094248cd3",
            "max": 314,
            "min": 0,
            "orientation": "horizontal",
            "style": "IPY_MODEL_22a62738407a42a7b65444c38d19a815",
            "value": 314
          }
        },
        "36da02159fb447cb841bb725d3cea01f": {
          "model_module": "@jupyter-widgets/controls",
          "model_name": "HTMLModel",
          "model_module_version": "1.5.0",
          "state": {
            "_dom_classes": [],
            "_model_module": "@jupyter-widgets/controls",
            "_model_module_version": "1.5.0",
            "_model_name": "HTMLModel",
            "_view_count": null,
            "_view_module": "@jupyter-widgets/controls",
            "_view_module_version": "1.5.0",
            "_view_name": "HTMLView",
            "description": "",
            "description_tooltip": null,
            "layout": "IPY_MODEL_64d0c7cab05c460cbda677ed9adb643f",
            "placeholder": "​",
            "style": "IPY_MODEL_ea4adb8f298841019afef1e5c814a32b",
            "value": " 314/314 [00:00&lt;00:00, 7.98kB/s]"
          }
        },
        "16214ab177064588a09f9ac43647b868": {
          "model_module": "@jupyter-widgets/base",
          "model_name": "LayoutModel",
          "model_module_version": "1.2.0",
          "state": {
            "_model_module": "@jupyter-widgets/base",
            "_model_module_version": "1.2.0",
            "_model_name": "LayoutModel",
            "_view_count": null,
            "_view_module": "@jupyter-widgets/base",
            "_view_module_version": "1.2.0",
            "_view_name": "LayoutView",
            "align_content": null,
            "align_items": null,
            "align_self": null,
            "border": null,
            "bottom": null,
            "display": null,
            "flex": null,
            "flex_flow": null,
            "grid_area": null,
            "grid_auto_columns": null,
            "grid_auto_flow": null,
            "grid_auto_rows": null,
            "grid_column": null,
            "grid_gap": null,
            "grid_row": null,
            "grid_template_areas": null,
            "grid_template_columns": null,
            "grid_template_rows": null,
            "height": null,
            "justify_content": null,
            "justify_items": null,
            "left": null,
            "margin": null,
            "max_height": null,
            "max_width": null,
            "min_height": null,
            "min_width": null,
            "object_fit": null,
            "object_position": null,
            "order": null,
            "overflow": null,
            "overflow_x": null,
            "overflow_y": null,
            "padding": null,
            "right": null,
            "top": null,
            "visibility": null,
            "width": null
          }
        },
        "89e49fdab66c4435b9156cee9ff27741": {
          "model_module": "@jupyter-widgets/base",
          "model_name": "LayoutModel",
          "model_module_version": "1.2.0",
          "state": {
            "_model_module": "@jupyter-widgets/base",
            "_model_module_version": "1.2.0",
            "_model_name": "LayoutModel",
            "_view_count": null,
            "_view_module": "@jupyter-widgets/base",
            "_view_module_version": "1.2.0",
            "_view_name": "LayoutView",
            "align_content": null,
            "align_items": null,
            "align_self": null,
            "border": null,
            "bottom": null,
            "display": null,
            "flex": null,
            "flex_flow": null,
            "grid_area": null,
            "grid_auto_columns": null,
            "grid_auto_flow": null,
            "grid_auto_rows": null,
            "grid_column": null,
            "grid_gap": null,
            "grid_row": null,
            "grid_template_areas": null,
            "grid_template_columns": null,
            "grid_template_rows": null,
            "height": null,
            "justify_content": null,
            "justify_items": null,
            "left": null,
            "margin": null,
            "max_height": null,
            "max_width": null,
            "min_height": null,
            "min_width": null,
            "object_fit": null,
            "object_position": null,
            "order": null,
            "overflow": null,
            "overflow_x": null,
            "overflow_y": null,
            "padding": null,
            "right": null,
            "top": null,
            "visibility": null,
            "width": null
          }
        },
        "48efe2af40254044aae6f82f1d5d8879": {
          "model_module": "@jupyter-widgets/controls",
          "model_name": "DescriptionStyleModel",
          "model_module_version": "1.5.0",
          "state": {
            "_model_module": "@jupyter-widgets/controls",
            "_model_module_version": "1.5.0",
            "_model_name": "DescriptionStyleModel",
            "_view_count": null,
            "_view_module": "@jupyter-widgets/base",
            "_view_module_version": "1.2.0",
            "_view_name": "StyleView",
            "description_width": ""
          }
        },
        "f6b278c306e247089893222094248cd3": {
          "model_module": "@jupyter-widgets/base",
          "model_name": "LayoutModel",
          "model_module_version": "1.2.0",
          "state": {
            "_model_module": "@jupyter-widgets/base",
            "_model_module_version": "1.2.0",
            "_model_name": "LayoutModel",
            "_view_count": null,
            "_view_module": "@jupyter-widgets/base",
            "_view_module_version": "1.2.0",
            "_view_name": "LayoutView",
            "align_content": null,
            "align_items": null,
            "align_self": null,
            "border": null,
            "bottom": null,
            "display": null,
            "flex": null,
            "flex_flow": null,
            "grid_area": null,
            "grid_auto_columns": null,
            "grid_auto_flow": null,
            "grid_auto_rows": null,
            "grid_column": null,
            "grid_gap": null,
            "grid_row": null,
            "grid_template_areas": null,
            "grid_template_columns": null,
            "grid_template_rows": null,
            "height": null,
            "justify_content": null,
            "justify_items": null,
            "left": null,
            "margin": null,
            "max_height": null,
            "max_width": null,
            "min_height": null,
            "min_width": null,
            "object_fit": null,
            "object_position": null,
            "order": null,
            "overflow": null,
            "overflow_x": null,
            "overflow_y": null,
            "padding": null,
            "right": null,
            "top": null,
            "visibility": null,
            "width": null
          }
        },
        "22a62738407a42a7b65444c38d19a815": {
          "model_module": "@jupyter-widgets/controls",
          "model_name": "ProgressStyleModel",
          "model_module_version": "1.5.0",
          "state": {
            "_model_module": "@jupyter-widgets/controls",
            "_model_module_version": "1.5.0",
            "_model_name": "ProgressStyleModel",
            "_view_count": null,
            "_view_module": "@jupyter-widgets/base",
            "_view_module_version": "1.2.0",
            "_view_name": "StyleView",
            "bar_color": null,
            "description_width": ""
          }
        },
        "64d0c7cab05c460cbda677ed9adb643f": {
          "model_module": "@jupyter-widgets/base",
          "model_name": "LayoutModel",
          "model_module_version": "1.2.0",
          "state": {
            "_model_module": "@jupyter-widgets/base",
            "_model_module_version": "1.2.0",
            "_model_name": "LayoutModel",
            "_view_count": null,
            "_view_module": "@jupyter-widgets/base",
            "_view_module_version": "1.2.0",
            "_view_name": "LayoutView",
            "align_content": null,
            "align_items": null,
            "align_self": null,
            "border": null,
            "bottom": null,
            "display": null,
            "flex": null,
            "flex_flow": null,
            "grid_area": null,
            "grid_auto_columns": null,
            "grid_auto_flow": null,
            "grid_auto_rows": null,
            "grid_column": null,
            "grid_gap": null,
            "grid_row": null,
            "grid_template_areas": null,
            "grid_template_columns": null,
            "grid_template_rows": null,
            "height": null,
            "justify_content": null,
            "justify_items": null,
            "left": null,
            "margin": null,
            "max_height": null,
            "max_width": null,
            "min_height": null,
            "min_width": null,
            "object_fit": null,
            "object_position": null,
            "order": null,
            "overflow": null,
            "overflow_x": null,
            "overflow_y": null,
            "padding": null,
            "right": null,
            "top": null,
            "visibility": null,
            "width": null
          }
        },
        "ea4adb8f298841019afef1e5c814a32b": {
          "model_module": "@jupyter-widgets/controls",
          "model_name": "DescriptionStyleModel",
          "model_module_version": "1.5.0",
          "state": {
            "_model_module": "@jupyter-widgets/controls",
            "_model_module_version": "1.5.0",
            "_model_name": "DescriptionStyleModel",
            "_view_count": null,
            "_view_module": "@jupyter-widgets/base",
            "_view_module_version": "1.2.0",
            "_view_name": "StyleView",
            "description_width": ""
          }
        },
        "e9214eceb8044315b012ee9773bde8d6": {
          "model_module": "@jupyter-widgets/controls",
          "model_name": "HBoxModel",
          "model_module_version": "1.5.0",
          "state": {
            "_dom_classes": [],
            "_model_module": "@jupyter-widgets/controls",
            "_model_module_version": "1.5.0",
            "_model_name": "HBoxModel",
            "_view_count": null,
            "_view_module": "@jupyter-widgets/controls",
            "_view_module_version": "1.5.0",
            "_view_name": "HBoxView",
            "box_style": "",
            "children": [
              "IPY_MODEL_975baa41bfe145f49aeb28a996f3e0ca",
              "IPY_MODEL_61acb2b5f82d45e195620def2def7b31",
              "IPY_MODEL_c23c2a8197c6458cb3e04b18f3b795e7"
            ],
            "layout": "IPY_MODEL_cc14a33598de41fa83091a59fa238640"
          }
        },
        "975baa41bfe145f49aeb28a996f3e0ca": {
          "model_module": "@jupyter-widgets/controls",
          "model_name": "HTMLModel",
          "model_module_version": "1.5.0",
          "state": {
            "_dom_classes": [],
            "_model_module": "@jupyter-widgets/controls",
            "_model_module_version": "1.5.0",
            "_model_name": "HTMLModel",
            "_view_count": null,
            "_view_module": "@jupyter-widgets/controls",
            "_view_module_version": "1.5.0",
            "_view_name": "HTMLView",
            "description": "",
            "description_tooltip": null,
            "layout": "IPY_MODEL_3f982cd63a444c7aa9abf12af7c11876",
            "placeholder": "​",
            "style": "IPY_MODEL_721ad8363cd846799114f38b98a3b994",
            "value": "Downloading: 100%"
          }
        },
        "61acb2b5f82d45e195620def2def7b31": {
          "model_module": "@jupyter-widgets/controls",
          "model_name": "FloatProgressModel",
          "model_module_version": "1.5.0",
          "state": {
            "_dom_classes": [],
            "_model_module": "@jupyter-widgets/controls",
            "_model_module_version": "1.5.0",
            "_model_name": "FloatProgressModel",
            "_view_count": null,
            "_view_module": "@jupyter-widgets/controls",
            "_view_module_version": "1.5.0",
            "_view_name": "ProgressView",
            "bar_style": "success",
            "description": "",
            "description_tooltip": null,
            "layout": "IPY_MODEL_f3004576e01d43eb92a4347747fd227e",
            "max": 231508,
            "min": 0,
            "orientation": "horizontal",
            "style": "IPY_MODEL_744f3e82d14444f5b333fa0d52d723e9",
            "value": 231508
          }
        },
        "c23c2a8197c6458cb3e04b18f3b795e7": {
          "model_module": "@jupyter-widgets/controls",
          "model_name": "HTMLModel",
          "model_module_version": "1.5.0",
          "state": {
            "_dom_classes": [],
            "_model_module": "@jupyter-widgets/controls",
            "_model_module_version": "1.5.0",
            "_model_name": "HTMLModel",
            "_view_count": null,
            "_view_module": "@jupyter-widgets/controls",
            "_view_module_version": "1.5.0",
            "_view_name": "HTMLView",
            "description": "",
            "description_tooltip": null,
            "layout": "IPY_MODEL_355fef3a0dc84cef8b603e26c969b8e4",
            "placeholder": "​",
            "style": "IPY_MODEL_4a2c8f8054ee45648bea5a2ff44955fb",
            "value": " 232k/232k [00:00&lt;00:00, 819kB/s]"
          }
        },
        "cc14a33598de41fa83091a59fa238640": {
          "model_module": "@jupyter-widgets/base",
          "model_name": "LayoutModel",
          "model_module_version": "1.2.0",
          "state": {
            "_model_module": "@jupyter-widgets/base",
            "_model_module_version": "1.2.0",
            "_model_name": "LayoutModel",
            "_view_count": null,
            "_view_module": "@jupyter-widgets/base",
            "_view_module_version": "1.2.0",
            "_view_name": "LayoutView",
            "align_content": null,
            "align_items": null,
            "align_self": null,
            "border": null,
            "bottom": null,
            "display": null,
            "flex": null,
            "flex_flow": null,
            "grid_area": null,
            "grid_auto_columns": null,
            "grid_auto_flow": null,
            "grid_auto_rows": null,
            "grid_column": null,
            "grid_gap": null,
            "grid_row": null,
            "grid_template_areas": null,
            "grid_template_columns": null,
            "grid_template_rows": null,
            "height": null,
            "justify_content": null,
            "justify_items": null,
            "left": null,
            "margin": null,
            "max_height": null,
            "max_width": null,
            "min_height": null,
            "min_width": null,
            "object_fit": null,
            "object_position": null,
            "order": null,
            "overflow": null,
            "overflow_x": null,
            "overflow_y": null,
            "padding": null,
            "right": null,
            "top": null,
            "visibility": null,
            "width": null
          }
        },
        "3f982cd63a444c7aa9abf12af7c11876": {
          "model_module": "@jupyter-widgets/base",
          "model_name": "LayoutModel",
          "model_module_version": "1.2.0",
          "state": {
            "_model_module": "@jupyter-widgets/base",
            "_model_module_version": "1.2.0",
            "_model_name": "LayoutModel",
            "_view_count": null,
            "_view_module": "@jupyter-widgets/base",
            "_view_module_version": "1.2.0",
            "_view_name": "LayoutView",
            "align_content": null,
            "align_items": null,
            "align_self": null,
            "border": null,
            "bottom": null,
            "display": null,
            "flex": null,
            "flex_flow": null,
            "grid_area": null,
            "grid_auto_columns": null,
            "grid_auto_flow": null,
            "grid_auto_rows": null,
            "grid_column": null,
            "grid_gap": null,
            "grid_row": null,
            "grid_template_areas": null,
            "grid_template_columns": null,
            "grid_template_rows": null,
            "height": null,
            "justify_content": null,
            "justify_items": null,
            "left": null,
            "margin": null,
            "max_height": null,
            "max_width": null,
            "min_height": null,
            "min_width": null,
            "object_fit": null,
            "object_position": null,
            "order": null,
            "overflow": null,
            "overflow_x": null,
            "overflow_y": null,
            "padding": null,
            "right": null,
            "top": null,
            "visibility": null,
            "width": null
          }
        },
        "721ad8363cd846799114f38b98a3b994": {
          "model_module": "@jupyter-widgets/controls",
          "model_name": "DescriptionStyleModel",
          "model_module_version": "1.5.0",
          "state": {
            "_model_module": "@jupyter-widgets/controls",
            "_model_module_version": "1.5.0",
            "_model_name": "DescriptionStyleModel",
            "_view_count": null,
            "_view_module": "@jupyter-widgets/base",
            "_view_module_version": "1.2.0",
            "_view_name": "StyleView",
            "description_width": ""
          }
        },
        "f3004576e01d43eb92a4347747fd227e": {
          "model_module": "@jupyter-widgets/base",
          "model_name": "LayoutModel",
          "model_module_version": "1.2.0",
          "state": {
            "_model_module": "@jupyter-widgets/base",
            "_model_module_version": "1.2.0",
            "_model_name": "LayoutModel",
            "_view_count": null,
            "_view_module": "@jupyter-widgets/base",
            "_view_module_version": "1.2.0",
            "_view_name": "LayoutView",
            "align_content": null,
            "align_items": null,
            "align_self": null,
            "border": null,
            "bottom": null,
            "display": null,
            "flex": null,
            "flex_flow": null,
            "grid_area": null,
            "grid_auto_columns": null,
            "grid_auto_flow": null,
            "grid_auto_rows": null,
            "grid_column": null,
            "grid_gap": null,
            "grid_row": null,
            "grid_template_areas": null,
            "grid_template_columns": null,
            "grid_template_rows": null,
            "height": null,
            "justify_content": null,
            "justify_items": null,
            "left": null,
            "margin": null,
            "max_height": null,
            "max_width": null,
            "min_height": null,
            "min_width": null,
            "object_fit": null,
            "object_position": null,
            "order": null,
            "overflow": null,
            "overflow_x": null,
            "overflow_y": null,
            "padding": null,
            "right": null,
            "top": null,
            "visibility": null,
            "width": null
          }
        },
        "744f3e82d14444f5b333fa0d52d723e9": {
          "model_module": "@jupyter-widgets/controls",
          "model_name": "ProgressStyleModel",
          "model_module_version": "1.5.0",
          "state": {
            "_model_module": "@jupyter-widgets/controls",
            "_model_module_version": "1.5.0",
            "_model_name": "ProgressStyleModel",
            "_view_count": null,
            "_view_module": "@jupyter-widgets/base",
            "_view_module_version": "1.2.0",
            "_view_name": "StyleView",
            "bar_color": null,
            "description_width": ""
          }
        },
        "355fef3a0dc84cef8b603e26c969b8e4": {
          "model_module": "@jupyter-widgets/base",
          "model_name": "LayoutModel",
          "model_module_version": "1.2.0",
          "state": {
            "_model_module": "@jupyter-widgets/base",
            "_model_module_version": "1.2.0",
            "_model_name": "LayoutModel",
            "_view_count": null,
            "_view_module": "@jupyter-widgets/base",
            "_view_module_version": "1.2.0",
            "_view_name": "LayoutView",
            "align_content": null,
            "align_items": null,
            "align_self": null,
            "border": null,
            "bottom": null,
            "display": null,
            "flex": null,
            "flex_flow": null,
            "grid_area": null,
            "grid_auto_columns": null,
            "grid_auto_flow": null,
            "grid_auto_rows": null,
            "grid_column": null,
            "grid_gap": null,
            "grid_row": null,
            "grid_template_areas": null,
            "grid_template_columns": null,
            "grid_template_rows": null,
            "height": null,
            "justify_content": null,
            "justify_items": null,
            "left": null,
            "margin": null,
            "max_height": null,
            "max_width": null,
            "min_height": null,
            "min_width": null,
            "object_fit": null,
            "object_position": null,
            "order": null,
            "overflow": null,
            "overflow_x": null,
            "overflow_y": null,
            "padding": null,
            "right": null,
            "top": null,
            "visibility": null,
            "width": null
          }
        },
        "4a2c8f8054ee45648bea5a2ff44955fb": {
          "model_module": "@jupyter-widgets/controls",
          "model_name": "DescriptionStyleModel",
          "model_module_version": "1.5.0",
          "state": {
            "_model_module": "@jupyter-widgets/controls",
            "_model_module_version": "1.5.0",
            "_model_name": "DescriptionStyleModel",
            "_view_count": null,
            "_view_module": "@jupyter-widgets/base",
            "_view_module_version": "1.2.0",
            "_view_name": "StyleView",
            "description_width": ""
          }
        },
        "a32cdc51835843d2a59d7369c7293067": {
          "model_module": "@jupyter-widgets/controls",
          "model_name": "HBoxModel",
          "model_module_version": "1.5.0",
          "state": {
            "_dom_classes": [],
            "_model_module": "@jupyter-widgets/controls",
            "_model_module_version": "1.5.0",
            "_model_name": "HBoxModel",
            "_view_count": null,
            "_view_module": "@jupyter-widgets/controls",
            "_view_module_version": "1.5.0",
            "_view_name": "HBoxView",
            "box_style": "",
            "children": [
              "IPY_MODEL_59401e3541684527b8108362b7e87c9b",
              "IPY_MODEL_52fbc3c576e141c78ae24041a0798a28",
              "IPY_MODEL_dd63b9740b5e40dd9ea836169ead6bff"
            ],
            "layout": "IPY_MODEL_b91ba44381af49048a707e865e8a01bb"
          }
        },
        "59401e3541684527b8108362b7e87c9b": {
          "model_module": "@jupyter-widgets/controls",
          "model_name": "HTMLModel",
          "model_module_version": "1.5.0",
          "state": {
            "_dom_classes": [],
            "_model_module": "@jupyter-widgets/controls",
            "_model_module_version": "1.5.0",
            "_model_name": "HTMLModel",
            "_view_count": null,
            "_view_module": "@jupyter-widgets/controls",
            "_view_module_version": "1.5.0",
            "_view_name": "HTMLView",
            "description": "",
            "description_tooltip": null,
            "layout": "IPY_MODEL_cd1a7175834c4d0999edd8006ef56ed1",
            "placeholder": "​",
            "style": "IPY_MODEL_c2e31b1572c1405995f99c0e833c949d",
            "value": "Downloading: 100%"
          }
        },
        "52fbc3c576e141c78ae24041a0798a28": {
          "model_module": "@jupyter-widgets/controls",
          "model_name": "FloatProgressModel",
          "model_module_version": "1.5.0",
          "state": {
            "_dom_classes": [],
            "_model_module": "@jupyter-widgets/controls",
            "_model_module_version": "1.5.0",
            "_model_name": "FloatProgressModel",
            "_view_count": null,
            "_view_module": "@jupyter-widgets/controls",
            "_view_module_version": "1.5.0",
            "_view_name": "ProgressView",
            "bar_style": "success",
            "description": "",
            "description_tooltip": null,
            "layout": "IPY_MODEL_ee8532721df343e3b7e67b3fb8497836",
            "max": 190,
            "min": 0,
            "orientation": "horizontal",
            "style": "IPY_MODEL_d8f5bae2a39647b7b08426058dccdfee",
            "value": 190
          }
        },
        "dd63b9740b5e40dd9ea836169ead6bff": {
          "model_module": "@jupyter-widgets/controls",
          "model_name": "HTMLModel",
          "model_module_version": "1.5.0",
          "state": {
            "_dom_classes": [],
            "_model_module": "@jupyter-widgets/controls",
            "_model_module_version": "1.5.0",
            "_model_name": "HTMLModel",
            "_view_count": null,
            "_view_module": "@jupyter-widgets/controls",
            "_view_module_version": "1.5.0",
            "_view_name": "HTMLView",
            "description": "",
            "description_tooltip": null,
            "layout": "IPY_MODEL_7b9ea96c21064417be68af3e56a95731",
            "placeholder": "​",
            "style": "IPY_MODEL_fd65663ea32e4eac888e8ebb0db1d047",
            "value": " 190/190 [00:00&lt;00:00, 4.93kB/s]"
          }
        },
        "b91ba44381af49048a707e865e8a01bb": {
          "model_module": "@jupyter-widgets/base",
          "model_name": "LayoutModel",
          "model_module_version": "1.2.0",
          "state": {
            "_model_module": "@jupyter-widgets/base",
            "_model_module_version": "1.2.0",
            "_model_name": "LayoutModel",
            "_view_count": null,
            "_view_module": "@jupyter-widgets/base",
            "_view_module_version": "1.2.0",
            "_view_name": "LayoutView",
            "align_content": null,
            "align_items": null,
            "align_self": null,
            "border": null,
            "bottom": null,
            "display": null,
            "flex": null,
            "flex_flow": null,
            "grid_area": null,
            "grid_auto_columns": null,
            "grid_auto_flow": null,
            "grid_auto_rows": null,
            "grid_column": null,
            "grid_gap": null,
            "grid_row": null,
            "grid_template_areas": null,
            "grid_template_columns": null,
            "grid_template_rows": null,
            "height": null,
            "justify_content": null,
            "justify_items": null,
            "left": null,
            "margin": null,
            "max_height": null,
            "max_width": null,
            "min_height": null,
            "min_width": null,
            "object_fit": null,
            "object_position": null,
            "order": null,
            "overflow": null,
            "overflow_x": null,
            "overflow_y": null,
            "padding": null,
            "right": null,
            "top": null,
            "visibility": null,
            "width": null
          }
        },
        "cd1a7175834c4d0999edd8006ef56ed1": {
          "model_module": "@jupyter-widgets/base",
          "model_name": "LayoutModel",
          "model_module_version": "1.2.0",
          "state": {
            "_model_module": "@jupyter-widgets/base",
            "_model_module_version": "1.2.0",
            "_model_name": "LayoutModel",
            "_view_count": null,
            "_view_module": "@jupyter-widgets/base",
            "_view_module_version": "1.2.0",
            "_view_name": "LayoutView",
            "align_content": null,
            "align_items": null,
            "align_self": null,
            "border": null,
            "bottom": null,
            "display": null,
            "flex": null,
            "flex_flow": null,
            "grid_area": null,
            "grid_auto_columns": null,
            "grid_auto_flow": null,
            "grid_auto_rows": null,
            "grid_column": null,
            "grid_gap": null,
            "grid_row": null,
            "grid_template_areas": null,
            "grid_template_columns": null,
            "grid_template_rows": null,
            "height": null,
            "justify_content": null,
            "justify_items": null,
            "left": null,
            "margin": null,
            "max_height": null,
            "max_width": null,
            "min_height": null,
            "min_width": null,
            "object_fit": null,
            "object_position": null,
            "order": null,
            "overflow": null,
            "overflow_x": null,
            "overflow_y": null,
            "padding": null,
            "right": null,
            "top": null,
            "visibility": null,
            "width": null
          }
        },
        "c2e31b1572c1405995f99c0e833c949d": {
          "model_module": "@jupyter-widgets/controls",
          "model_name": "DescriptionStyleModel",
          "model_module_version": "1.5.0",
          "state": {
            "_model_module": "@jupyter-widgets/controls",
            "_model_module_version": "1.5.0",
            "_model_name": "DescriptionStyleModel",
            "_view_count": null,
            "_view_module": "@jupyter-widgets/base",
            "_view_module_version": "1.2.0",
            "_view_name": "StyleView",
            "description_width": ""
          }
        },
        "ee8532721df343e3b7e67b3fb8497836": {
          "model_module": "@jupyter-widgets/base",
          "model_name": "LayoutModel",
          "model_module_version": "1.2.0",
          "state": {
            "_model_module": "@jupyter-widgets/base",
            "_model_module_version": "1.2.0",
            "_model_name": "LayoutModel",
            "_view_count": null,
            "_view_module": "@jupyter-widgets/base",
            "_view_module_version": "1.2.0",
            "_view_name": "LayoutView",
            "align_content": null,
            "align_items": null,
            "align_self": null,
            "border": null,
            "bottom": null,
            "display": null,
            "flex": null,
            "flex_flow": null,
            "grid_area": null,
            "grid_auto_columns": null,
            "grid_auto_flow": null,
            "grid_auto_rows": null,
            "grid_column": null,
            "grid_gap": null,
            "grid_row": null,
            "grid_template_areas": null,
            "grid_template_columns": null,
            "grid_template_rows": null,
            "height": null,
            "justify_content": null,
            "justify_items": null,
            "left": null,
            "margin": null,
            "max_height": null,
            "max_width": null,
            "min_height": null,
            "min_width": null,
            "object_fit": null,
            "object_position": null,
            "order": null,
            "overflow": null,
            "overflow_x": null,
            "overflow_y": null,
            "padding": null,
            "right": null,
            "top": null,
            "visibility": null,
            "width": null
          }
        },
        "d8f5bae2a39647b7b08426058dccdfee": {
          "model_module": "@jupyter-widgets/controls",
          "model_name": "ProgressStyleModel",
          "model_module_version": "1.5.0",
          "state": {
            "_model_module": "@jupyter-widgets/controls",
            "_model_module_version": "1.5.0",
            "_model_name": "ProgressStyleModel",
            "_view_count": null,
            "_view_module": "@jupyter-widgets/base",
            "_view_module_version": "1.2.0",
            "_view_name": "StyleView",
            "bar_color": null,
            "description_width": ""
          }
        },
        "7b9ea96c21064417be68af3e56a95731": {
          "model_module": "@jupyter-widgets/base",
          "model_name": "LayoutModel",
          "model_module_version": "1.2.0",
          "state": {
            "_model_module": "@jupyter-widgets/base",
            "_model_module_version": "1.2.0",
            "_model_name": "LayoutModel",
            "_view_count": null,
            "_view_module": "@jupyter-widgets/base",
            "_view_module_version": "1.2.0",
            "_view_name": "LayoutView",
            "align_content": null,
            "align_items": null,
            "align_self": null,
            "border": null,
            "bottom": null,
            "display": null,
            "flex": null,
            "flex_flow": null,
            "grid_area": null,
            "grid_auto_columns": null,
            "grid_auto_flow": null,
            "grid_auto_rows": null,
            "grid_column": null,
            "grid_gap": null,
            "grid_row": null,
            "grid_template_areas": null,
            "grid_template_columns": null,
            "grid_template_rows": null,
            "height": null,
            "justify_content": null,
            "justify_items": null,
            "left": null,
            "margin": null,
            "max_height": null,
            "max_width": null,
            "min_height": null,
            "min_width": null,
            "object_fit": null,
            "object_position": null,
            "order": null,
            "overflow": null,
            "overflow_x": null,
            "overflow_y": null,
            "padding": null,
            "right": null,
            "top": null,
            "visibility": null,
            "width": null
          }
        },
        "fd65663ea32e4eac888e8ebb0db1d047": {
          "model_module": "@jupyter-widgets/controls",
          "model_name": "DescriptionStyleModel",
          "model_module_version": "1.5.0",
          "state": {
            "_model_module": "@jupyter-widgets/controls",
            "_model_module_version": "1.5.0",
            "_model_name": "DescriptionStyleModel",
            "_view_count": null,
            "_view_module": "@jupyter-widgets/base",
            "_view_module_version": "1.2.0",
            "_view_name": "StyleView",
            "description_width": ""
          }
        }
      }
    }
  },
  "cells": [
    {
      "cell_type": "markdown",
      "source": [
        "# Google News Extraction and Topic Modelling\n",
        "\n",
        "Use of Pygooglenews to obtain urls based on Google query search. Also use of Googlsearch to produce list of URLs in the main search query of Google. Download sentences from urls with Article / Newspaper3k and preprocessing to remove special characters. Further removal of similar sentences by looking at cosine similarity which yields a large list of sentences that are unique by a certain threshold with respect to the query search.\n",
        "\n",
        "Then, preprocessing and cleaning of text; reproduced in large list form and also dataframe form split by a particular category or date."
      ],
      "metadata": {
        "id": "I2Bwhvaf8_KD"
      }
    },
    {
      "cell_type": "code",
      "source": [
        "import pandas as pd\n",
        "import numpy as np\n",
        "import matplotlib.pyplot as plt"
      ],
      "metadata": {
        "id": "1HzxmxuzjZAx"
      },
      "execution_count": 1,
      "outputs": []
    },
    {
      "cell_type": "code",
      "source": [
        "!pip install sentence_transformers"
      ],
      "metadata": {
        "id": "a8kxTWUVQFAx"
      },
      "execution_count": null,
      "outputs": []
    },
    {
      "cell_type": "code",
      "source": [
        "!pip install newspaper3k"
      ],
      "metadata": {
        "id": "Kb1kTRRsQOfY"
      },
      "execution_count": null,
      "outputs": []
    },
    {
      "cell_type": "code",
      "source": [
        "!pip install BERTopic"
      ],
      "metadata": {
        "id": "GeRdLkFkR6zS"
      },
      "execution_count": null,
      "outputs": []
    },
    {
      "cell_type": "code",
      "source": [
        "!pip install pygooglenews"
      ],
      "metadata": {
        "id": "TuSPDKSwBtYu"
      },
      "execution_count": null,
      "outputs": []
    },
    {
      "cell_type": "code",
      "execution_count": 2,
      "metadata": {
        "id": "PBCBLVjoP1V0"
      },
      "outputs": [],
      "source": [
        "# from sentence_transformers import SentenceTransformer, util\n",
        "# from googlesearch import search\n",
        "# from newspaper import Article\n",
        "# from bertopic import BERTopic\n",
        "from nltk import tokenize\n",
        "from tqdm import tqdm\n",
        "import nltk\n",
        "import re"
      ]
    },
    {
      "cell_type": "code",
      "source": [
        "from google.colab import drive\n",
        "drive.mount(\"/content/drive\")"
      ],
      "metadata": {
        "colab": {
          "base_uri": "https://localhost:8080/"
        },
        "id": "Md3osebBNGcX",
        "outputId": "cefa977e-ccfb-4dc6-edb3-2db298b80c60"
      },
      "execution_count": 3,
      "outputs": [
        {
          "output_type": "stream",
          "name": "stdout",
          "text": [
            "Mounted at /content/drive\n"
          ]
        }
      ]
    },
    {
      "cell_type": "markdown",
      "source": [
        "**We use pygooglenews to extract news articles for a particular topic to generate sentences based on current affairs.**"
      ],
      "metadata": {
        "id": "d1Hd_cebIJFU"
      }
    },
    {
      "cell_type": "code",
      "source": [
        "from pygooglenews import GoogleNews"
      ],
      "metadata": {
        "id": "tvHR4yD-BsDA"
      },
      "execution_count": null,
      "outputs": []
    },
    {
      "cell_type": "code",
      "source": [
        "gn = GoogleNews()"
      ],
      "metadata": {
        "id": "57-VjksWCMaC"
      },
      "execution_count": null,
      "outputs": []
    },
    {
      "cell_type": "code",
      "source": [
        "search = gn.search('ethereum', when = '6m')"
      ],
      "metadata": {
        "id": "qIrHrSK3COmp"
      },
      "execution_count": null,
      "outputs": []
    },
    {
      "cell_type": "code",
      "source": [
        "entries = search['entries']"
      ],
      "metadata": {
        "id": "0phguyAIC3hq"
      },
      "execution_count": null,
      "outputs": []
    },
    {
      "cell_type": "code",
      "source": [
        "entries_list = [entries[i]['link'] for i in range(len(entries))]\n",
        "date_list = [entries[i]['published'] for i in range(len(entries))]\n",
        "data_tuples = list(zip(date_list, entries_list))\n",
        "news_data = pd.DataFrame(data_tuples, columns=['Date', 'URL'])\n",
        "news_data"
      ],
      "metadata": {
        "colab": {
          "base_uri": "https://localhost:8080/",
          "height": 457
        },
        "id": "k_6qBufhN8U6",
        "outputId": "2f8fac84-ce52-42d4-d56a-343dfd97342e"
      },
      "execution_count": null,
      "outputs": [
        {
          "output_type": "execute_result",
          "data": {
            "text/plain": [
              "                             Date  \\\n",
              "0   Mon, 21 Mar 2022 17:01:17 GMT   \n",
              "1   Tue, 15 Mar 2022 07:00:00 GMT   \n",
              "2   Wed, 02 Mar 2022 08:00:00 GMT   \n",
              "3   Sat, 19 Mar 2022 11:31:16 GMT   \n",
              "4   Thu, 03 Mar 2022 08:00:00 GMT   \n",
              "5   Thu, 24 Mar 2022 04:35:00 GMT   \n",
              "6   Sat, 12 Mar 2022 08:00:00 GMT   \n",
              "7   Wed, 02 Mar 2022 08:00:00 GMT   \n",
              "8   Fri, 05 Nov 2021 07:00:00 GMT   \n",
              "9   Wed, 15 Sep 2021 07:00:00 GMT   \n",
              "10  Wed, 01 Dec 2021 08:00:00 GMT   \n",
              "11  Tue, 18 Jan 2022 08:00:00 GMT   \n",
              "12  Fri, 17 Dec 2021 08:00:00 GMT   \n",
              "\n",
              "                                                  URL  \n",
              "0   https://www.benzinga.com/markets/cryptocurrenc...  \n",
              "1   https://www.coindesk.com/business/2022/03/15/4...  \n",
              "2   https://www.coindesk.com/layer2/2022/03/02/wha...  \n",
              "3   https://ambcrypto.com/from-a-6m-buy-in-to-30k-...  \n",
              "4   https://www.fxempire.com/news/article/ukrained...  \n",
              "5   https://www.coindesk.com/markets/2022/03/24/fi...  \n",
              "6   https://www.coindesk.com/policy/2022/03/12/lim...  \n",
              "7   https://cryptopotato.com/gal-gadot-participate...  \n",
              "8   https://cryptobriefing.com/early-xcopy-nft-sel...  \n",
              "9   https://seekingalpha.com/article/4455342-solan...  \n",
              "10  https://seekingalpha.com/article/4472892-ether...  \n",
              "11  https://cryptopotato.com/4600-eth-worth-14-6m-...  \n",
              "12  https://seekingalpha.com/article/4475770-bitco...  "
            ],
            "text/html": [
              "\n",
              "  <div id=\"df-9bed61a9-066a-44b3-8fe7-b693173024a0\">\n",
              "    <div class=\"colab-df-container\">\n",
              "      <div>\n",
              "<style scoped>\n",
              "    .dataframe tbody tr th:only-of-type {\n",
              "        vertical-align: middle;\n",
              "    }\n",
              "\n",
              "    .dataframe tbody tr th {\n",
              "        vertical-align: top;\n",
              "    }\n",
              "\n",
              "    .dataframe thead th {\n",
              "        text-align: right;\n",
              "    }\n",
              "</style>\n",
              "<table border=\"1\" class=\"dataframe\">\n",
              "  <thead>\n",
              "    <tr style=\"text-align: right;\">\n",
              "      <th></th>\n",
              "      <th>Date</th>\n",
              "      <th>URL</th>\n",
              "    </tr>\n",
              "  </thead>\n",
              "  <tbody>\n",
              "    <tr>\n",
              "      <th>0</th>\n",
              "      <td>Mon, 21 Mar 2022 17:01:17 GMT</td>\n",
              "      <td>https://www.benzinga.com/markets/cryptocurrenc...</td>\n",
              "    </tr>\n",
              "    <tr>\n",
              "      <th>1</th>\n",
              "      <td>Tue, 15 Mar 2022 07:00:00 GMT</td>\n",
              "      <td>https://www.coindesk.com/business/2022/03/15/4...</td>\n",
              "    </tr>\n",
              "    <tr>\n",
              "      <th>2</th>\n",
              "      <td>Wed, 02 Mar 2022 08:00:00 GMT</td>\n",
              "      <td>https://www.coindesk.com/layer2/2022/03/02/wha...</td>\n",
              "    </tr>\n",
              "    <tr>\n",
              "      <th>3</th>\n",
              "      <td>Sat, 19 Mar 2022 11:31:16 GMT</td>\n",
              "      <td>https://ambcrypto.com/from-a-6m-buy-in-to-30k-...</td>\n",
              "    </tr>\n",
              "    <tr>\n",
              "      <th>4</th>\n",
              "      <td>Thu, 03 Mar 2022 08:00:00 GMT</td>\n",
              "      <td>https://www.fxempire.com/news/article/ukrained...</td>\n",
              "    </tr>\n",
              "    <tr>\n",
              "      <th>5</th>\n",
              "      <td>Thu, 24 Mar 2022 04:35:00 GMT</td>\n",
              "      <td>https://www.coindesk.com/markets/2022/03/24/fi...</td>\n",
              "    </tr>\n",
              "    <tr>\n",
              "      <th>6</th>\n",
              "      <td>Sat, 12 Mar 2022 08:00:00 GMT</td>\n",
              "      <td>https://www.coindesk.com/policy/2022/03/12/lim...</td>\n",
              "    </tr>\n",
              "    <tr>\n",
              "      <th>7</th>\n",
              "      <td>Wed, 02 Mar 2022 08:00:00 GMT</td>\n",
              "      <td>https://cryptopotato.com/gal-gadot-participate...</td>\n",
              "    </tr>\n",
              "    <tr>\n",
              "      <th>8</th>\n",
              "      <td>Fri, 05 Nov 2021 07:00:00 GMT</td>\n",
              "      <td>https://cryptobriefing.com/early-xcopy-nft-sel...</td>\n",
              "    </tr>\n",
              "    <tr>\n",
              "      <th>9</th>\n",
              "      <td>Wed, 15 Sep 2021 07:00:00 GMT</td>\n",
              "      <td>https://seekingalpha.com/article/4455342-solan...</td>\n",
              "    </tr>\n",
              "    <tr>\n",
              "      <th>10</th>\n",
              "      <td>Wed, 01 Dec 2021 08:00:00 GMT</td>\n",
              "      <td>https://seekingalpha.com/article/4472892-ether...</td>\n",
              "    </tr>\n",
              "    <tr>\n",
              "      <th>11</th>\n",
              "      <td>Tue, 18 Jan 2022 08:00:00 GMT</td>\n",
              "      <td>https://cryptopotato.com/4600-eth-worth-14-6m-...</td>\n",
              "    </tr>\n",
              "    <tr>\n",
              "      <th>12</th>\n",
              "      <td>Fri, 17 Dec 2021 08:00:00 GMT</td>\n",
              "      <td>https://seekingalpha.com/article/4475770-bitco...</td>\n",
              "    </tr>\n",
              "  </tbody>\n",
              "</table>\n",
              "</div>\n",
              "      <button class=\"colab-df-convert\" onclick=\"convertToInteractive('df-9bed61a9-066a-44b3-8fe7-b693173024a0')\"\n",
              "              title=\"Convert this dataframe to an interactive table.\"\n",
              "              style=\"display:none;\">\n",
              "        \n",
              "  <svg xmlns=\"http://www.w3.org/2000/svg\" height=\"24px\"viewBox=\"0 0 24 24\"\n",
              "       width=\"24px\">\n",
              "    <path d=\"M0 0h24v24H0V0z\" fill=\"none\"/>\n",
              "    <path d=\"M18.56 5.44l.94 2.06.94-2.06 2.06-.94-2.06-.94-.94-2.06-.94 2.06-2.06.94zm-11 1L8.5 8.5l.94-2.06 2.06-.94-2.06-.94L8.5 2.5l-.94 2.06-2.06.94zm10 10l.94 2.06.94-2.06 2.06-.94-2.06-.94-.94-2.06-.94 2.06-2.06.94z\"/><path d=\"M17.41 7.96l-1.37-1.37c-.4-.4-.92-.59-1.43-.59-.52 0-1.04.2-1.43.59L10.3 9.45l-7.72 7.72c-.78.78-.78 2.05 0 2.83L4 21.41c.39.39.9.59 1.41.59.51 0 1.02-.2 1.41-.59l7.78-7.78 2.81-2.81c.8-.78.8-2.07 0-2.86zM5.41 20L4 18.59l7.72-7.72 1.47 1.35L5.41 20z\"/>\n",
              "  </svg>\n",
              "      </button>\n",
              "      \n",
              "  <style>\n",
              "    .colab-df-container {\n",
              "      display:flex;\n",
              "      flex-wrap:wrap;\n",
              "      gap: 12px;\n",
              "    }\n",
              "\n",
              "    .colab-df-convert {\n",
              "      background-color: #E8F0FE;\n",
              "      border: none;\n",
              "      border-radius: 50%;\n",
              "      cursor: pointer;\n",
              "      display: none;\n",
              "      fill: #1967D2;\n",
              "      height: 32px;\n",
              "      padding: 0 0 0 0;\n",
              "      width: 32px;\n",
              "    }\n",
              "\n",
              "    .colab-df-convert:hover {\n",
              "      background-color: #E2EBFA;\n",
              "      box-shadow: 0px 1px 2px rgba(60, 64, 67, 0.3), 0px 1px 3px 1px rgba(60, 64, 67, 0.15);\n",
              "      fill: #174EA6;\n",
              "    }\n",
              "\n",
              "    [theme=dark] .colab-df-convert {\n",
              "      background-color: #3B4455;\n",
              "      fill: #D2E3FC;\n",
              "    }\n",
              "\n",
              "    [theme=dark] .colab-df-convert:hover {\n",
              "      background-color: #434B5C;\n",
              "      box-shadow: 0px 1px 3px 1px rgba(0, 0, 0, 0.15);\n",
              "      filter: drop-shadow(0px 1px 2px rgba(0, 0, 0, 0.3));\n",
              "      fill: #FFFFFF;\n",
              "    }\n",
              "  </style>\n",
              "\n",
              "      <script>\n",
              "        const buttonEl =\n",
              "          document.querySelector('#df-9bed61a9-066a-44b3-8fe7-b693173024a0 button.colab-df-convert');\n",
              "        buttonEl.style.display =\n",
              "          google.colab.kernel.accessAllowed ? 'block' : 'none';\n",
              "\n",
              "        async function convertToInteractive(key) {\n",
              "          const element = document.querySelector('#df-9bed61a9-066a-44b3-8fe7-b693173024a0');\n",
              "          const dataTable =\n",
              "            await google.colab.kernel.invokeFunction('convertToInteractive',\n",
              "                                                     [key], {});\n",
              "          if (!dataTable) return;\n",
              "\n",
              "          const docLinkHtml = 'Like what you see? Visit the ' +\n",
              "            '<a target=\"_blank\" href=https://colab.research.google.com/notebooks/data_table.ipynb>data table notebook</a>'\n",
              "            + ' to learn more about interactive tables.';\n",
              "          element.innerHTML = '';\n",
              "          dataTable['output_type'] = 'display_data';\n",
              "          await google.colab.output.renderOutput(dataTable, element);\n",
              "          const docLink = document.createElement('div');\n",
              "          docLink.innerHTML = docLinkHtml;\n",
              "          element.appendChild(docLink);\n",
              "        }\n",
              "      </script>\n",
              "    </div>\n",
              "  </div>\n",
              "  "
            ]
          },
          "metadata": {},
          "execution_count": 20
        }
      ]
    },
    {
      "cell_type": "code",
      "source": [
        "nltk.download('punkt')\n",
        "nltk.download('stopwords')"
      ],
      "metadata": {
        "id": "LdMc4AgqP3m3",
        "colab": {
          "base_uri": "https://localhost:8080/"
        },
        "outputId": "28041020-80c3-4f0a-a230-f0c14fa0bfd4"
      },
      "execution_count": 42,
      "outputs": [
        {
          "output_type": "stream",
          "name": "stdout",
          "text": [
            "[nltk_data] Downloading package punkt to /root/nltk_data...\n",
            "[nltk_data]   Unzipping tokenizers/punkt.zip.\n",
            "[nltk_data] Downloading package stopwords to /root/nltk_data...\n",
            "[nltk_data]   Unzipping corpora/stopwords.zip.\n"
          ]
        },
        {
          "output_type": "execute_result",
          "data": {
            "text/plain": [
              "True"
            ]
          },
          "metadata": {},
          "execution_count": 42
        }
      ]
    },
    {
      "cell_type": "markdown",
      "source": [
        "**Search in general search query, rather than news**"
      ],
      "metadata": {
        "id": "6HC4riuE0-Bn"
      }
    },
    {
      "cell_type": "code",
      "source": [
        "from googlesearch import search"
      ],
      "metadata": {
        "id": "VSnx5-Elzj29"
      },
      "execution_count": null,
      "outputs": []
    },
    {
      "cell_type": "code",
      "source": [
        "def scrape_urls(query, num):\n",
        "    urls = list(search(query, stop=num))\n",
        "    return urls\n",
        "\n",
        "urls = scrape_urls(query='web3', num=50)\n",
        "len(urls)"
      ],
      "metadata": {
        "id": "eIEH8FYUP5hJ"
      },
      "execution_count": null,
      "outputs": []
    },
    {
      "cell_type": "code",
      "source": [
        "gen_data = pd.DataFrame(urls, columns=['URL'])"
      ],
      "metadata": {
        "id": "tcdF7ulx14PK"
      },
      "execution_count": null,
      "outputs": []
    },
    {
      "cell_type": "code",
      "source": [
        "gen_data.head(10)"
      ],
      "metadata": {
        "colab": {
          "base_uri": "https://localhost:8080/",
          "height": 362
        },
        "id": "NutDxFGL2Nbd",
        "outputId": "2efb3fc8-24d7-44c8-a6b5-b21fadf2599a"
      },
      "execution_count": null,
      "outputs": [
        {
          "output_type": "execute_result",
          "data": {
            "text/plain": [
              "                                                 URL\n",
              "0                 https://en.wikipedia.org/wiki/Web3\n",
              "1              https://en.wikipedia.org/wiki/Web_2.0\n",
              "2           https://en.wikipedia.org/wiki/Gavin_Wood\n",
              "3             https://en.wikipedia.org/wiki/Buzzword\n",
              "4  https://en.wikipedia.org/wiki/Decentralized_fi...\n",
              "5  https://www.weforum.org/agenda/2022/02/web3-tr...\n",
              "6                           https://web3.foundation/\n",
              "7                     https://web3.foundation/about/\n",
              "8                  https://web3.foundation/projects/\n",
              "9                    https://web3.foundation/grants/"
            ],
            "text/html": [
              "\n",
              "  <div id=\"df-5375dedd-d820-41b4-85bc-2ab5403cfe51\">\n",
              "    <div class=\"colab-df-container\">\n",
              "      <div>\n",
              "<style scoped>\n",
              "    .dataframe tbody tr th:only-of-type {\n",
              "        vertical-align: middle;\n",
              "    }\n",
              "\n",
              "    .dataframe tbody tr th {\n",
              "        vertical-align: top;\n",
              "    }\n",
              "\n",
              "    .dataframe thead th {\n",
              "        text-align: right;\n",
              "    }\n",
              "</style>\n",
              "<table border=\"1\" class=\"dataframe\">\n",
              "  <thead>\n",
              "    <tr style=\"text-align: right;\">\n",
              "      <th></th>\n",
              "      <th>URL</th>\n",
              "    </tr>\n",
              "  </thead>\n",
              "  <tbody>\n",
              "    <tr>\n",
              "      <th>0</th>\n",
              "      <td>https://en.wikipedia.org/wiki/Web3</td>\n",
              "    </tr>\n",
              "    <tr>\n",
              "      <th>1</th>\n",
              "      <td>https://en.wikipedia.org/wiki/Web_2.0</td>\n",
              "    </tr>\n",
              "    <tr>\n",
              "      <th>2</th>\n",
              "      <td>https://en.wikipedia.org/wiki/Gavin_Wood</td>\n",
              "    </tr>\n",
              "    <tr>\n",
              "      <th>3</th>\n",
              "      <td>https://en.wikipedia.org/wiki/Buzzword</td>\n",
              "    </tr>\n",
              "    <tr>\n",
              "      <th>4</th>\n",
              "      <td>https://en.wikipedia.org/wiki/Decentralized_fi...</td>\n",
              "    </tr>\n",
              "    <tr>\n",
              "      <th>5</th>\n",
              "      <td>https://www.weforum.org/agenda/2022/02/web3-tr...</td>\n",
              "    </tr>\n",
              "    <tr>\n",
              "      <th>6</th>\n",
              "      <td>https://web3.foundation/</td>\n",
              "    </tr>\n",
              "    <tr>\n",
              "      <th>7</th>\n",
              "      <td>https://web3.foundation/about/</td>\n",
              "    </tr>\n",
              "    <tr>\n",
              "      <th>8</th>\n",
              "      <td>https://web3.foundation/projects/</td>\n",
              "    </tr>\n",
              "    <tr>\n",
              "      <th>9</th>\n",
              "      <td>https://web3.foundation/grants/</td>\n",
              "    </tr>\n",
              "  </tbody>\n",
              "</table>\n",
              "</div>\n",
              "      <button class=\"colab-df-convert\" onclick=\"convertToInteractive('df-5375dedd-d820-41b4-85bc-2ab5403cfe51')\"\n",
              "              title=\"Convert this dataframe to an interactive table.\"\n",
              "              style=\"display:none;\">\n",
              "        \n",
              "  <svg xmlns=\"http://www.w3.org/2000/svg\" height=\"24px\"viewBox=\"0 0 24 24\"\n",
              "       width=\"24px\">\n",
              "    <path d=\"M0 0h24v24H0V0z\" fill=\"none\"/>\n",
              "    <path d=\"M18.56 5.44l.94 2.06.94-2.06 2.06-.94-2.06-.94-.94-2.06-.94 2.06-2.06.94zm-11 1L8.5 8.5l.94-2.06 2.06-.94-2.06-.94L8.5 2.5l-.94 2.06-2.06.94zm10 10l.94 2.06.94-2.06 2.06-.94-2.06-.94-.94-2.06-.94 2.06-2.06.94z\"/><path d=\"M17.41 7.96l-1.37-1.37c-.4-.4-.92-.59-1.43-.59-.52 0-1.04.2-1.43.59L10.3 9.45l-7.72 7.72c-.78.78-.78 2.05 0 2.83L4 21.41c.39.39.9.59 1.41.59.51 0 1.02-.2 1.41-.59l7.78-7.78 2.81-2.81c.8-.78.8-2.07 0-2.86zM5.41 20L4 18.59l7.72-7.72 1.47 1.35L5.41 20z\"/>\n",
              "  </svg>\n",
              "      </button>\n",
              "      \n",
              "  <style>\n",
              "    .colab-df-container {\n",
              "      display:flex;\n",
              "      flex-wrap:wrap;\n",
              "      gap: 12px;\n",
              "    }\n",
              "\n",
              "    .colab-df-convert {\n",
              "      background-color: #E8F0FE;\n",
              "      border: none;\n",
              "      border-radius: 50%;\n",
              "      cursor: pointer;\n",
              "      display: none;\n",
              "      fill: #1967D2;\n",
              "      height: 32px;\n",
              "      padding: 0 0 0 0;\n",
              "      width: 32px;\n",
              "    }\n",
              "\n",
              "    .colab-df-convert:hover {\n",
              "      background-color: #E2EBFA;\n",
              "      box-shadow: 0px 1px 2px rgba(60, 64, 67, 0.3), 0px 1px 3px 1px rgba(60, 64, 67, 0.15);\n",
              "      fill: #174EA6;\n",
              "    }\n",
              "\n",
              "    [theme=dark] .colab-df-convert {\n",
              "      background-color: #3B4455;\n",
              "      fill: #D2E3FC;\n",
              "    }\n",
              "\n",
              "    [theme=dark] .colab-df-convert:hover {\n",
              "      background-color: #434B5C;\n",
              "      box-shadow: 0px 1px 3px 1px rgba(0, 0, 0, 0.15);\n",
              "      filter: drop-shadow(0px 1px 2px rgba(0, 0, 0, 0.3));\n",
              "      fill: #FFFFFF;\n",
              "    }\n",
              "  </style>\n",
              "\n",
              "      <script>\n",
              "        const buttonEl =\n",
              "          document.querySelector('#df-5375dedd-d820-41b4-85bc-2ab5403cfe51 button.colab-df-convert');\n",
              "        buttonEl.style.display =\n",
              "          google.colab.kernel.accessAllowed ? 'block' : 'none';\n",
              "\n",
              "        async function convertToInteractive(key) {\n",
              "          const element = document.querySelector('#df-5375dedd-d820-41b4-85bc-2ab5403cfe51');\n",
              "          const dataTable =\n",
              "            await google.colab.kernel.invokeFunction('convertToInteractive',\n",
              "                                                     [key], {});\n",
              "          if (!dataTable) return;\n",
              "\n",
              "          const docLinkHtml = 'Like what you see? Visit the ' +\n",
              "            '<a target=\"_blank\" href=https://colab.research.google.com/notebooks/data_table.ipynb>data table notebook</a>'\n",
              "            + ' to learn more about interactive tables.';\n",
              "          element.innerHTML = '';\n",
              "          dataTable['output_type'] = 'display_data';\n",
              "          await google.colab.output.renderOutput(dataTable, element);\n",
              "          const docLink = document.createElement('div');\n",
              "          docLink.innerHTML = docLinkHtml;\n",
              "          element.appendChild(docLink);\n",
              "        }\n",
              "      </script>\n",
              "    </div>\n",
              "  </div>\n",
              "  "
            ]
          },
          "metadata": {},
          "execution_count": 60
        }
      ]
    },
    {
      "cell_type": "markdown",
      "source": [
        "## Extraction from URL List\n",
        "\n",
        "Obtain sentences from URL list. Data preprocessing with regex to remove special characters, new lines and optionally further cleaning to remove stop words and short words. Additional pandas operations to generate dataframe of sentences split by date or any category."
      ],
      "metadata": {
        "id": "37lmkANTIXnI"
      }
    },
    {
      "cell_type": "code",
      "source": [
        "def GetSentences(url):\n",
        "\n",
        "    try:\n",
        "      article = Article(url)\n",
        "      article.download()\n",
        "      article.parse()\n",
        "    except:\n",
        "      pass\n",
        "    if article:\n",
        "      sentences = tokenize.sent_tokenize(article.text)\n",
        "      sentences = [re.sub(r'web','',sentence) for sentence in sentences]\n",
        "      sentences = [re.sub(r'[^A-Za-z0-9 ]+','',sentence) for sentence in sentences]\n",
        "      sentences = [re.sub('\\n ', '', sentence) for sentence in sentences]\n",
        "      sentences = [re.sub('\\n', ' ', sentence) for sentence in sentences]\n",
        "      sentences = [sentence for sentence in sentences if len(sentence) > 20]\n",
        "      duplicates = list(set([s for s in sentences if sentences.count(s) > 1]))\n",
        "      cleaned_sentences = list(set(sentences))\n",
        "      \n",
        "      return cleaned_sentences"
      ],
      "metadata": {
        "id": "z_mJ9GBTRDKx"
      },
      "execution_count": null,
      "outputs": []
    },
    {
      "cell_type": "markdown",
      "source": [
        "SentenceTransformer library to get a vector representation of the text and then compute its similarity to other sentences. Remove if \"similar\" past a threshold."
      ],
      "metadata": {
        "id": "sEQQtbwL1KIk"
      }
    },
    {
      "cell_type": "code",
      "source": [
        "def RemoveSimilarSentences(sentences, model, similarity_threshold):\n",
        "\n",
        "    new_sentences = sentences.copy()\n",
        "    embeddings = model.encode(new_sentences, show_progress_bar=False)\n",
        "    \n",
        "    # Compute cosine-similarities for each sentence with each other sentence\n",
        "    cosine_scores = util.pytorch_cos_sim(embeddings, embeddings)\n",
        "    # Find most similar pairs\n",
        "    pairs = []\n",
        "    for i in range(len(cosine_scores)-1):\n",
        "        for j in range(i+1, len(cosine_scores)):\n",
        "            pairs.append({'index': [i, j], 'score': cosine_scores[i][j]})\n",
        "    # Get similar pairs\n",
        "    similar = []\n",
        "    for pair in pairs:\n",
        "      if pair['score'] > similarity_threshold:\n",
        "        similar.append(pair['index'])\n",
        "    # Get indeces of similar pair\n",
        "    del_indices = []\n",
        "    for i in similar:\n",
        "      del_indices.append(min(i))\n",
        "    del_indices = set(del_indices)\n",
        "    # Delete similar sentences\n",
        "    try:\n",
        "      for i in del_indices:\n",
        "        del new_sentences[i]\n",
        "    except:\n",
        "      pass\n",
        "    return new_sentences"
      ],
      "metadata": {
        "id": "q_P2HGtmRD9-"
      },
      "execution_count": null,
      "outputs": []
    },
    {
      "cell_type": "code",
      "source": [
        "model = SentenceTransformer('paraphrase-MiniLM-L6-v2')\n",
        "threshold = 0.7"
      ],
      "metadata": {
        "id": "baCO5etQSwS-",
        "colab": {
          "base_uri": "https://localhost:8080/",
          "height": 401,
          "referenced_widgets": [
            "eadbb4c6914046bcb94040a6a7fd83b5",
            "0000ee3f9a0c4159b8a3d9ab76730ebc",
            "c5103375e2614c888144537dd3021539",
            "badd3064dca141c3a7a780e418598ded",
            "f7dc6d1337cc447b965b829bc0c6354f",
            "41557b4c8381402393fdb8ce620bb480",
            "fa75f2b21557439c84ebe73cd8c27171",
            "25b43297465842aa8ea96c8908f3399c",
            "a95eee8a39ed4f48818c31aead07d81a",
            "2f1fa58b372d4c3f94083253983f05e9",
            "5944b8d949524a1799c29991fcef8ca5",
            "d834db0d847b4d22a3e94db2df570498",
            "97797071992545e7a0ce4bed21e293ee",
            "49051b5435354fa5bcf0824e8df345ea",
            "f2d4641d654d468fa1552f7869b91517",
            "0ad0804c8f8f480ca0543f2f2b2c3b4c",
            "89140291fd564e4a885714cfad8320c2",
            "26e976f34eb04d4ca1ee16acefcc5a04",
            "4a0b793d795a4c17a2d8346bb9a1b0ab",
            "5f4621b640c84ee697020aa78ac5659a",
            "7708c339a09d4281bf540e069d72545c",
            "0e54fc012f4f4c3791343a11969ec94b",
            "cc1d3fc9b0c54e809e6dba6ce4fe0f87",
            "de7539be1edd4544b8ab45324dd8d203",
            "1a7eded8ef3d4edca8d16b1c7bead676",
            "26e421a5723b4f55b57622ca98fca8f6",
            "699da9d727f14fd3bd4384796cc070c0",
            "c5880996f60f41b881e9e82bf8473b86",
            "051a850913844c218d410d11375aca26",
            "3b71d004c1c04e83acad463c4cf873e5",
            "095d162ec30a4ffaab457c52edf32891",
            "cad160956a824cc7a30ea845fc20f447",
            "0901861067824831869e374e2c119e07",
            "84ef15814191441c99be146002602012",
            "a1f95eaaad134f2b818d9aa6cc9a228f",
            "bcac693090694b4ea14d35ed9adfe136",
            "0d9cea0bcc7e40daaf650441a6b33498",
            "9661b0f74fef44a2ba266cbcbdd68cf0",
            "f1e0b0b66041422c8807015197d1f9c3",
            "c0733f6db34448ca89f2f9a9a8ffbe4b",
            "28123e75bcc547c588c4520861be2a51",
            "554bd4de12c84902b12f1005c4e0e099",
            "5467b1f863574a2395b1c51e1734ae18",
            "50397b296f5447f08d9b26a75ebcb5f8",
            "ae6e4c376481494b91a850b62f06d6e3",
            "3e8b974b6e664fc0b2e3f5996e32b39b",
            "5def044173b54096a914e27bd5683bb4",
            "0dfa186aefe149f49badad02a5d349ad",
            "7a3876719e574e359b65e9a1be9ed909",
            "5f16110d4fe7410da3c868e90ad3a089",
            "4bd5632834664d588459f0f2a9ba2364",
            "d27addffeb6c4f8f9a5edc366bff2a3e",
            "827d3db03f5642239d6a39b9e3ddb0f1",
            "d6b393d020304bcea8300364424b0422",
            "8dfb365650d64a5e94ff76025315f518",
            "831e8ead385047b094a9e0f2d5d1d72d",
            "1b9944af025f49539ee7679ea8d3aae7",
            "f84a340d798b4ee281f5653b6931e382",
            "d356f19f47974869bc02d26098d31732",
            "b6a1593684b44934a5feec26e3baa6b7",
            "6079da8faccc4093affb0623251d085f",
            "155cfdbec560403788f933aa4f4b2678",
            "86073a692ad247588c7648d032d3be22",
            "76c12bd93bf54d4b9dce97d07bb255cc",
            "4affd70bc39544d6a7519b1d403e2f1e",
            "1cc5037a5218458b99c169c3a2fa3f22",
            "6cead310cfe24c158db61c0614f388e5",
            "5149e8717e3c4230bc31a2830b717e64",
            "39e8cf4d74654c2090a061e53df4f90b",
            "e6193b67c0464a5289265474ab6d3cc5",
            "a3e19da08ff34152bc3946773f7f50aa",
            "8e6101c8947c4232b22d1bde68dbe473",
            "037ee689131849c78af2c3d70d4fa0f9",
            "c63b9b5f16fa47b59f8948b3c2f6184f",
            "fa90d9af93584102887eb8b534bc7c14",
            "7a8c4050f099457f96987ad14f31e908",
            "32b90153040c4eb4a3bf69630cd157d3",
            "bdb01ef164a246d1824440680ff752ee",
            "46363fa4939241499c9ddf60e89877fe",
            "391f866ccdc34dec97b8ddeb3bab710a",
            "4c066d6c77bc435e97c19c539b98463e",
            "377aa4f58e50400c833aa8a4c14a9ab2",
            "58ffa7aa037b44d68073e25ed97edcef",
            "9df2bc0a2bed4fadb05f415da6b70111",
            "3aea7bdcfca6471797ce5c2009306180",
            "337fdb68a28b41a2a50d8df1544b6063",
            "f554c8e91a734e549532db2aac0f23bb",
            "827424148bf34098a002c66ec79f9cab",
            "bca8b333c14647c38c7e99132e93dfd7",
            "211e16d3212d47f1b119e7687af89706",
            "c2172684dd0948ebaeefb1dedf64e02c",
            "31a5d50214904771880889f5746f5939",
            "7505e9fbbe4243a18da5c3e6aa819e59",
            "d12b5803463b4f9ba94b55c6446f6203",
            "92267fa8933f490c8bd63cc27eb802b4",
            "b2c8a7fb9b174a67ae5efd2a4cf84761",
            "4b01395bc50d4d17b6729b096f2207a4",
            "94f72c0a51e94764a9fda4655e78c130",
            "ec0163036f9a47a4a8e3c8fba60e1619",
            "e8d52c9d90e7488eb53480e363fdf455",
            "a0e5963a9db54e5b868b32bd1669d859",
            "fa73f4d3a0b340659ddd80489b82fe7a",
            "36da02159fb447cb841bb725d3cea01f",
            "16214ab177064588a09f9ac43647b868",
            "89e49fdab66c4435b9156cee9ff27741",
            "48efe2af40254044aae6f82f1d5d8879",
            "f6b278c306e247089893222094248cd3",
            "22a62738407a42a7b65444c38d19a815",
            "64d0c7cab05c460cbda677ed9adb643f",
            "ea4adb8f298841019afef1e5c814a32b",
            "e9214eceb8044315b012ee9773bde8d6",
            "975baa41bfe145f49aeb28a996f3e0ca",
            "61acb2b5f82d45e195620def2def7b31",
            "c23c2a8197c6458cb3e04b18f3b795e7",
            "cc14a33598de41fa83091a59fa238640",
            "3f982cd63a444c7aa9abf12af7c11876",
            "721ad8363cd846799114f38b98a3b994",
            "f3004576e01d43eb92a4347747fd227e",
            "744f3e82d14444f5b333fa0d52d723e9",
            "355fef3a0dc84cef8b603e26c969b8e4",
            "4a2c8f8054ee45648bea5a2ff44955fb",
            "a32cdc51835843d2a59d7369c7293067",
            "59401e3541684527b8108362b7e87c9b",
            "52fbc3c576e141c78ae24041a0798a28",
            "dd63b9740b5e40dd9ea836169ead6bff",
            "b91ba44381af49048a707e865e8a01bb",
            "cd1a7175834c4d0999edd8006ef56ed1",
            "c2e31b1572c1405995f99c0e833c949d",
            "ee8532721df343e3b7e67b3fb8497836",
            "d8f5bae2a39647b7b08426058dccdfee",
            "7b9ea96c21064417be68af3e56a95731",
            "fd65663ea32e4eac888e8ebb0db1d047"
          ]
        },
        "outputId": "5450ac52-18ad-4938-8ca1-d1bf803c9db3"
      },
      "execution_count": null,
      "outputs": [
        {
          "output_type": "display_data",
          "data": {
            "text/plain": [
              "Downloading:   0%|          | 0.00/690 [00:00<?, ?B/s]"
            ],
            "application/vnd.jupyter.widget-view+json": {
              "version_major": 2,
              "version_minor": 0,
              "model_id": "eadbb4c6914046bcb94040a6a7fd83b5"
            }
          },
          "metadata": {}
        },
        {
          "output_type": "display_data",
          "data": {
            "text/plain": [
              "Downloading:   0%|          | 0.00/3.69k [00:00<?, ?B/s]"
            ],
            "application/vnd.jupyter.widget-view+json": {
              "version_major": 2,
              "version_minor": 0,
              "model_id": "d834db0d847b4d22a3e94db2df570498"
            }
          },
          "metadata": {}
        },
        {
          "output_type": "display_data",
          "data": {
            "text/plain": [
              "Downloading:   0%|          | 0.00/629 [00:00<?, ?B/s]"
            ],
            "application/vnd.jupyter.widget-view+json": {
              "version_major": 2,
              "version_minor": 0,
              "model_id": "cc1d3fc9b0c54e809e6dba6ce4fe0f87"
            }
          },
          "metadata": {}
        },
        {
          "output_type": "display_data",
          "data": {
            "text/plain": [
              "Downloading:   0%|          | 0.00/122 [00:00<?, ?B/s]"
            ],
            "application/vnd.jupyter.widget-view+json": {
              "version_major": 2,
              "version_minor": 0,
              "model_id": "84ef15814191441c99be146002602012"
            }
          },
          "metadata": {}
        },
        {
          "output_type": "display_data",
          "data": {
            "text/plain": [
              "Downloading:   0%|          | 0.00/229 [00:00<?, ?B/s]"
            ],
            "application/vnd.jupyter.widget-view+json": {
              "version_major": 2,
              "version_minor": 0,
              "model_id": "ae6e4c376481494b91a850b62f06d6e3"
            }
          },
          "metadata": {}
        },
        {
          "output_type": "display_data",
          "data": {
            "text/plain": [
              "Downloading:   0%|          | 0.00/90.9M [00:00<?, ?B/s]"
            ],
            "application/vnd.jupyter.widget-view+json": {
              "version_major": 2,
              "version_minor": 0,
              "model_id": "831e8ead385047b094a9e0f2d5d1d72d"
            }
          },
          "metadata": {}
        },
        {
          "output_type": "display_data",
          "data": {
            "text/plain": [
              "Downloading:   0%|          | 0.00/53.0 [00:00<?, ?B/s]"
            ],
            "application/vnd.jupyter.widget-view+json": {
              "version_major": 2,
              "version_minor": 0,
              "model_id": "6cead310cfe24c158db61c0614f388e5"
            }
          },
          "metadata": {}
        },
        {
          "output_type": "display_data",
          "data": {
            "text/plain": [
              "Downloading:   0%|          | 0.00/112 [00:00<?, ?B/s]"
            ],
            "application/vnd.jupyter.widget-view+json": {
              "version_major": 2,
              "version_minor": 0,
              "model_id": "bdb01ef164a246d1824440680ff752ee"
            }
          },
          "metadata": {}
        },
        {
          "output_type": "display_data",
          "data": {
            "text/plain": [
              "Downloading:   0%|          | 0.00/466k [00:00<?, ?B/s]"
            ],
            "application/vnd.jupyter.widget-view+json": {
              "version_major": 2,
              "version_minor": 0,
              "model_id": "bca8b333c14647c38c7e99132e93dfd7"
            }
          },
          "metadata": {}
        },
        {
          "output_type": "display_data",
          "data": {
            "text/plain": [
              "Downloading:   0%|          | 0.00/314 [00:00<?, ?B/s]"
            ],
            "application/vnd.jupyter.widget-view+json": {
              "version_major": 2,
              "version_minor": 0,
              "model_id": "e8d52c9d90e7488eb53480e363fdf455"
            }
          },
          "metadata": {}
        },
        {
          "output_type": "display_data",
          "data": {
            "text/plain": [
              "Downloading:   0%|          | 0.00/232k [00:00<?, ?B/s]"
            ],
            "application/vnd.jupyter.widget-view+json": {
              "version_major": 2,
              "version_minor": 0,
              "model_id": "e9214eceb8044315b012ee9773bde8d6"
            }
          },
          "metadata": {}
        },
        {
          "output_type": "display_data",
          "data": {
            "text/plain": [
              "Downloading:   0%|          | 0.00/190 [00:00<?, ?B/s]"
            ],
            "application/vnd.jupyter.widget-view+json": {
              "version_major": 2,
              "version_minor": 0,
              "model_id": "a32cdc51835843d2a59d7369c7293067"
            }
          },
          "metadata": {}
        }
      ]
    },
    {
      "cell_type": "code",
      "source": [
        "def GetDocuments(dataframe):\n",
        "\n",
        "    documents = []\n",
        "    sent_dict = {}\n",
        "    dataframe = dataframe.reset_index()\n",
        "    for i in range(len(dataframe)):\n",
        "        sentences = GetSentences(dataframe.loc[i,'URL'])\n",
        "        new_sentences = RemoveSimilarSentences(sentences, model, .65)\n",
        "        sent_dict[dataframe.loc[i,'Date']] = new_sentences\n",
        "        documents.append(new_sentences)\n",
        "\n",
        "    flat_list = [i for sub_list in documents for i in sub_list]\n",
        "\n",
        "    return flat_list, sent_dict"
      ],
      "metadata": {
        "id": "--X3fg6KRMet"
      },
      "execution_count": null,
      "outputs": []
    },
    {
      "cell_type": "markdown",
      "source": [
        "With the functions defined, we create lists and dataframes of news articles and articles from main search function on any particular topic. Dataframe by article or date is useful to analyse themes, sentiment and keywords by those categories and the overall list provides a more holistic set of data on this search query to analyse."
      ],
      "metadata": {
        "id": "LVjfyWvK5BHq"
      }
    },
    {
      "cell_type": "code",
      "source": [
        "news_data = news_data.reset_index()\n",
        "sent_list, news_data_dict = GetDocuments(news_data)\n",
        "print('total number of sentences:', len(sent_list))\n",
        "news_df = pd.DataFrame(news_data_dict.items(), columns=['Date', 'Sent'])"
      ],
      "metadata": {
        "colab": {
          "base_uri": "https://localhost:8080/"
        },
        "id": "H9f4cFMtTDna",
        "outputId": "2fb04997-8d20-4d1b-9f70-218135dd989c"
      },
      "execution_count": null,
      "outputs": [
        {
          "output_type": "stream",
          "name": "stdout",
          "text": [
            "total number of sentences: 335\n"
          ]
        }
      ]
    },
    {
      "cell_type": "code",
      "source": [
        "gen_data['Date'] = np.arange(len(gen_data))\n",
        "gen_sent_list, gen_data_dict = GetDocuments(gen_data)\n",
        "print('total number of sentences:', len(gen_sent_list))\n",
        "gen_df = pd.DataFrame(gen_data_dict.items(), columns=['Date', 'Sent'])"
      ],
      "metadata": {
        "colab": {
          "base_uri": "https://localhost:8080/"
        },
        "id": "9Uz8JFG53A9J",
        "outputId": "39b91003-e19c-4e51-f890-c328da86778f"
      },
      "execution_count": null,
      "outputs": [
        {
          "output_type": "stream",
          "name": "stdout",
          "text": [
            "total number of sentences: 1963\n"
          ]
        }
      ]
    },
    {
      "cell_type": "code",
      "source": [
        "gen_df.head(10)"
      ],
      "metadata": {
        "colab": {
          "base_uri": "https://localhost:8080/",
          "height": 362
        },
        "id": "RqsjPXpJ46Ll",
        "outputId": "8fbd9cf7-3cde-41d1-ee85-26fa43885756"
      },
      "execution_count": null,
      "outputs": [
        {
          "output_type": "execute_result",
          "data": {
            "text/plain": [
              "   Date                                               Sent\n",
              "0     0  [ Web  is generally considered to have begun a...\n",
              "1     1  [Edit box interface through which anyone could...\n",
              "2     2  [He also served as the Ethereum Foundations fi...\n",
              "3     3  [The Journal of Technology Transfer, Loughlin ...\n",
              "4     4  [Handling the risks presented by cryptoassets ...\n",
              "5     5  [It seems to know everything about us  our lik...\n",
              "6     6  [We fund research and development teams who ar...\n",
              "7     7  [Examples would include Status MetaMask or MyC...\n",
              "8     8  [Kusama is a scalable development network buil...\n",
              "9     9  [Grant recipients should not be considered par..."
            ],
            "text/html": [
              "\n",
              "  <div id=\"df-0f6d97b7-09a6-4a8a-8d17-3c247af2f311\">\n",
              "    <div class=\"colab-df-container\">\n",
              "      <div>\n",
              "<style scoped>\n",
              "    .dataframe tbody tr th:only-of-type {\n",
              "        vertical-align: middle;\n",
              "    }\n",
              "\n",
              "    .dataframe tbody tr th {\n",
              "        vertical-align: top;\n",
              "    }\n",
              "\n",
              "    .dataframe thead th {\n",
              "        text-align: right;\n",
              "    }\n",
              "</style>\n",
              "<table border=\"1\" class=\"dataframe\">\n",
              "  <thead>\n",
              "    <tr style=\"text-align: right;\">\n",
              "      <th></th>\n",
              "      <th>Date</th>\n",
              "      <th>Sent</th>\n",
              "    </tr>\n",
              "  </thead>\n",
              "  <tbody>\n",
              "    <tr>\n",
              "      <th>0</th>\n",
              "      <td>0</td>\n",
              "      <td>[ Web  is generally considered to have begun a...</td>\n",
              "    </tr>\n",
              "    <tr>\n",
              "      <th>1</th>\n",
              "      <td>1</td>\n",
              "      <td>[Edit box interface through which anyone could...</td>\n",
              "    </tr>\n",
              "    <tr>\n",
              "      <th>2</th>\n",
              "      <td>2</td>\n",
              "      <td>[He also served as the Ethereum Foundations fi...</td>\n",
              "    </tr>\n",
              "    <tr>\n",
              "      <th>3</th>\n",
              "      <td>3</td>\n",
              "      <td>[The Journal of Technology Transfer, Loughlin ...</td>\n",
              "    </tr>\n",
              "    <tr>\n",
              "      <th>4</th>\n",
              "      <td>4</td>\n",
              "      <td>[Handling the risks presented by cryptoassets ...</td>\n",
              "    </tr>\n",
              "    <tr>\n",
              "      <th>5</th>\n",
              "      <td>5</td>\n",
              "      <td>[It seems to know everything about us  our lik...</td>\n",
              "    </tr>\n",
              "    <tr>\n",
              "      <th>6</th>\n",
              "      <td>6</td>\n",
              "      <td>[We fund research and development teams who ar...</td>\n",
              "    </tr>\n",
              "    <tr>\n",
              "      <th>7</th>\n",
              "      <td>7</td>\n",
              "      <td>[Examples would include Status MetaMask or MyC...</td>\n",
              "    </tr>\n",
              "    <tr>\n",
              "      <th>8</th>\n",
              "      <td>8</td>\n",
              "      <td>[Kusama is a scalable development network buil...</td>\n",
              "    </tr>\n",
              "    <tr>\n",
              "      <th>9</th>\n",
              "      <td>9</td>\n",
              "      <td>[Grant recipients should not be considered par...</td>\n",
              "    </tr>\n",
              "  </tbody>\n",
              "</table>\n",
              "</div>\n",
              "      <button class=\"colab-df-convert\" onclick=\"convertToInteractive('df-0f6d97b7-09a6-4a8a-8d17-3c247af2f311')\"\n",
              "              title=\"Convert this dataframe to an interactive table.\"\n",
              "              style=\"display:none;\">\n",
              "        \n",
              "  <svg xmlns=\"http://www.w3.org/2000/svg\" height=\"24px\"viewBox=\"0 0 24 24\"\n",
              "       width=\"24px\">\n",
              "    <path d=\"M0 0h24v24H0V0z\" fill=\"none\"/>\n",
              "    <path d=\"M18.56 5.44l.94 2.06.94-2.06 2.06-.94-2.06-.94-.94-2.06-.94 2.06-2.06.94zm-11 1L8.5 8.5l.94-2.06 2.06-.94-2.06-.94L8.5 2.5l-.94 2.06-2.06.94zm10 10l.94 2.06.94-2.06 2.06-.94-2.06-.94-.94-2.06-.94 2.06-2.06.94z\"/><path d=\"M17.41 7.96l-1.37-1.37c-.4-.4-.92-.59-1.43-.59-.52 0-1.04.2-1.43.59L10.3 9.45l-7.72 7.72c-.78.78-.78 2.05 0 2.83L4 21.41c.39.39.9.59 1.41.59.51 0 1.02-.2 1.41-.59l7.78-7.78 2.81-2.81c.8-.78.8-2.07 0-2.86zM5.41 20L4 18.59l7.72-7.72 1.47 1.35L5.41 20z\"/>\n",
              "  </svg>\n",
              "      </button>\n",
              "      \n",
              "  <style>\n",
              "    .colab-df-container {\n",
              "      display:flex;\n",
              "      flex-wrap:wrap;\n",
              "      gap: 12px;\n",
              "    }\n",
              "\n",
              "    .colab-df-convert {\n",
              "      background-color: #E8F0FE;\n",
              "      border: none;\n",
              "      border-radius: 50%;\n",
              "      cursor: pointer;\n",
              "      display: none;\n",
              "      fill: #1967D2;\n",
              "      height: 32px;\n",
              "      padding: 0 0 0 0;\n",
              "      width: 32px;\n",
              "    }\n",
              "\n",
              "    .colab-df-convert:hover {\n",
              "      background-color: #E2EBFA;\n",
              "      box-shadow: 0px 1px 2px rgba(60, 64, 67, 0.3), 0px 1px 3px 1px rgba(60, 64, 67, 0.15);\n",
              "      fill: #174EA6;\n",
              "    }\n",
              "\n",
              "    [theme=dark] .colab-df-convert {\n",
              "      background-color: #3B4455;\n",
              "      fill: #D2E3FC;\n",
              "    }\n",
              "\n",
              "    [theme=dark] .colab-df-convert:hover {\n",
              "      background-color: #434B5C;\n",
              "      box-shadow: 0px 1px 3px 1px rgba(0, 0, 0, 0.15);\n",
              "      filter: drop-shadow(0px 1px 2px rgba(0, 0, 0, 0.3));\n",
              "      fill: #FFFFFF;\n",
              "    }\n",
              "  </style>\n",
              "\n",
              "      <script>\n",
              "        const buttonEl =\n",
              "          document.querySelector('#df-0f6d97b7-09a6-4a8a-8d17-3c247af2f311 button.colab-df-convert');\n",
              "        buttonEl.style.display =\n",
              "          google.colab.kernel.accessAllowed ? 'block' : 'none';\n",
              "\n",
              "        async function convertToInteractive(key) {\n",
              "          const element = document.querySelector('#df-0f6d97b7-09a6-4a8a-8d17-3c247af2f311');\n",
              "          const dataTable =\n",
              "            await google.colab.kernel.invokeFunction('convertToInteractive',\n",
              "                                                     [key], {});\n",
              "          if (!dataTable) return;\n",
              "\n",
              "          const docLinkHtml = 'Like what you see? Visit the ' +\n",
              "            '<a target=\"_blank\" href=https://colab.research.google.com/notebooks/data_table.ipynb>data table notebook</a>'\n",
              "            + ' to learn more about interactive tables.';\n",
              "          element.innerHTML = '';\n",
              "          dataTable['output_type'] = 'display_data';\n",
              "          await google.colab.output.renderOutput(dataTable, element);\n",
              "          const docLink = document.createElement('div');\n",
              "          docLink.innerHTML = docLinkHtml;\n",
              "          element.appendChild(docLink);\n",
              "        }\n",
              "      </script>\n",
              "    </div>\n",
              "  </div>\n",
              "  "
            ]
          },
          "metadata": {},
          "execution_count": 74
        }
      ]
    },
    {
      "cell_type": "markdown",
      "source": [
        "## Additional Text Cleaning\n",
        "\n",
        "As defined in other notebooks; need to consider the subsequent models employed. E.g. when trying to model topics or extractively summarise text based on grammatical structure or part-of-speech, it is important to preserve stop words, lemmatisation and stemming. Whereas if the model is, say, based on frequency of certain words or an abstrative summarisation tool, then we can preprocess the text further."
      ],
      "metadata": {
        "id": "--I6ciKWJOh8"
      }
    },
    {
      "cell_type": "code",
      "source": [
        "stopwords = nltk.corpus.stopwords.words('english')"
      ],
      "metadata": {
        "id": "Bzn3YnCxJYlP"
      },
      "execution_count": 45,
      "outputs": []
    },
    {
      "cell_type": "code",
      "source": [
        "def TextCleaner(text):\n",
        "    newString = text.lower()\n",
        "    tokens = [w for w in newString.split() if w not in stopwords]\n",
        "    long_words = []\n",
        "    prev_word = []\n",
        "    for i in tokens:\n",
        "        if i not in prev_word and len(i) >= 3:  # removing short word\n",
        "            long_words.append(i)\n",
        "            prev_word = [i]\n",
        "    return (\" \".join(long_words)).strip()"
      ],
      "metadata": {
        "id": "yRkGM3slJBbm"
      },
      "execution_count": null,
      "outputs": []
    },
    {
      "cell_type": "code",
      "source": [
        "sent_list_clean = [TextCleaner(sent) for sent in gen_sent_list]"
      ],
      "metadata": {
        "id": "1mi5vY-2JZ9n"
      },
      "execution_count": null,
      "outputs": []
    },
    {
      "cell_type": "code",
      "source": [
        "sent_list_clean[:10]"
      ],
      "metadata": {
        "colab": {
          "base_uri": "https://localhost:8080/"
        },
        "id": "MWP5G9G6Jipu",
        "outputId": "ae4bde45-d777-4e04-e0f1-6166b3537ea2"
      },
      "execution_count": null,
      "outputs": [
        {
          "output_type": "execute_result",
          "data": {
            "text/plain": [
              "['web generally considered begun around continues current day',\n",
              " 'technology scholars argued web3 would likely run tandem web sites web sites likely adopting web3 technologies order keep services relevant',\n",
              " 'decentralized finance defi another key concept users exchange currency without bank government involvement',\n",
              " 'november ceo jason citron tweeted screenshot suggesting discord might exploring integrating crypto wallets platform',\n",
              " 'spacex tesla ceo elon musk expressed skepticism web3 tweet saying web3 seems marketing buzzword reality right',\n",
              " 'others elon musk jack dorsey argued web3 currently serves buzzword',\n",
              " 'terminology edit web3 distinct tim bernerslees concept semantic web',\n",
              " 'reception edit technologists journalists described web3 possible solution concerns overcentralization web big tech companies',\n",
              " 'bernerslee described semantic web component web different term web3 crypto context',\n",
              " 'critics web3 see concept part cryptocurrency bubble extension blockchainbased trends see overhyped harmful particularly nfts']"
            ]
          },
          "metadata": {},
          "execution_count": 77
        }
      ]
    },
    {
      "cell_type": "code",
      "source": [
        "gen_df = gen_df.explode('Sent')"
      ],
      "metadata": {
        "id": "SV76CTUCaSxa"
      },
      "execution_count": null,
      "outputs": []
    },
    {
      "cell_type": "code",
      "source": [
        "gen_df = gen_df.dropna()"
      ],
      "metadata": {
        "id": "tkyE5ozYbvUF"
      },
      "execution_count": null,
      "outputs": []
    },
    {
      "cell_type": "code",
      "source": [
        "gen_df['Sent_clean'] = gen_df['Sent'].apply(lambda x : TextCleaner(x))"
      ],
      "metadata": {
        "id": "otCAwBd5XnEx"
      },
      "execution_count": null,
      "outputs": []
    },
    {
      "cell_type": "markdown",
      "source": [
        "**Save url list and sentence list.**"
      ],
      "metadata": {
        "id": "MoLlX6v_NPnq"
      }
    },
    {
      "cell_type": "code",
      "source": [
        "import pickle"
      ],
      "metadata": {
        "id": "fwRPw0UaMjHQ"
      },
      "execution_count": 5,
      "outputs": []
    },
    {
      "cell_type": "code",
      "source": [
        "save_path = \"/content/drive/My Drive/NewsData\""
      ],
      "metadata": {
        "id": "-YEPZOkZi_J_"
      },
      "execution_count": 4,
      "outputs": []
    },
    {
      "cell_type": "code",
      "source": [
        "with open(save_path+\"/27MarWeb3DF.pickle\", 'wb') as handle:\n",
        "    pickle.dump(gen_df, handle, protocol=pickle.HIGHEST_PROTOCOL)"
      ],
      "metadata": {
        "id": "Ppzubo5rMjbW"
      },
      "execution_count": null,
      "outputs": []
    },
    {
      "cell_type": "code",
      "source": [
        "with open(save_path+\"/10MarRussia_url.pickle\", 'wb') as handle:\n",
        "    pickle.dump(entries_list, handle, protocol=pickle.HIGHEST_PROTOCOL)"
      ],
      "metadata": {
        "id": "YDx7Lyi3MzC_"
      },
      "execution_count": null,
      "outputs": []
    },
    {
      "cell_type": "code",
      "source": [
        "with open(save_path+\"/27MarWeb3DF.pickle\", 'rb') as handle:\n",
        "    gen_df = pickle.load(handle)"
      ],
      "metadata": {
        "id": "zP8ZBIJNi24-"
      },
      "execution_count": 6,
      "outputs": []
    },
    {
      "cell_type": "markdown",
      "source": [
        "# Topic / Keyword Modelling\n",
        "\n",
        "Various techniques as explored in other notebooks and new ideas. A classical approach is through a statistical approach, based on word frequencies or consecutive words that appear several times. The following functions and tools will extract lists of words or phrases for each text in the series of text being considered. As seen in other notebooks, there are a variety of ways to build this but I have chosen to stick with the TF-IDF approach, for the intuitiveness of it and RAKE, due to experience on the accuracy as well as speed on larger sets of data."
      ],
      "metadata": {
        "id": "ALbb2lLjG3Fa"
      }
    },
    {
      "cell_type": "markdown",
      "source": [
        "## Statistical Approach - TF-IDF / RAKE\n",
        "\n",
        "**Term Frequency** – How frequently a term occurs in a text. It is measured as the number of times a term t appears in the text / Total number of words in the document\n",
        "\n",
        "**Inverse Document Frequency** – How important a word is in a document. It is measured as log(total number of sentences / Number of sentences with term t)\n",
        "\n",
        "**RAKE** stands for Rapid Automatic Keyword Extraction. The score of each keyword, which is also called keyphrase because it contains several words, is based on two elements: the frequency of the words and the sum of their co-occurrences. "
      ],
      "metadata": {
        "id": "kYvn3Vf9Mt6h"
      }
    },
    {
      "cell_type": "code",
      "source": [
        "gen_df2 = gen_df.drop(['Sent'], axis=1)"
      ],
      "metadata": {
        "id": "s8tz4FmjJiTj"
      },
      "execution_count": 34,
      "outputs": []
    },
    {
      "cell_type": "code",
      "source": [
        "gen_df2 = gen_df.groupby(['Date'])['Sent_clean'].transform(lambda x : '. '.join(x))"
      ],
      "metadata": {
        "id": "AgGSwfo3HNzy"
      },
      "execution_count": 35,
      "outputs": []
    },
    {
      "cell_type": "code",
      "source": [
        "gen_df2 = gen_df2.drop_duplicates()\n",
        "gen_df2 = gen_df2.dropna()"
      ],
      "metadata": {
        "id": "YGPnT7PVJ_Eg"
      },
      "execution_count": 36,
      "outputs": []
    },
    {
      "cell_type": "code",
      "source": [
        "gen_df2 = gen_df2.reset_index().drop(['index'], axis=1)"
      ],
      "metadata": {
        "id": "qf0wT9q7OmwH"
      },
      "execution_count": 37,
      "outputs": []
    },
    {
      "cell_type": "code",
      "source": [
        "gen_df2"
      ],
      "metadata": {
        "id": "EHnGU7bFrlRp"
      },
      "execution_count": null,
      "outputs": []
    },
    {
      "cell_type": "code",
      "source": [
        "from sklearn.feature_extraction.text import CountVectorizer\n",
        "from sklearn.feature_extraction.text import TfidfTransformer\n",
        "from sklearn.cluster import MiniBatchKMeans\n",
        "from sklearn.feature_extraction.text import TfidfVectorizer"
      ],
      "metadata": {
        "id": "cm8Xj0i8G-3J"
      },
      "execution_count": null,
      "outputs": []
    },
    {
      "cell_type": "code",
      "source": [
        "def SortCoo(coo_matrix):\n",
        "    tuples = zip(coo_matrix.col, coo_matrix.data)\n",
        "    return sorted(tuples, key=lambda x: (x[1], x[0]), reverse=True)"
      ],
      "metadata": {
        "id": "IyVMou8BG_JO"
      },
      "execution_count": null,
      "outputs": []
    },
    {
      "cell_type": "code",
      "source": [
        "def ExtractTopN(feature_names, sorted_items, topn=10):\n",
        "    sorted_items = sorted_items[:topn]\n",
        "    score_vals = []\n",
        "    feature_vals = []\n",
        "\n",
        "    for idx, score in sorted_items:\n",
        "        fname = feature_names[idx]\n",
        "        score_vals.append(round(score, 3))\n",
        "        feature_vals.append(feature_names[idx])\n",
        "\n",
        "    results = {}\n",
        "    for idx in range(len(feature_vals)):\n",
        "        results[feature_vals[idx]] = score_vals[idx]\n",
        "    return results"
      ],
      "metadata": {
        "id": "tPOmXrVyHAx_"
      },
      "execution_count": null,
      "outputs": []
    },
    {
      "cell_type": "code",
      "source": [
        "def GetKeywords(content_list):\n",
        "    keywords = []\n",
        "\n",
        "    vectorizer = CountVectorizer(max_df = 0.85)\n",
        "    sent_word_matrix = vectorizer.fit_transform(content_list)\n",
        "\n",
        "    tfidf_transformer = TfidfTransformer(smooth_idf=True,use_idf=True)\n",
        "    tfidf_transformer.fit(sent_word_matrix)\n",
        "    \n",
        "    feature_names = vectorizer.get_feature_names()\n",
        "\n",
        "    for i in range(len(content_list)):\n",
        "        doc = content_list[i]\n",
        "        tf_idf_vector = tfidf_transformer.transform(vectorizer.transform([doc]))\n",
        "        sorted_items = SortCoo(tf_idf_vector.tocoo())\n",
        "        keys = ExtractTopN(feature_names, sorted_items, 10)\n",
        "        keywords.append(list(keys.keys()))\n",
        "    \n",
        "    return keywords"
      ],
      "metadata": {
        "id": "QXYXz6D8HB96"
      },
      "execution_count": null,
      "outputs": []
    },
    {
      "cell_type": "code",
      "source": [
        "gen_df_subset = pd.concat([gen_df2, pd.Series(GetKeywords(gen_df2['Sent_clean'].tolist()))], axis = 1)"
      ],
      "metadata": {
        "id": "6GA_FF6JHE2R"
      },
      "execution_count": null,
      "outputs": []
    },
    {
      "cell_type": "code",
      "source": [
        "gen_df_subset = gen_df_subset.rename(columns={0: \"TF-IDF KeyWords\"})"
      ],
      "metadata": {
        "id": "wlggHjnKK0uX"
      },
      "execution_count": null,
      "outputs": []
    },
    {
      "cell_type": "code",
      "source": [
        "gen_df_subset.head(10)"
      ],
      "metadata": {
        "colab": {
          "base_uri": "https://localhost:8080/",
          "height": 362
        },
        "id": "DwL4Bz6uLjNB",
        "outputId": "bd961d44-3104-41fb-9786-6dba5c16d265"
      },
      "execution_count": null,
      "outputs": [
        {
          "output_type": "execute_result",
          "data": {
            "text/plain": [
              "                                          Sent_clean  \\\n",
              "0  web generally considered begun around continue...   \n",
              "1  edit box interface anyone could edit wikipedia...   \n",
              "2  also served ethereum foundations first chief t...   \n",
              "3  journal technology transfer loughlin michael m...   \n",
              "4  handling risks presented cryptoassets already ...   \n",
              "5  seems know everything likes dislikes friends s...   \n",
              "6  fund research development teams building found...   \n",
              "7  examples would include status metamask mycrypt...   \n",
              "8  kusama scalable development network built near...   \n",
              "9  grant recipients considered partners polkadot ...   \n",
              "\n",
              "                                     TF-IDF KeyWords  \n",
              "0  [web3, web, edit, concept, semantic, idea, des...  \n",
              "1  [web, content, sites, edit, social, usergenera...  \n",
              "2  [wood, ethereum, polkadot, founded, edit, comp...  \n",
              "3  [buzzwords, buzzword, edit, business, students...  \n",
              "4  [defi, interest, cryptocurrency, loans, assets...  \n",
              "5  [web3, internet, personal, ownership, site, co...  \n",
              "6  [teams, fund, research, foundation, developmen...  \n",
              "7  [developer, interact, user, userinterface, pro...  \n",
              "8  [codebase, innovate, scalable, nearly, kusama,...  \n",
              "9  [foundation, grants, software, steward, recipi...  "
            ],
            "text/html": [
              "\n",
              "  <div id=\"df-a180fb1c-1d78-45a4-b377-bafc5521b524\">\n",
              "    <div class=\"colab-df-container\">\n",
              "      <div>\n",
              "<style scoped>\n",
              "    .dataframe tbody tr th:only-of-type {\n",
              "        vertical-align: middle;\n",
              "    }\n",
              "\n",
              "    .dataframe tbody tr th {\n",
              "        vertical-align: top;\n",
              "    }\n",
              "\n",
              "    .dataframe thead th {\n",
              "        text-align: right;\n",
              "    }\n",
              "</style>\n",
              "<table border=\"1\" class=\"dataframe\">\n",
              "  <thead>\n",
              "    <tr style=\"text-align: right;\">\n",
              "      <th></th>\n",
              "      <th>Sent_clean</th>\n",
              "      <th>TF-IDF KeyWords</th>\n",
              "    </tr>\n",
              "  </thead>\n",
              "  <tbody>\n",
              "    <tr>\n",
              "      <th>0</th>\n",
              "      <td>web generally considered begun around continue...</td>\n",
              "      <td>[web3, web, edit, concept, semantic, idea, des...</td>\n",
              "    </tr>\n",
              "    <tr>\n",
              "      <th>1</th>\n",
              "      <td>edit box interface anyone could edit wikipedia...</td>\n",
              "      <td>[web, content, sites, edit, social, usergenera...</td>\n",
              "    </tr>\n",
              "    <tr>\n",
              "      <th>2</th>\n",
              "      <td>also served ethereum foundations first chief t...</td>\n",
              "      <td>[wood, ethereum, polkadot, founded, edit, comp...</td>\n",
              "    </tr>\n",
              "    <tr>\n",
              "      <th>3</th>\n",
              "      <td>journal technology transfer loughlin michael m...</td>\n",
              "      <td>[buzzwords, buzzword, edit, business, students...</td>\n",
              "    </tr>\n",
              "    <tr>\n",
              "      <th>4</th>\n",
              "      <td>handling risks presented cryptoassets already ...</td>\n",
              "      <td>[defi, interest, cryptocurrency, loans, assets...</td>\n",
              "    </tr>\n",
              "    <tr>\n",
              "      <th>5</th>\n",
              "      <td>seems know everything likes dislikes friends s...</td>\n",
              "      <td>[web3, internet, personal, ownership, site, co...</td>\n",
              "    </tr>\n",
              "    <tr>\n",
              "      <th>6</th>\n",
              "      <td>fund research development teams building found...</td>\n",
              "      <td>[teams, fund, research, foundation, developmen...</td>\n",
              "    </tr>\n",
              "    <tr>\n",
              "      <th>7</th>\n",
              "      <td>examples would include status metamask mycrypt...</td>\n",
              "      <td>[developer, interact, user, userinterface, pro...</td>\n",
              "    </tr>\n",
              "    <tr>\n",
              "      <th>8</th>\n",
              "      <td>kusama scalable development network built near...</td>\n",
              "      <td>[codebase, innovate, scalable, nearly, kusama,...</td>\n",
              "    </tr>\n",
              "    <tr>\n",
              "      <th>9</th>\n",
              "      <td>grant recipients considered partners polkadot ...</td>\n",
              "      <td>[foundation, grants, software, steward, recipi...</td>\n",
              "    </tr>\n",
              "  </tbody>\n",
              "</table>\n",
              "</div>\n",
              "      <button class=\"colab-df-convert\" onclick=\"convertToInteractive('df-a180fb1c-1d78-45a4-b377-bafc5521b524')\"\n",
              "              title=\"Convert this dataframe to an interactive table.\"\n",
              "              style=\"display:none;\">\n",
              "        \n",
              "  <svg xmlns=\"http://www.w3.org/2000/svg\" height=\"24px\"viewBox=\"0 0 24 24\"\n",
              "       width=\"24px\">\n",
              "    <path d=\"M0 0h24v24H0V0z\" fill=\"none\"/>\n",
              "    <path d=\"M18.56 5.44l.94 2.06.94-2.06 2.06-.94-2.06-.94-.94-2.06-.94 2.06-2.06.94zm-11 1L8.5 8.5l.94-2.06 2.06-.94-2.06-.94L8.5 2.5l-.94 2.06-2.06.94zm10 10l.94 2.06.94-2.06 2.06-.94-2.06-.94-.94-2.06-.94 2.06-2.06.94z\"/><path d=\"M17.41 7.96l-1.37-1.37c-.4-.4-.92-.59-1.43-.59-.52 0-1.04.2-1.43.59L10.3 9.45l-7.72 7.72c-.78.78-.78 2.05 0 2.83L4 21.41c.39.39.9.59 1.41.59.51 0 1.02-.2 1.41-.59l7.78-7.78 2.81-2.81c.8-.78.8-2.07 0-2.86zM5.41 20L4 18.59l7.72-7.72 1.47 1.35L5.41 20z\"/>\n",
              "  </svg>\n",
              "      </button>\n",
              "      \n",
              "  <style>\n",
              "    .colab-df-container {\n",
              "      display:flex;\n",
              "      flex-wrap:wrap;\n",
              "      gap: 12px;\n",
              "    }\n",
              "\n",
              "    .colab-df-convert {\n",
              "      background-color: #E8F0FE;\n",
              "      border: none;\n",
              "      border-radius: 50%;\n",
              "      cursor: pointer;\n",
              "      display: none;\n",
              "      fill: #1967D2;\n",
              "      height: 32px;\n",
              "      padding: 0 0 0 0;\n",
              "      width: 32px;\n",
              "    }\n",
              "\n",
              "    .colab-df-convert:hover {\n",
              "      background-color: #E2EBFA;\n",
              "      box-shadow: 0px 1px 2px rgba(60, 64, 67, 0.3), 0px 1px 3px 1px rgba(60, 64, 67, 0.15);\n",
              "      fill: #174EA6;\n",
              "    }\n",
              "\n",
              "    [theme=dark] .colab-df-convert {\n",
              "      background-color: #3B4455;\n",
              "      fill: #D2E3FC;\n",
              "    }\n",
              "\n",
              "    [theme=dark] .colab-df-convert:hover {\n",
              "      background-color: #434B5C;\n",
              "      box-shadow: 0px 1px 3px 1px rgba(0, 0, 0, 0.15);\n",
              "      filter: drop-shadow(0px 1px 2px rgba(0, 0, 0, 0.3));\n",
              "      fill: #FFFFFF;\n",
              "    }\n",
              "  </style>\n",
              "\n",
              "      <script>\n",
              "        const buttonEl =\n",
              "          document.querySelector('#df-a180fb1c-1d78-45a4-b377-bafc5521b524 button.colab-df-convert');\n",
              "        buttonEl.style.display =\n",
              "          google.colab.kernel.accessAllowed ? 'block' : 'none';\n",
              "\n",
              "        async function convertToInteractive(key) {\n",
              "          const element = document.querySelector('#df-a180fb1c-1d78-45a4-b377-bafc5521b524');\n",
              "          const dataTable =\n",
              "            await google.colab.kernel.invokeFunction('convertToInteractive',\n",
              "                                                     [key], {});\n",
              "          if (!dataTable) return;\n",
              "\n",
              "          const docLinkHtml = 'Like what you see? Visit the ' +\n",
              "            '<a target=\"_blank\" href=https://colab.research.google.com/notebooks/data_table.ipynb>data table notebook</a>'\n",
              "            + ' to learn more about interactive tables.';\n",
              "          element.innerHTML = '';\n",
              "          dataTable['output_type'] = 'display_data';\n",
              "          await google.colab.output.renderOutput(dataTable, element);\n",
              "          const docLink = document.createElement('div');\n",
              "          docLink.innerHTML = docLinkHtml;\n",
              "          element.appendChild(docLink);\n",
              "        }\n",
              "      </script>\n",
              "    </div>\n",
              "  </div>\n",
              "  "
            ]
          },
          "metadata": {},
          "execution_count": 140
        }
      ]
    },
    {
      "cell_type": "code",
      "source": [
        "gen_df_subset.drop(['Sent_clean'], axis=1)"
      ],
      "metadata": {
        "colab": {
          "base_uri": "https://localhost:8080/",
          "height": 1000
        },
        "id": "z3w77_f0L0fR",
        "outputId": "0bea1428-ad3b-44d4-a9e3-01fab2d44824"
      },
      "execution_count": null,
      "outputs": [
        {
          "output_type": "execute_result",
          "data": {
            "text/plain": [
              "                                      TF-IDF KeyWords\n",
              "0   [web3, web, edit, concept, semantic, idea, des...\n",
              "1   [web, content, sites, edit, social, usergenera...\n",
              "2   [wood, ethereum, polkadot, founded, edit, comp...\n",
              "3   [buzzwords, buzzword, edit, business, students...\n",
              "4   [defi, interest, cryptocurrency, loans, assets...\n",
              "5   [web3, internet, personal, ownership, site, co...\n",
              "6   [teams, fund, research, foundation, developmen...\n",
              "7   [developer, interact, user, userinterface, pro...\n",
              "8   [codebase, innovate, scalable, nearly, kusama,...\n",
              "9   [foundation, grants, software, steward, recipi...\n",
              "10  [alistair, polkadots, informatics, edinburgh, ...\n",
              "11  [web3, digital, privacy, adoption, decentraliz...\n",
              "12  [loading, cookies, cookie, blocking, supports,...\n",
              "13  [health, data, medical, healthcare, dna, peopl...\n",
              "14  [network, authority, central, web3, participan...\n",
              "15  [web3, crypto, could, helium, people, internet...\n",
              "16  [nft, think, opensea, people, distributed, ser...\n",
              "17  [documentation, web3js, providing, websocket, ...\n",
              "18  [people, web3, like, stuff, work, youve, heard...\n",
              "19  [said, web3, internet, tech, twitter, companie...\n",
              "20  [expectations, met, regulation, society, regul...\n",
              "21  [would, internet, web3, web, box, access, wood...\n",
              "22  [web3, web, intermediaries, protocols, custome...\n",
              "23  [gaming, digital, nfts, art, games, currently,...\n",
              "24  [data, p2p, layer, managed, stored, internet, ...\n",
              "25  [often, applications, many, web, apps, build, ...\n",
              "26  [shifting, focuses, talking, represents, web, ...\n",
              "27  [web3, futures, curious, therefore, things, fe...\n",
              "28  [marketing, business, growth, digital, quantif...\n",
              "29  [node, differences, provider, running, provide...\n",
              "30  [crypto, lot, daos, people, like, projects, pr...\n",
              "31  [define, opportunity, innovation, potential, e...\n",
              "32  [resolve, reactscripts, reactapprewired, requi...\n",
              "33  [web3, ethereum, choose, identity, internet, d...\n",
              "34  [web3storage, hoops, upload, jump, easytouse, ...\n",
              "35  [richer, microsoft, sure, blockchain, bitcoin,...\n",
              "36  [infinite, cost, scale, application, applicati...\n",
              "37  [phase, monetary, large, capturing, web2, web3...\n",
              "38  [project, live, web3, usd, supply, price, trad...\n",
              "39  [game, onchain, layer, buy, visionto, professi...\n",
              "40  [monday, hypetalks, discuss, azuki, returns, c...\n",
              "41  [web3, would, web, internet, even, could, like...\n",
              "42  [decentralization, corporate, andreesen, centr...\n",
              "43  [main, web3types, web3this, readme, installati...\n",
              "44  [layer, web3, applications, users, like, stack...\n",
              "45  [social, web3, good, distributed, impact, comm...\n",
              "46  [javascript, supported, browser, twittercom, d...\n",
              "47  [web3, tech, last, said, andreessen, engineers...\n",
              "48  [crypto, million, fund, earlystage, arm, start..."
            ],
            "text/html": [
              "\n",
              "  <div id=\"df-25a7af0c-3ebc-4ef9-90fa-b788ddf98493\">\n",
              "    <div class=\"colab-df-container\">\n",
              "      <div>\n",
              "<style scoped>\n",
              "    .dataframe tbody tr th:only-of-type {\n",
              "        vertical-align: middle;\n",
              "    }\n",
              "\n",
              "    .dataframe tbody tr th {\n",
              "        vertical-align: top;\n",
              "    }\n",
              "\n",
              "    .dataframe thead th {\n",
              "        text-align: right;\n",
              "    }\n",
              "</style>\n",
              "<table border=\"1\" class=\"dataframe\">\n",
              "  <thead>\n",
              "    <tr style=\"text-align: right;\">\n",
              "      <th></th>\n",
              "      <th>TF-IDF KeyWords</th>\n",
              "    </tr>\n",
              "  </thead>\n",
              "  <tbody>\n",
              "    <tr>\n",
              "      <th>0</th>\n",
              "      <td>[web3, web, edit, concept, semantic, idea, des...</td>\n",
              "    </tr>\n",
              "    <tr>\n",
              "      <th>1</th>\n",
              "      <td>[web, content, sites, edit, social, usergenera...</td>\n",
              "    </tr>\n",
              "    <tr>\n",
              "      <th>2</th>\n",
              "      <td>[wood, ethereum, polkadot, founded, edit, comp...</td>\n",
              "    </tr>\n",
              "    <tr>\n",
              "      <th>3</th>\n",
              "      <td>[buzzwords, buzzword, edit, business, students...</td>\n",
              "    </tr>\n",
              "    <tr>\n",
              "      <th>4</th>\n",
              "      <td>[defi, interest, cryptocurrency, loans, assets...</td>\n",
              "    </tr>\n",
              "    <tr>\n",
              "      <th>5</th>\n",
              "      <td>[web3, internet, personal, ownership, site, co...</td>\n",
              "    </tr>\n",
              "    <tr>\n",
              "      <th>6</th>\n",
              "      <td>[teams, fund, research, foundation, developmen...</td>\n",
              "    </tr>\n",
              "    <tr>\n",
              "      <th>7</th>\n",
              "      <td>[developer, interact, user, userinterface, pro...</td>\n",
              "    </tr>\n",
              "    <tr>\n",
              "      <th>8</th>\n",
              "      <td>[codebase, innovate, scalable, nearly, kusama,...</td>\n",
              "    </tr>\n",
              "    <tr>\n",
              "      <th>9</th>\n",
              "      <td>[foundation, grants, software, steward, recipi...</td>\n",
              "    </tr>\n",
              "    <tr>\n",
              "      <th>10</th>\n",
              "      <td>[alistair, polkadots, informatics, edinburgh, ...</td>\n",
              "    </tr>\n",
              "    <tr>\n",
              "      <th>11</th>\n",
              "      <td>[web3, digital, privacy, adoption, decentraliz...</td>\n",
              "    </tr>\n",
              "    <tr>\n",
              "      <th>12</th>\n",
              "      <td>[loading, cookies, cookie, blocking, supports,...</td>\n",
              "    </tr>\n",
              "    <tr>\n",
              "      <th>13</th>\n",
              "      <td>[health, data, medical, healthcare, dna, peopl...</td>\n",
              "    </tr>\n",
              "    <tr>\n",
              "      <th>14</th>\n",
              "      <td>[network, authority, central, web3, participan...</td>\n",
              "    </tr>\n",
              "    <tr>\n",
              "      <th>15</th>\n",
              "      <td>[web3, crypto, could, helium, people, internet...</td>\n",
              "    </tr>\n",
              "    <tr>\n",
              "      <th>16</th>\n",
              "      <td>[nft, think, opensea, people, distributed, ser...</td>\n",
              "    </tr>\n",
              "    <tr>\n",
              "      <th>17</th>\n",
              "      <td>[documentation, web3js, providing, websocket, ...</td>\n",
              "    </tr>\n",
              "    <tr>\n",
              "      <th>18</th>\n",
              "      <td>[people, web3, like, stuff, work, youve, heard...</td>\n",
              "    </tr>\n",
              "    <tr>\n",
              "      <th>19</th>\n",
              "      <td>[said, web3, internet, tech, twitter, companie...</td>\n",
              "    </tr>\n",
              "    <tr>\n",
              "      <th>20</th>\n",
              "      <td>[expectations, met, regulation, society, regul...</td>\n",
              "    </tr>\n",
              "    <tr>\n",
              "      <th>21</th>\n",
              "      <td>[would, internet, web3, web, box, access, wood...</td>\n",
              "    </tr>\n",
              "    <tr>\n",
              "      <th>22</th>\n",
              "      <td>[web3, web, intermediaries, protocols, custome...</td>\n",
              "    </tr>\n",
              "    <tr>\n",
              "      <th>23</th>\n",
              "      <td>[gaming, digital, nfts, art, games, currently,...</td>\n",
              "    </tr>\n",
              "    <tr>\n",
              "      <th>24</th>\n",
              "      <td>[data, p2p, layer, managed, stored, internet, ...</td>\n",
              "    </tr>\n",
              "    <tr>\n",
              "      <th>25</th>\n",
              "      <td>[often, applications, many, web, apps, build, ...</td>\n",
              "    </tr>\n",
              "    <tr>\n",
              "      <th>26</th>\n",
              "      <td>[shifting, focuses, talking, represents, web, ...</td>\n",
              "    </tr>\n",
              "    <tr>\n",
              "      <th>27</th>\n",
              "      <td>[web3, futures, curious, therefore, things, fe...</td>\n",
              "    </tr>\n",
              "    <tr>\n",
              "      <th>28</th>\n",
              "      <td>[marketing, business, growth, digital, quantif...</td>\n",
              "    </tr>\n",
              "    <tr>\n",
              "      <th>29</th>\n",
              "      <td>[node, differences, provider, running, provide...</td>\n",
              "    </tr>\n",
              "    <tr>\n",
              "      <th>30</th>\n",
              "      <td>[crypto, lot, daos, people, like, projects, pr...</td>\n",
              "    </tr>\n",
              "    <tr>\n",
              "      <th>31</th>\n",
              "      <td>[define, opportunity, innovation, potential, e...</td>\n",
              "    </tr>\n",
              "    <tr>\n",
              "      <th>32</th>\n",
              "      <td>[resolve, reactscripts, reactapprewired, requi...</td>\n",
              "    </tr>\n",
              "    <tr>\n",
              "      <th>33</th>\n",
              "      <td>[web3, ethereum, choose, identity, internet, d...</td>\n",
              "    </tr>\n",
              "    <tr>\n",
              "      <th>34</th>\n",
              "      <td>[web3storage, hoops, upload, jump, easytouse, ...</td>\n",
              "    </tr>\n",
              "    <tr>\n",
              "      <th>35</th>\n",
              "      <td>[richer, microsoft, sure, blockchain, bitcoin,...</td>\n",
              "    </tr>\n",
              "    <tr>\n",
              "      <th>36</th>\n",
              "      <td>[infinite, cost, scale, application, applicati...</td>\n",
              "    </tr>\n",
              "    <tr>\n",
              "      <th>37</th>\n",
              "      <td>[phase, monetary, large, capturing, web2, web3...</td>\n",
              "    </tr>\n",
              "    <tr>\n",
              "      <th>38</th>\n",
              "      <td>[project, live, web3, usd, supply, price, trad...</td>\n",
              "    </tr>\n",
              "    <tr>\n",
              "      <th>39</th>\n",
              "      <td>[game, onchain, layer, buy, visionto, professi...</td>\n",
              "    </tr>\n",
              "    <tr>\n",
              "      <th>40</th>\n",
              "      <td>[monday, hypetalks, discuss, azuki, returns, c...</td>\n",
              "    </tr>\n",
              "    <tr>\n",
              "      <th>41</th>\n",
              "      <td>[web3, would, web, internet, even, could, like...</td>\n",
              "    </tr>\n",
              "    <tr>\n",
              "      <th>42</th>\n",
              "      <td>[decentralization, corporate, andreesen, centr...</td>\n",
              "    </tr>\n",
              "    <tr>\n",
              "      <th>43</th>\n",
              "      <td>[main, web3types, web3this, readme, installati...</td>\n",
              "    </tr>\n",
              "    <tr>\n",
              "      <th>44</th>\n",
              "      <td>[layer, web3, applications, users, like, stack...</td>\n",
              "    </tr>\n",
              "    <tr>\n",
              "      <th>45</th>\n",
              "      <td>[social, web3, good, distributed, impact, comm...</td>\n",
              "    </tr>\n",
              "    <tr>\n",
              "      <th>46</th>\n",
              "      <td>[javascript, supported, browser, twittercom, d...</td>\n",
              "    </tr>\n",
              "    <tr>\n",
              "      <th>47</th>\n",
              "      <td>[web3, tech, last, said, andreessen, engineers...</td>\n",
              "    </tr>\n",
              "    <tr>\n",
              "      <th>48</th>\n",
              "      <td>[crypto, million, fund, earlystage, arm, start...</td>\n",
              "    </tr>\n",
              "  </tbody>\n",
              "</table>\n",
              "</div>\n",
              "      <button class=\"colab-df-convert\" onclick=\"convertToInteractive('df-25a7af0c-3ebc-4ef9-90fa-b788ddf98493')\"\n",
              "              title=\"Convert this dataframe to an interactive table.\"\n",
              "              style=\"display:none;\">\n",
              "        \n",
              "  <svg xmlns=\"http://www.w3.org/2000/svg\" height=\"24px\"viewBox=\"0 0 24 24\"\n",
              "       width=\"24px\">\n",
              "    <path d=\"M0 0h24v24H0V0z\" fill=\"none\"/>\n",
              "    <path d=\"M18.56 5.44l.94 2.06.94-2.06 2.06-.94-2.06-.94-.94-2.06-.94 2.06-2.06.94zm-11 1L8.5 8.5l.94-2.06 2.06-.94-2.06-.94L8.5 2.5l-.94 2.06-2.06.94zm10 10l.94 2.06.94-2.06 2.06-.94-2.06-.94-.94-2.06-.94 2.06-2.06.94z\"/><path d=\"M17.41 7.96l-1.37-1.37c-.4-.4-.92-.59-1.43-.59-.52 0-1.04.2-1.43.59L10.3 9.45l-7.72 7.72c-.78.78-.78 2.05 0 2.83L4 21.41c.39.39.9.59 1.41.59.51 0 1.02-.2 1.41-.59l7.78-7.78 2.81-2.81c.8-.78.8-2.07 0-2.86zM5.41 20L4 18.59l7.72-7.72 1.47 1.35L5.41 20z\"/>\n",
              "  </svg>\n",
              "      </button>\n",
              "      \n",
              "  <style>\n",
              "    .colab-df-container {\n",
              "      display:flex;\n",
              "      flex-wrap:wrap;\n",
              "      gap: 12px;\n",
              "    }\n",
              "\n",
              "    .colab-df-convert {\n",
              "      background-color: #E8F0FE;\n",
              "      border: none;\n",
              "      border-radius: 50%;\n",
              "      cursor: pointer;\n",
              "      display: none;\n",
              "      fill: #1967D2;\n",
              "      height: 32px;\n",
              "      padding: 0 0 0 0;\n",
              "      width: 32px;\n",
              "    }\n",
              "\n",
              "    .colab-df-convert:hover {\n",
              "      background-color: #E2EBFA;\n",
              "      box-shadow: 0px 1px 2px rgba(60, 64, 67, 0.3), 0px 1px 3px 1px rgba(60, 64, 67, 0.15);\n",
              "      fill: #174EA6;\n",
              "    }\n",
              "\n",
              "    [theme=dark] .colab-df-convert {\n",
              "      background-color: #3B4455;\n",
              "      fill: #D2E3FC;\n",
              "    }\n",
              "\n",
              "    [theme=dark] .colab-df-convert:hover {\n",
              "      background-color: #434B5C;\n",
              "      box-shadow: 0px 1px 3px 1px rgba(0, 0, 0, 0.15);\n",
              "      filter: drop-shadow(0px 1px 2px rgba(0, 0, 0, 0.3));\n",
              "      fill: #FFFFFF;\n",
              "    }\n",
              "  </style>\n",
              "\n",
              "      <script>\n",
              "        const buttonEl =\n",
              "          document.querySelector('#df-25a7af0c-3ebc-4ef9-90fa-b788ddf98493 button.colab-df-convert');\n",
              "        buttonEl.style.display =\n",
              "          google.colab.kernel.accessAllowed ? 'block' : 'none';\n",
              "\n",
              "        async function convertToInteractive(key) {\n",
              "          const element = document.querySelector('#df-25a7af0c-3ebc-4ef9-90fa-b788ddf98493');\n",
              "          const dataTable =\n",
              "            await google.colab.kernel.invokeFunction('convertToInteractive',\n",
              "                                                     [key], {});\n",
              "          if (!dataTable) return;\n",
              "\n",
              "          const docLinkHtml = 'Like what you see? Visit the ' +\n",
              "            '<a target=\"_blank\" href=https://colab.research.google.com/notebooks/data_table.ipynb>data table notebook</a>'\n",
              "            + ' to learn more about interactive tables.';\n",
              "          element.innerHTML = '';\n",
              "          dataTable['output_type'] = 'display_data';\n",
              "          await google.colab.output.renderOutput(dataTable, element);\n",
              "          const docLink = document.createElement('div');\n",
              "          docLink.innerHTML = docLinkHtml;\n",
              "          element.appendChild(docLink);\n",
              "        }\n",
              "      </script>\n",
              "    </div>\n",
              "  </div>\n",
              "  "
            ]
          },
          "metadata": {},
          "execution_count": 141
        }
      ]
    },
    {
      "cell_type": "code",
      "source": [
        "!pip install rake_nltk"
      ],
      "metadata": {
        "id": "5H4t0WP6NfC0"
      },
      "execution_count": null,
      "outputs": []
    },
    {
      "cell_type": "code",
      "source": [
        "from rake_nltk import Rake\n",
        "rake_nltk_var = Rake()"
      ],
      "metadata": {
        "id": "maAp6LkzNfhV"
      },
      "execution_count": null,
      "outputs": []
    },
    {
      "cell_type": "code",
      "source": [
        "def Rake(text):\n",
        "    rake_nltk_var.extract_keywords_from_text(text)\n",
        "    keyword_extracted = rake_nltk_var.get_ranked_phrases()\n",
        "    return keyword_extracted"
      ],
      "metadata": {
        "id": "TBLvlfEaNhl4"
      },
      "execution_count": null,
      "outputs": []
    },
    {
      "cell_type": "code",
      "source": [
        "gen_df_subset['Rake_keywords'] = gen_df_subset['Sent_clean'].apply(lambda x : Rake(x))"
      ],
      "metadata": {
        "id": "aeBv-LMTNjiN"
      },
      "execution_count": null,
      "outputs": []
    },
    {
      "cell_type": "code",
      "source": [
        "gen_df_subset.drop(['Sent_clean'], axis=1)"
      ],
      "metadata": {
        "id": "9NfwIeiFQ8qX"
      },
      "execution_count": null,
      "outputs": []
    },
    {
      "cell_type": "markdown",
      "source": [
        "Word **tokenization** with BertTokenizer for list of sentences and apply classical machine learning algorithms, such as XGBoost or Random Forest, against a classifier or unsupervised learning."
      ],
      "metadata": {
        "id": "kn3X9S6oMO-K"
      }
    },
    {
      "cell_type": "code",
      "source": [
        "import torch\n",
        "from transformers import BertTokenizer, BertModel\n",
        "tokenizer = BertTokenizer.from_pretrained('bert-base-cased')\n",
        "print(max([len(i.split()) for i in sent_list_clean]))"
      ],
      "metadata": {
        "id": "C7MmG0iJG26X"
      },
      "execution_count": null,
      "outputs": []
    },
    {
      "cell_type": "code",
      "source": [
        "tokens = []\n",
        "for sent in sent_list_clean:\n",
        "    sent_encoded = tokenizer.encode_plus(text=sent,\n",
        "                                         pad_to_max_length=True,\n",
        "                                         max_length='43',\n",
        "                                         return_attention_mask=True)\n",
        "    tokens.append(sent_encoded['input_ids'])"
      ],
      "metadata": {
        "id": "TjoLeKVyHDcL"
      },
      "execution_count": null,
      "outputs": []
    },
    {
      "cell_type": "code",
      "source": [
        "from sklearn.datasets import make_classification\n",
        "from sklearn.cluster import KMeans\n",
        "from numpy import unique\n",
        "from sklearn.model_selection import RandomizedSearchCV, GridSearchCV\n",
        "from sklearn.model_selection import RepeatedStratifiedKFold\n",
        "from sklearn.model_selection import KFold\n",
        "from sklearn.model_selection import RepeatedKFold\n",
        "from sklearn.model_selection import cross_val_score"
      ],
      "metadata": {
        "id": "5XbfAJrWm6Ve"
      },
      "execution_count": null,
      "outputs": []
    },
    {
      "cell_type": "code",
      "source": [
        "# Simple K-means clustering\n",
        "model = KMeans(n_clusters=10)\n",
        "model.fit(np.array(tokens))\n",
        "\n",
        "# XGBoost Classifer\n",
        "param_grid = {'xgb__n_estimators': np.arange(10,310,30),\n",
        "              'xgb__learning_rate': [0.1,0.15,0.2,0.3,0.4],\n",
        "              'xgb__max_depth': [2,4,8,10,12],\n",
        "              'xgb__colsample_bytree': [0.2,0.3,0.4],\n",
        "              }\n",
        "pipe = Pipeline([('xgb', xgb.XGBClassifer())])\n",
        "xgb_model = RandomizedSearchCV(pipe, param_grid, cv=StratifiedKFold(N_splits=3), n_iter=200, verbose=2,\n",
        "                               n_jobs=-1, scoring='roc_auc')\n",
        "xgb_model.fit(X_tr, y_tr)"
      ],
      "metadata": {
        "id": "voolw2zCcNQS"
      },
      "execution_count": null,
      "outputs": []
    },
    {
      "cell_type": "markdown",
      "source": [
        "## Graph Approach - TextRank\n",
        "\n",
        "TextRank algorithm is based on the same principles as the PageRank algorithm. However, instead of building a graph with pages and links, we will build a graph with words. Each word will be linked with other words according to their co-occurrence."
      ],
      "metadata": {
        "id": "dzmicsBR4hDX"
      }
    },
    {
      "cell_type": "markdown",
      "source": [
        "## BERTopic Modelling\n",
        "\n",
        "BERTopic is a topic modeling technique that leverages transformers and c-TF-IDF to create dense clusters allowing for easily interpretable topics whilst keeping important words in the topic descriptions.\n",
        "\n",
        "*   n_gram_range represents the minimum and the maximum number of words you want in the topic.\n",
        "\n",
        "*   min_topic_size is the minimum number of sentences per topic.\n",
        "\n",
        "*   nr_topics is the number of topics."
      ],
      "metadata": {
        "id": "V2p3MqqwReeu"
      }
    },
    {
      "cell_type": "code",
      "source": [
        "model = BERTopic(n_gram_range=(1,3), \n",
        "                 min_topic_size=10,\n",
        "                 nr_topics='auto')"
      ],
      "metadata": {
        "id": "iPJ3L5XbRUNd"
      },
      "execution_count": null,
      "outputs": []
    },
    {
      "cell_type": "code",
      "source": [
        "topics, probabilities = model.fit_transform(sent_list_clean)"
      ],
      "metadata": {
        "id": "uFbmL5BYRawp"
      },
      "execution_count": null,
      "outputs": []
    },
    {
      "cell_type": "code",
      "source": [
        "model.get_topic_freq()"
      ],
      "metadata": {
        "id": "80AX3ElkTMA_"
      },
      "execution_count": null,
      "outputs": []
    },
    {
      "cell_type": "code",
      "source": [
        "model.get_topics()"
      ],
      "metadata": {
        "id": "hVLYnPLBTMUh"
      },
      "execution_count": null,
      "outputs": []
    },
    {
      "cell_type": "code",
      "source": [
        "model.visualize_topics()"
      ],
      "metadata": {
        "colab": {
          "base_uri": "https://localhost:8080/",
          "height": 666
        },
        "id": "13sVctbFRfEE",
        "outputId": "06ccea6f-e6fa-452f-e86f-10f02f648e78"
      },
      "execution_count": null,
      "outputs": [
        {
          "output_type": "display_data",
          "data": {
            "text/html": [
              "<html>\n",
              "<head><meta charset=\"utf-8\" /></head>\n",
              "<body>\n",
              "    <div>            <script src=\"https://cdnjs.cloudflare.com/ajax/libs/mathjax/2.7.5/MathJax.js?config=TeX-AMS-MML_SVG\"></script><script type=\"text/javascript\">if (window.MathJax) {MathJax.Hub.Config({SVG: {font: \"STIX-Web\"}});}</script>                <script type=\"text/javascript\">window.PlotlyConfig = {MathJaxConfig: 'local'};</script>\n",
              "        <script src=\"https://cdn.plot.ly/plotly-2.8.3.min.js\"></script>                <div id=\"92ce3d71-9824-45a5-ba25-bf94462bcac7\" class=\"plotly-graph-div\" style=\"height:650px; width:650px;\"></div>            <script type=\"text/javascript\">                                    window.PLOTLYENV=window.PLOTLYENV || {};                                    if (document.getElementById(\"92ce3d71-9824-45a5-ba25-bf94462bcac7\")) {                    Plotly.newPlot(                        \"92ce3d71-9824-45a5-ba25-bf94462bcac7\",                        [{\"customdata\":[[0,\"russian | russia | ukraine | said | ukrainian\",359],[1,\"sanctions | financial | bank | currency | russia\",67],[2,\"barker | council | climate | said | party\",63],[3,\"athletes | ipc | paralympic | compete | ioc\",32],[4,\"refugees | poland | border | million | ukraine\",25],[5,\"samsung | samsung electronics | electronics | ukrainedao | love\",19],[6,\"associated press | associated | press | material may | copyright associated press\",14]],\"hovertemplate\":\"<b>Topic %{customdata[0]}</b><br>Words: %{customdata[1]}<br>Size: %{customdata[2]}\",\"legendgroup\":\"\",\"marker\":{\"color\":\"#B0BEC5\",\"size\":[359,67,63,32,25,19,14],\"sizemode\":\"area\",\"sizeref\":0.224375,\"symbol\":\"circle\",\"line\":{\"color\":\"DarkSlateGrey\",\"width\":2}},\"mode\":\"markers\",\"name\":\"\",\"orientation\":\"v\",\"showlegend\":false,\"x\":[2.6045334339141846,5.858074188232422,6.782277584075928,7.425780296325684,5.806437969207764,5.956254005432129,7.523351669311523],\"xaxis\":\"x\",\"y\":[9.772448539733887,7.796648979187012,7.8231987953186035,7.10237979888916,6.917100429534912,6.337141036987305,7.948367595672607],\"yaxis\":\"y\",\"type\":\"scatter\"}],                        {\"template\":{\"data\":{\"barpolar\":[{\"marker\":{\"line\":{\"color\":\"white\",\"width\":0.5},\"pattern\":{\"fillmode\":\"overlay\",\"size\":10,\"solidity\":0.2}},\"type\":\"barpolar\"}],\"bar\":[{\"error_x\":{\"color\":\"rgb(36,36,36)\"},\"error_y\":{\"color\":\"rgb(36,36,36)\"},\"marker\":{\"line\":{\"color\":\"white\",\"width\":0.5},\"pattern\":{\"fillmode\":\"overlay\",\"size\":10,\"solidity\":0.2}},\"type\":\"bar\"}],\"carpet\":[{\"aaxis\":{\"endlinecolor\":\"rgb(36,36,36)\",\"gridcolor\":\"white\",\"linecolor\":\"white\",\"minorgridcolor\":\"white\",\"startlinecolor\":\"rgb(36,36,36)\"},\"baxis\":{\"endlinecolor\":\"rgb(36,36,36)\",\"gridcolor\":\"white\",\"linecolor\":\"white\",\"minorgridcolor\":\"white\",\"startlinecolor\":\"rgb(36,36,36)\"},\"type\":\"carpet\"}],\"choropleth\":[{\"colorbar\":{\"outlinewidth\":1,\"tickcolor\":\"rgb(36,36,36)\",\"ticks\":\"outside\"},\"type\":\"choropleth\"}],\"contourcarpet\":[{\"colorbar\":{\"outlinewidth\":1,\"tickcolor\":\"rgb(36,36,36)\",\"ticks\":\"outside\"},\"type\":\"contourcarpet\"}],\"contour\":[{\"colorbar\":{\"outlinewidth\":1,\"tickcolor\":\"rgb(36,36,36)\",\"ticks\":\"outside\"},\"colorscale\":[[0.0,\"#440154\"],[0.1111111111111111,\"#482878\"],[0.2222222222222222,\"#3e4989\"],[0.3333333333333333,\"#31688e\"],[0.4444444444444444,\"#26828e\"],[0.5555555555555556,\"#1f9e89\"],[0.6666666666666666,\"#35b779\"],[0.7777777777777778,\"#6ece58\"],[0.8888888888888888,\"#b5de2b\"],[1.0,\"#fde725\"]],\"type\":\"contour\"}],\"heatmapgl\":[{\"colorbar\":{\"outlinewidth\":1,\"tickcolor\":\"rgb(36,36,36)\",\"ticks\":\"outside\"},\"colorscale\":[[0.0,\"#440154\"],[0.1111111111111111,\"#482878\"],[0.2222222222222222,\"#3e4989\"],[0.3333333333333333,\"#31688e\"],[0.4444444444444444,\"#26828e\"],[0.5555555555555556,\"#1f9e89\"],[0.6666666666666666,\"#35b779\"],[0.7777777777777778,\"#6ece58\"],[0.8888888888888888,\"#b5de2b\"],[1.0,\"#fde725\"]],\"type\":\"heatmapgl\"}],\"heatmap\":[{\"colorbar\":{\"outlinewidth\":1,\"tickcolor\":\"rgb(36,36,36)\",\"ticks\":\"outside\"},\"colorscale\":[[0.0,\"#440154\"],[0.1111111111111111,\"#482878\"],[0.2222222222222222,\"#3e4989\"],[0.3333333333333333,\"#31688e\"],[0.4444444444444444,\"#26828e\"],[0.5555555555555556,\"#1f9e89\"],[0.6666666666666666,\"#35b779\"],[0.7777777777777778,\"#6ece58\"],[0.8888888888888888,\"#b5de2b\"],[1.0,\"#fde725\"]],\"type\":\"heatmap\"}],\"histogram2dcontour\":[{\"colorbar\":{\"outlinewidth\":1,\"tickcolor\":\"rgb(36,36,36)\",\"ticks\":\"outside\"},\"colorscale\":[[0.0,\"#440154\"],[0.1111111111111111,\"#482878\"],[0.2222222222222222,\"#3e4989\"],[0.3333333333333333,\"#31688e\"],[0.4444444444444444,\"#26828e\"],[0.5555555555555556,\"#1f9e89\"],[0.6666666666666666,\"#35b779\"],[0.7777777777777778,\"#6ece58\"],[0.8888888888888888,\"#b5de2b\"],[1.0,\"#fde725\"]],\"type\":\"histogram2dcontour\"}],\"histogram2d\":[{\"colorbar\":{\"outlinewidth\":1,\"tickcolor\":\"rgb(36,36,36)\",\"ticks\":\"outside\"},\"colorscale\":[[0.0,\"#440154\"],[0.1111111111111111,\"#482878\"],[0.2222222222222222,\"#3e4989\"],[0.3333333333333333,\"#31688e\"],[0.4444444444444444,\"#26828e\"],[0.5555555555555556,\"#1f9e89\"],[0.6666666666666666,\"#35b779\"],[0.7777777777777778,\"#6ece58\"],[0.8888888888888888,\"#b5de2b\"],[1.0,\"#fde725\"]],\"type\":\"histogram2d\"}],\"histogram\":[{\"marker\":{\"line\":{\"color\":\"white\",\"width\":0.6}},\"type\":\"histogram\"}],\"mesh3d\":[{\"colorbar\":{\"outlinewidth\":1,\"tickcolor\":\"rgb(36,36,36)\",\"ticks\":\"outside\"},\"type\":\"mesh3d\"}],\"parcoords\":[{\"line\":{\"colorbar\":{\"outlinewidth\":1,\"tickcolor\":\"rgb(36,36,36)\",\"ticks\":\"outside\"}},\"type\":\"parcoords\"}],\"pie\":[{\"automargin\":true,\"type\":\"pie\"}],\"scatter3d\":[{\"line\":{\"colorbar\":{\"outlinewidth\":1,\"tickcolor\":\"rgb(36,36,36)\",\"ticks\":\"outside\"}},\"marker\":{\"colorbar\":{\"outlinewidth\":1,\"tickcolor\":\"rgb(36,36,36)\",\"ticks\":\"outside\"}},\"type\":\"scatter3d\"}],\"scattercarpet\":[{\"marker\":{\"colorbar\":{\"outlinewidth\":1,\"tickcolor\":\"rgb(36,36,36)\",\"ticks\":\"outside\"}},\"type\":\"scattercarpet\"}],\"scattergeo\":[{\"marker\":{\"colorbar\":{\"outlinewidth\":1,\"tickcolor\":\"rgb(36,36,36)\",\"ticks\":\"outside\"}},\"type\":\"scattergeo\"}],\"scattergl\":[{\"marker\":{\"colorbar\":{\"outlinewidth\":1,\"tickcolor\":\"rgb(36,36,36)\",\"ticks\":\"outside\"}},\"type\":\"scattergl\"}],\"scattermapbox\":[{\"marker\":{\"colorbar\":{\"outlinewidth\":1,\"tickcolor\":\"rgb(36,36,36)\",\"ticks\":\"outside\"}},\"type\":\"scattermapbox\"}],\"scatterpolargl\":[{\"marker\":{\"colorbar\":{\"outlinewidth\":1,\"tickcolor\":\"rgb(36,36,36)\",\"ticks\":\"outside\"}},\"type\":\"scatterpolargl\"}],\"scatterpolar\":[{\"marker\":{\"colorbar\":{\"outlinewidth\":1,\"tickcolor\":\"rgb(36,36,36)\",\"ticks\":\"outside\"}},\"type\":\"scatterpolar\"}],\"scatter\":[{\"marker\":{\"colorbar\":{\"outlinewidth\":1,\"tickcolor\":\"rgb(36,36,36)\",\"ticks\":\"outside\"}},\"type\":\"scatter\"}],\"scatterternary\":[{\"marker\":{\"colorbar\":{\"outlinewidth\":1,\"tickcolor\":\"rgb(36,36,36)\",\"ticks\":\"outside\"}},\"type\":\"scatterternary\"}],\"surface\":[{\"colorbar\":{\"outlinewidth\":1,\"tickcolor\":\"rgb(36,36,36)\",\"ticks\":\"outside\"},\"colorscale\":[[0.0,\"#440154\"],[0.1111111111111111,\"#482878\"],[0.2222222222222222,\"#3e4989\"],[0.3333333333333333,\"#31688e\"],[0.4444444444444444,\"#26828e\"],[0.5555555555555556,\"#1f9e89\"],[0.6666666666666666,\"#35b779\"],[0.7777777777777778,\"#6ece58\"],[0.8888888888888888,\"#b5de2b\"],[1.0,\"#fde725\"]],\"type\":\"surface\"}],\"table\":[{\"cells\":{\"fill\":{\"color\":\"rgb(237,237,237)\"},\"line\":{\"color\":\"white\"}},\"header\":{\"fill\":{\"color\":\"rgb(217,217,217)\"},\"line\":{\"color\":\"white\"}},\"type\":\"table\"}]},\"layout\":{\"annotationdefaults\":{\"arrowhead\":0,\"arrowwidth\":1},\"autotypenumbers\":\"strict\",\"coloraxis\":{\"colorbar\":{\"outlinewidth\":1,\"tickcolor\":\"rgb(36,36,36)\",\"ticks\":\"outside\"}},\"colorscale\":{\"diverging\":[[0.0,\"rgb(103,0,31)\"],[0.1,\"rgb(178,24,43)\"],[0.2,\"rgb(214,96,77)\"],[0.3,\"rgb(244,165,130)\"],[0.4,\"rgb(253,219,199)\"],[0.5,\"rgb(247,247,247)\"],[0.6,\"rgb(209,229,240)\"],[0.7,\"rgb(146,197,222)\"],[0.8,\"rgb(67,147,195)\"],[0.9,\"rgb(33,102,172)\"],[1.0,\"rgb(5,48,97)\"]],\"sequential\":[[0.0,\"#440154\"],[0.1111111111111111,\"#482878\"],[0.2222222222222222,\"#3e4989\"],[0.3333333333333333,\"#31688e\"],[0.4444444444444444,\"#26828e\"],[0.5555555555555556,\"#1f9e89\"],[0.6666666666666666,\"#35b779\"],[0.7777777777777778,\"#6ece58\"],[0.8888888888888888,\"#b5de2b\"],[1.0,\"#fde725\"]],\"sequentialminus\":[[0.0,\"#440154\"],[0.1111111111111111,\"#482878\"],[0.2222222222222222,\"#3e4989\"],[0.3333333333333333,\"#31688e\"],[0.4444444444444444,\"#26828e\"],[0.5555555555555556,\"#1f9e89\"],[0.6666666666666666,\"#35b779\"],[0.7777777777777778,\"#6ece58\"],[0.8888888888888888,\"#b5de2b\"],[1.0,\"#fde725\"]]},\"colorway\":[\"#1F77B4\",\"#FF7F0E\",\"#2CA02C\",\"#D62728\",\"#9467BD\",\"#8C564B\",\"#E377C2\",\"#7F7F7F\",\"#BCBD22\",\"#17BECF\"],\"font\":{\"color\":\"rgb(36,36,36)\"},\"geo\":{\"bgcolor\":\"white\",\"lakecolor\":\"white\",\"landcolor\":\"white\",\"showlakes\":true,\"showland\":true,\"subunitcolor\":\"white\"},\"hoverlabel\":{\"align\":\"left\"},\"hovermode\":\"closest\",\"mapbox\":{\"style\":\"light\"},\"paper_bgcolor\":\"white\",\"plot_bgcolor\":\"white\",\"polar\":{\"angularaxis\":{\"gridcolor\":\"rgb(232,232,232)\",\"linecolor\":\"rgb(36,36,36)\",\"showgrid\":false,\"showline\":true,\"ticks\":\"outside\"},\"bgcolor\":\"white\",\"radialaxis\":{\"gridcolor\":\"rgb(232,232,232)\",\"linecolor\":\"rgb(36,36,36)\",\"showgrid\":false,\"showline\":true,\"ticks\":\"outside\"}},\"scene\":{\"xaxis\":{\"backgroundcolor\":\"white\",\"gridcolor\":\"rgb(232,232,232)\",\"gridwidth\":2,\"linecolor\":\"rgb(36,36,36)\",\"showbackground\":true,\"showgrid\":false,\"showline\":true,\"ticks\":\"outside\",\"zeroline\":false,\"zerolinecolor\":\"rgb(36,36,36)\"},\"yaxis\":{\"backgroundcolor\":\"white\",\"gridcolor\":\"rgb(232,232,232)\",\"gridwidth\":2,\"linecolor\":\"rgb(36,36,36)\",\"showbackground\":true,\"showgrid\":false,\"showline\":true,\"ticks\":\"outside\",\"zeroline\":false,\"zerolinecolor\":\"rgb(36,36,36)\"},\"zaxis\":{\"backgroundcolor\":\"white\",\"gridcolor\":\"rgb(232,232,232)\",\"gridwidth\":2,\"linecolor\":\"rgb(36,36,36)\",\"showbackground\":true,\"showgrid\":false,\"showline\":true,\"ticks\":\"outside\",\"zeroline\":false,\"zerolinecolor\":\"rgb(36,36,36)\"}},\"shapedefaults\":{\"fillcolor\":\"black\",\"line\":{\"width\":0},\"opacity\":0.3},\"ternary\":{\"aaxis\":{\"gridcolor\":\"rgb(232,232,232)\",\"linecolor\":\"rgb(36,36,36)\",\"showgrid\":false,\"showline\":true,\"ticks\":\"outside\"},\"baxis\":{\"gridcolor\":\"rgb(232,232,232)\",\"linecolor\":\"rgb(36,36,36)\",\"showgrid\":false,\"showline\":true,\"ticks\":\"outside\"},\"bgcolor\":\"white\",\"caxis\":{\"gridcolor\":\"rgb(232,232,232)\",\"linecolor\":\"rgb(36,36,36)\",\"showgrid\":false,\"showline\":true,\"ticks\":\"outside\"}},\"title\":{\"x\":0.05},\"xaxis\":{\"automargin\":true,\"gridcolor\":\"rgb(232,232,232)\",\"linecolor\":\"rgb(36,36,36)\",\"showgrid\":false,\"showline\":true,\"ticks\":\"outside\",\"title\":{\"standoff\":15},\"zeroline\":false,\"zerolinecolor\":\"rgb(36,36,36)\"},\"yaxis\":{\"automargin\":true,\"gridcolor\":\"rgb(232,232,232)\",\"linecolor\":\"rgb(36,36,36)\",\"showgrid\":false,\"showline\":true,\"ticks\":\"outside\",\"title\":{\"standoff\":15},\"zeroline\":false,\"zerolinecolor\":\"rgb(36,36,36)\"}}},\"xaxis\":{\"anchor\":\"y\",\"domain\":[0.0,1.0],\"title\":{\"text\":\"\"},\"visible\":false,\"range\":[2.213853418827057,8.651854419708252]},\"yaxis\":{\"anchor\":\"x\",\"domain\":[0.0,1.0],\"title\":{\"text\":\"\"},\"visible\":false,\"range\":[5.386569881439209,11.23831582069397]},\"legend\":{\"tracegroupgap\":0,\"itemsizing\":\"constant\"},\"margin\":{\"t\":60},\"title\":{\"font\":{\"size\":22,\"color\":\"Black\"},\"text\":\"<b>Intertopic Distance Map\",\"y\":0.95,\"x\":0.5,\"xanchor\":\"center\",\"yanchor\":\"top\"},\"hoverlabel\":{\"font\":{\"size\":16,\"family\":\"Rockwell\"},\"bgcolor\":\"white\"},\"width\":650,\"height\":650,\"sliders\":[{\"active\":0,\"pad\":{\"t\":50},\"steps\":[{\"args\":[{\"marker.color\":[[\"red\",\"#B0BEC5\",\"#B0BEC5\",\"#B0BEC5\",\"#B0BEC5\",\"#B0BEC5\",\"#B0BEC5\"]]}],\"label\":\"Topic 0\",\"method\":\"update\"},{\"args\":[{\"marker.color\":[[\"#B0BEC5\",\"red\",\"#B0BEC5\",\"#B0BEC5\",\"#B0BEC5\",\"#B0BEC5\",\"#B0BEC5\"]]}],\"label\":\"Topic 1\",\"method\":\"update\"},{\"args\":[{\"marker.color\":[[\"#B0BEC5\",\"#B0BEC5\",\"red\",\"#B0BEC5\",\"#B0BEC5\",\"#B0BEC5\",\"#B0BEC5\"]]}],\"label\":\"Topic 2\",\"method\":\"update\"},{\"args\":[{\"marker.color\":[[\"#B0BEC5\",\"#B0BEC5\",\"#B0BEC5\",\"red\",\"#B0BEC5\",\"#B0BEC5\",\"#B0BEC5\"]]}],\"label\":\"Topic 3\",\"method\":\"update\"},{\"args\":[{\"marker.color\":[[\"#B0BEC5\",\"#B0BEC5\",\"#B0BEC5\",\"#B0BEC5\",\"red\",\"#B0BEC5\",\"#B0BEC5\"]]}],\"label\":\"Topic 4\",\"method\":\"update\"},{\"args\":[{\"marker.color\":[[\"#B0BEC5\",\"#B0BEC5\",\"#B0BEC5\",\"#B0BEC5\",\"#B0BEC5\",\"red\",\"#B0BEC5\"]]}],\"label\":\"Topic 5\",\"method\":\"update\"},{\"args\":[{\"marker.color\":[[\"#B0BEC5\",\"#B0BEC5\",\"#B0BEC5\",\"#B0BEC5\",\"#B0BEC5\",\"#B0BEC5\",\"red\"]]}],\"label\":\"Topic 6\",\"method\":\"update\"}]}],\"shapes\":[{\"line\":{\"color\":\"#CFD8DC\",\"width\":2},\"type\":\"line\",\"x0\":5.432853919267655,\"x1\":5.432853919267655,\"y0\":5.386569881439209,\"y1\":11.23831582069397},{\"line\":{\"color\":\"#9E9E9E\",\"width\":2},\"type\":\"line\",\"x0\":2.213853418827057,\"x1\":8.651854419708252,\"y0\":8.312442851066589,\"y1\":8.312442851066589}],\"annotations\":[{\"showarrow\":false,\"text\":\"D1\",\"x\":2.213853418827057,\"y\":8.312442851066589,\"yshift\":10},{\"showarrow\":false,\"text\":\"D2\",\"x\":5.432853919267655,\"xshift\":10,\"y\":11.23831582069397}]},                        {\"responsive\": true}                    ).then(function(){\n",
              "                            \n",
              "var gd = document.getElementById('92ce3d71-9824-45a5-ba25-bf94462bcac7');\n",
              "var x = new MutationObserver(function (mutations, observer) {{\n",
              "        var display = window.getComputedStyle(gd).display;\n",
              "        if (!display || display === 'none') {{\n",
              "            console.log([gd, 'removed!']);\n",
              "            Plotly.purge(gd);\n",
              "            observer.disconnect();\n",
              "        }}\n",
              "}});\n",
              "\n",
              "// Listen for the removal of the full notebook cells\n",
              "var notebookContainer = gd.closest('#notebook-container');\n",
              "if (notebookContainer) {{\n",
              "    x.observe(notebookContainer, {childList: true});\n",
              "}}\n",
              "\n",
              "// Listen for the clearing of the current output cell\n",
              "var outputEl = gd.closest('.output');\n",
              "if (outputEl) {{\n",
              "    x.observe(outputEl, {childList: true});\n",
              "}}\n",
              "\n",
              "                        })                };                            </script>        </div>\n",
              "</body>\n",
              "</html>"
            ]
          },
          "metadata": {}
        }
      ]
    },
    {
      "cell_type": "code",
      "source": [
        "model.visualize_barchart(top_n_topics=21, n_words=3)"
      ],
      "metadata": {
        "colab": {
          "base_uri": "https://localhost:8080/",
          "height": 517
        },
        "id": "QVnTpNAqTPFE",
        "outputId": "8ba6815a-07de-42bf-900c-3d9f47de0b7e"
      },
      "execution_count": null,
      "outputs": [
        {
          "output_type": "display_data",
          "data": {
            "text/html": [
              "<html>\n",
              "<head><meta charset=\"utf-8\" /></head>\n",
              "<body>\n",
              "    <div>            <script src=\"https://cdnjs.cloudflare.com/ajax/libs/mathjax/2.7.5/MathJax.js?config=TeX-AMS-MML_SVG\"></script><script type=\"text/javascript\">if (window.MathJax) {MathJax.Hub.Config({SVG: {font: \"STIX-Web\"}});}</script>                <script type=\"text/javascript\">window.PlotlyConfig = {MathJaxConfig: 'local'};</script>\n",
              "        <script src=\"https://cdn.plot.ly/plotly-2.8.3.min.js\"></script>                <div id=\"4bf8534d-eae9-4db7-8dde-12dec4db0a12\" class=\"plotly-graph-div\" style=\"height:500px; width:1000px;\"></div>            <script type=\"text/javascript\">                                    window.PLOTLYENV=window.PLOTLYENV || {};                                    if (document.getElementById(\"4bf8534d-eae9-4db7-8dde-12dec4db0a12\")) {                    Plotly.newPlot(                        \"4bf8534d-eae9-4db7-8dde-12dec4db0a12\",                        [{\"marker\":{\"color\":\"#D55E00\"},\"orientation\":\"h\",\"x\":[0.016419497488724837,0.019647086617536037,0.025446938953526926],\"y\":[\"said  \",\"russian  \",\"ukraine  \"],\"type\":\"bar\",\"xaxis\":\"x\",\"yaxis\":\"y\"},{\"marker\":{\"color\":\"#0072B2\"},\"orientation\":\"h\",\"x\":[0.022260548560538152,0.023453592425001654,0.04815491744832987],\"y\":[\"bank  \",\"financial  \",\"sanctions  \"],\"type\":\"bar\",\"xaxis\":\"x2\",\"yaxis\":\"y2\"},{\"marker\":{\"color\":\"#CC79A7\"},\"orientation\":\"h\",\"x\":[0.021966248877403945,0.022982090846333503,0.03431050059429086],\"y\":[\"climate  \",\"council  \",\"barker  \"],\"type\":\"bar\",\"xaxis\":\"x3\",\"yaxis\":\"y3\"},{\"marker\":{\"color\":\"#E69F00\"},\"orientation\":\"h\",\"x\":[0.03857242270611629,0.04151753364629812,0.0491236315299842],\"y\":[\"paralympic  \",\"ipc  \",\"athletes  \"],\"type\":\"bar\",\"xaxis\":\"x4\",\"yaxis\":\"y4\"},{\"marker\":{\"color\":\"#56B4E9\"},\"orientation\":\"h\",\"x\":[0.04498171729085127,0.0510753856090894,0.059770519253906335],\"y\":[\"border  \",\"poland  \",\"refugees  \"],\"type\":\"bar\",\"xaxis\":\"x5\",\"yaxis\":\"y5\"},{\"marker\":{\"color\":\"#009E73\"},\"orientation\":\"h\",\"x\":[0.04808309710664294,0.04882050927900967,0.0643375648803568],\"y\":[\"electronics  \",\"samsung electronics  \",\"samsung  \"],\"type\":\"bar\",\"xaxis\":\"x6\",\"yaxis\":\"y6\"},{\"marker\":{\"color\":\"#F0E442\"},\"orientation\":\"h\",\"x\":[0.10776469865271923,0.11356398658242206,0.11497206399398828],\"y\":[\"press  \",\"associated  \",\"associated press  \"],\"type\":\"bar\",\"xaxis\":\"x7\",\"yaxis\":\"y7\"}],                        {\"template\":{\"data\":{\"barpolar\":[{\"marker\":{\"line\":{\"color\":\"white\",\"width\":0.5},\"pattern\":{\"fillmode\":\"overlay\",\"size\":10,\"solidity\":0.2}},\"type\":\"barpolar\"}],\"bar\":[{\"error_x\":{\"color\":\"#2a3f5f\"},\"error_y\":{\"color\":\"#2a3f5f\"},\"marker\":{\"line\":{\"color\":\"white\",\"width\":0.5},\"pattern\":{\"fillmode\":\"overlay\",\"size\":10,\"solidity\":0.2}},\"type\":\"bar\"}],\"carpet\":[{\"aaxis\":{\"endlinecolor\":\"#2a3f5f\",\"gridcolor\":\"#C8D4E3\",\"linecolor\":\"#C8D4E3\",\"minorgridcolor\":\"#C8D4E3\",\"startlinecolor\":\"#2a3f5f\"},\"baxis\":{\"endlinecolor\":\"#2a3f5f\",\"gridcolor\":\"#C8D4E3\",\"linecolor\":\"#C8D4E3\",\"minorgridcolor\":\"#C8D4E3\",\"startlinecolor\":\"#2a3f5f\"},\"type\":\"carpet\"}],\"choropleth\":[{\"colorbar\":{\"outlinewidth\":0,\"ticks\":\"\"},\"type\":\"choropleth\"}],\"contourcarpet\":[{\"colorbar\":{\"outlinewidth\":0,\"ticks\":\"\"},\"type\":\"contourcarpet\"}],\"contour\":[{\"colorbar\":{\"outlinewidth\":0,\"ticks\":\"\"},\"colorscale\":[[0.0,\"#0d0887\"],[0.1111111111111111,\"#46039f\"],[0.2222222222222222,\"#7201a8\"],[0.3333333333333333,\"#9c179e\"],[0.4444444444444444,\"#bd3786\"],[0.5555555555555556,\"#d8576b\"],[0.6666666666666666,\"#ed7953\"],[0.7777777777777778,\"#fb9f3a\"],[0.8888888888888888,\"#fdca26\"],[1.0,\"#f0f921\"]],\"type\":\"contour\"}],\"heatmapgl\":[{\"colorbar\":{\"outlinewidth\":0,\"ticks\":\"\"},\"colorscale\":[[0.0,\"#0d0887\"],[0.1111111111111111,\"#46039f\"],[0.2222222222222222,\"#7201a8\"],[0.3333333333333333,\"#9c179e\"],[0.4444444444444444,\"#bd3786\"],[0.5555555555555556,\"#d8576b\"],[0.6666666666666666,\"#ed7953\"],[0.7777777777777778,\"#fb9f3a\"],[0.8888888888888888,\"#fdca26\"],[1.0,\"#f0f921\"]],\"type\":\"heatmapgl\"}],\"heatmap\":[{\"colorbar\":{\"outlinewidth\":0,\"ticks\":\"\"},\"colorscale\":[[0.0,\"#0d0887\"],[0.1111111111111111,\"#46039f\"],[0.2222222222222222,\"#7201a8\"],[0.3333333333333333,\"#9c179e\"],[0.4444444444444444,\"#bd3786\"],[0.5555555555555556,\"#d8576b\"],[0.6666666666666666,\"#ed7953\"],[0.7777777777777778,\"#fb9f3a\"],[0.8888888888888888,\"#fdca26\"],[1.0,\"#f0f921\"]],\"type\":\"heatmap\"}],\"histogram2dcontour\":[{\"colorbar\":{\"outlinewidth\":0,\"ticks\":\"\"},\"colorscale\":[[0.0,\"#0d0887\"],[0.1111111111111111,\"#46039f\"],[0.2222222222222222,\"#7201a8\"],[0.3333333333333333,\"#9c179e\"],[0.4444444444444444,\"#bd3786\"],[0.5555555555555556,\"#d8576b\"],[0.6666666666666666,\"#ed7953\"],[0.7777777777777778,\"#fb9f3a\"],[0.8888888888888888,\"#fdca26\"],[1.0,\"#f0f921\"]],\"type\":\"histogram2dcontour\"}],\"histogram2d\":[{\"colorbar\":{\"outlinewidth\":0,\"ticks\":\"\"},\"colorscale\":[[0.0,\"#0d0887\"],[0.1111111111111111,\"#46039f\"],[0.2222222222222222,\"#7201a8\"],[0.3333333333333333,\"#9c179e\"],[0.4444444444444444,\"#bd3786\"],[0.5555555555555556,\"#d8576b\"],[0.6666666666666666,\"#ed7953\"],[0.7777777777777778,\"#fb9f3a\"],[0.8888888888888888,\"#fdca26\"],[1.0,\"#f0f921\"]],\"type\":\"histogram2d\"}],\"histogram\":[{\"marker\":{\"pattern\":{\"fillmode\":\"overlay\",\"size\":10,\"solidity\":0.2}},\"type\":\"histogram\"}],\"mesh3d\":[{\"colorbar\":{\"outlinewidth\":0,\"ticks\":\"\"},\"type\":\"mesh3d\"}],\"parcoords\":[{\"line\":{\"colorbar\":{\"outlinewidth\":0,\"ticks\":\"\"}},\"type\":\"parcoords\"}],\"pie\":[{\"automargin\":true,\"type\":\"pie\"}],\"scatter3d\":[{\"line\":{\"colorbar\":{\"outlinewidth\":0,\"ticks\":\"\"}},\"marker\":{\"colorbar\":{\"outlinewidth\":0,\"ticks\":\"\"}},\"type\":\"scatter3d\"}],\"scattercarpet\":[{\"marker\":{\"colorbar\":{\"outlinewidth\":0,\"ticks\":\"\"}},\"type\":\"scattercarpet\"}],\"scattergeo\":[{\"marker\":{\"colorbar\":{\"outlinewidth\":0,\"ticks\":\"\"}},\"type\":\"scattergeo\"}],\"scattergl\":[{\"marker\":{\"colorbar\":{\"outlinewidth\":0,\"ticks\":\"\"}},\"type\":\"scattergl\"}],\"scattermapbox\":[{\"marker\":{\"colorbar\":{\"outlinewidth\":0,\"ticks\":\"\"}},\"type\":\"scattermapbox\"}],\"scatterpolargl\":[{\"marker\":{\"colorbar\":{\"outlinewidth\":0,\"ticks\":\"\"}},\"type\":\"scatterpolargl\"}],\"scatterpolar\":[{\"marker\":{\"colorbar\":{\"outlinewidth\":0,\"ticks\":\"\"}},\"type\":\"scatterpolar\"}],\"scatter\":[{\"marker\":{\"colorbar\":{\"outlinewidth\":0,\"ticks\":\"\"}},\"type\":\"scatter\"}],\"scatterternary\":[{\"marker\":{\"colorbar\":{\"outlinewidth\":0,\"ticks\":\"\"}},\"type\":\"scatterternary\"}],\"surface\":[{\"colorbar\":{\"outlinewidth\":0,\"ticks\":\"\"},\"colorscale\":[[0.0,\"#0d0887\"],[0.1111111111111111,\"#46039f\"],[0.2222222222222222,\"#7201a8\"],[0.3333333333333333,\"#9c179e\"],[0.4444444444444444,\"#bd3786\"],[0.5555555555555556,\"#d8576b\"],[0.6666666666666666,\"#ed7953\"],[0.7777777777777778,\"#fb9f3a\"],[0.8888888888888888,\"#fdca26\"],[1.0,\"#f0f921\"]],\"type\":\"surface\"}],\"table\":[{\"cells\":{\"fill\":{\"color\":\"#EBF0F8\"},\"line\":{\"color\":\"white\"}},\"header\":{\"fill\":{\"color\":\"#C8D4E3\"},\"line\":{\"color\":\"white\"}},\"type\":\"table\"}]},\"layout\":{\"annotationdefaults\":{\"arrowcolor\":\"#2a3f5f\",\"arrowhead\":0,\"arrowwidth\":1},\"autotypenumbers\":\"strict\",\"coloraxis\":{\"colorbar\":{\"outlinewidth\":0,\"ticks\":\"\"}},\"colorscale\":{\"diverging\":[[0,\"#8e0152\"],[0.1,\"#c51b7d\"],[0.2,\"#de77ae\"],[0.3,\"#f1b6da\"],[0.4,\"#fde0ef\"],[0.5,\"#f7f7f7\"],[0.6,\"#e6f5d0\"],[0.7,\"#b8e186\"],[0.8,\"#7fbc41\"],[0.9,\"#4d9221\"],[1,\"#276419\"]],\"sequential\":[[0.0,\"#0d0887\"],[0.1111111111111111,\"#46039f\"],[0.2222222222222222,\"#7201a8\"],[0.3333333333333333,\"#9c179e\"],[0.4444444444444444,\"#bd3786\"],[0.5555555555555556,\"#d8576b\"],[0.6666666666666666,\"#ed7953\"],[0.7777777777777778,\"#fb9f3a\"],[0.8888888888888888,\"#fdca26\"],[1.0,\"#f0f921\"]],\"sequentialminus\":[[0.0,\"#0d0887\"],[0.1111111111111111,\"#46039f\"],[0.2222222222222222,\"#7201a8\"],[0.3333333333333333,\"#9c179e\"],[0.4444444444444444,\"#bd3786\"],[0.5555555555555556,\"#d8576b\"],[0.6666666666666666,\"#ed7953\"],[0.7777777777777778,\"#fb9f3a\"],[0.8888888888888888,\"#fdca26\"],[1.0,\"#f0f921\"]]},\"colorway\":[\"#636efa\",\"#EF553B\",\"#00cc96\",\"#ab63fa\",\"#FFA15A\",\"#19d3f3\",\"#FF6692\",\"#B6E880\",\"#FF97FF\",\"#FECB52\"],\"font\":{\"color\":\"#2a3f5f\"},\"geo\":{\"bgcolor\":\"white\",\"lakecolor\":\"white\",\"landcolor\":\"white\",\"showlakes\":true,\"showland\":true,\"subunitcolor\":\"#C8D4E3\"},\"hoverlabel\":{\"align\":\"left\"},\"hovermode\":\"closest\",\"mapbox\":{\"style\":\"light\"},\"paper_bgcolor\":\"white\",\"plot_bgcolor\":\"white\",\"polar\":{\"angularaxis\":{\"gridcolor\":\"#EBF0F8\",\"linecolor\":\"#EBF0F8\",\"ticks\":\"\"},\"bgcolor\":\"white\",\"radialaxis\":{\"gridcolor\":\"#EBF0F8\",\"linecolor\":\"#EBF0F8\",\"ticks\":\"\"}},\"scene\":{\"xaxis\":{\"backgroundcolor\":\"white\",\"gridcolor\":\"#DFE8F3\",\"gridwidth\":2,\"linecolor\":\"#EBF0F8\",\"showbackground\":true,\"ticks\":\"\",\"zerolinecolor\":\"#EBF0F8\"},\"yaxis\":{\"backgroundcolor\":\"white\",\"gridcolor\":\"#DFE8F3\",\"gridwidth\":2,\"linecolor\":\"#EBF0F8\",\"showbackground\":true,\"ticks\":\"\",\"zerolinecolor\":\"#EBF0F8\"},\"zaxis\":{\"backgroundcolor\":\"white\",\"gridcolor\":\"#DFE8F3\",\"gridwidth\":2,\"linecolor\":\"#EBF0F8\",\"showbackground\":true,\"ticks\":\"\",\"zerolinecolor\":\"#EBF0F8\"}},\"shapedefaults\":{\"line\":{\"color\":\"#2a3f5f\"}},\"ternary\":{\"aaxis\":{\"gridcolor\":\"#DFE8F3\",\"linecolor\":\"#A2B1C6\",\"ticks\":\"\"},\"baxis\":{\"gridcolor\":\"#DFE8F3\",\"linecolor\":\"#A2B1C6\",\"ticks\":\"\"},\"bgcolor\":\"white\",\"caxis\":{\"gridcolor\":\"#DFE8F3\",\"linecolor\":\"#A2B1C6\",\"ticks\":\"\"}},\"title\":{\"x\":0.05},\"xaxis\":{\"automargin\":true,\"gridcolor\":\"#EBF0F8\",\"linecolor\":\"#EBF0F8\",\"ticks\":\"\",\"title\":{\"standoff\":15},\"zerolinecolor\":\"#EBF0F8\",\"zerolinewidth\":2},\"yaxis\":{\"automargin\":true,\"gridcolor\":\"#EBF0F8\",\"linecolor\":\"#EBF0F8\",\"ticks\":\"\",\"title\":{\"standoff\":15},\"zerolinecolor\":\"#EBF0F8\",\"zerolinewidth\":2}}},\"xaxis\":{\"anchor\":\"y\",\"domain\":[0.0,0.175],\"showgrid\":true},\"yaxis\":{\"anchor\":\"x\",\"domain\":[0.6000000000000001,1.0],\"showgrid\":true},\"xaxis2\":{\"anchor\":\"y2\",\"domain\":[0.275,0.45],\"showgrid\":true},\"yaxis2\":{\"anchor\":\"x2\",\"domain\":[0.6000000000000001,1.0],\"showgrid\":true},\"xaxis3\":{\"anchor\":\"y3\",\"domain\":[0.55,0.7250000000000001],\"showgrid\":true},\"yaxis3\":{\"anchor\":\"x3\",\"domain\":[0.6000000000000001,1.0],\"showgrid\":true},\"xaxis4\":{\"anchor\":\"y4\",\"domain\":[0.825,1.0],\"showgrid\":true},\"yaxis4\":{\"anchor\":\"x4\",\"domain\":[0.6000000000000001,1.0],\"showgrid\":true},\"xaxis5\":{\"anchor\":\"y5\",\"domain\":[0.0,0.175],\"showgrid\":true},\"yaxis5\":{\"anchor\":\"x5\",\"domain\":[0.0,0.4],\"showgrid\":true},\"xaxis6\":{\"anchor\":\"y6\",\"domain\":[0.275,0.45],\"showgrid\":true},\"yaxis6\":{\"anchor\":\"x6\",\"domain\":[0.0,0.4],\"showgrid\":true},\"xaxis7\":{\"anchor\":\"y7\",\"domain\":[0.55,0.7250000000000001],\"showgrid\":true},\"yaxis7\":{\"anchor\":\"x7\",\"domain\":[0.0,0.4],\"showgrid\":true},\"xaxis8\":{\"anchor\":\"y8\",\"domain\":[0.825,1.0],\"showgrid\":true},\"yaxis8\":{\"anchor\":\"x8\",\"domain\":[0.0,0.4],\"showgrid\":true},\"annotations\":[{\"font\":{\"size\":16},\"showarrow\":false,\"text\":\"Topic -1\",\"x\":0.0875,\"xanchor\":\"center\",\"xref\":\"paper\",\"y\":1.0,\"yanchor\":\"bottom\",\"yref\":\"paper\"},{\"font\":{\"size\":16},\"showarrow\":false,\"text\":\"Topic 1\",\"x\":0.36250000000000004,\"xanchor\":\"center\",\"xref\":\"paper\",\"y\":1.0,\"yanchor\":\"bottom\",\"yref\":\"paper\"},{\"font\":{\"size\":16},\"showarrow\":false,\"text\":\"Topic 2\",\"x\":0.6375000000000001,\"xanchor\":\"center\",\"xref\":\"paper\",\"y\":1.0,\"yanchor\":\"bottom\",\"yref\":\"paper\"},{\"font\":{\"size\":16},\"showarrow\":false,\"text\":\"Topic 3\",\"x\":0.9125,\"xanchor\":\"center\",\"xref\":\"paper\",\"y\":1.0,\"yanchor\":\"bottom\",\"yref\":\"paper\"},{\"font\":{\"size\":16},\"showarrow\":false,\"text\":\"Topic 4\",\"x\":0.0875,\"xanchor\":\"center\",\"xref\":\"paper\",\"y\":0.4,\"yanchor\":\"bottom\",\"yref\":\"paper\"},{\"font\":{\"size\":16},\"showarrow\":false,\"text\":\"Topic 5\",\"x\":0.36250000000000004,\"xanchor\":\"center\",\"xref\":\"paper\",\"y\":0.4,\"yanchor\":\"bottom\",\"yref\":\"paper\"},{\"font\":{\"size\":16},\"showarrow\":false,\"text\":\"Topic 6\",\"x\":0.6375000000000001,\"xanchor\":\"center\",\"xref\":\"paper\",\"y\":0.4,\"yanchor\":\"bottom\",\"yref\":\"paper\"}],\"title\":{\"font\":{\"size\":22,\"color\":\"Black\"},\"text\":\"<b>Topic Word Scores\",\"x\":0.5,\"xanchor\":\"center\",\"yanchor\":\"top\"},\"hoverlabel\":{\"font\":{\"size\":16,\"family\":\"Rockwell\"},\"bgcolor\":\"white\"},\"showlegend\":false,\"width\":1000,\"height\":500},                        {\"responsive\": true}                    ).then(function(){\n",
              "                            \n",
              "var gd = document.getElementById('4bf8534d-eae9-4db7-8dde-12dec4db0a12');\n",
              "var x = new MutationObserver(function (mutations, observer) {{\n",
              "        var display = window.getComputedStyle(gd).display;\n",
              "        if (!display || display === 'none') {{\n",
              "            console.log([gd, 'removed!']);\n",
              "            Plotly.purge(gd);\n",
              "            observer.disconnect();\n",
              "        }}\n",
              "}});\n",
              "\n",
              "// Listen for the removal of the full notebook cells\n",
              "var notebookContainer = gd.closest('#notebook-container');\n",
              "if (notebookContainer) {{\n",
              "    x.observe(notebookContainer, {childList: true});\n",
              "}}\n",
              "\n",
              "// Listen for the clearing of the current output cell\n",
              "var outputEl = gd.closest('.output');\n",
              "if (outputEl) {{\n",
              "    x.observe(outputEl, {childList: true});\n",
              "}}\n",
              "\n",
              "                        })                };                            </script>        </div>\n",
              "</body>\n",
              "</html>"
            ]
          },
          "metadata": {}
        }
      ]
    },
    {
      "cell_type": "markdown",
      "source": [
        "![newplot.png](data:image/png;base64,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)"
      ],
      "metadata": {
        "id": "APVW85Yn8tBI"
      }
    },
    {
      "cell_type": "markdown",
      "source": [
        "![newplot (1).png](data:image/png;base64,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)"
      ],
      "metadata": {
        "id": "Gc5PaqlP825u"
      }
    },
    {
      "cell_type": "markdown",
      "source": [
        "## Noun Phrase Analysis"
      ],
      "metadata": {
        "id": "Wqycmc5JH2zR"
      }
    },
    {
      "cell_type": "code",
      "source": [
        "def EntitiesExtractor(dfcol1, dfcol2=[2022]*len(dfcol1)):\n",
        "    \"\"\"Search for nouns in each sentence / text, including for compound terms \n",
        "    where nouns appear consecutively and create dataframe by frequency\"\"\"\n",
        "    \n",
        "    noun_entities = []\n",
        "    for sentence, date in zip(dfcol1, dfcol2):\n",
        "        temp_noun_name = ''\n",
        "        temp_noun_entity = None\n",
        "        sentence = nlp(sentence)\n",
        "        for word in sentence:\n",
        "            term = word.text\n",
        "            tag = word.pos_\n",
        "            if tag == \"NOUN\":\n",
        "                temp_noun_name = ' '.join([temp_noun_name, term]).strip()\n",
        "                temp_noun_entity = (temp_noun_name, date)\n",
        "            else:\n",
        "                if temp_noun_entity:\n",
        "                    noun_entities.append(temp_noun_entity)\n",
        "                    temp_noun_name = ''\n",
        "                    temp_noun_entity = None\n",
        "          \n",
        "    noun_df = pd.DataFrame(noun_entities)\n",
        "    noun_df = noun_df.rename(columns={0:'Nouns', 1:'Date'})\n",
        "\n",
        "    top_entities = (noun_df.groupby(by=['Nouns'])\n",
        "                              .size()\n",
        "                              .sort_values(ascending=False)\n",
        "                              .reset_index().rename(columns={0 : 'Frequency'}))\n",
        "\n",
        "    return top_entities.T.iloc[:,:15]"
      ],
      "metadata": {
        "id": "3H_SLSQrH44i"
      },
      "execution_count": null,
      "outputs": []
    },
    {
      "cell_type": "code",
      "source": [
        "EntitiesExtractor()"
      ],
      "metadata": {
        "id": "M9TkHfSYLBK4"
      },
      "execution_count": null,
      "outputs": []
    },
    {
      "cell_type": "markdown",
      "source": [
        "# Summarisation and Networks\n",
        "\n",
        "Summarisation with TF-IDF centroid words to find sentences that are mostly closely associated with the centroid vector."
      ],
      "metadata": {
        "id": "WoWLP6t7KNZE"
      }
    },
    {
      "cell_type": "markdown",
      "source": [
        "**Refer to functions in CompanyNLP notebook.**"
      ],
      "metadata": {
        "id": "jNVzoebSlj1x"
      }
    },
    {
      "cell_type": "code",
      "source": [
        "import nltk\n",
        "import re\n",
        "import string\n",
        "from gensim.models import Word2Vec\n",
        "from nltk.tokenize import sent_tokenize as nltk_sent_tokenize\n",
        "from nltk.tokenize import word_tokenize as nltk_word_tokenize\n",
        "from sklearn.feature_extraction.text import CountVectorizer, TfidfTransformer\n",
        "from nltk.corpus import stopwords\n",
        "import numpy as np\n",
        "from scipy.spatial.distance import cosine"
      ],
      "metadata": {
        "id": "G1_IOvmXqNMa"
      },
      "execution_count": 46,
      "outputs": []
    },
    {
      "cell_type": "code",
      "source": [
        "import sys\n",
        "sys.path.append(save_path)"
      ],
      "metadata": {
        "id": "Mv8HxQlXuuma"
      },
      "execution_count": 61,
      "outputs": []
    },
    {
      "cell_type": "code",
      "source": [
        "import TFIDFSummarizer\n",
        "from TFIDFSummarizer import *"
      ],
      "metadata": {
        "id": "e_MAwQ-uvB_1"
      },
      "execution_count": 63,
      "outputs": []
    },
    {
      "cell_type": "code",
      "source": [
        "def Summarize(text, embedding_model):\n",
        "    raw_sentences = SentTokenize(text) # tokenize sentence with NLTK\n",
        "    clean_sentences = SentProcessing(text) # cleanup by removing stopwords, etc.\n",
        "\n",
        "    centroid_words = GetTFIDF(clean_sentences) # centroid of all cleaned sentences (i.e. whole text)\n",
        "\n",
        "    word_vectors = WordVectors(clean_sentences, embedding_model)\n",
        "\n",
        "    centroid_vector = EmbeddingRep(centroid_words, word_vectors, embedding_model)\n",
        "\n",
        "    sentences_scores = []\n",
        "    for i in range(len(clean_sentences)):\n",
        "        scores = []\n",
        "        words = clean_sentences[i].split()\n",
        "        sentence_vector = EmbeddingRep(words, word_vectors, embedding_model)\n",
        "        # similarity between sentence embedding vector and centroid embedding vector\n",
        "        score = Similarity(sentence_vector, centroid_vector)\n",
        "        sentences_scores.append((i, raw_sentences[i], score, sentence_vector))\n",
        "      \n",
        "    sentence_scores_sort = sorted(sentences_scores, key=lambda x: x[2], reverse=True)\n",
        "\n",
        "    count = 0\n",
        "    sentences_summary = []\n",
        "\n",
        "    # Handle redundancy\n",
        "    for s in sentence_scores_sort:\n",
        "        if count > 100:\n",
        "            break\n",
        "        include_flag = True\n",
        "        for ps in sentences_summary:\n",
        "            sim = Similarity(s[3], ps[3])\n",
        "            if sim > 0.95:\n",
        "                include_flag = False\n",
        "        if include_flag:\n",
        "            sentences_summary.append(s)\n",
        "            count += len(s[1].split())\n",
        "\n",
        "        sentences_summary = sorted(sentences_summary, key=lambda x: x[0], reverse=False)\n",
        "\n",
        "    summary = \" \".join([s[1] for s in sentences_summary])\n",
        "\n",
        "    return summary"
      ],
      "metadata": {
        "id": "w5m2EgJIfUSR"
      },
      "execution_count": 64,
      "outputs": []
    },
    {
      "cell_type": "code",
      "source": [
        "def PreprocessingSummarise(text):\n",
        "    clean_sentences = SentProcessing(text)\n",
        "    words = []\n",
        "    for sent in clean_sentences:\n",
        "        words.append(nltk_word_tokenize(sent))\n",
        "    model = Word2Vec(words, min_count = 1, sg = 1)\n",
        "    summary = Summarize(text, model)\n",
        "    return summary"
      ],
      "metadata": {
        "id": "GZ68bmS3qPTE"
      },
      "execution_count": 65,
      "outputs": []
    },
    {
      "cell_type": "code",
      "source": [
        "import warnings\n",
        "warnings.simplefilter(action='ignore', category=FutureWarning)\n",
        "gen_df2['Summary'] = gen_df2['Sent_clean'].apply(lambda x : PreprocessingSummarise(x))"
      ],
      "metadata": {
        "id": "h7Cmq5kzrIMK"
      },
      "execution_count": 66,
      "outputs": []
    },
    {
      "cell_type": "code",
      "source": [
        "gen_df2.head(10)"
      ],
      "metadata": {
        "colab": {
          "base_uri": "https://localhost:8080/",
          "height": 362
        },
        "id": "W4fNDI5asoso",
        "outputId": "15faa2e4-1445-4bf7-d2e6-6bcc31a8b4f0"
      },
      "execution_count": 68,
      "outputs": [
        {
          "output_type": "execute_result",
          "data": {
            "text/plain": [
              "                                          Sent_clean  \\\n",
              "0  web generally considered begun around continue...   \n",
              "1  edit box interface anyone could edit wikipedia...   \n",
              "2  also served ethereum foundations first chief t...   \n",
              "3  journal technology transfer. loughlin michael ...   \n",
              "4  handling risks presented cryptoassets already ...   \n",
              "5  seems know everything likes dislikes friends s...   \n",
              "6  fund research development teams building found...   \n",
              "7  examples would include status metamask mycrypt...   \n",
              "8  kusama scalable development network built near...   \n",
              "9  grant recipients considered partners polkadot ...   \n",
              "\n",
              "                                             Summary  \n",
              "0  november ceo jason citron tweeted screenshot s...  \n",
              "1  edit box interface anyone could edit wikipedia...  \n",
              "2  also served ethereum foundations first chief t...  \n",
              "3  loughlin michael may. makes management buzzwor...  \n",
              "4  inexperienced investors particular risk losing...  \n",
              "5  cryptocurrency incentivize participation distr...  \n",
              "6  fund research development teams building found...  \n",
              "7  examples would include status metamask mycrypt...  \n",
              "8  kusama scalable development network built near...  \n",
              "9  grant recipients considered partners polkadot ...  "
            ],
            "text/html": [
              "\n",
              "  <div id=\"df-0873e697-4958-4720-b099-61dacdccfb3e\">\n",
              "    <div class=\"colab-df-container\">\n",
              "      <div>\n",
              "<style scoped>\n",
              "    .dataframe tbody tr th:only-of-type {\n",
              "        vertical-align: middle;\n",
              "    }\n",
              "\n",
              "    .dataframe tbody tr th {\n",
              "        vertical-align: top;\n",
              "    }\n",
              "\n",
              "    .dataframe thead th {\n",
              "        text-align: right;\n",
              "    }\n",
              "</style>\n",
              "<table border=\"1\" class=\"dataframe\">\n",
              "  <thead>\n",
              "    <tr style=\"text-align: right;\">\n",
              "      <th></th>\n",
              "      <th>Sent_clean</th>\n",
              "      <th>Summary</th>\n",
              "    </tr>\n",
              "  </thead>\n",
              "  <tbody>\n",
              "    <tr>\n",
              "      <th>0</th>\n",
              "      <td>web generally considered begun around continue...</td>\n",
              "      <td>november ceo jason citron tweeted screenshot s...</td>\n",
              "    </tr>\n",
              "    <tr>\n",
              "      <th>1</th>\n",
              "      <td>edit box interface anyone could edit wikipedia...</td>\n",
              "      <td>edit box interface anyone could edit wikipedia...</td>\n",
              "    </tr>\n",
              "    <tr>\n",
              "      <th>2</th>\n",
              "      <td>also served ethereum foundations first chief t...</td>\n",
              "      <td>also served ethereum foundations first chief t...</td>\n",
              "    </tr>\n",
              "    <tr>\n",
              "      <th>3</th>\n",
              "      <td>journal technology transfer. loughlin michael ...</td>\n",
              "      <td>loughlin michael may. makes management buzzwor...</td>\n",
              "    </tr>\n",
              "    <tr>\n",
              "      <th>4</th>\n",
              "      <td>handling risks presented cryptoassets already ...</td>\n",
              "      <td>inexperienced investors particular risk losing...</td>\n",
              "    </tr>\n",
              "    <tr>\n",
              "      <th>5</th>\n",
              "      <td>seems know everything likes dislikes friends s...</td>\n",
              "      <td>cryptocurrency incentivize participation distr...</td>\n",
              "    </tr>\n",
              "    <tr>\n",
              "      <th>6</th>\n",
              "      <td>fund research development teams building found...</td>\n",
              "      <td>fund research development teams building found...</td>\n",
              "    </tr>\n",
              "    <tr>\n",
              "      <th>7</th>\n",
              "      <td>examples would include status metamask mycrypt...</td>\n",
              "      <td>examples would include status metamask mycrypt...</td>\n",
              "    </tr>\n",
              "    <tr>\n",
              "      <th>8</th>\n",
              "      <td>kusama scalable development network built near...</td>\n",
              "      <td>kusama scalable development network built near...</td>\n",
              "    </tr>\n",
              "    <tr>\n",
              "      <th>9</th>\n",
              "      <td>grant recipients considered partners polkadot ...</td>\n",
              "      <td>grant recipients considered partners polkadot ...</td>\n",
              "    </tr>\n",
              "  </tbody>\n",
              "</table>\n",
              "</div>\n",
              "      <button class=\"colab-df-convert\" onclick=\"convertToInteractive('df-0873e697-4958-4720-b099-61dacdccfb3e')\"\n",
              "              title=\"Convert this dataframe to an interactive table.\"\n",
              "              style=\"display:none;\">\n",
              "        \n",
              "  <svg xmlns=\"http://www.w3.org/2000/svg\" height=\"24px\"viewBox=\"0 0 24 24\"\n",
              "       width=\"24px\">\n",
              "    <path d=\"M0 0h24v24H0V0z\" fill=\"none\"/>\n",
              "    <path d=\"M18.56 5.44l.94 2.06.94-2.06 2.06-.94-2.06-.94-.94-2.06-.94 2.06-2.06.94zm-11 1L8.5 8.5l.94-2.06 2.06-.94-2.06-.94L8.5 2.5l-.94 2.06-2.06.94zm10 10l.94 2.06.94-2.06 2.06-.94-2.06-.94-.94-2.06-.94 2.06-2.06.94z\"/><path d=\"M17.41 7.96l-1.37-1.37c-.4-.4-.92-.59-1.43-.59-.52 0-1.04.2-1.43.59L10.3 9.45l-7.72 7.72c-.78.78-.78 2.05 0 2.83L4 21.41c.39.39.9.59 1.41.59.51 0 1.02-.2 1.41-.59l7.78-7.78 2.81-2.81c.8-.78.8-2.07 0-2.86zM5.41 20L4 18.59l7.72-7.72 1.47 1.35L5.41 20z\"/>\n",
              "  </svg>\n",
              "      </button>\n",
              "      \n",
              "  <style>\n",
              "    .colab-df-container {\n",
              "      display:flex;\n",
              "      flex-wrap:wrap;\n",
              "      gap: 12px;\n",
              "    }\n",
              "\n",
              "    .colab-df-convert {\n",
              "      background-color: #E8F0FE;\n",
              "      border: none;\n",
              "      border-radius: 50%;\n",
              "      cursor: pointer;\n",
              "      display: none;\n",
              "      fill: #1967D2;\n",
              "      height: 32px;\n",
              "      padding: 0 0 0 0;\n",
              "      width: 32px;\n",
              "    }\n",
              "\n",
              "    .colab-df-convert:hover {\n",
              "      background-color: #E2EBFA;\n",
              "      box-shadow: 0px 1px 2px rgba(60, 64, 67, 0.3), 0px 1px 3px 1px rgba(60, 64, 67, 0.15);\n",
              "      fill: #174EA6;\n",
              "    }\n",
              "\n",
              "    [theme=dark] .colab-df-convert {\n",
              "      background-color: #3B4455;\n",
              "      fill: #D2E3FC;\n",
              "    }\n",
              "\n",
              "    [theme=dark] .colab-df-convert:hover {\n",
              "      background-color: #434B5C;\n",
              "      box-shadow: 0px 1px 3px 1px rgba(0, 0, 0, 0.15);\n",
              "      filter: drop-shadow(0px 1px 2px rgba(0, 0, 0, 0.3));\n",
              "      fill: #FFFFFF;\n",
              "    }\n",
              "  </style>\n",
              "\n",
              "      <script>\n",
              "        const buttonEl =\n",
              "          document.querySelector('#df-0873e697-4958-4720-b099-61dacdccfb3e button.colab-df-convert');\n",
              "        buttonEl.style.display =\n",
              "          google.colab.kernel.accessAllowed ? 'block' : 'none';\n",
              "\n",
              "        async function convertToInteractive(key) {\n",
              "          const element = document.querySelector('#df-0873e697-4958-4720-b099-61dacdccfb3e');\n",
              "          const dataTable =\n",
              "            await google.colab.kernel.invokeFunction('convertToInteractive',\n",
              "                                                     [key], {});\n",
              "          if (!dataTable) return;\n",
              "\n",
              "          const docLinkHtml = 'Like what you see? Visit the ' +\n",
              "            '<a target=\"_blank\" href=https://colab.research.google.com/notebooks/data_table.ipynb>data table notebook</a>'\n",
              "            + ' to learn more about interactive tables.';\n",
              "          element.innerHTML = '';\n",
              "          dataTable['output_type'] = 'display_data';\n",
              "          await google.colab.output.renderOutput(dataTable, element);\n",
              "          const docLink = document.createElement('div');\n",
              "          docLink.innerHTML = docLinkHtml;\n",
              "          element.appendChild(docLink);\n",
              "        }\n",
              "      </script>\n",
              "    </div>\n",
              "  </div>\n",
              "  "
            ]
          },
          "metadata": {},
          "execution_count": 68
        }
      ]
    },
    {
      "cell_type": "markdown",
      "source": [
        "Simple graph of sentences based on individual, unique words as nodes and consequtive words being an edge / relation between them."
      ],
      "metadata": {
        "id": "s9yqP2zY0812"
      }
    },
    {
      "cell_type": "code",
      "source": [
        "import networkx as nx\n",
        "import matplotlib.pyplot as plt"
      ],
      "metadata": {
        "id": "lguLCoqLKP4g"
      },
      "execution_count": 69,
      "outputs": []
    },
    {
      "cell_type": "code",
      "source": [
        "def WordList(document):\n",
        "    sentences = [sent for sent in document.split('.') if sent != '']\n",
        "    document = []\n",
        "    for sent in sentences:\n",
        "        words = sent.strip().split()\n",
        "        document.append(words)\n",
        "        \n",
        "    return document"
      ],
      "metadata": {
        "id": "-1Q-ftmfvuLz"
      },
      "execution_count": 100,
      "outputs": []
    },
    {
      "cell_type": "code",
      "source": [
        "def BuildGraph(doc):\n",
        "    doc = WordList(doc)\n",
        "\n",
        "    nodes = Entities(doc)\n",
        "    edges = Relations(doc)\n",
        "    G = nx.Graph()\n",
        "    G.add_nodes_from(nodes)\n",
        "    G.add_edges_from(edges)\n",
        "    \n",
        "    return G"
      ],
      "metadata": {
        "id": "ADch8sVJKWMm"
      },
      "execution_count": 102,
      "outputs": []
    },
    {
      "cell_type": "code",
      "source": [
        "def Entities(document):\n",
        "    unique_words = []\n",
        "    for sent in document:\n",
        "        for word in sent:\n",
        "            if word not in unique_words:\n",
        "                unique_words.append(word)\n",
        "    return unique_words"
      ],
      "metadata": {
        "id": "ZxLkThxYKXe2"
      },
      "execution_count": 103,
      "outputs": []
    },
    {
      "cell_type": "code",
      "source": [
        "def Relations(document):\n",
        "    bigrams = []\n",
        "    for sent in document:\n",
        "        for i in range(len(sent)-1):\n",
        "            pair = [sent[i], sent[i+1]]\n",
        "            if pair not in bigrams:\n",
        "                bigrams.append(pair)\n",
        "    return bigrams"
      ],
      "metadata": {
        "id": "pojD_iy6Mmdg"
      },
      "execution_count": 104,
      "outputs": []
    },
    {
      "cell_type": "code",
      "source": [
        "G = BuildGraph(gen_df2['Summary'][3])"
      ],
      "metadata": {
        "id": "-bwA9rsrwR0x"
      },
      "execution_count": 105,
      "outputs": []
    },
    {
      "cell_type": "code",
      "source": [
        "!apt install libgraphviz-dev\n",
        "!pip install pygraphviz"
      ],
      "metadata": {
        "id": "oX0ASK4nxSX6"
      },
      "execution_count": null,
      "outputs": []
    },
    {
      "cell_type": "code",
      "source": [
        "from networkx.drawing.nx_agraph import graphviz_layout"
      ],
      "metadata": {
        "id": "DpIQ7OTPxHWo"
      },
      "execution_count": 106,
      "outputs": []
    },
    {
      "cell_type": "code",
      "source": [
        "def PlotGraph(G):\n",
        "    plt.figure(figsize=(10,10))\n",
        "    \n",
        "    pos = graphviz_layout(G)\n",
        "\n",
        "    nx.draw(G, pos=pos, with_labels=True)\n",
        "    edge_labels = nx.get_edge_attributes(G, 'weight')\n",
        "    nx.draw_networkx_edge_labels(G, pos, edge_labels=edge_labels)\n",
        "    \n",
        "    plt.show()\n",
        "    return"
      ],
      "metadata": {
        "id": "amXOOucRwa0D"
      },
      "execution_count": 110,
      "outputs": []
    },
    {
      "cell_type": "code",
      "source": [
        "PlotGraph(G)"
      ],
      "metadata": {
        "colab": {
          "base_uri": "https://localhost:8080/",
          "height": 750
        },
        "id": "RrQ8Oee0wckY",
        "outputId": "f530338c-e836-42f7-bded-ead6a8560132"
      },
      "execution_count": 111,
      "outputs": [
        {
          "output_type": "display_data",
          "data": {
            "text/plain": [
              "<Figure size 720x720 with 1 Axes>"
            ],
            "image/png": "[encoded data removed]"
          },
          "metadata": {}
        }
      ]
    },
    {
      "cell_type": "markdown",
      "source": [
        "# News Topic Modelling from GDELT\n",
        "\n",
        "GDELT using a Python package - articles are labelled with topics, personalities, and locations. We can examine the topic labelling by frequency over time to examine when certain topics are more frequently mentioned and when others are less frequently mentioned."
      ],
      "metadata": {
        "id": "felLJzV9jhdM"
      }
    },
    {
      "cell_type": "code",
      "source": [
        "!pip install gdelt\n",
        "import gdelt\n",
        "gd = gdelt.gdelt(version=1)"
      ],
      "metadata": {
        "id": "igM07z7SjDD9"
      },
      "execution_count": null,
      "outputs": []
    },
    {
      "cell_type": "code",
      "source": [
        "root_folder = '/content/drive/My Drive/NewsData'"
      ],
      "metadata": {
        "id": "SbYVYc_Zkyku"
      },
      "execution_count": null,
      "outputs": []
    },
    {
      "cell_type": "code",
      "source": [
        "import os\n",
        "os.makedirs(root_folder, exist_ok=True)"
      ],
      "metadata": {
        "id": "ZquRq0q0jhLN"
      },
      "execution_count": null,
      "outputs": []
    },
    {
      "cell_type": "code",
      "source": [
        "import datetime\n",
        "cur_date = datetime.datetime(2022,3,13) - datetime.timedelta(days=60)\n",
        "end_date = datetime.datetime(2022,3,13)"
      ],
      "metadata": {
        "id": "cANs8pz7jq7-"
      },
      "execution_count": null,
      "outputs": []
    },
    {
      "cell_type": "code",
      "source": [
        "while cur_date < end_date:\n",
        "    print(\"%s-%s-%s\"%(cur_date.year, cur_date.month, cur_date.day))\n",
        "    if not os.path.exists(\"data/%s-%s-%s.pkl\"%(cur_date.year, cur_date.month, cur_date.day)):\n",
        "\n",
        "      year = cur_date.year\n",
        "      month = str(cur_date.month)\n",
        "      day = str(cur_date.day)\n",
        "      \n",
        "      if cur_date.month < 10:\n",
        "        month = \"0\"+month\n",
        "      if cur_date.day < 10:\n",
        "        day = \"0\"+day\n",
        "\n",
        "      results = gd.Search(['%s %s %s'%(year, month, day)],table='gkg',coverage=True, translation=False)\n",
        "      results.to_pickle(\"data/%s-%s-%s.pkl\"%(cur_date.year, cur_date.month, cur_date.day))\n",
        "\n",
        "    cur_date+=datetime.timedelta(days=1)\n",
        "    \n",
        "    df = pd.DataFrame()"
      ],
      "metadata": {
        "id": "Ej3Z8dfgj3aM"
      },
      "execution_count": null,
      "outputs": []
    },
    {
      "cell_type": "code",
      "source": [
        "k = os.listdir(root_folder)"
      ],
      "metadata": {
        "id": "dWRirqpvkOj6"
      },
      "execution_count": null,
      "outputs": []
    },
    {
      "cell_type": "code",
      "source": [
        "for i in k:\n",
        "    print(i)\n",
        "    if i.endswith(\".pkl\"):\n",
        "      tmp = pd.read_pickle(\"data/\"+i)\n",
        "      tmp = tmp[tmp[\"SOURCES\"].apply(lambda x: x in mySources)]\n",
        "      df = pd.concat([df, tmp])\n",
        "df.DATE = df.DATE.apply(lambda x: str(x))\n",
        "df.DATE = pd.to_datetime(df.DATE)\n",
        "df.fillna(\"\", inplace=True)\n",
        "df.set_index(\"DATE\", drop=True, inplace=True)"
      ],
      "metadata": {
        "id": "7HsEkeHJkSTj"
      },
      "execution_count": null,
      "outputs": []
    },
    {
      "cell_type": "code",
      "source": [
        "df[\"dprk\"] = df[\"LOCATIONS\"].apply(lambda x: x.find(\"North Korea\") > -1)\n",
        "df[\"ukraine\"] = df[\"LOCATIONS\"].apply(lambda x: x.find(\"Ukraine\") > -1)\n",
        "df[\"russia\"] = df[\"LOCATIONS\"].apply(lambda x: x.find(\"Russia\") > -1)\n",
        "df[\"iran\"] = df[\"LOCATIONS\"].apply(lambda x: x.find(\"Iran\") > -1)\n",
        "df[\"china\"] = df[\"LOCATIONS\"].apply(lambda x: x.find(\"China\") > -1)"
      ],
      "metadata": {
        "id": "gIOYFInKnRP6"
      },
      "execution_count": null,
      "outputs": []
    },
    {
      "cell_type": "code",
      "source": [
        "loc_df = df.groupby([\"SOURCES\", \"DATE\"])[[\"dprk\", \"ukraine\", \"russia\", \"iran\", \"china\"]].sum()"
      ],
      "metadata": {
        "id": "i129i3M8nYYo"
      },
      "execution_count": null,
      "outputs": []
    },
    {
      "cell_type": "code",
      "source": [
        "mySources = [\"nytimes.com\", \"washingtonpost.com\", \"foxnews.com\", \"cnn.com\"]"
      ],
      "metadata": {
        "id": "P0yXG9p-ncgq"
      },
      "execution_count": null,
      "outputs": []
    },
    {
      "cell_type": "code",
      "source": [
        "time_series = pd.DataFrame()\n",
        "for publisher in mySources:\n",
        "  time_series = pd.concat([time_series, loc_df.ix[publisher].add_prefix(\"{}_\".format(publisher))], axis=1)"
      ],
      "metadata": {
        "id": "w-lGNQnJneA0"
      },
      "execution_count": null,
      "outputs": []
    },
    {
      "cell_type": "code",
      "source": [
        "mape_df = pd.DataFrame()\n",
        "fig, axs = plt.subplots(4, 5, sharex=True)\n",
        "fig.set_size_inches(16,12)\n",
        "x = y = 0"
      ],
      "metadata": {
        "id": "fqVMzpiXnfnF"
      },
      "execution_count": null,
      "outputs": []
    },
    {
      "cell_type": "code",
      "source": [
        "for issue in time_series:\n",
        "\n",
        "    if issue.find(\".com\") < 0:\n",
        "      continue\n",
        "\n",
        "    train_l = len(time_series)-5\n",
        "\n",
        "    selected_series = time_series[[col for col in time_series.columns if (col.find(issue[issue.find(\"_\"):]) > -1)]]\n",
        "    pub_series = time_series[[col for col in time_series.columns if (col.find(issue[:issue.find(\"_\")]) > -1)]].drop(columns=issue)\n",
        "    selected_series = selected_series.join(pub_series)\n",
        "\n",
        "    s_model = SARIMAX(endog = selected_series[[issue]][:train_l][1:],\n",
        "                      exog = selected_series[[x for x in selected_series.columns if x != issue]][:train_l].shift().add_suffix(\"_l1\")[1:],\n",
        "                      order=(3,1,1), seasonal_order=(1,0,1,7)).fit()\n",
        "\n",
        "\n",
        "    f_ru = selected_series[[issue]].copy()[1:]\n",
        "    f_ru.columns = [\"actual\"]\n",
        "    f_ru[\"predicted\"] = s_model.predict(end=datetime.datetime(2019, 10, 6), endog = selected_series[[issue]][-5:],exog = selected_series[[x for x in selected_series.columns if x != issue]].shift()[-5:], \n",
        "                                              dynamic= False)\n",
        "    \n",
        "    testing = f_ru.copy()\n",
        "\n",
        "    testing[\"error\"] = np.abs((testing[\"actual\"] - testing[\"predicted\"]) / testing[\"actual\"])\n",
        "    fit = round(testing[testing[\"actual\"] != 0].error.mean()*100)\n",
        "    \n",
        "    mape_df.loc[issue, \"NewspapersOnly_model\"] = fit\n",
        "\n",
        "    testing2 = testing[-5:]\n",
        "    fit_p = round(testing2[testing2[\"actual\"] != 0].error.mean()*100)\n",
        "    mape_df.loc[issue, \"NewspapersOnly_predicted\"] = fit_p\n",
        "\n",
        "\n",
        "\n",
        "    f_ru[\"actual\"].plot(title=\"{}\\nMAPE: test: {}% model: {}%\".format(issue, fit_p, fit), ax=axs[x,y])\n",
        "    f_ru[\"predicted\"][:-5].plot(color=\"orange\", label=\"predicted: Train\", ax=axs[x,y])\n",
        "    f_ru[\"predicted\"][-6:].plot(color=\"red\", label=\"predicted: Test\", ax=axs[x,y])\n",
        "\n",
        "    x+=1\n",
        "    if x > 3:\n",
        "        x =0\n",
        "        y+=1"
      ],
      "metadata": {
        "id": "b_OWo6ePn0Jp"
      },
      "execution_count": null,
      "outputs": []
    },
    {
      "cell_type": "code",
      "source": [
        "handles, labels = axs[0,0].get_legend_handles_labels()\n",
        "fig.legend(handles, labels, loc='center right')\n",
        "\n",
        "fig.suptitle(\"News forecast using within publication and external topic\")"
      ],
      "metadata": {
        "id": "vVCzvUkYn6pe"
      },
      "execution_count": null,
      "outputs": []
    }
  ]
}