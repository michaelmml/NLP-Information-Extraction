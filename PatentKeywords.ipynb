{
  "nbformat": 4,
  "nbformat_minor": 0,
  "metadata": {
    "colab": {
      "name": "PatentKeywords.ipynb",
      "provenance": [],
      "collapsed_sections": [
        "szu7KJzAMK0U"
      ],
      "authorship_tag": "ABX9TyMmUq7GVbGKFGStbvm+C00v",
      "include_colab_link": true
    },
    "kernelspec": {
      "name": "python3",
      "display_name": "Python 3"
    },
    "language_info": {
      "name": "python"
    }
  },
  "cells": [
    {
      "cell_type": "markdown",
      "metadata": {
        "id": "view-in-github",
        "colab_type": "text"
      },
      "source": [
        "<a href=\"https://colab.research.google.com/github/michaelmml/NLP-Information-Extraction/blob/main/PatentKeywords.ipynb\" target=\"_parent\"><img src=\"https://colab.research.google.com/assets/colab-badge.svg\" alt=\"Open In Colab\"/></a>"
      ]
    },
    {
      "cell_type": "markdown",
      "source": [
        "# Examining Concepts from Blockchain Patents\n",
        "\n",
        "From over a 1000 blockchain related patents over the last 5 years, we are applying structured extraction techniques to identify common themes in these patents and concepts arising from keyword and nounidentification methods."
      ],
      "metadata": {
        "id": "YEeXCK9QxtKQ"
      }
    },
    {
      "cell_type": "code",
      "execution_count": 1,
      "metadata": {
        "colab": {
          "base_uri": "https://localhost:8080/"
        },
        "id": "M5_bTAvNKHqc",
        "outputId": "d16d30d1-9be0-4ee4-8872-098778c732ab"
      },
      "outputs": [
        {
          "output_type": "stream",
          "name": "stdout",
          "text": [
            "Mounted at /content/drive\n"
          ]
        }
      ],
      "source": [
        "from google.colab import drive\n",
        "drive.mount(\"/content/drive\")"
      ]
    },
    {
      "cell_type": "code",
      "source": [
        "import pandas as pd\n",
        "import numpy as np\n",
        "import re"
      ],
      "metadata": {
        "id": "1zlowgycKKF4"
      },
      "execution_count": 2,
      "outputs": []
    },
    {
      "cell_type": "code",
      "source": [
        "root_folder='/content/drive/My Drive/DataAnalysis'"
      ],
      "metadata": {
        "id": "umps-AKzKK9I"
      },
      "execution_count": 3,
      "outputs": []
    },
    {
      "cell_type": "code",
      "source": [
        "data = pd.read_csv(root_folder+'/PatentBlockchain.csv')\n",
        "data['patent_date'] = pd.Series(pd.to_datetime(data['patent_date'], format='%d/%m/%Y'))\n",
        "data.info()"
      ],
      "metadata": {
        "colab": {
          "base_uri": "https://localhost:8080/"
        },
        "id": "qMo2e4YoKM0R",
        "outputId": "d50ccf2c-d8c4-4f40-bcc3-6615418ac659"
      },
      "execution_count": 4,
      "outputs": [
        {
          "output_type": "stream",
          "name": "stdout",
          "text": [
            "<class 'pandas.core.frame.DataFrame'>\n",
            "RangeIndex: 1642 entries, 0 to 1641\n",
            "Data columns (total 5 columns):\n",
            " #   Column           Non-Null Count  Dtype         \n",
            "---  ------           --------------  -----         \n",
            " 0   patent_abstract  1642 non-null   object        \n",
            " 1   patent_date      1642 non-null   datetime64[ns]\n",
            " 2   patent_number    1642 non-null   int64         \n",
            " 3   patent_title     1642 non-null   object        \n",
            " 4   patent_year      1642 non-null   int64         \n",
            "dtypes: datetime64[ns](1), int64(2), object(2)\n",
            "memory usage: 64.3+ KB\n"
          ]
        }
      ]
    },
    {
      "cell_type": "code",
      "source": [
        "import matplotlib.pyplot as plt\n",
        "%matplotlib inline\n",
        "plt.style.use('fivethirtyeight')"
      ],
      "metadata": {
        "id": "CYwR6YiZLC4B"
      },
      "execution_count": 5,
      "outputs": []
    },
    {
      "cell_type": "code",
      "source": [
        "import warnings\n",
        "warnings.simplefilter(\"ignore\", FutureWarning)"
      ],
      "metadata": {
        "id": "0Tp-6y9PMMU8"
      },
      "execution_count": 6,
      "outputs": []
    },
    {
      "cell_type": "markdown",
      "source": [
        "We see that blockchain patents have grown a low base over the last 5 years, one thing to keep in mind as we analyse the semantics of patents is that there is obviously a lot higher frequency of mentions of any keywords in general. So we have to consider an average over certain time periods."
      ],
      "metadata": {
        "id": "JMhV4xkGEiE_"
      }
    },
    {
      "cell_type": "code",
      "source": [
        "import matplotlib.pyplot as plt\n",
        "%matplotlib inline\n",
        "\n",
        "plt.style.use('fivethirtyeight')\n",
        "\n",
        "data['year-month'] = [\n",
        "    pd.datetime(year, month, 1) for year, month in zip(\n",
        "        data['patent_date'].dt.year, data['patent_date'].dt.month)]\n",
        "\n",
        "month_group = data.groupby('year-month')['patent_number'].count().reset_index()\n",
        "\n",
        "month_group.set_index('year-month')['patent_number'].plot(figsize=(16, 8))\n",
        "plt.ylabel('Number of Patents')\n",
        "plt.xlabel('Date')\n",
        "plt.title('Blockchain Patents over Time')"
      ],
      "metadata": {
        "colab": {
          "base_uri": "https://localhost:8080/",
          "height": 527
        },
        "id": "RiQwbDpOKnee",
        "outputId": "fc639ba8-c574-44d1-bf2c-2137f2cf2bc9"
      },
      "execution_count": 7,
      "outputs": [
        {
          "output_type": "execute_result",
          "data": {
            "text/plain": [
              "Text(0.5, 1.0, 'Blockchain Patents over Time')"
            ]
          },
          "metadata": {},
          "execution_count": 7
        },
        {
          "output_type": "display_data",
          "data": {
            "image/png": "[encoded data removed]",
            "text/plain": [
              "<Figure size 1152x576 with 1 Axes>"
            ]
          },
          "metadata": {}
        }
      ]
    },
    {
      "cell_type": "code",
      "source": [
        "month_group.groupby(month_group['year-month'].dt.year)['patent_number'].sum().plot.bar(\n",
        "    color='red', edgecolor='k', figsize=(12, 6))\n",
        "plt.xlabel('Year')\n",
        "plt.ylabel('Number of Patents')\n",
        "plt.title('Neural Network Patents by Year')"
      ],
      "metadata": {
        "id": "VjdIUkVkMjAB"
      },
      "execution_count": null,
      "outputs": []
    },
    {
      "cell_type": "markdown",
      "source": [
        "# Keyword Analysis and Extraction\n",
        "\n",
        "Initial data cleaning and analysis then application of TF-IDF (term frequency-inverse document frequency) which is a statistical measure that evaluates how relevant a word is to a document and also Spacy part-of-speech noun identification."
      ],
      "metadata": {
        "id": "QOdJ2tcNMzx7"
      }
    },
    {
      "cell_type": "code",
      "source": [
        "from wordcloud import WordCloud\n",
        "import nltk\n",
        "nltk.download('stopwords')\n",
        "nltk.download('punkt')"
      ],
      "metadata": {
        "colab": {
          "base_uri": "https://localhost:8080/"
        },
        "id": "M54NQ1mLNdBi",
        "outputId": "e7c7d38a-b135-4645-e288-6d47590bd9b2"
      },
      "execution_count": 8,
      "outputs": [
        {
          "output_type": "stream",
          "name": "stdout",
          "text": [
            "[nltk_data] Downloading package stopwords to /root/nltk_data...\n",
            "[nltk_data]   Unzipping corpora/stopwords.zip.\n",
            "[nltk_data] Downloading package punkt to /root/nltk_data...\n",
            "[nltk_data]   Unzipping tokenizers/punkt.zip.\n"
          ]
        },
        {
          "output_type": "execute_result",
          "data": {
            "text/plain": [
              "True"
            ]
          },
          "metadata": {},
          "execution_count": 8
        }
      ]
    },
    {
      "cell_type": "code",
      "source": [
        "stopwords = nltk.corpus.stopwords.words('english')"
      ],
      "metadata": {
        "id": "3aDLibX4ObEV"
      },
      "execution_count": 9,
      "outputs": []
    },
    {
      "cell_type": "code",
      "source": [
        "contraction_mapping = {\"ain't\": \"is not\", \"aren't\": \"are not\",\"can't\": \"cannot\", \"'cause\": \"because\", \"could've\": \"could have\", \"couldn't\": \"could not\",\n",
        "                           \"didn't\": \"did not\",  \"doesn't\": \"does not\", \"don't\": \"do not\", \"hadn't\": \"had not\", \"hasn't\": \"has not\", \"haven't\": \"have not\",\n",
        "                           \"he'd\": \"he would\",\"he'll\": \"he will\", \"he's\": \"he is\", \"how'd\": \"how did\", \"how'd'y\": \"how do you\", \"how'll\": \"how will\", \"how's\": \"how is\",\n",
        "                           \"I'd\": \"I would\", \"I'd've\": \"I would have\", \"I'll\": \"I will\", \"I'll've\": \"I will have\",\"I'm\": \"I am\", \"I've\": \"I have\", \"i'd\": \"i would\",\n",
        "                           \"i'd've\": \"i would have\", \"i'll\": \"i will\",  \"i'll've\": \"i will have\",\"i'm\": \"i am\", \"i've\": \"i have\", \"isn't\": \"is not\", \"it'd\": \"it would\",\n",
        "                           \"it'd've\": \"it would have\", \"it'll\": \"it will\", \"it'll've\": \"it will have\",\"it's\": \"it is\", \"let's\": \"let us\", \"ma'am\": \"madam\",\n",
        "                           \"mayn't\": \"may not\", \"might've\": \"might have\",\"mightn't\": \"might not\",\"mightn't've\": \"might not have\", \"must've\": \"must have\",\n",
        "                           \"mustn't\": \"must not\", \"mustn't've\": \"must not have\", \"needn't\": \"need not\", \"needn't've\": \"need not have\",\"o'clock\": \"of the clock\",\n",
        "                           \"oughtn't\": \"ought not\", \"oughtn't've\": \"ought not have\", \"shan't\": \"shall not\", \"sha'n't\": \"shall not\", \"shan't've\": \"shall not have\",\n",
        "                           \"she'd\": \"she would\", \"she'd've\": \"she would have\", \"she'll\": \"she will\", \"she'll've\": \"she will have\", \"she's\": \"she is\",\n",
        "                           \"should've\": \"should have\", \"shouldn't\": \"should not\", \"shouldn't've\": \"should not have\", \"so've\": \"so have\",\"so's\": \"so as\",\n",
        "                           \"this's\": \"this is\",\"that'd\": \"that would\", \"that'd've\": \"that would have\", \"that's\": \"that is\", \"there'd\": \"there would\",\n",
        "                           \"there'd've\": \"there would have\", \"there's\": \"there is\", \"here's\": \"here is\",\"they'd\": \"they would\", \"they'd've\": \"they would have\",\n",
        "                           \"they'll\": \"they will\", \"they'll've\": \"they will have\", \"they're\": \"they are\", \"they've\": \"they have\", \"to've\": \"to have\",\n",
        "                           \"wasn't\": \"was not\", \"we'd\": \"we would\", \"we'd've\": \"we would have\", \"we'll\": \"we will\", \"we'll've\": \"we will have\", \"we're\": \"we are\",\n",
        "                           \"we've\": \"we have\", \"weren't\": \"were not\", \"what'll\": \"what will\", \"what'll've\": \"what will have\", \"what're\": \"what are\",\n",
        "                           \"what's\": \"what is\", \"what've\": \"what have\", \"when's\": \"when is\", \"when've\": \"when have\", \"where'd\": \"where did\", \"where's\": \"where is\",\n",
        "                           \"where've\": \"where have\", \"who'll\": \"who will\", \"who'll've\": \"who will have\", \"who's\": \"who is\", \"who've\": \"who have\",\n",
        "                           \"why's\": \"why is\", \"why've\": \"why have\", \"will've\": \"will have\", \"won't\": \"will not\", \"won't've\": \"will not have\",\n",
        "                           \"would've\": \"would have\", \"wouldn't\": \"would not\", \"wouldn't've\": \"would not have\", \"y'all\": \"you all\",\n",
        "                           \"y'all'd\": \"you all would\",\"y'all'd've\": \"you all would have\",\"y'all're\": \"you all are\",\"y'all've\": \"you all have\",\n",
        "                           \"you'd\": \"you would\", \"you'd've\": \"you would have\", \"you'll\": \"you will\", \"you'll've\": \"you will have\",\n",
        "                           \"you're\": \"you are\", \"you've\": \"you have\"}"
      ],
      "metadata": {
        "id": "fRccsk-KNUze"
      },
      "execution_count": 10,
      "outputs": []
    },
    {
      "cell_type": "markdown",
      "source": [
        "Logical to maintain **two data cleaners** with opposing levels of granularity - one will clean the text of short-words, stop-words and any punctuations, which is useful for embedding due to a reduced vocabulary and for looking at words without considering part of speech. The light cleaner is therefore to preserve grammar / PoS and the structure of sentences to identify nouns, adjectives, etc. "
      ],
      "metadata": {
        "id": "m4lA92HKEt7I"
      }
    },
    {
      "cell_type": "code",
      "source": [
        "def text_cleaner(text):\n",
        "    newString = text.lower()\n",
        "    newString = re.sub('\"', '', newString)\n",
        "    newString = re.sub(r'\\([^)]*\\)', '', newString)\n",
        "    newString = ' '.join([contraction_mapping[t] if t in contraction_mapping else t for t in newString.split(' ')])\n",
        "    newString = re.sub(r\"’s\\b\", \"\", newString)\n",
        "    newString = re.sub('[^a-zA-Z\\s\\-]', '', newString)\n",
        "    newString = re.sub('[^a-zA-Z\\s]', ' ', newString)\n",
        "    tokens = [w for w in newString.split() if w not in stopwords]\n",
        "    long_words = []\n",
        "    prev_word = []\n",
        "    for i in tokens:\n",
        "        if i not in prev_word and len(i) >= 3:  # removing short word\n",
        "            long_words.append(i)\n",
        "            prev_word = [i]\n",
        "    return (\" \".join(long_words)).strip()"
      ],
      "metadata": {
        "id": "mIrBmZIDNX-5"
      },
      "execution_count": 11,
      "outputs": []
    },
    {
      "cell_type": "code",
      "source": [
        "def text_cleaner_light(text):\n",
        "    newString = text.lower()\n",
        "    newString = re.sub('\"', '', newString)\n",
        "    newString = re.sub(r'\\([^)]*\\)', '', newString)\n",
        "    newString = ' '.join([contraction_mapping[t] if t in contraction_mapping else t for t in newString.split(' ')])\n",
        "    newString = re.sub(r\"’s\\b\", \"\", newString)\n",
        "\n",
        "    return newString"
      ],
      "metadata": {
        "id": "V52QTXzt9xx8"
      },
      "execution_count": 12,
      "outputs": []
    },
    {
      "cell_type": "code",
      "source": [
        "def plot_wordcloud(year):\n",
        "    per_year = data[data['patent_year'] == year]\n",
        "    cleaned_text = per_year['patent_abstract'].apply(lambda x : text_cleaner(x))\n",
        "    long_string = ','.join(list(cleaned_text.values))\n",
        "    \n",
        "    # Create a WordCloud object\n",
        "    wordcloud = WordCloud(background_color=\"white\", max_words=1000, contour_width=3, contour_color='steelblue')\n",
        "    wordcloud.generate(long_string)\n",
        "    return wordcloud.to_image()"
      ],
      "metadata": {
        "id": "hvC3EgvWMqaU"
      },
      "execution_count": 13,
      "outputs": []
    },
    {
      "cell_type": "code",
      "source": [
        "plot_wordcloud(2018)"
      ],
      "metadata": {
        "colab": {
          "base_uri": "https://localhost:8080/",
          "height": 217
        },
        "id": "QIHEE-c1NniH",
        "outputId": "c64f713f-732d-429b-c2f0-3eeb0de6eba0"
      },
      "execution_count": 14,
      "outputs": [
        {
          "output_type": "execute_result",
          "data": {
            "image/png": "[encoded data removed]",
            "text/plain": [
              "<PIL.Image.Image image mode=RGB size=400x200 at 0x7FA88A901BD0>"
            ]
          },
          "metadata": {},
          "execution_count": 14
        }
      ]
    },
    {
      "cell_type": "code",
      "source": [
        "from sklearn.feature_extraction.text import CountVectorizer\n",
        "from sklearn.feature_extraction.text import TfidfTransformer\n",
        "from sklearn.feature_extraction.text import TfidfVectorizer"
      ],
      "metadata": {
        "id": "iN-__g6zRGov"
      },
      "execution_count": 15,
      "outputs": []
    },
    {
      "cell_type": "code",
      "source": [
        "data_year = data.groupby(['patent_year'])['patent_abstract'].apply(' '.join).reset_index()\n",
        "data_year['abstract_clean'] = data_year['patent_abstract'].apply(lambda x : text_cleaner(x))"
      ],
      "metadata": {
        "id": "7naOYnuuOjrS"
      },
      "execution_count": 16,
      "outputs": []
    },
    {
      "cell_type": "code",
      "source": [
        "def sort_coo(coo_matrix):\n",
        "    tuples = zip(coo_matrix.col, coo_matrix.data)\n",
        "    return sorted(tuples, key=lambda x: (x[1], x[0]), reverse=True)"
      ],
      "metadata": {
        "id": "ihobJkd7Qp4z"
      },
      "execution_count": 17,
      "outputs": []
    },
    {
      "cell_type": "code",
      "source": [
        "def extract_topn_from_vector(feature_names, sorted_items, topn=10):\n",
        "    sorted_items = sorted_items[:topn]\n",
        "    score_vals = []\n",
        "    feature_vals = []\n",
        "\n",
        "    for idx, score in sorted_items:\n",
        "        fname = feature_names[idx]\n",
        "        score_vals.append(round(score, 3))\n",
        "        feature_vals.append(feature_names[idx])\n",
        "\n",
        "    results = {}\n",
        "    for idx in range(len(feature_vals)):\n",
        "        results[feature_vals[idx]]=score_vals[idx]\n",
        "    return results"
      ],
      "metadata": {
        "id": "jPZyYMj6Q2p5"
      },
      "execution_count": 18,
      "outputs": []
    },
    {
      "cell_type": "markdown",
      "source": [
        "The **term frequency** of a word in a document. There are several ways of calculating this frequency, with the simplest being a raw count of instances a word appears in a document. \n",
        "\n",
        "The **inverse document frequency** of the word across a set of documents. This means, how common or rare a word is in the entire document set. The closer it is to 0, the more common a word is. This metric can be calculated by taking the total number of documents, dividing it by the number of documents that contain a word, and calculating the logarithm.\n",
        "\n",
        "In our case, we are looking at the term frequency of words in a particular time period and comparing against the frequency of words over the set of time periods."
      ],
      "metadata": {
        "id": "GbyFiKueLrd-"
      }
    },
    {
      "cell_type": "code",
      "source": [
        "def get_keywords(content_list):\n",
        "  keywords = []\n",
        "\n",
        "  cv = CountVectorizer(max_df = 0.85)\n",
        "  word_count_vector = cv.fit_transform(content_list)\n",
        "\n",
        "  tfidf_transformer = TfidfTransformer(smooth_idf=True,use_idf=True)\n",
        "  tfidf_transformer.fit(word_count_vector)\n",
        "\n",
        "  feature_names = cv.get_feature_names()\n",
        "\n",
        "  for i in range(len(content_list)):\n",
        "      doc = content_list[i]\n",
        "      tf_idf_vector = tfidf_transformer.transform(cv.transform([doc]))\n",
        "      sorted_items = sort_coo(tf_idf_vector.tocoo())\n",
        "      keys = extract_topn_from_vector(feature_names,sorted_items,10)\n",
        "      keywords.append(list(keys.keys()))\n",
        "  \n",
        "  return keywords"
      ],
      "metadata": {
        "id": "VSBoDP_3Q3z1"
      },
      "execution_count": 19,
      "outputs": []
    },
    {
      "cell_type": "code",
      "source": [
        "data_year = pd.concat([data_year, pd.Series(get_keywords(data_year['abstract_clean'].tolist()))], axis = 1)"
      ],
      "metadata": {
        "id": "XzliFXZtRK3O"
      },
      "execution_count": 20,
      "outputs": []
    },
    {
      "cell_type": "code",
      "source": [
        "data_year = data_year.rename(columns={0:\"keywords\"})"
      ],
      "metadata": {
        "id": "3vjEO5hmRhGM"
      },
      "execution_count": 21,
      "outputs": []
    },
    {
      "cell_type": "code",
      "source": [
        "data_year"
      ],
      "metadata": {
        "colab": {
          "base_uri": "https://localhost:8080/",
          "height": 285
        },
        "id": "HvyfS-o7_GvQ",
        "outputId": "d2f596b6-c4d4-405c-f3de-f65c82408617"
      },
      "execution_count": 22,
      "outputs": [
        {
          "output_type": "execute_result",
          "data": {
            "text/html": [
              "\n",
              "  <div id=\"df-01bd9c68-3020-4571-88d3-e2388b70f0dd\">\n",
              "    <div class=\"colab-df-container\">\n",
              "      <div>\n",
              "<style scoped>\n",
              "    .dataframe tbody tr th:only-of-type {\n",
              "        vertical-align: middle;\n",
              "    }\n",
              "\n",
              "    .dataframe tbody tr th {\n",
              "        vertical-align: top;\n",
              "    }\n",
              "\n",
              "    .dataframe thead th {\n",
              "        text-align: right;\n",
              "    }\n",
              "</style>\n",
              "<table border=\"1\" class=\"dataframe\">\n",
              "  <thead>\n",
              "    <tr style=\"text-align: right;\">\n",
              "      <th></th>\n",
              "      <th>patent_year</th>\n",
              "      <th>patent_abstract</th>\n",
              "      <th>abstract_clean</th>\n",
              "      <th>keywords</th>\n",
              "    </tr>\n",
              "  </thead>\n",
              "  <tbody>\n",
              "    <tr>\n",
              "      <th>0</th>\n",
              "      <td>2017</td>\n",
              "      <td>The invention describes an identity management...</td>\n",
              "      <td>invention describes identity management system...</td>\n",
              "      <td>[linket, identities, app, linkets, galois, vot...</td>\n",
              "    </tr>\n",
              "    <tr>\n",
              "      <th>1</th>\n",
              "      <td>2018</td>\n",
              "      <td>A blockchain test configuration may provide a ...</td>\n",
              "      <td>blockchain test configuration may provide simp...</td>\n",
              "      <td>[information, block, meeting, new, contract, m...</td>\n",
              "    </tr>\n",
              "    <tr>\n",
              "      <th>2</th>\n",
              "      <td>2019</td>\n",
              "      <td>A balancing and control (B&amp;C) system for API t...</td>\n",
              "      <td>balancing control system api transactions disc...</td>\n",
              "      <td>[block, information, plurality, receiving, ser...</td>\n",
              "    </tr>\n",
              "    <tr>\n",
              "      <th>3</th>\n",
              "      <td>2020</td>\n",
              "      <td>Using a blockchain transaction acceleration sy...</td>\n",
              "      <td>using blockchain transaction acceleration syst...</td>\n",
              "      <td>[information, block, contract, plurality, meth...</td>\n",
              "    </tr>\n",
              "    <tr>\n",
              "      <th>4</th>\n",
              "      <td>2021</td>\n",
              "      <td>Using a blockchain transaction acceleration sy...</td>\n",
              "      <td>using blockchain transaction acceleration syst...</td>\n",
              "      <td>[information, block, target, plurality, servic...</td>\n",
              "    </tr>\n",
              "  </tbody>\n",
              "</table>\n",
              "</div>\n",
              "      <button class=\"colab-df-convert\" onclick=\"convertToInteractive('df-01bd9c68-3020-4571-88d3-e2388b70f0dd')\"\n",
              "              title=\"Convert this dataframe to an interactive table.\"\n",
              "              style=\"display:none;\">\n",
              "        \n",
              "  <svg xmlns=\"http://www.w3.org/2000/svg\" height=\"24px\"viewBox=\"0 0 24 24\"\n",
              "       width=\"24px\">\n",
              "    <path d=\"M0 0h24v24H0V0z\" fill=\"none\"/>\n",
              "    <path d=\"M18.56 5.44l.94 2.06.94-2.06 2.06-.94-2.06-.94-.94-2.06-.94 2.06-2.06.94zm-11 1L8.5 8.5l.94-2.06 2.06-.94-2.06-.94L8.5 2.5l-.94 2.06-2.06.94zm10 10l.94 2.06.94-2.06 2.06-.94-2.06-.94-.94-2.06-.94 2.06-2.06.94z\"/><path d=\"M17.41 7.96l-1.37-1.37c-.4-.4-.92-.59-1.43-.59-.52 0-1.04.2-1.43.59L10.3 9.45l-7.72 7.72c-.78.78-.78 2.05 0 2.83L4 21.41c.39.39.9.59 1.41.59.51 0 1.02-.2 1.41-.59l7.78-7.78 2.81-2.81c.8-.78.8-2.07 0-2.86zM5.41 20L4 18.59l7.72-7.72 1.47 1.35L5.41 20z\"/>\n",
              "  </svg>\n",
              "      </button>\n",
              "      \n",
              "  <style>\n",
              "    .colab-df-container {\n",
              "      display:flex;\n",
              "      flex-wrap:wrap;\n",
              "      gap: 12px;\n",
              "    }\n",
              "\n",
              "    .colab-df-convert {\n",
              "      background-color: #E8F0FE;\n",
              "      border: none;\n",
              "      border-radius: 50%;\n",
              "      cursor: pointer;\n",
              "      display: none;\n",
              "      fill: #1967D2;\n",
              "      height: 32px;\n",
              "      padding: 0 0 0 0;\n",
              "      width: 32px;\n",
              "    }\n",
              "\n",
              "    .colab-df-convert:hover {\n",
              "      background-color: #E2EBFA;\n",
              "      box-shadow: 0px 1px 2px rgba(60, 64, 67, 0.3), 0px 1px 3px 1px rgba(60, 64, 67, 0.15);\n",
              "      fill: #174EA6;\n",
              "    }\n",
              "\n",
              "    [theme=dark] .colab-df-convert {\n",
              "      background-color: #3B4455;\n",
              "      fill: #D2E3FC;\n",
              "    }\n",
              "\n",
              "    [theme=dark] .colab-df-convert:hover {\n",
              "      background-color: #434B5C;\n",
              "      box-shadow: 0px 1px 3px 1px rgba(0, 0, 0, 0.15);\n",
              "      filter: drop-shadow(0px 1px 2px rgba(0, 0, 0, 0.3));\n",
              "      fill: #FFFFFF;\n",
              "    }\n",
              "  </style>\n",
              "\n",
              "      <script>\n",
              "        const buttonEl =\n",
              "          document.querySelector('#df-01bd9c68-3020-4571-88d3-e2388b70f0dd button.colab-df-convert');\n",
              "        buttonEl.style.display =\n",
              "          google.colab.kernel.accessAllowed ? 'block' : 'none';\n",
              "\n",
              "        async function convertToInteractive(key) {\n",
              "          const element = document.querySelector('#df-01bd9c68-3020-4571-88d3-e2388b70f0dd');\n",
              "          const dataTable =\n",
              "            await google.colab.kernel.invokeFunction('convertToInteractive',\n",
              "                                                     [key], {});\n",
              "          if (!dataTable) return;\n",
              "\n",
              "          const docLinkHtml = 'Like what you see? Visit the ' +\n",
              "            '<a target=\"_blank\" href=https://colab.research.google.com/notebooks/data_table.ipynb>data table notebook</a>'\n",
              "            + ' to learn more about interactive tables.';\n",
              "          element.innerHTML = '';\n",
              "          dataTable['output_type'] = 'display_data';\n",
              "          await google.colab.output.renderOutput(dataTable, element);\n",
              "          const docLink = document.createElement('div');\n",
              "          docLink.innerHTML = docLinkHtml;\n",
              "          element.appendChild(docLink);\n",
              "        }\n",
              "      </script>\n",
              "    </div>\n",
              "  </div>\n",
              "  "
            ],
            "text/plain": [
              "   patent_year  ...                                           keywords\n",
              "0         2017  ...  [linket, identities, app, linkets, galois, vot...\n",
              "1         2018  ...  [information, block, meeting, new, contract, m...\n",
              "2         2019  ...  [block, information, plurality, receiving, ser...\n",
              "3         2020  ...  [information, block, contract, plurality, meth...\n",
              "4         2021  ...  [information, block, target, plurality, servic...\n",
              "\n",
              "[5 rows x 4 columns]"
            ]
          },
          "metadata": {},
          "execution_count": 22
        }
      ]
    },
    {
      "cell_type": "markdown",
      "source": [
        "Some obvious keywords identified by Tf-idF include \"information\" and \"block\" but an interesting word that appears in several of the years is \"plurality\". From domain knowledge, plurality refers to pluraity of nodes in most cases. Another is \"contract\" which aligns the application of blockchain in smart contracts due to the ledger framework."
      ],
      "metadata": {
        "id": "hkMEBzPlw7K_"
      }
    },
    {
      "cell_type": "code",
      "source": [
        "data_year['keywords'].tolist()"
      ],
      "metadata": {
        "id": "o3OjOiV_wZo_"
      },
      "execution_count": null,
      "outputs": []
    },
    {
      "cell_type": "markdown",
      "source": [
        "**Rapid Automatic Keyword Extraction (RAKE) algorithm**"
      ],
      "metadata": {
        "id": "U1BzSapb1dA5"
      }
    },
    {
      "cell_type": "code",
      "source": [
        "!pip install rake_nltk"
      ],
      "metadata": {
        "id": "XV83xAgXz0J1"
      },
      "execution_count": null,
      "outputs": []
    },
    {
      "cell_type": "code",
      "source": [
        "from rake_nltk import Rake\n",
        "rake_nltk_var = Rake()"
      ],
      "metadata": {
        "id": "SRYacdVazyUm"
      },
      "execution_count": null,
      "outputs": []
    },
    {
      "cell_type": "code",
      "source": [
        "def rake(text):\n",
        "    rake_nltk_var.extract_keywords_from_text(text)\n",
        "    keyword_extracted = rake_nltk_var.get_ranked_phrases()\n",
        "    return keyword_extracted"
      ],
      "metadata": {
        "id": "QDSSadKIF-Fz"
      },
      "execution_count": null,
      "outputs": []
    },
    {
      "cell_type": "code",
      "source": [
        "data_year['rake_keywords'] = data_year['patent_abstract'].apply(lambda x : rake(x))\n",
        "data_year.drop(['patent_abstract', 'abstract_clean'], axis=1)"
      ],
      "metadata": {
        "id": "NRXabFwy0ftn"
      },
      "execution_count": null,
      "outputs": []
    },
    {
      "cell_type": "markdown",
      "source": [
        "**Gensim**"
      ],
      "metadata": {
        "id": "Ax7hXdTQ16hL"
      }
    },
    {
      "cell_type": "code",
      "source": [
        "from gensim.summarization import keywords"
      ],
      "metadata": {
        "id": "KSaB9bmJ1jjl"
      },
      "execution_count": null,
      "outputs": []
    },
    {
      "cell_type": "code",
      "source": [
        "data_year['gensim_keywords'] = data_year['patent_abstract'].apply(lambda x : keywords(x))"
      ],
      "metadata": {
        "id": "LQnjeUjn1oGo"
      },
      "execution_count": null,
      "outputs": []
    },
    {
      "cell_type": "code",
      "source": [
        "data_year"
      ],
      "metadata": {
        "colab": {
          "base_uri": "https://localhost:8080/",
          "height": 206
        },
        "id": "AooyAWQB2jgJ",
        "outputId": "975eda70-3b01-46c5-fc8e-20ed493c5197"
      },
      "execution_count": null,
      "outputs": [
        {
          "output_type": "execute_result",
          "data": {
            "text/html": [
              "\n",
              "  <div id=\"df-384b9b3a-26c5-4a48-8149-37d802e83c7a\">\n",
              "    <div class=\"colab-df-container\">\n",
              "      <div>\n",
              "<style scoped>\n",
              "    .dataframe tbody tr th:only-of-type {\n",
              "        vertical-align: middle;\n",
              "    }\n",
              "\n",
              "    .dataframe tbody tr th {\n",
              "        vertical-align: top;\n",
              "    }\n",
              "\n",
              "    .dataframe thead th {\n",
              "        text-align: right;\n",
              "    }\n",
              "</style>\n",
              "<table border=\"1\" class=\"dataframe\">\n",
              "  <thead>\n",
              "    <tr style=\"text-align: right;\">\n",
              "      <th></th>\n",
              "      <th>patent_year</th>\n",
              "      <th>patent_abstract</th>\n",
              "      <th>abstract_clean</th>\n",
              "      <th>keywords</th>\n",
              "      <th>rake_keywords</th>\n",
              "      <th>gensim_keywords</th>\n",
              "    </tr>\n",
              "  </thead>\n",
              "  <tbody>\n",
              "    <tr>\n",
              "      <th>0</th>\n",
              "      <td>2017</td>\n",
              "      <td>The invention describes an identity management...</td>\n",
              "      <td>invention describes identity management system...</td>\n",
              "      <td>[linket, identities, app, linkets, galois, vot...</td>\n",
              "      <td>[two different transactions — one, called bix ...</td>\n",
              "      <td>blockchain\\nblockchains\\ntransaction\\ntransact...</td>\n",
              "    </tr>\n",
              "    <tr>\n",
              "      <th>1</th>\n",
              "      <td>2018</td>\n",
              "      <td>A blockchain test configuration may provide a ...</td>\n",
              "      <td>blockchain test configuration may provide simp...</td>\n",
              "      <td>[information, block, meeting, new, contract, m...</td>\n",
              "      <td>[third smart contract may autopopulate post me...</td>\n",
              "      <td>blockchain\\nincluded\\nincluding\\nincludes\\ntra...</td>\n",
              "    </tr>\n",
              "    <tr>\n",
              "      <th>2</th>\n",
              "      <td>2019</td>\n",
              "      <td>A balancing and control (B&amp;C) system for API t...</td>\n",
              "      <td>balancing control system api transactions disc...</td>\n",
              "      <td>[block, information, plurality, receiving, ser...</td>\n",
              "      <td>[(“ safetpa ”) transforms fractional equity ow...</td>\n",
              "      <td>data\\nblockchain\\nblockchains\\nincluding\\nincl...</td>\n",
              "    </tr>\n",
              "    <tr>\n",
              "      <th>3</th>\n",
              "      <td>2020</td>\n",
              "      <td>Using a blockchain transaction acceleration sy...</td>\n",
              "      <td>using blockchain transaction acceleration syst...</td>\n",
              "      <td>[information, block, contract, plurality, meth...</td>\n",
              "      <td>[system may include multiple proxy servers geo...</td>\n",
              "      <td>data\\nblockchains\\nblockchained\\nblockchain tr...</td>\n",
              "    </tr>\n",
              "    <tr>\n",
              "      <th>4</th>\n",
              "      <td>2021</td>\n",
              "      <td>Using a blockchain transaction acceleration sy...</td>\n",
              "      <td>using blockchain transaction acceleration syst...</td>\n",
              "      <td>[information, block, target, plurality, servic...</td>\n",
              "      <td>[certifying product authenticity using physica...</td>\n",
              "      <td>data\\nblockchains\\nblockchain transaction\\nbas...</td>\n",
              "    </tr>\n",
              "  </tbody>\n",
              "</table>\n",
              "</div>\n",
              "      <button class=\"colab-df-convert\" onclick=\"convertToInteractive('df-384b9b3a-26c5-4a48-8149-37d802e83c7a')\"\n",
              "              title=\"Convert this dataframe to an interactive table.\"\n",
              "              style=\"display:none;\">\n",
              "        \n",
              "  <svg xmlns=\"http://www.w3.org/2000/svg\" height=\"24px\"viewBox=\"0 0 24 24\"\n",
              "       width=\"24px\">\n",
              "    <path d=\"M0 0h24v24H0V0z\" fill=\"none\"/>\n",
              "    <path d=\"M18.56 5.44l.94 2.06.94-2.06 2.06-.94-2.06-.94-.94-2.06-.94 2.06-2.06.94zm-11 1L8.5 8.5l.94-2.06 2.06-.94-2.06-.94L8.5 2.5l-.94 2.06-2.06.94zm10 10l.94 2.06.94-2.06 2.06-.94-2.06-.94-.94-2.06-.94 2.06-2.06.94z\"/><path d=\"M17.41 7.96l-1.37-1.37c-.4-.4-.92-.59-1.43-.59-.52 0-1.04.2-1.43.59L10.3 9.45l-7.72 7.72c-.78.78-.78 2.05 0 2.83L4 21.41c.39.39.9.59 1.41.59.51 0 1.02-.2 1.41-.59l7.78-7.78 2.81-2.81c.8-.78.8-2.07 0-2.86zM5.41 20L4 18.59l7.72-7.72 1.47 1.35L5.41 20z\"/>\n",
              "  </svg>\n",
              "      </button>\n",
              "      \n",
              "  <style>\n",
              "    .colab-df-container {\n",
              "      display:flex;\n",
              "      flex-wrap:wrap;\n",
              "      gap: 12px;\n",
              "    }\n",
              "\n",
              "    .colab-df-convert {\n",
              "      background-color: #E8F0FE;\n",
              "      border: none;\n",
              "      border-radius: 50%;\n",
              "      cursor: pointer;\n",
              "      display: none;\n",
              "      fill: #1967D2;\n",
              "      height: 32px;\n",
              "      padding: 0 0 0 0;\n",
              "      width: 32px;\n",
              "    }\n",
              "\n",
              "    .colab-df-convert:hover {\n",
              "      background-color: #E2EBFA;\n",
              "      box-shadow: 0px 1px 2px rgba(60, 64, 67, 0.3), 0px 1px 3px 1px rgba(60, 64, 67, 0.15);\n",
              "      fill: #174EA6;\n",
              "    }\n",
              "\n",
              "    [theme=dark] .colab-df-convert {\n",
              "      background-color: #3B4455;\n",
              "      fill: #D2E3FC;\n",
              "    }\n",
              "\n",
              "    [theme=dark] .colab-df-convert:hover {\n",
              "      background-color: #434B5C;\n",
              "      box-shadow: 0px 1px 3px 1px rgba(0, 0, 0, 0.15);\n",
              "      filter: drop-shadow(0px 1px 2px rgba(0, 0, 0, 0.3));\n",
              "      fill: #FFFFFF;\n",
              "    }\n",
              "  </style>\n",
              "\n",
              "      <script>\n",
              "        const buttonEl =\n",
              "          document.querySelector('#df-384b9b3a-26c5-4a48-8149-37d802e83c7a button.colab-df-convert');\n",
              "        buttonEl.style.display =\n",
              "          google.colab.kernel.accessAllowed ? 'block' : 'none';\n",
              "\n",
              "        async function convertToInteractive(key) {\n",
              "          const element = document.querySelector('#df-384b9b3a-26c5-4a48-8149-37d802e83c7a');\n",
              "          const dataTable =\n",
              "            await google.colab.kernel.invokeFunction('convertToInteractive',\n",
              "                                                     [key], {});\n",
              "          if (!dataTable) return;\n",
              "\n",
              "          const docLinkHtml = 'Like what you see? Visit the ' +\n",
              "            '<a target=\"_blank\" href=https://colab.research.google.com/notebooks/data_table.ipynb>data table notebook</a>'\n",
              "            + ' to learn more about interactive tables.';\n",
              "          element.innerHTML = '';\n",
              "          dataTable['output_type'] = 'display_data';\n",
              "          await google.colab.output.renderOutput(dataTable, element);\n",
              "          const docLink = document.createElement('div');\n",
              "          docLink.innerHTML = docLinkHtml;\n",
              "          element.appendChild(docLink);\n",
              "        }\n",
              "      </script>\n",
              "    </div>\n",
              "  </div>\n",
              "  "
            ],
            "text/plain": [
              "   patent_year  ...                                    gensim_keywords\n",
              "0         2017  ...  blockchain\\nblockchains\\ntransaction\\ntransact...\n",
              "1         2018  ...  blockchain\\nincluded\\nincluding\\nincludes\\ntra...\n",
              "2         2019  ...  data\\nblockchain\\nblockchains\\nincluding\\nincl...\n",
              "3         2020  ...  data\\nblockchains\\nblockchained\\nblockchain tr...\n",
              "4         2021  ...  data\\nblockchains\\nblockchain transaction\\nbas...\n",
              "\n",
              "[5 rows x 6 columns]"
            ]
          },
          "metadata": {},
          "execution_count": 34
        }
      ]
    },
    {
      "cell_type": "markdown",
      "source": [
        "**Spacy**"
      ],
      "metadata": {
        "id": "suCRXQib22iX"
      }
    },
    {
      "cell_type": "code",
      "source": [
        "import spacy\n",
        "nlp_keywords = spacy.load(\"en_core_web_sm\")"
      ],
      "metadata": {
        "id": "_b89ccWn2xAg"
      },
      "execution_count": null,
      "outputs": []
    },
    {
      "cell_type": "code",
      "source": [
        "def spacy_keywords(text):\n",
        "    doc = nlp_keywords(text)\n",
        "    return doc.ents"
      ],
      "metadata": {
        "id": "zMYkB4tg3CnT"
      },
      "execution_count": null,
      "outputs": []
    },
    {
      "cell_type": "code",
      "source": [
        "data_year['spacy_keywords'] = data_year['patent_abstract'].apply(lambda x : spacy_keywords(x))"
      ],
      "metadata": {
        "id": "1GLKhZi6370Q"
      },
      "execution_count": null,
      "outputs": []
    },
    {
      "cell_type": "code",
      "source": [
        "data_year"
      ],
      "metadata": {
        "colab": {
          "base_uri": "https://localhost:8080/",
          "height": 206
        },
        "id": "HN0RGh0N4H-m",
        "outputId": "b756e73a-8efa-4830-cea9-c285c7cd3fd6"
      },
      "execution_count": null,
      "outputs": [
        {
          "output_type": "execute_result",
          "data": {
            "text/html": [
              "\n",
              "  <div id=\"df-3d8990c7-c240-470a-b0a0-b9bf29381c9e\">\n",
              "    <div class=\"colab-df-container\">\n",
              "      <div>\n",
              "<style scoped>\n",
              "    .dataframe tbody tr th:only-of-type {\n",
              "        vertical-align: middle;\n",
              "    }\n",
              "\n",
              "    .dataframe tbody tr th {\n",
              "        vertical-align: top;\n",
              "    }\n",
              "\n",
              "    .dataframe thead th {\n",
              "        text-align: right;\n",
              "    }\n",
              "</style>\n",
              "<table border=\"1\" class=\"dataframe\">\n",
              "  <thead>\n",
              "    <tr style=\"text-align: right;\">\n",
              "      <th></th>\n",
              "      <th>patent_year</th>\n",
              "      <th>patent_abstract</th>\n",
              "      <th>abstract_clean</th>\n",
              "      <th>keywords</th>\n",
              "      <th>rake_keywords</th>\n",
              "      <th>gensim_keywords</th>\n",
              "      <th>spacy_keywords</th>\n",
              "    </tr>\n",
              "  </thead>\n",
              "  <tbody>\n",
              "    <tr>\n",
              "      <th>0</th>\n",
              "      <td>2017</td>\n",
              "      <td>The invention describes an identity management...</td>\n",
              "      <td>invention describes identity management system...</td>\n",
              "      <td>[linket, identities, app, linkets, galois, vot...</td>\n",
              "      <td>[two different transactions — one, called bix ...</td>\n",
              "      <td>blockchain\\nblockchains\\ntransaction\\ntransact...</td>\n",
              "      <td>((IDMS), (third), (BIX, Security, Policy, Prov...</td>\n",
              "    </tr>\n",
              "    <tr>\n",
              "      <th>1</th>\n",
              "      <td>2018</td>\n",
              "      <td>A blockchain test configuration may provide a ...</td>\n",
              "      <td>blockchain test configuration may provide simp...</td>\n",
              "      <td>[information, block, meeting, new, contract, m...</td>\n",
              "      <td>[third smart contract may autopopulate post me...</td>\n",
              "      <td>blockchain\\nincluded\\nincluding\\nincludes\\ntra...</td>\n",
              "      <td>((One), (one), (GPS), (more, than, one), (at, ...</td>\n",
              "    </tr>\n",
              "    <tr>\n",
              "      <th>2</th>\n",
              "      <td>2019</td>\n",
              "      <td>A balancing and control (B&amp;C) system for API t...</td>\n",
              "      <td>balancing control system api transactions disc...</td>\n",
              "      <td>[block, information, plurality, receiving, ser...</td>\n",
              "      <td>[(“ safetpa ”) transforms fractional equity ow...</td>\n",
              "      <td>data\\nblockchain\\nblockchains\\nincluding\\nincl...</td>\n",
              "      <td>((API), (API), (third), (one), (blockchain), (...</td>\n",
              "    </tr>\n",
              "    <tr>\n",
              "      <th>3</th>\n",
              "      <td>2020</td>\n",
              "      <td>Using a blockchain transaction acceleration sy...</td>\n",
              "      <td>using blockchain transaction acceleration syst...</td>\n",
              "      <td>[information, block, contract, plurality, meth...</td>\n",
              "      <td>[system may include multiple proxy servers geo...</td>\n",
              "      <td>data\\nblockchains\\nblockchained\\nblockchain tr...</td>\n",
              "      <td>((first), (first), (blockchain), (first), (sec...</td>\n",
              "    </tr>\n",
              "    <tr>\n",
              "      <th>4</th>\n",
              "      <td>2021</td>\n",
              "      <td>Using a blockchain transaction acceleration sy...</td>\n",
              "      <td>using blockchain transaction acceleration syst...</td>\n",
              "      <td>[information, block, target, plurality, servic...</td>\n",
              "      <td>[certifying product authenticity using physica...</td>\n",
              "      <td>data\\nblockchains\\nblockchain transaction\\nbas...</td>\n",
              "      <td>((first), (first), (blockchain), (first), (sec...</td>\n",
              "    </tr>\n",
              "  </tbody>\n",
              "</table>\n",
              "</div>\n",
              "      <button class=\"colab-df-convert\" onclick=\"convertToInteractive('df-3d8990c7-c240-470a-b0a0-b9bf29381c9e')\"\n",
              "              title=\"Convert this dataframe to an interactive table.\"\n",
              "              style=\"display:none;\">\n",
              "        \n",
              "  <svg xmlns=\"http://www.w3.org/2000/svg\" height=\"24px\"viewBox=\"0 0 24 24\"\n",
              "       width=\"24px\">\n",
              "    <path d=\"M0 0h24v24H0V0z\" fill=\"none\"/>\n",
              "    <path d=\"M18.56 5.44l.94 2.06.94-2.06 2.06-.94-2.06-.94-.94-2.06-.94 2.06-2.06.94zm-11 1L8.5 8.5l.94-2.06 2.06-.94-2.06-.94L8.5 2.5l-.94 2.06-2.06.94zm10 10l.94 2.06.94-2.06 2.06-.94-2.06-.94-.94-2.06-.94 2.06-2.06.94z\"/><path d=\"M17.41 7.96l-1.37-1.37c-.4-.4-.92-.59-1.43-.59-.52 0-1.04.2-1.43.59L10.3 9.45l-7.72 7.72c-.78.78-.78 2.05 0 2.83L4 21.41c.39.39.9.59 1.41.59.51 0 1.02-.2 1.41-.59l7.78-7.78 2.81-2.81c.8-.78.8-2.07 0-2.86zM5.41 20L4 18.59l7.72-7.72 1.47 1.35L5.41 20z\"/>\n",
              "  </svg>\n",
              "      </button>\n",
              "      \n",
              "  <style>\n",
              "    .colab-df-container {\n",
              "      display:flex;\n",
              "      flex-wrap:wrap;\n",
              "      gap: 12px;\n",
              "    }\n",
              "\n",
              "    .colab-df-convert {\n",
              "      background-color: #E8F0FE;\n",
              "      border: none;\n",
              "      border-radius: 50%;\n",
              "      cursor: pointer;\n",
              "      display: none;\n",
              "      fill: #1967D2;\n",
              "      height: 32px;\n",
              "      padding: 0 0 0 0;\n",
              "      width: 32px;\n",
              "    }\n",
              "\n",
              "    .colab-df-convert:hover {\n",
              "      background-color: #E2EBFA;\n",
              "      box-shadow: 0px 1px 2px rgba(60, 64, 67, 0.3), 0px 1px 3px 1px rgba(60, 64, 67, 0.15);\n",
              "      fill: #174EA6;\n",
              "    }\n",
              "\n",
              "    [theme=dark] .colab-df-convert {\n",
              "      background-color: #3B4455;\n",
              "      fill: #D2E3FC;\n",
              "    }\n",
              "\n",
              "    [theme=dark] .colab-df-convert:hover {\n",
              "      background-color: #434B5C;\n",
              "      box-shadow: 0px 1px 3px 1px rgba(0, 0, 0, 0.15);\n",
              "      filter: drop-shadow(0px 1px 2px rgba(0, 0, 0, 0.3));\n",
              "      fill: #FFFFFF;\n",
              "    }\n",
              "  </style>\n",
              "\n",
              "      <script>\n",
              "        const buttonEl =\n",
              "          document.querySelector('#df-3d8990c7-c240-470a-b0a0-b9bf29381c9e button.colab-df-convert');\n",
              "        buttonEl.style.display =\n",
              "          google.colab.kernel.accessAllowed ? 'block' : 'none';\n",
              "\n",
              "        async function convertToInteractive(key) {\n",
              "          const element = document.querySelector('#df-3d8990c7-c240-470a-b0a0-b9bf29381c9e');\n",
              "          const dataTable =\n",
              "            await google.colab.kernel.invokeFunction('convertToInteractive',\n",
              "                                                     [key], {});\n",
              "          if (!dataTable) return;\n",
              "\n",
              "          const docLinkHtml = 'Like what you see? Visit the ' +\n",
              "            '<a target=\"_blank\" href=https://colab.research.google.com/notebooks/data_table.ipynb>data table notebook</a>'\n",
              "            + ' to learn more about interactive tables.';\n",
              "          element.innerHTML = '';\n",
              "          dataTable['output_type'] = 'display_data';\n",
              "          await google.colab.output.renderOutput(dataTable, element);\n",
              "          const docLink = document.createElement('div');\n",
              "          docLink.innerHTML = docLinkHtml;\n",
              "          element.appendChild(docLink);\n",
              "        }\n",
              "      </script>\n",
              "    </div>\n",
              "  </div>\n",
              "  "
            ],
            "text/plain": [
              "   patent_year  ...                                     spacy_keywords\n",
              "0         2017  ...  ((IDMS), (third), (BIX, Security, Policy, Prov...\n",
              "1         2018  ...  ((One), (one), (GPS), (more, than, one), (at, ...\n",
              "2         2019  ...  ((API), (API), (third), (one), (blockchain), (...\n",
              "3         2020  ...  ((first), (first), (blockchain), (first), (sec...\n",
              "4         2021  ...  ((first), (first), (blockchain), (first), (sec...\n",
              "\n",
              "[5 rows x 7 columns]"
            ]
          },
          "metadata": {},
          "execution_count": 44
        }
      ]
    },
    {
      "cell_type": "markdown",
      "source": [
        "# Topic Modelling"
      ],
      "metadata": {
        "id": "3Ipq-wkAYqJC"
      }
    },
    {
      "cell_type": "markdown",
      "source": [
        "**Simple_preprocess** - Convert a document into a list of tokens. This lowercases, tokenizes, de-accents (optional). – the output are final tokens = unicode strings, that won’t be processed any further."
      ],
      "metadata": {
        "id": "OjrnSK-JphNt"
      }
    },
    {
      "cell_type": "code",
      "source": [
        "import gensim\n",
        "from gensim.utils import simple_preprocess\n",
        "\n",
        "def sent_to_words(sentences):\n",
        "    for sentence in sentences:\n",
        "        yield(gensim.utils.simple_preprocess(str(sentence), deacc=True))\n",
        "\n",
        "data = data_year['abstract_clean'].values.tolist()\n",
        "data_words = list(sent_to_words(data))\n",
        "print(data_words[:1][0][:30])"
      ],
      "metadata": {
        "colab": {
          "base_uri": "https://localhost:8080/"
        },
        "id": "UsB20gZM8gS6",
        "outputId": "0b9dde6d-5ae8-4881-8f6a-9fc1c26b4a31"
      },
      "execution_count": 23,
      "outputs": [
        {
          "output_type": "stream",
          "name": "stdout",
          "text": [
            "['invention', 'describes', 'identity', 'management', 'system', 'based', 'concept', 'peer', 'protocols', 'public', 'identities', 'ledger', 'system', 'manages', 'digital', 'identities', 'digital', 'objects', 'contain', 'attributes', 'used', 'identification', 'persons', 'entities', 'system', 'making', 'identity', 'claims', 'identity', 'objects']\n"
          ]
        }
      ]
    },
    {
      "cell_type": "code",
      "source": [
        "import spacy\n",
        "spacy.load('en')\n",
        "from spacy.lang.en import English\n",
        "parser = English()"
      ],
      "metadata": {
        "id": "Onm_WS3TpPuv"
      },
      "execution_count": null,
      "outputs": []
    },
    {
      "cell_type": "markdown",
      "source": [
        "**Alternative form** - load English from Spacy to parse and tokenize text. And function to treat URLs, double spaces and to make lower case on unprocessed text."
      ],
      "metadata": {
        "id": "I8tLHoc7prM9"
      }
    },
    {
      "cell_type": "code",
      "source": [
        "from nltk.stem.wordnet import WordNetLemmatizer"
      ],
      "metadata": {
        "id": "2jh0doQOhQ6b"
      },
      "execution_count": null,
      "outputs": []
    },
    {
      "cell_type": "code",
      "source": [
        "def prepare_text(text):\n",
        "  \n",
        "    # tokenize then lemmatize\n",
        "    lda_tokens = []\n",
        "    tokens = parser(text)\n",
        "    for token in tokens:\n",
        "        if token.orth_.isspace():\n",
        "            continue\n",
        "        elif token.like_url:\n",
        "            lda_tokens.append('URL')\n",
        "        elif token.orth_.startswith('@'):\n",
        "            lda_tokens.append('SCREEN_NAME')\n",
        "        else:\n",
        "            lda_tokens.append(token.lower_)\n",
        "        \n",
        "    tokens = [WordNetLemmatizer().lemmatize(lda_tokens) for token in tokens]\n",
        "    return tokens"
      ],
      "metadata": {
        "id": "tjzEUB-YhReJ"
      },
      "execution_count": null,
      "outputs": []
    },
    {
      "cell_type": "markdown",
      "source": [
        "**Create dictionary, corpus for the LDA model.**"
      ],
      "metadata": {
        "id": "cI3MEVW9VSvl"
      }
    },
    {
      "cell_type": "code",
      "source": [
        "import gensim.corpora as corpora\n",
        "id2word = corpora.Dictionary(data_words)\n",
        "texts = data_words\n",
        "corpus = [id2word.doc2bow(text) for text in texts]\n",
        "print(corpus[:1][0][:30])"
      ],
      "metadata": {
        "id": "r7c6HmM99Iin"
      },
      "execution_count": null,
      "outputs": []
    },
    {
      "cell_type": "code",
      "source": [
        "num_topics = 10\n",
        "# Build LDA model\n",
        "lda_model = gensim.models.LdaMulticore(corpus=corpus,\n",
        "                                       id2word=id2word,\n",
        "                                       num_topics=num_topics)\n",
        "\n",
        "doc_lda = lda_model[corpus]"
      ],
      "metadata": {
        "id": "xTYh4Swu9ONN"
      },
      "execution_count": 25,
      "outputs": []
    },
    {
      "cell_type": "code",
      "source": [
        "from pprint import pprint\n",
        "pprint(lda_model.print_topics())"
      ],
      "metadata": {
        "id": "1O2zy2XC9jXm"
      },
      "execution_count": null,
      "outputs": []
    },
    {
      "cell_type": "code",
      "source": [
        "!pip install pyLDAvis"
      ],
      "metadata": {
        "id": "xDhv-_0KXcGj"
      },
      "execution_count": null,
      "outputs": []
    },
    {
      "cell_type": "code",
      "source": [
        "import pyLDAvis.gensim_models\n",
        "lda_display = pyLDAvis.gensim_models.prepare(lda_model, corpus, id2word, sort_topics=False)\n",
        "pyLDAvis.display(lda_display)"
      ],
      "metadata": {
        "colab": {
          "base_uri": "https://localhost:8080/",
          "height": 881
        },
        "id": "OZxUVYzfWNd3",
        "outputId": "4449fbf5-d073-4c4a-8448-2e52c0c891d1"
      },
      "execution_count": 36,
      "outputs": [
        {
          "output_type": "execute_result",
          "data": {
            "text/html": [
              "\n",
              "<link rel=\"stylesheet\" type=\"text/css\" href=\"https://cdn.jsdelivr.net/gh/bmabey/pyLDAvis@3.3.1/pyLDAvis/js/ldavis.v1.0.0.css\">\n",
              "\n",
              "\n",
              "<div id=\"ldavis_el711403613679103521476815775\"></div>\n",
              "<script type=\"text/javascript\">\n",
              "\n",
              "var ldavis_el711403613679103521476815775_data = {\"mdsDat\": {\"x\": [0.0007562344295956602, -0.007538992293624884, 0.004861272080429402, -0.004393722136113015, 0.0037845890449719906, -0.0008729839106400856, 0.002203129253367807, -0.0032149926417053927, 0.003694138786083211, 0.000721327387635323], \"y\": [-0.00011956565109536344, 0.0019134405284768098, -0.0009920595033005234, -0.0018130464155646027, -4.6700036007211823e-05, 0.0014398154090727218, -0.002480032833657492, -0.002683633803035318, 0.002083178773934072, 0.0026986035311769067], \"topics\": [1, 2, 3, 4, 5, 6, 7, 8, 9, 10], \"cluster\": [1, 1, 1, 1, 1, 1, 1, 1, 1, 1], \"Freq\": [0.2201900253554612, 0.00043077516973738137, 37.683669133733574, 0.0004307852277254832, 26.73297382287431, 0.05301747128704171, 5.977686242660953, 0.0007548317190007672, 28.5570334827495, 0.7738134292226925]}, \"tinfo\": {\"Term\": [\"blockchain\", \"data\", \"one\", \"transaction\", \"first\", \"may\", \"node\", \"information\", \"network\", \"system\", \"second\", \"based\", \"block\", \"device\", \"includes\", \"user\", \"request\", \"method\", \"associated\", \"key\", \"computer\", \"contract\", \"plurality\", \"service\", \"ledger\", \"receiving\", \"including\", \"hash\", \"smart\", \"nodes\", \"called\", \"slidechain\", \"brand\", \"unpermissioned\", \"scanner\", \"pop\", \"ask\", \"deinstallation\", \"prompt\", \"told\", \"barcode\", \"tell\", \"bix\", \"counting\", \"linket\", \"converted\", \"technological\", \"audios\", \"monetizing\", \"fragment\", \"cancellation\", \"deploying\", \"emerging\", \"cipher\", \"services\", \"cves\", \"differences\", \"linkets\", \"effort\", \"telemetry\", \"physical\", \"represents\", \"distributed\", \"documents\", \"party\", \"signature\", \"method\", \"tool\", \"methods\", \"device\", \"structure\", \"one\", \"program\", \"entities\", \"associated\", \"transmitted\", \"timestamp\", \"provide\", \"platform\", \"also\", \"wherein\", \"cryptographic\", \"blockchain\", \"computer\", \"second\", \"blockchains\", \"based\", \"request\", \"digital\", \"transaction\", \"entity\", \"ledger\", \"first\", \"block\", \"system\", \"network\", \"key\", \"data\", \"value\", \"including\", \"target\", \"nodes\", \"node\", \"receiving\", \"includes\", \"may\", \"plurality\", \"user\", \"information\", \"service\", \"else\", \"udp\", \"inertial\", \"going\", \"derivable\", \"superior\", \"wrote\", \"frustrate\", \"dollar\", \"surroundings\", \"negotiation\", \"filings\", \"prices\", \"reads\", \"specialized\", \"problems\", \"null\", \"memorialized\", \"tcp\", \"conveyed\", \"redeemtransfer\", \"decentralised\", \"strengthened\", \"notably\", \"wrap\", \"interoperation\", \"responsible\", \"licenses\", \"disposable\", \"signers\", \"logicmodule\", \"private\", \"request\", \"data\", \"access\", \"new\", \"block\", \"key\", \"transaction\", \"authentication\", \"content\", \"application\", \"determining\", \"including\", \"mobile\", \"generated\", \"performed\", \"one\", \"second\", \"values\", \"ledger\", \"documents\", \"includes\", \"hash\", \"digital\", \"comprising\", \"server\", \"receiving\", \"node\", \"root\", \"computer\", \"blockchain\", \"information\", \"first\", \"associated\", \"method\", \"system\", \"network\", \"device\", \"service\", \"may\", \"user\", \"plurality\", \"based\", \"contract\", \"dental\", \"fund\", \"pruning\", \"developers\", \"vertex\", \"bytes\", \"broadcasts\", \"color\", \"organized\", \"clearance\", \"clock\", \"speedometer\", \"pad\", \"nfvi\", \"impression\", \"purchasers\", \"housing\", \"pricer\", \"verifier\", \"middle\", \"committer\", \"bearer\", \"occupant\", \"greater\", \"road\", \"desired\", \"movies\", \"smallcells\", \"return\", \"attempted\", \"corresponding\", \"common\", \"disclosed\", \"coding\", \"node\", \"consent\", \"user\", \"second\", \"account\", \"least\", \"connection\", \"computing\", \"real\", \"creating\", \"includes\", \"media\", \"centralized\", \"herein\", \"receive\", \"using\", \"one\", \"multiple\", \"including\", \"storage\", \"system\", \"blockchain\", \"processing\", \"associated\", \"predetermined\", \"may\", \"receiving\", \"transaction\", \"based\", \"first\", \"nodes\", \"methods\", \"transactions\", \"data\", \"smart\", \"systems\", \"identity\", \"computer\", \"contract\", \"block\", \"information\", \"device\", \"network\", \"method\", \"plurality\", \"request\", \"service\", \"key\", \"bix\", \"pop\", \"specially\", \"deinstallation\", \"ask\", \"scanner\", \"dialog\", \"unpermissioned\", \"maps\", \"brand\", \"profiler\", \"videos\", \"candidates\", \"slidechain\", \"audios\", \"linket\", \"viable\", \"facts\", \"strengths\", \"technological\", \"uppermost\", \"ratification\", \"formation\", \"told\", \"assistance\", \"counting\", \"installs\", \"try\", \"credentialing\", \"tell\", \"linkets\", \"identities\", \"evident\", \"interleaved\", \"information\", \"include\", \"first\", \"attendees\", \"value\", \"includes\", \"key\", \"authentication\", \"associated\", \"one\", \"private\", \"hash\", \"time\", \"signature\", \"transaction\", \"database\", \"device\", \"received\", \"service\", \"obtaining\", \"user\", \"blockchain\", \"system\", \"transactions\", \"record\", \"type\", \"ledger\", \"block\", \"storage\", \"based\", \"may\", \"plurality\", \"data\", \"request\", \"method\", \"digital\", \"second\", \"including\", \"receiving\", \"node\", \"network\", \"contract\", \"computer\", \"unchanged\", \"pow\", \"stream\", \"printed\", \"apply\", \"facilitating\", \"immutability\", \"two\", \"violation\", \"preferred\", \"potential\", \"language\", \"approvals\", \"employing\", \"logicmodule\", \"validator\", \"credibility\", \"reduces\", \"invokes\", \"notification\", \"arriving\", \"delegated\", \"tertiary\", \"fat\", \"publicprivate\", \"settings\", \"tokenized\", \"agency\", \"applet\", \"integrity\", \"state\", \"first\", \"header\", \"set\", \"instructions\", \"link\", \"performing\", \"time\", \"label\", \"key\", \"communication\", \"target\", \"encoded\", \"non\", \"entities\", \"metadata\", \"request\", \"monitoring\", \"blockchain\", \"new\", \"whether\", \"data\", \"may\", \"message\", \"system\", \"one\", \"distributed\", \"andor\", \"information\", \"method\", \"digital\", \"based\", \"public\", \"private\", \"using\", \"content\", \"contract\", \"second\", \"network\", \"block\", \"transaction\", \"smart\", \"determining\", \"computer\", \"receiving\", \"includes\", \"node\", \"device\", \"user\", \"service\", \"nodes\", \"ledger\", \"plurality\", \"associated\", \"bix\", \"specially\", \"tally\", \"scanner\", \"lets\", \"brand\", \"pop\", \"profiler\", \"emerging\", \"technological\", \"audios\", \"slidechain\", \"dialog\", \"told\", \"linket\", \"unpermissioned\", \"candidates\", \"called\", \"deinstallation\", \"videos\", \"tell\", \"ask\", \"earlier\", \"counting\", \"scalability\", \"galois\", \"deviation\", \"installs\", \"accelerometer\", \"chambers\", \"fulfilling\", \"application\", \"useable\", \"cloud\", \"party\", \"parties\", \"response\", \"status\", \"signature\", \"first\", \"time\", \"various\", \"updated\", \"received\", \"determined\", \"one\", \"security\", \"content\", \"data\", \"request\", \"digital\", \"methods\", \"state\", \"communication\", \"operations\", \"include\", \"block\", \"blocks\", \"generate\", \"distributed\", \"system\", \"computer\", \"information\", \"device\", \"second\", \"authentication\", \"transaction\", \"blockchain\", \"based\", \"processing\", \"node\", \"ledger\", \"systems\", \"may\", \"key\", \"associated\", \"contract\", \"includes\", \"network\", \"smart\", \"method\", \"user\", \"including\", \"linket\", \"galois\", \"counted\", \"tell\", \"lets\", \"pop\", \"assistance\", \"ask\", \"specially\", \"bix\", \"brand\", \"linkets\", \"counting\", \"deinstallation\", \"audios\", \"unpermissioned\", \"technological\", \"profiler\", \"dialog\", \"scanner\", \"recomputation\", \"told\", \"videos\", \"slidechain\", \"maps\", \"ratification\", \"tally\", \"installs\", \"candidates\", \"install\", \"called\", \"identities\", \"evident\", \"meeting\", \"tamper\", \"possession\", \"services\", \"response\", \"parties\", \"blockchain\", \"timestamp\", \"consensus\", \"system\", \"transaction\", \"transactions\", \"hash\", \"embodiments\", \"based\", \"key\", \"may\", \"data\", \"associated\", \"stored\", \"include\", \"signed\", \"one\", \"ledger\", \"vehicle\", \"decentralized\", \"includes\", \"least\", \"generated\", \"network\", \"computer\", \"block\", \"user\", \"identifier\", \"including\", \"request\", \"second\", \"device\", \"first\", \"receiving\", \"information\", \"node\", \"method\", \"smart\", \"plurality\", \"viable\", \"technological\", \"brand\", \"ask\", \"scoped\", \"maps\", \"repack\", \"bix\", \"pop\", \"officiality\", \"conveyed\", \"timeline\", \"augmentation\", \"dollar\", \"slidechain\", \"aggregator\", \"scanner\", \"tcp\", \"profiler\", \"entitiesusers\", \"null\", \"emulates\", \"sgx\", \"evaluations\", \"affected\", \"associations\", \"accounting\", \"formation\", \"stabilize\", \"derivable\", \"aid\", \"configuration\", \"hash\", \"evident\", \"server\", \"devices\", \"second\", \"authorization\", \"software\", \"one\", \"party\", \"security\", \"including\", \"storing\", \"particular\", \"request\", \"transaction\", \"private\", \"least\", \"may\", \"example\", \"client\", \"includes\", \"based\", \"described\", \"system\", \"signature\", \"query\", \"new\", \"verification\", \"blocks\", \"storage\", \"first\", \"contract\", \"node\", \"method\", \"data\", \"blockchain\", \"methods\", \"network\", \"ledger\", \"digital\", \"plurality\", \"user\", \"computer\", \"device\", \"associated\", \"information\", \"block\", \"key\", \"intact\", \"variable\", \"forensics\", \"avoid\", \"providing\", \"subordinate\", \"taken\", \"might\", \"station\", \"represents\", \"piv\", \"partitioned\", \"databases\", \"vsim\", \"run\", \"crosslink\", \"exceeds\", \"dynamic\", \"composite\", \"flexible\", \"publishers\", \"transparent\", \"temporary\", \"publicly\", \"application\", \"trade\", \"shielded\", \"specific\", \"expirations\", \"issues\", \"device\", \"storing\", \"addresses\", \"knowledge\", \"ledger\", \"network\", \"methods\", \"plurality\", \"coupled\", \"individual\", \"associated\", \"part\", \"wherein\", \"performed\", \"data\", \"block\", \"blocks\", \"records\", \"proof\", \"information\", \"transaction\", \"devices\", \"service\", \"blockchain\", \"present\", \"event\", \"method\", \"current\", \"server\", \"private\", \"contract\", \"computer\", \"node\", \"encrypted\", \"user\", \"distributed\", \"value\", \"request\", \"based\", \"one\", \"may\", \"nodes\", \"includes\", \"include\", \"hash\", \"first\", \"smart\", \"second\", \"system\", \"key\", \"systems\", \"receiving\", \"principal\", \"permissive\", \"problems\", \"privkeys\", \"interoperation\", \"officiality\", \"requiring\", \"memorialized\", \"settable\", \"decentralised\", \"footwear\", \"cryptlet\", \"filings\", \"logging\", \"barrier\", \"quiescence\", \"aggregator\", \"unalterable\", \"answers\", \"fragmented\", \"cryptodelegate\", \"bind\", \"arrived\", \"operable\", \"intensive\", \"wrote\", \"committal\", \"divided\", \"copyrighted\", \"orders\", \"furnisher\", \"promise\", \"game\", \"authenticable\", \"even\", \"use\", \"header\", \"associated\", \"database\", \"said\", \"electronic\", \"receipt\", \"physical\", \"device\", \"placement\", \"generating\", \"evident\", \"determined\", \"purposes\", \"include\", \"selected\", \"circuitry\", \"including\", \"provide\", \"entity\", \"method\", \"block\", \"first\", \"data\", \"service\", \"one\", \"identifier\", \"node\", \"smart\", \"party\", \"blockchain\", \"information\", \"determining\", \"digital\", \"distributed\", \"system\", \"nodes\", \"includes\", \"based\", \"key\", \"computer\", \"may\", \"contract\", \"user\", \"transaction\", \"network\", \"plurality\", \"systems\", \"ledger\", \"request\", \"second\"], \"Freq\": [5033.0, 3265.0, 1783.0, 1608.0, 1574.0, 1445.0, 1305.0, 1216.0, 1335.0, 1129.0, 1033.0, 1167.0, 1088.0, 1062.0, 949.0, 1055.0, 853.0, 914.0, 839.0, 742.0, 731.0, 696.0, 702.0, 626.0, 598.0, 600.0, 556.0, 535.0, 646.0, 605.0, 0.02966454237605496, 0.00630920382414327, 0.005699727083807997, 0.008922732450016006, 0.008664210368520825, 0.005328554353007132, 0.005450931004051798, 0.0054579427619369375, 0.024695167691435763, 0.00559233804200045, 0.009484368492508204, 0.005449627107149927, 0.005088344004365925, 0.005394908062619871, 0.02927312786607693, 0.011997378985702287, 0.005062394829052867, 0.0051265730529255855, 0.009862450249923152, 0.016286993400620026, 0.0059593713068793325, 0.036992026461315525, 0.00539626448727572, 0.019093667507568694, 0.20316460441661946, 0.009260282304949059, 0.005961576542851695, 0.011234660193114752, 0.005781653180662328, 0.005607903921378718, 0.24849997197491908, 0.045330960805133956, 1.6076384142687457, 0.18155705529186592, 0.43036522479873346, 0.659765845112317, 2.7024754056819096, 0.06911125492975255, 1.6974763808816236, 3.0818068141688313, 0.20902873221404492, 4.80626903580337, 0.30691169715642175, 0.34289180665240954, 2.21727672439709, 0.16959512649708358, 0.23947999903110326, 0.46564703684118636, 0.4119503069826614, 0.41864690578148483, 0.9923895078229958, 0.4585056720688478, 10.235542209118977, 1.8053550073877094, 2.446563907074753, 0.4400346155643461, 2.691613476852862, 2.018037752388714, 1.2578520805217404, 3.4632362090405215, 0.7844939917090957, 1.4238630180271714, 3.2565361167625935, 2.3729830144257065, 2.4338891180877043, 2.7526590496040795, 1.6519620954260184, 5.2733276914189595, 1.0408620968822397, 1.2678433985515274, 0.9618415527508256, 1.3122853666325924, 2.3296949983567288, 1.2886878393415886, 1.7977876192882312, 2.359279343403337, 1.3973629390679385, 1.6750643408489898, 1.6931849693667334, 1.2337313061443032, 2.0252979818635907e-05, 2.0730742413889364e-05, 2.0267394089378776e-05, 1.9212513194947565e-05, 2.013954087201608e-05, 2.0446023735300306e-05, 1.9241541808330054e-05, 1.868918331579239e-05, 1.9371615823746636e-05, 1.9393290885505982e-05, 1.894788355362728e-05, 1.775195379082523e-05, 1.9563713945990054e-05, 1.931978628947675e-05, 1.999058006954663e-05, 1.7926478325192603e-05, 1.810618472168571e-05, 1.8464846335641416e-05, 1.8624254528791883e-05, 1.8565326079858345e-05, 1.8153096124966484e-05, 1.8433003983856503e-05, 1.8822454843886066e-05, 1.8606693672763816e-05, 1.9186440189130652e-05, 1.822649522854107e-05, 1.864763747701527e-05, 1.846347493373099e-05, 1.9303516806600412e-05, 1.8504511498589118e-05, 5.3376621131681006e-05, 0.002285544055201504, 0.004621334763129936, 0.013973347669703793, 0.0023984587552491206, 0.0018325883817009849, 0.005096628995002144, 0.0036722660891652594, 0.006980832142886035, 0.0017724800906039802, 0.0014352429756394748, 0.0009964085657702064, 0.0021634207514547917, 0.002687666741636818, 0.0006683467043384441, 0.001315987669793586, 0.0006821284132218781, 0.006979144263611665, 0.004311379597512615, 0.0008182299182806542, 0.0027432326585928243, 0.00035603866411401675, 0.003958471745742987, 0.0024386256257604446, 0.002299900574281961, 0.0014199994468989691, 0.0018444970102117367, 0.002632702175324356, 0.004922929688093102, 0.000571079052583375, 0.0029753749599851368, 0.013374577502556035, 0.004372095757959328, 0.005259808972651441, 0.003245929203065297, 0.003398039952027807, 0.003884800820851815, 0.004122860477763668, 0.0034633522659413634, 0.0024590906381375816, 0.0038854326697277653, 0.003190077859903721, 0.002527049779564285, 0.0029695968254043648, 0.002480047347208163, 4.696238339776675, 1.9736602143441049, 2.5315748901640283, 1.4520980658871916, 0.9157609360660467, 3.0852753935811212, 10.174113217698693, 2.4214985303850742, 4.387343607672537, 1.36786298709776, 6.354111519662726, 0.8288269635447187, 2.4552944874026688, 2.855814135842469, 3.357433985482892, 1.892759273691852, 5.150689880228701, 3.601046436059562, 3.517204357565947, 0.8454341695674413, 4.505973372270314, 5.555685117867294, 6.073376292965132, 12.670046958767967, 5.280014026155627, 5.010360771362328, 1.4451040926065444, 1.9489810686422917, 4.245679252456977, 1.7590691649644394, 174.1703789771843, 26.729501117206574, 137.54669732100413, 10.541502622982314, 612.9517686737644, 14.592022701819849, 484.1089529617726, 470.9972767734187, 121.73596510913356, 215.29323748715865, 23.342002768203166, 201.4576923037369, 24.413728258305394, 62.80162801976294, 417.1231185730711, 128.6999685372624, 22.980467953561188, 76.4970092499082, 82.94169985961331, 270.1369398278208, 721.454727106456, 58.5505244085671, 236.7719822569124, 222.52371993692228, 460.7213634321302, 1875.8500359632437, 140.20015385432703, 340.4386249520815, 48.286128044368624, 556.0917501530472, 245.55832582920948, 612.4479136548301, 453.44972128174953, 592.9262810821064, 245.7859566920481, 228.15624472720268, 164.856932588697, 1120.9726543873896, 258.3160204458538, 201.04212392615597, 140.93322828466398, 279.046843965998, 267.65120754706186, 387.7823007372567, 420.9499727961031, 371.65617035437873, 438.6217201998766, 325.3378212033281, 262.58182322276974, 293.16625055822755, 240.81718044348494, 251.20237777958351, 1.9854419989435777e-05, 1.9826742124550312e-05, 1.8353441937486432e-05, 1.851916717775549e-05, 1.75364238148491e-05, 2.6408617333614405e-05, 1.8207296917726805e-05, 2.6896656830769107e-05, 1.8319112436149223e-05, 1.6805644149714206e-05, 1.744053257237281e-05, 1.7716640055285243e-05, 1.7873832939362035e-05, 1.6536661211505486e-05, 1.6769341165863973e-05, 9.346573242949654e-05, 1.8860381394818883e-05, 4.0474947709306464e-05, 1.762415193334524e-05, 1.5729148544732743e-05, 2.682555325620759e-05, 1.656314407361578e-05, 1.748081162329537e-05, 1.5812800557872483e-05, 1.608988477821302e-05, 1.596862018914067e-05, 1.6536412025234256e-05, 1.81716396355283e-05, 1.819301872627311e-05, 1.5398840319510923e-05, 3.4479686084764345e-05, 0.00021156365509154268, 0.0003245729103501186, 3.577861590493758e-05, 0.006450855497672163, 0.0025709145795372442, 0.007364520992152101, 5.797023941950157e-05, 0.0023858989023845378, 0.004624954932490797, 0.0037501213460293236, 0.001837280745764947, 0.0041084001299670206, 0.00774898742704268, 0.0018380600985641927, 0.0027640008361629474, 0.0015579788621921113, 0.0011848753794737189, 0.006607294595097362, 0.0014835619032539952, 0.0046371479914309325, 0.0014567465793670533, 0.00288153724939314, 0.0011066083362215988, 0.004313756740567766, 0.01515707394965216, 0.004516222703116103, 0.0019302736572486127, 0.0016421631663092449, 0.0010268074987225982, 0.0026527532587246085, 0.0042270484741812895, 0.0023656904414511427, 0.004269597528366375, 0.004973960174770671, 0.002892593698813957, 0.008675594717909319, 0.0032498869710565954, 0.0033943031983082747, 0.002232315297739847, 0.0035778234959151843, 0.0023742073299058137, 0.0024692257438102233, 0.003846404185640291, 0.003612379265662179, 0.002638181980562876, 0.0025207554566594186, 2.6349196324246495, 1.770270681993104, 16.19474336374229, 2.6175590899039185, 4.0053028829305015, 10.038878246471546, 2.0862679754134876, 20.792757196622542, 2.400996012103668, 1.2018901814640461, 5.534118720342122, 4.477001801354719, 1.3300914321017894, 2.192001519522363, 1.7561168610112856, 5.984780371592017, 3.61920683726627, 2.029444102207653, 2.2426336321953366, 19.11233849095621, 0.9173895304873733, 0.9110973129967639, 1.477968250207926, 1.0255369762798523, 1.3138477677798455, 2.457298863605046, 5.68811268993722, 4.268170523111508, 1.6240179932858907, 26.97103979194328, 129.05655246331173, 560.558933537558, 19.063830196392214, 95.06898290720724, 21.08479302241423, 18.557875681121764, 52.19805649898533, 96.06719186617099, 7.4428054324811885, 249.62933289351722, 63.40042045771968, 133.05002399982519, 64.99407866527922, 42.22453442049503, 37.03995489452757, 30.860724166122463, 268.3419041627165, 17.710331390151158, 1429.5090860943985, 102.558627468532, 69.02684806067994, 926.4968968739388, 426.4720673160247, 113.16185439246432, 332.7059023412555, 506.5313702747849, 140.95230330333754, 60.16062623085675, 340.25973099747245, 259.7621413301812, 150.15753779283918, 322.4177806755334, 119.9461023867623, 100.64860704918759, 178.95175804343776, 80.28116971243759, 188.8605397889597, 264.3294482929024, 326.931746573912, 274.72130474789316, 380.3530825723798, 172.98632861660573, 122.35863695275675, 185.15174656550326, 157.41680588030835, 217.41427737000723, 266.5270365737514, 220.1012251281986, 213.78913657410865, 157.1259583813157, 153.90359174352733, 151.47631325657906, 152.80410411147543, 148.2905283021372, 0.0015722532870766903, 0.0015621265403514396, 0.0035864711239113503, 0.0023594042791901374, 0.0015780236422765787, 0.0014840244385478875, 0.0014462324454609411, 0.0015272870484732577, 0.001595859641750504, 0.0014610693824272335, 0.0014605371733500253, 0.00142946399807501, 0.0014807279881289734, 0.0014297113549752477, 0.007875007391007152, 0.0020862759238812734, 0.0014363142172448048, 0.005953232759879869, 0.0013129968410445943, 0.0013998782100611976, 0.0013322610188203443, 0.0012890157574558506, 0.005516165876746606, 0.0013316482228797103, 0.0023450725770870454, 0.002869831846476334, 0.004708869959595884, 0.0013680140523364176, 0.0014421658308653143, 0.0015645986543132266, 0.0024623716815561337, 0.14839729211569186, 0.002300843148652963, 0.04208966991902623, 0.10715224057649764, 0.06750116137948296, 0.2757529458841198, 0.06713135721731768, 0.15956117296963182, 1.096704317787267, 0.2124451380603736, 0.06593021897205134, 0.05485427808512003, 0.20082495647752457, 0.1125299774731849, 1.0741733482445726, 0.1039234293982857, 0.18224198393536123, 1.839879151651826, 0.5400449928071805, 0.33236500970575306, 0.3639152896561757, 0.2386755532269638, 0.13290646259464695, 0.05635396021545296, 0.28872326186861363, 0.6283911749137219, 0.24443690508338836, 0.1613155597313277, 0.2904517605481387, 0.619136049435418, 0.42268622182441185, 0.6414255305923514, 0.5540116632812414, 0.5397261410325307, 0.2059438913485485, 0.7450668558257094, 1.8455758477723145, 0.5649386402465396, 0.2054734646378905, 0.5879999214935134, 0.32724000037604606, 0.2836795700565608, 0.6303242854303044, 0.3792386847464903, 0.4027776992464061, 0.352514332994952, 0.40466327425848253, 0.491168350975005, 0.3164910451645131, 0.3689039388496894, 0.3619702881001899, 0.28180207522065726, 1.5402887700111694, 0.5097914748200546, 0.23396510808685936, 0.2200950989229814, 0.22040059439178922, 0.2061417498683233, 0.2217103330205767, 0.20812058010964338, 0.20445365015453104, 0.19804239716057664, 0.20059822111574463, 0.4595440323972951, 0.20850937761040755, 0.1991203640700926, 0.19966265386212867, 0.3010241902823492, 0.19475882565521, 0.19261938566374462, 0.19509419173599185, 0.28016617418321965, 0.31492017059935035, 0.18849806148583972, 0.19266309998561965, 0.17750586557350417, 0.1849264979078664, 0.18606645233154231, 0.3919751432805851, 0.1854167822956164, 0.17827051285729476, 0.38766824776804626, 0.7269931500364822, 2.737746002058737, 4.457798765047473, 3.6305356115788125, 4.915357884552424, 2.2064885741470572, 5.276304920180248, 29.813204670882403, 7.664540078189354, 311.0235112823142, 7.355070947236053, 26.067661423423022, 79.98193627696473, 104.52664645445104, 30.453939923435893, 39.610197616974425, 13.692635627513217, 76.48636060810436, 50.854937829934904, 89.58095362148096, 179.04374409935727, 55.88327775185958, 35.68660038389064, 32.472550601489694, 10.784861508560835, 103.77694240176126, 40.49108744099934, 13.342005171847896, 11.061186905070079, 59.035645313655664, 33.00016893830136, 18.33010934158469, 75.51389240941408, 45.86599854502363, 62.85388880996968, 60.84194936145284, 27.388669866877706, 36.30223049129563, 50.04030478391163, 57.362139116389244, 57.13961403624139, 74.7811426485451, 35.87683865145142, 59.54721393214308, 59.25194822039521, 41.320523186169495, 34.031809166143624, 33.09418643078775, 2.6382880728035928e-05, 2.2419573795691652e-05, 2.141757515414643e-05, 2.1356684408629525e-05, 2.612063030589406e-05, 2.2623623367331986e-05, 2.336916729062807e-05, 2.002249807454266e-05, 2.0073904071758905e-05, 2.2578132589486048e-05, 2.3919421330020503e-05, 2.4850937710588185e-05, 2.3790325491758862e-05, 2.422058439812236e-05, 2.065434294016867e-05, 2.288437426861516e-05, 3.0996450657870965e-05, 2.367198604647932e-05, 2.0768892948039107e-05, 2.323203045103492e-05, 2.277011906558942e-05, 2.4175641797933586e-05, 2.5037400978087706e-05, 2.41103895342549e-05, 2.343634773734503e-05, 2.3868541200905606e-05, 2.327701129617652e-05, 2.268500811015622e-05, 2.3709931413840775e-05, 2.388764296130212e-05, 7.92972381676912e-05, 0.0010323245944384764, 0.005472158832869665, 0.0004492058894359292, 0.003987045918767483, 0.0030112682718456086, 0.009713076584248914, 0.0009639984054247781, 0.0015121041620754286, 0.015547567488265784, 0.001364514237472714, 0.0014700676556203501, 0.005145598744904764, 0.003047859206951075, 0.0011837041349267395, 0.007372078341072279, 0.012935177348594862, 0.003130838924143134, 0.004313355935734178, 0.011555097925254975, 0.002703038632816958, 0.002406549684372956, 0.007836177478050878, 0.009233005539078163, 0.0010131679525346592, 0.008876330049433626, 0.0019500463009850756, 0.0007339900975509387, 0.0028709162300617087, 0.0025490195786645074, 0.0032687245234226986, 0.004350675666660682, 0.010964177300869347, 0.005326512261803178, 0.00888309624450093, 0.00665923117529509, 0.018620069499113552, 0.025700268887362116, 0.004408661542282382, 0.008473555827424725, 0.004550488105474142, 0.0039518413886985675, 0.005012139973418087, 0.006327575839748456, 0.004974905095293585, 0.006232712038895289, 0.005379927100663203, 0.0065217439354441535, 0.005755860096900475, 0.004698567259513397, 1.6822794985414853, 9.997421805123004, 1.3732220788694578, 0.9967927569720196, 62.849825131347245, 0.9729001160863939, 1.413229454866187, 4.321967628169854, 5.917717005588451, 4.784691468420195, 1.3307442498767095, 3.1031749659526415, 6.597644896336723, 3.606524488752671, 3.4459425119448372, 2.2813225709768448, 2.4230269059832894, 6.754899255311372, 3.1347175226740283, 1.7446881884737082, 0.9790431508485181, 3.402936204476734, 12.147963376479286, 3.4227497463296195, 65.15845254412537, 2.592202716889334, 1.5646317255904694, 37.46044494290822, 1.326681126978577, 3.4322194343281223, 399.22226406555967, 117.84799431013884, 19.033086576755473, 16.10652494538531, 223.04344176053365, 483.79533401969826, 199.47397408367158, 246.9475087776306, 17.633576220544175, 16.703633518925255, 282.97056943531754, 34.479624741173055, 126.23852033944586, 39.07485589244355, 1007.8146326738613, 351.003782833111, 125.72569437646969, 44.8763693676495, 37.45202208359395, 383.8575179227515, 497.2997201776398, 95.0176161399574, 198.34990241635955, 1372.8682541502728, 60.54817754106087, 81.92738926684991, 277.3806306236468, 85.71560786271404, 121.89235580038523, 105.29916089902851, 207.41563077665987, 213.26122632592234, 353.1357424115871, 76.15761102657746, 287.63298282496635, 139.87394504435528, 131.80695250071906, 234.21453769454877, 303.3824256077512, 431.74606074673426, 360.73941981713057, 174.55695695137013, 246.8562502029623, 135.7157148302965, 153.7704205121984, 328.8139200927615, 174.44844366902737, 232.67244835517673, 244.10375392371026, 183.4031739456114, 144.61750803414043, 156.81380832118967, 0.0831844231706817, 0.04914497652528488, 0.022041865900899803, 0.022604580012049708, 0.021108017933697817, 0.019495306017040297, 0.140567102356095, 0.02007558309459841, 0.030454418992017892, 0.020032266229443527, 0.07996201171854578, 0.1257373001036131, 0.018971476780731307, 0.14506028125436157, 0.019975968680530885, 0.032212156478934495, 0.019088513670544673, 0.03226600360931748, 0.23850492046227925, 0.020225452325484443, 0.03208891349579169, 0.031278491476316055, 0.030158055573367336, 0.19117599485046735, 0.020004721891557855, 0.01949649855405806, 0.054317493120589415, 0.09727479366210441, 0.03315515267531386, 0.05472710181478179, 0.32544213674055417, 0.1465962950710409, 0.5199561766599594, 0.1526312511703686, 0.1562744419579674, 1.611770459323979, 0.648353402810288, 9.285308334395125, 3.1088982380303998, 0.43050126316087967, 1.467747953187499, 0.31745489625917883, 0.7912007012888443, 11.075882135329639, 0.08463226766143934, 3.4335252936890472, 0.4309836884920993, 1.6262389849373473, 0.34729508680810406, 4.566192535874707, 0.7642294215477423, 0.5776852143364777, 5.2895930969502425, 1.6344171881683511, 2.9139529244497755, 8.009397387891754, 9.264865649199763, 12.81490299879427, 24.366148450623324, 5.568816288862873, 13.817199297453481, 3.597796751664711, 10.285950215014305, 5.503729827077145, 1.3001174745602835, 32.081236746208596, 9.29368413937636, 3.7524037066838214, 4.290176974489642, 3.9789025695871034, 8.458908122389474, 4.979758571044628, 7.243941319500314, 8.589065990589482, 5.789168796373245, 5.604925342662293, 9.518911659801963, 5.3570461794863595, 7.069784964658315, 9.429179136754046, 7.787327313422229, 4.975550594725416, 4.0717837562910875, 4.326318230055765, 4.922151283229562, 5.156025187117669], \"Total\": [5033.0, 3265.0, 1783.0, 1608.0, 1574.0, 1445.0, 1305.0, 1216.0, 1335.0, 1129.0, 1033.0, 1167.0, 1088.0, 1062.0, 949.0, 1055.0, 853.0, 914.0, 839.0, 742.0, 731.0, 696.0, 702.0, 626.0, 598.0, 600.0, 556.0, 535.0, 646.0, 605.0, 5.574935260989794, 1.2510360546892123, 1.218941572701094, 1.9227825994123515, 1.8799659906676538, 1.1965333676457945, 1.2325610367814743, 1.2411371215599305, 5.631536770378558, 1.278885749904148, 2.1720118496240786, 1.2678914483172672, 1.1843799221981663, 1.299404610849364, 7.108097453458996, 2.955455332647212, 1.2528274809631277, 1.2723385881015397, 2.448437864272167, 4.065969663096761, 1.4887545239283149, 9.255926234917302, 1.3540426257248603, 4.806032849749048, 51.28933142984085, 2.340813753138292, 1.508993267039639, 2.8614070499317306, 1.4762647040685664, 1.44711332843377, 65.81644901180512, 11.919144742800068, 461.6444704739669, 50.08553782771694, 125.5875010341754, 201.7364849505481, 914.8953446500745, 19.296117982406788, 562.5897496608617, 1062.8453074094546, 62.784585553653336, 1783.2370179104166, 94.88972974684539, 107.49710233506165, 839.5010974558681, 51.56397267436832, 75.43210499851183, 156.1314332367197, 137.4948875609372, 140.19611781632534, 365.3576667729347, 157.79009996755929, 5033.4674742136685, 731.1692530098336, 1033.5212300527896, 151.223232697078, 1167.5983784807202, 853.2584745279053, 501.5069273847427, 1608.2913683650077, 297.2003089888981, 598.8937995432003, 1574.2720093015805, 1088.6425965043359, 1129.0421666175466, 1335.9100567124733, 742.9223129798876, 3265.848552340128, 432.51854231852906, 556.6234733543408, 398.1875516813883, 605.2908577315225, 1305.087793444481, 600.9018898579483, 949.8921032768995, 1445.4131206870888, 702.0927681299836, 1055.4936727263482, 1216.2600749829967, 626.3327909759049, 1.443032517223239, 1.5065259745918504, 1.4873871753874688, 1.4205840708674444, 1.4908898563784143, 1.5208021923497237, 1.4429850870886198, 1.4081436280600785, 1.4664344784047574, 1.4738825840117278, 1.4426730324685895, 1.3633753926005503, 1.5037035615865766, 1.4852118343618492, 1.541583945803392, 1.387009397723155, 1.4037362043011303, 1.4315898743518782, 1.4455477186911727, 1.4420451661411982, 1.4109052265184683, 1.4343034434537023, 1.4699180414488975, 1.4566488600381646, 1.5024165980279394, 1.4283143715895061, 1.4615825599369643, 1.4472430943685144, 1.51460662558845, 1.4558187832365452, 4.676342098196166, 327.37833402642053, 853.2584745279053, 3265.848552340128, 422.2979866201402, 314.988862812376, 1088.6425965043359, 742.9223129798876, 1608.2913683650077, 324.6893160215604, 255.90111995642994, 166.77693490454791, 428.2021214834147, 556.6234733543408, 104.2174841640624, 236.97646771369872, 108.2098444936116, 1783.2370179104166, 1033.5212300527896, 136.19983690966768, 598.8937995432003, 50.08553782771694, 949.8921032768995, 535.977885792371, 501.5069273847427, 277.5584085845613, 383.4908087220112, 600.9018898579483, 1305.087793444481, 91.79873808132915, 731.1692530098336, 5033.4674742136685, 1216.2600749829967, 1574.2720093015805, 839.5010974558681, 914.8953446500745, 1129.0421666175466, 1335.9100567124733, 1062.8453074094546, 626.3327909759049, 1445.4131206870888, 1055.4936727263482, 702.0927681299836, 1167.5983784807202, 696.6532613509553, 8.1582660154515, 3.529392363667528, 4.57519827861578, 2.709293229021842, 1.7125772975050695, 5.8030467756658135, 19.295711971003435, 4.618565363182845, 8.396559880295067, 2.6211490842552427, 12.199278909654646, 1.5976497979515774, 4.749540409371592, 5.529574854082849, 6.50300958956905, 3.6797841683929287, 10.014441155576401, 7.006497054603917, 6.853029929478234, 1.6577920898428686, 8.867398105137294, 10.953896579790003, 12.037465253425129, 25.117419198041382, 10.46836523973639, 9.951565033180161, 2.8707571127079787, 3.8724625780094604, 8.44814962635198, 3.505086307327686, 348.2862747441866, 53.429789570348, 282.5462156092884, 21.156218237102674, 1305.087793444481, 29.514878224391026, 1055.4936727263482, 1033.5212300527896, 260.24707217817394, 474.79211455834616, 48.10694905190098, 444.35537077486543, 50.45116673761094, 133.7662117829547, 949.8921032768995, 281.36969775702704, 47.63086304273413, 167.02211078114559, 182.14238113846164, 630.4327813290738, 1783.2370179104166, 127.6479817613237, 556.6234733543408, 522.0617407211155, 1129.0421666175466, 5033.4674742136685, 324.3432556659165, 839.5010974558681, 105.31484746867706, 1445.4131206870888, 600.9018898579483, 1608.2913683650077, 1167.5983784807202, 1574.2720093015805, 605.2908577315225, 562.5897496608617, 394.18577776707417, 3265.848552340128, 646.7525914302012, 496.9062043261435, 333.04600899506767, 731.1692530098336, 696.6532613509553, 1088.6425965043359, 1216.2600749829967, 1062.8453074094546, 1335.9100567124733, 914.8953446500745, 702.0927681299836, 853.2584745279053, 626.3327909759049, 742.9223129798876, 1.1843799221981663, 1.1965333676457945, 1.2198300591821738, 1.2411371215599305, 1.2325610367814743, 1.8799659906676538, 1.2989037826694239, 1.9227825994123515, 1.3123472104368783, 1.218941572701094, 1.2682845250599273, 1.3299004695402459, 1.343856733678254, 1.2510360546892123, 1.2723385881015397, 7.108097453458996, 1.451644655876817, 3.1911047136224275, 1.402161181406861, 1.2528274809631277, 2.1544791077524685, 1.3304415145202069, 1.412647345327951, 1.278885749904148, 1.308459254104123, 1.299404610849364, 1.3524063350083861, 1.4879325732544102, 1.4968079380089345, 1.2678914483172672, 2.8614070499317306, 21.51633057587493, 35.67716681179692, 3.2297468648540817, 1216.2600749829967, 449.0843603007986, 1574.2720093015805, 5.677759563135163, 432.51854231852906, 949.8921032768995, 742.9223129798876, 324.6893160215604, 839.5010974558681, 1783.2370179104166, 327.37833402642053, 535.977885792371, 276.34609360661983, 201.7364849505481, 1608.2913683650077, 269.08619821584523, 1062.8453074094546, 269.2089778797261, 626.3327909759049, 195.44709705988842, 1055.4936727263482, 5033.4674742136685, 1129.0421666175466, 394.18577776707417, 322.20256138676854, 179.6678244997312, 598.8937995432003, 1088.6425965043359, 522.0617407211155, 1167.5983784807202, 1445.4131206870888, 702.0927681299836, 3265.848552340128, 853.2584745279053, 914.8953446500745, 501.5069273847427, 1033.5212300527896, 556.6234733543408, 600.9018898579483, 1305.087793444481, 1335.9100567124733, 696.6532613509553, 731.1692530098336, 6.173871277531667, 4.330973996243406, 40.231158142983304, 6.5480497413978425, 10.104922057486077, 25.6767696279526, 5.361943266939369, 54.36305700080442, 6.281168973813161, 3.163020900432942, 14.656473332187998, 11.872390798988855, 3.5279803832061987, 5.822839588076225, 4.676342098196166, 15.969393494212571, 9.671158664880327, 5.42434269164112, 6.003402016024139, 51.167515870422605, 2.467252204552307, 2.4520533453900075, 3.9779638797021977, 2.7626779598797935, 3.5442531375011423, 6.664213626208055, 15.441211076599973, 11.607526991314856, 4.426510051014552, 73.54823078370887, 355.1747734737643, 1574.2720093015805, 52.26380728720267, 266.900651915011, 58.37686358174384, 51.58497047335571, 148.2595508252896, 276.34609360661983, 20.436441824109263, 742.9223129798876, 184.9740937293342, 398.1875516813883, 190.99797149684312, 123.10749600769135, 107.49710233506165, 89.30800021014382, 853.2584745279053, 50.323821653828794, 5033.4674742136685, 314.988862812376, 208.01345237201164, 3265.848552340128, 1445.4131206870888, 354.03382799142787, 1129.0421666175466, 1783.2370179104166, 461.6444704739669, 183.11725238390252, 1216.2600749829967, 914.8953446500745, 501.5069273847427, 1167.5983784807202, 397.48098121234324, 327.37833402642053, 630.4327813290738, 255.90111995642994, 696.6532613509553, 1033.5212300527896, 1335.9100567124733, 1088.6425965043359, 1608.2913683650077, 646.7525914302012, 428.2021214834147, 731.1692530098336, 600.9018898579483, 949.8921032768995, 1305.087793444481, 1062.8453074094546, 1055.4936727263482, 626.3327909759049, 605.2908577315225, 598.8937995432003, 702.0927681299836, 839.5010974558681, 1.1843799221981663, 1.2198300591821738, 2.8139033885017546, 1.8799659906676538, 1.2742128799509125, 1.218941572701094, 1.1965333676457945, 1.2682845250599273, 1.3540426257248603, 1.2528274809631277, 1.2723385881015397, 1.2510360546892123, 1.2989037826694239, 1.278885749904148, 7.108097453458996, 1.9227825994123515, 1.343856733678254, 5.574935260989794, 1.2411371215599305, 1.3299004695402459, 1.2678914483172672, 1.2325610367814743, 5.329651458770999, 1.299404610849364, 2.296224347306523, 2.811839754602033, 4.649230043949261, 1.3524063350083861, 1.427405958747653, 1.5562156535390106, 2.4694023097876916, 166.77693490454791, 2.3071152697967356, 46.670097443709516, 125.5875010341754, 78.07023450075681, 351.6827565672574, 79.26210853756086, 201.7364849505481, 1574.2720093015805, 276.34609360661983, 79.59719248968106, 66.1205193547259, 269.2089778797261, 146.9832338483157, 1783.2370179104166, 137.81623038813837, 255.90111995642994, 3265.848552340128, 853.2584745279053, 501.5069273847427, 562.5897496608617, 355.1747734737643, 184.9740937293342, 71.08988717739153, 449.0843603007986, 1088.6425965043359, 374.2129551729227, 233.78357313090487, 461.6444704739669, 1129.0421666175466, 731.1692530098336, 1216.2600749829967, 1062.8453074094546, 1033.5212300527896, 324.6893160215604, 1608.2913683650077, 5033.4674742136685, 1167.5983784807202, 324.3432556659165, 1305.087793444481, 598.8937995432003, 496.9062043261435, 1445.4131206870888, 742.9223129798876, 839.5010974558681, 696.6532613509553, 949.8921032768995, 1335.9100567124733, 646.7525914302012, 914.8953446500745, 1055.4936727263482, 556.6234733543408, 7.108097453458996, 2.811839754602033, 1.316878139627165, 1.2678914483172672, 1.2742128799509125, 1.1965333676457945, 1.308459254104123, 1.2325610367814743, 1.2198300591821738, 1.1843799221981663, 1.218941572701094, 2.8614070499317306, 1.299404610849364, 1.2411371215599305, 1.2723385881015397, 1.9227825994123515, 1.2528274809631277, 1.2682845250599273, 1.2989037826694239, 1.8799659906676538, 2.1333554880158645, 1.278885749904148, 1.3299004695402459, 1.2510360546892123, 1.3123472104368783, 1.3304415145202069, 2.8139033885017546, 1.3524063350083861, 1.343856733678254, 2.965310785466924, 5.574935260989794, 21.51633057587493, 35.67716681179692, 31.922368805335772, 45.435419393384, 19.406019533955686, 51.28933142984085, 351.6827565672574, 78.07023450075681, 5033.4674742136685, 75.43210499851183, 313.8652360724844, 1129.0421666175466, 1608.2913683650077, 394.18577776707417, 535.977885792371, 159.77368965361995, 1167.5983784807202, 742.9223129798876, 1445.4131206870888, 3265.848552340128, 839.5010974558681, 501.7832417369263, 449.0843603007986, 124.18280789624775, 1783.2370179104166, 598.8937995432003, 161.17782360000712, 129.13989666115447, 949.8921032768995, 474.79211455834616, 236.97646771369872, 1335.9100567124733, 731.1692530098336, 1088.6425965043359, 1055.4936727263482, 391.0972427518966, 556.6234733543408, 853.2584745279053, 1033.5212300527896, 1062.8453074094546, 1574.2720093015805, 600.9018898579483, 1216.2600749829967, 1305.087793444481, 914.8953446500745, 646.7525914302012, 702.0927681299836, 1.451644655876817, 1.2528274809631277, 1.218941572701094, 1.2325610367814743, 1.51039267486692, 1.3123472104368783, 1.375927413886751, 1.1843799221981663, 1.1965333676457945, 1.3591960626658721, 1.4420451661411982, 1.4996068006774452, 1.4402879607012942, 1.4664344784047574, 1.2510360546892123, 1.386993393918596, 1.8799659906676538, 1.4455477186911727, 1.2682845250599273, 1.4321366762602314, 1.4037362043011303, 1.4908717762090842, 1.5453662464412452, 1.4882212272009983, 1.4466713741422677, 1.475227366186623, 1.442327885087827, 1.412647345327951, 1.4779561542232251, 1.4908898563784143, 4.9949058128031485, 82.72804846150522, 535.977885792371, 35.67716681179692, 383.4908087220112, 283.5842441043385, 1033.5212300527896, 82.25827666292669, 136.71939305115038, 1783.2370179104166, 125.5875010341754, 137.81623038813837, 556.6234733543408, 312.00705019562355, 110.91709439449873, 853.2584745279053, 1608.2913683650077, 327.37833402642053, 474.79211455834616, 1445.4131206870888, 283.73785364797754, 250.6285296974269, 949.8921032768995, 1167.5983784807202, 95.3557745183695, 1129.0421666175466, 201.7364849505481, 66.73766216669671, 314.988862812376, 278.3328077951445, 374.2129551729227, 522.0617407211155, 1574.2720093015805, 696.6532613509553, 1305.087793444481, 914.8953446500745, 3265.848552340128, 5033.4674742136685, 562.5897496608617, 1335.9100567124733, 598.8937995432003, 501.5069273847427, 702.0927681299836, 1055.4936727263482, 731.1692530098336, 1062.8453074094546, 839.5010974558681, 1216.2600749829967, 1088.6425965043359, 742.9223129798876, 3.931999510841435, 23.46149404489652, 3.2837889358170154, 2.3949128050492257, 152.33549583604744, 2.364156333487161, 3.506129187388333, 10.736719050999348, 14.721081022265388, 11.919144742800068, 3.316227018160402, 7.809954469619545, 16.61416312206019, 9.082809397303446, 8.681154726960628, 5.779241837685106, 6.140651323816673, 17.15145077566104, 7.966094834801371, 4.439382739460152, 2.491265109618382, 8.665064642923404, 30.98031875929812, 8.733340751134923, 166.77693490454791, 6.6765176303127145, 4.037128075844394, 96.85807079445821, 3.4408581607324047, 8.93611749005223, 1062.8453074094546, 312.00705019562355, 49.57027944464127, 42.0074758977636, 598.8937995432003, 1335.9100567124733, 562.5897496608617, 702.0927681299836, 46.717280795391275, 44.561886574473235, 839.5010974558681, 94.44722906775563, 365.3576667729347, 108.2098444936116, 3265.848552340128, 1088.6425965043359, 374.2129551729227, 126.7388680529882, 104.93023602311209, 1216.2600749829967, 1608.2913683650077, 283.5842441043385, 626.3327909759049, 5033.4674742136685, 177.58350933844267, 246.34354960186818, 914.8953446500745, 258.9510675600568, 383.4908087220112, 327.37833402642053, 696.6532613509553, 731.1692530098336, 1305.087793444481, 230.47660806645632, 1055.4936727263482, 461.6444704739669, 432.51854231852906, 853.2584745279053, 1167.5983784807202, 1783.2370179104166, 1445.4131206870888, 605.2908577315225, 949.8921032768995, 449.0843603007986, 535.977885792371, 1574.2720093015805, 646.7525914302012, 1033.5212300527896, 1129.0421666175466, 742.9223129798876, 496.9062043261435, 600.9018898579483, 4.721930708020013, 3.0279637364746295, 1.387009397723155, 1.4844549613691884, 1.4283143715895061, 1.3591960626658721, 9.937945177315662, 1.4315898743518782, 2.173670793082893, 1.4343034434537023, 5.741868726442986, 9.030065185137953, 1.3633753926005503, 10.445654691513639, 1.4422095422099652, 2.3398291057381098, 1.386993393918596, 2.3444915144882366, 17.385883909926736, 1.4780678612018547, 2.346494068665869, 2.289534364492442, 2.207604580641725, 14.109889406463223, 1.4792425924582393, 1.4429850870886198, 4.022655716650972, 7.204003086304121, 2.4600042578829227, 4.0784372139517, 24.273131565976293, 10.991939323065884, 39.7124011145365, 11.566341835793105, 11.97444060429043, 134.09278194111033, 52.26380728720267, 839.5010974558681, 269.08619821584523, 34.67637333505986, 124.94949642125978, 25.368198892719562, 65.81644901180512, 1062.8453074094546, 6.422842294243588, 324.0605440894341, 35.67716681179692, 146.9832338483157, 28.71510413792666, 449.0843603007986, 66.67828086372378, 49.841563835380384, 556.6234733543408, 156.1314332367197, 297.2003089888981, 914.8953446500745, 1088.6425965043359, 1574.2720093015805, 3265.848552340128, 626.3327909759049, 1783.2370179104166, 391.0972427518966, 1305.087793444481, 646.7525914302012, 125.5875010341754, 5033.4674742136685, 1216.2600749829967, 428.2021214834147, 501.5069273847427, 461.6444704739669, 1129.0421666175466, 605.2908577315225, 949.8921032768995, 1167.5983784807202, 742.9223129798876, 731.1692530098336, 1445.4131206870888, 696.6532613509553, 1055.4936727263482, 1608.2913683650077, 1335.9100567124733, 702.0927681299836, 496.9062043261435, 598.8937995432003, 853.2584745279053, 1033.5212300527896], \"Category\": [\"Default\", \"Default\", \"Default\", \"Default\", \"Default\", \"Default\", \"Default\", \"Default\", \"Default\", \"Default\", \"Default\", \"Default\", \"Default\", \"Default\", \"Default\", \"Default\", \"Default\", \"Default\", \"Default\", \"Default\", \"Default\", \"Default\", \"Default\", \"Default\", \"Default\", \"Default\", \"Default\", \"Default\", \"Default\", \"Default\", \"Topic1\", \"Topic1\", \"Topic1\", \"Topic1\", \"Topic1\", \"Topic1\", \"Topic1\", \"Topic1\", \"Topic1\", \"Topic1\", \"Topic1\", \"Topic1\", \"Topic1\", \"Topic1\", \"Topic1\", \"Topic1\", \"Topic1\", \"Topic1\", \"Topic1\", \"Topic1\", \"Topic1\", \"Topic1\", \"Topic1\", \"Topic1\", \"Topic1\", \"Topic1\", \"Topic1\", \"Topic1\", \"Topic1\", \"Topic1\", \"Topic1\", \"Topic1\", \"Topic1\", \"Topic1\", \"Topic1\", \"Topic1\", \"Topic1\", \"Topic1\", \"Topic1\", \"Topic1\", \"Topic1\", \"Topic1\", \"Topic1\", \"Topic1\", \"Topic1\", \"Topic1\", \"Topic1\", \"Topic1\", \"Topic1\", \"Topic1\", \"Topic1\", \"Topic1\", \"Topic1\", \"Topic1\", \"Topic1\", \"Topic1\", \"Topic1\", \"Topic1\", \"Topic1\", \"Topic1\", \"Topic1\", \"Topic1\", \"Topic1\", \"Topic1\", \"Topic1\", \"Topic1\", \"Topic1\", \"Topic1\", \"Topic1\", \"Topic1\", \"Topic1\", \"Topic1\", \"Topic1\", \"Topic1\", \"Topic1\", \"Topic1\", \"Topic1\", \"Topic1\", \"Topic1\", \"Topic1\", \"Topic2\", \"Topic2\", \"Topic2\", \"Topic2\", \"Topic2\", \"Topic2\", \"Topic2\", \"Topic2\", \"Topic2\", \"Topic2\", \"Topic2\", \"Topic2\", \"Topic2\", \"Topic2\", \"Topic2\", \"Topic2\", \"Topic2\", \"Topic2\", \"Topic2\", \"Topic2\", \"Topic2\", \"Topic2\", \"Topic2\", \"Topic2\", \"Topic2\", \"Topic2\", \"Topic2\", \"Topic2\", \"Topic2\", \"Topic2\", \"Topic2\", \"Topic2\", \"Topic2\", \"Topic2\", \"Topic2\", \"Topic2\", \"Topic2\", \"Topic2\", \"Topic2\", \"Topic2\", \"Topic2\", \"Topic2\", \"Topic2\", \"Topic2\", \"Topic2\", \"Topic2\", \"Topic2\", \"Topic2\", \"Topic2\", \"Topic2\", \"Topic2\", \"Topic2\", \"Topic2\", \"Topic2\", \"Topic2\", \"Topic2\", \"Topic2\", \"Topic2\", \"Topic2\", \"Topic2\", \"Topic2\", \"Topic2\", \"Topic2\", \"Topic2\", \"Topic2\", \"Topic2\", \"Topic2\", \"Topic2\", \"Topic2\", \"Topic2\", \"Topic2\", \"Topic2\", \"Topic2\", \"Topic2\", \"Topic2\", \"Topic3\", \"Topic3\", \"Topic3\", \"Topic3\", \"Topic3\", \"Topic3\", \"Topic3\", \"Topic3\", \"Topic3\", \"Topic3\", \"Topic3\", \"Topic3\", \"Topic3\", \"Topic3\", \"Topic3\", \"Topic3\", \"Topic3\", \"Topic3\", \"Topic3\", \"Topic3\", \"Topic3\", \"Topic3\", \"Topic3\", \"Topic3\", \"Topic3\", \"Topic3\", \"Topic3\", \"Topic3\", \"Topic3\", \"Topic3\", \"Topic3\", \"Topic3\", \"Topic3\", \"Topic3\", \"Topic3\", \"Topic3\", \"Topic3\", \"Topic3\", \"Topic3\", \"Topic3\", \"Topic3\", \"Topic3\", \"Topic3\", \"Topic3\", \"Topic3\", \"Topic3\", \"Topic3\", \"Topic3\", \"Topic3\", \"Topic3\", \"Topic3\", \"Topic3\", \"Topic3\", \"Topic3\", \"Topic3\", \"Topic3\", \"Topic3\", \"Topic3\", \"Topic3\", \"Topic3\", \"Topic3\", \"Topic3\", \"Topic3\", \"Topic3\", \"Topic3\", \"Topic3\", \"Topic3\", \"Topic3\", \"Topic3\", \"Topic3\", \"Topic3\", \"Topic3\", \"Topic3\", \"Topic3\", \"Topic3\", \"Topic3\", \"Topic3\", \"Topic3\", \"Topic3\", \"Topic3\", \"Topic3\", \"Topic3\", \"Topic4\", \"Topic4\", \"Topic4\", \"Topic4\", \"Topic4\", \"Topic4\", \"Topic4\", \"Topic4\", \"Topic4\", \"Topic4\", \"Topic4\", \"Topic4\", \"Topic4\", \"Topic4\", \"Topic4\", \"Topic4\", \"Topic4\", \"Topic4\", \"Topic4\", \"Topic4\", \"Topic4\", \"Topic4\", \"Topic4\", \"Topic4\", \"Topic4\", \"Topic4\", \"Topic4\", \"Topic4\", \"Topic4\", \"Topic4\", \"Topic4\", \"Topic4\", \"Topic4\", \"Topic4\", \"Topic4\", \"Topic4\", \"Topic4\", \"Topic4\", \"Topic4\", \"Topic4\", \"Topic4\", \"Topic4\", \"Topic4\", \"Topic4\", \"Topic4\", \"Topic4\", \"Topic4\", \"Topic4\", \"Topic4\", \"Topic4\", \"Topic4\", \"Topic4\", \"Topic4\", \"Topic4\", \"Topic4\", \"Topic4\", \"Topic4\", \"Topic4\", \"Topic4\", \"Topic4\", \"Topic4\", \"Topic4\", \"Topic4\", \"Topic4\", \"Topic4\", \"Topic4\", \"Topic4\", \"Topic4\", \"Topic4\", \"Topic4\", \"Topic4\", \"Topic4\", \"Topic4\", \"Topic4\", \"Topic4\", \"Topic4\", \"Topic4\", \"Topic5\", \"Topic5\", \"Topic5\", \"Topic5\", \"Topic5\", \"Topic5\", \"Topic5\", \"Topic5\", \"Topic5\", \"Topic5\", \"Topic5\", \"Topic5\", \"Topic5\", \"Topic5\", \"Topic5\", \"Topic5\", \"Topic5\", \"Topic5\", \"Topic5\", \"Topic5\", \"Topic5\", \"Topic5\", \"Topic5\", \"Topic5\", \"Topic5\", \"Topic5\", \"Topic5\", \"Topic5\", \"Topic5\", \"Topic5\", \"Topic5\", \"Topic5\", \"Topic5\", \"Topic5\", \"Topic5\", \"Topic5\", \"Topic5\", \"Topic5\", \"Topic5\", \"Topic5\", \"Topic5\", \"Topic5\", \"Topic5\", \"Topic5\", \"Topic5\", \"Topic5\", \"Topic5\", \"Topic5\", \"Topic5\", \"Topic5\", \"Topic5\", \"Topic5\", \"Topic5\", \"Topic5\", \"Topic5\", \"Topic5\", \"Topic5\", \"Topic5\", \"Topic5\", \"Topic5\", \"Topic5\", \"Topic5\", \"Topic5\", \"Topic5\", \"Topic5\", \"Topic5\", \"Topic5\", \"Topic5\", \"Topic5\", \"Topic5\", \"Topic5\", \"Topic5\", \"Topic5\", \"Topic5\", \"Topic5\", \"Topic5\", \"Topic5\", \"Topic5\", \"Topic5\", \"Topic5\", \"Topic5\", \"Topic5\", \"Topic5\", \"Topic5\", \"Topic6\", \"Topic6\", \"Topic6\", \"Topic6\", \"Topic6\", \"Topic6\", \"Topic6\", \"Topic6\", \"Topic6\", \"Topic6\", \"Topic6\", \"Topic6\", \"Topic6\", \"Topic6\", \"Topic6\", \"Topic6\", \"Topic6\", \"Topic6\", \"Topic6\", \"Topic6\", \"Topic6\", \"Topic6\", \"Topic6\", \"Topic6\", \"Topic6\", \"Topic6\", \"Topic6\", \"Topic6\", \"Topic6\", \"Topic6\", \"Topic6\", \"Topic6\", \"Topic6\", \"Topic6\", \"Topic6\", \"Topic6\", \"Topic6\", \"Topic6\", \"Topic6\", \"Topic6\", \"Topic6\", \"Topic6\", \"Topic6\", \"Topic6\", \"Topic6\", \"Topic6\", \"Topic6\", \"Topic6\", \"Topic6\", \"Topic6\", \"Topic6\", \"Topic6\", \"Topic6\", \"Topic6\", \"Topic6\", \"Topic6\", \"Topic6\", \"Topic6\", \"Topic6\", \"Topic6\", \"Topic6\", \"Topic6\", \"Topic6\", \"Topic6\", \"Topic6\", \"Topic6\", \"Topic6\", \"Topic6\", \"Topic6\", \"Topic6\", \"Topic6\", \"Topic6\", \"Topic6\", \"Topic6\", \"Topic6\", \"Topic6\", \"Topic6\", \"Topic6\", \"Topic6\", \"Topic6\", \"Topic6\", \"Topic6\", \"Topic6\", \"Topic7\", \"Topic7\", \"Topic7\", \"Topic7\", \"Topic7\", \"Topic7\", \"Topic7\", \"Topic7\", \"Topic7\", \"Topic7\", \"Topic7\", \"Topic7\", \"Topic7\", \"Topic7\", \"Topic7\", \"Topic7\", \"Topic7\", \"Topic7\", \"Topic7\", \"Topic7\", \"Topic7\", \"Topic7\", \"Topic7\", \"Topic7\", \"Topic7\", \"Topic7\", \"Topic7\", \"Topic7\", \"Topic7\", \"Topic7\", \"Topic7\", \"Topic7\", \"Topic7\", \"Topic7\", \"Topic7\", \"Topic7\", \"Topic7\", \"Topic7\", \"Topic7\", \"Topic7\", \"Topic7\", \"Topic7\", \"Topic7\", \"Topic7\", \"Topic7\", \"Topic7\", \"Topic7\", \"Topic7\", \"Topic7\", \"Topic7\", \"Topic7\", \"Topic7\", \"Topic7\", \"Topic7\", \"Topic7\", \"Topic7\", \"Topic7\", \"Topic7\", \"Topic7\", \"Topic7\", \"Topic7\", \"Topic7\", \"Topic7\", \"Topic7\", \"Topic7\", \"Topic7\", \"Topic7\", \"Topic7\", \"Topic7\", \"Topic7\", \"Topic7\", \"Topic7\", \"Topic7\", \"Topic7\", \"Topic7\", \"Topic7\", \"Topic7\", \"Topic7\", \"Topic8\", \"Topic8\", \"Topic8\", \"Topic8\", \"Topic8\", \"Topic8\", \"Topic8\", \"Topic8\", \"Topic8\", \"Topic8\", \"Topic8\", \"Topic8\", \"Topic8\", \"Topic8\", \"Topic8\", \"Topic8\", \"Topic8\", \"Topic8\", \"Topic8\", \"Topic8\", \"Topic8\", \"Topic8\", \"Topic8\", \"Topic8\", \"Topic8\", \"Topic8\", \"Topic8\", \"Topic8\", \"Topic8\", \"Topic8\", \"Topic8\", \"Topic8\", \"Topic8\", \"Topic8\", \"Topic8\", \"Topic8\", \"Topic8\", \"Topic8\", \"Topic8\", \"Topic8\", \"Topic8\", \"Topic8\", \"Topic8\", \"Topic8\", \"Topic8\", \"Topic8\", \"Topic8\", \"Topic8\", \"Topic8\", \"Topic8\", \"Topic8\", \"Topic8\", \"Topic8\", \"Topic8\", \"Topic8\", \"Topic8\", \"Topic8\", \"Topic8\", \"Topic8\", \"Topic8\", \"Topic8\", \"Topic8\", \"Topic8\", \"Topic8\", \"Topic8\", \"Topic8\", \"Topic8\", \"Topic8\", \"Topic8\", \"Topic8\", \"Topic8\", \"Topic8\", \"Topic8\", \"Topic8\", \"Topic8\", \"Topic8\", \"Topic8\", \"Topic8\", \"Topic8\", \"Topic8\", \"Topic9\", \"Topic9\", \"Topic9\", \"Topic9\", \"Topic9\", \"Topic9\", \"Topic9\", \"Topic9\", \"Topic9\", \"Topic9\", \"Topic9\", \"Topic9\", \"Topic9\", \"Topic9\", \"Topic9\", \"Topic9\", \"Topic9\", \"Topic9\", \"Topic9\", \"Topic9\", \"Topic9\", \"Topic9\", \"Topic9\", \"Topic9\", \"Topic9\", \"Topic9\", \"Topic9\", \"Topic9\", \"Topic9\", \"Topic9\", \"Topic9\", \"Topic9\", \"Topic9\", \"Topic9\", \"Topic9\", \"Topic9\", \"Topic9\", \"Topic9\", \"Topic9\", \"Topic9\", \"Topic9\", \"Topic9\", \"Topic9\", \"Topic9\", \"Topic9\", \"Topic9\", \"Topic9\", \"Topic9\", \"Topic9\", \"Topic9\", \"Topic9\", \"Topic9\", \"Topic9\", \"Topic9\", \"Topic9\", \"Topic9\", \"Topic9\", \"Topic9\", \"Topic9\", \"Topic9\", \"Topic9\", \"Topic9\", \"Topic9\", \"Topic9\", \"Topic9\", \"Topic9\", \"Topic9\", \"Topic9\", \"Topic9\", \"Topic9\", \"Topic9\", \"Topic9\", \"Topic9\", \"Topic9\", \"Topic9\", \"Topic9\", \"Topic9\", \"Topic9\", \"Topic9\", \"Topic9\", \"Topic9\", \"Topic9\", \"Topic10\", \"Topic10\", \"Topic10\", \"Topic10\", \"Topic10\", \"Topic10\", \"Topic10\", \"Topic10\", \"Topic10\", \"Topic10\", \"Topic10\", \"Topic10\", \"Topic10\", \"Topic10\", \"Topic10\", \"Topic10\", \"Topic10\", \"Topic10\", \"Topic10\", \"Topic10\", \"Topic10\", \"Topic10\", \"Topic10\", \"Topic10\", \"Topic10\", \"Topic10\", \"Topic10\", \"Topic10\", \"Topic10\", \"Topic10\", \"Topic10\", \"Topic10\", \"Topic10\", \"Topic10\", \"Topic10\", \"Topic10\", \"Topic10\", \"Topic10\", \"Topic10\", \"Topic10\", \"Topic10\", \"Topic10\", \"Topic10\", \"Topic10\", \"Topic10\", \"Topic10\", \"Topic10\", \"Topic10\", \"Topic10\", \"Topic10\", \"Topic10\", \"Topic10\", \"Topic10\", \"Topic10\", \"Topic10\", \"Topic10\", \"Topic10\", \"Topic10\", \"Topic10\", \"Topic10\", \"Topic10\", \"Topic10\", \"Topic10\", \"Topic10\", \"Topic10\", \"Topic10\", \"Topic10\", \"Topic10\", \"Topic10\", \"Topic10\", \"Topic10\", \"Topic10\", \"Topic10\", \"Topic10\", \"Topic10\", \"Topic10\", \"Topic10\", \"Topic10\", \"Topic10\", \"Topic10\", \"Topic10\", \"Topic10\", \"Topic10\", \"Topic10\", \"Topic10\", \"Topic10\"], \"logprob\": [30.0, 29.0, 28.0, 27.0, 26.0, 25.0, 24.0, 23.0, 22.0, 21.0, 20.0, 19.0, 18.0, 17.0, 16.0, 15.0, 14.0, 13.0, 12.0, 11.0, 10.0, 9.0, 8.0, 7.0, 6.0, 5.0, 4.0, 3.0, 2.0, 1.0, -9.0612, -10.6092, -10.7108, -10.2626, -10.292, -10.7781, -10.7554, -10.7541, -9.2446, -10.7298, -10.2015, -10.7556, -10.8242, -10.7657, -9.0745, -9.9665, -10.8293, -10.8167, -10.1624, -9.6608, -10.6662, -8.8405, -10.7655, -9.5018, -7.1372, -10.2254, -10.6658, -10.0322, -10.6965, -10.727, -6.9357, -8.6372, -5.0687, -7.2496, -6.3865, -5.9593, -4.5493, -8.2155, -5.0143, -4.4179, -7.1087, -3.9735, -6.7246, -6.6138, -4.7471, -7.3178, -6.9727, -6.3078, -6.4303, -6.4142, -5.5511, -6.3232, -3.2176, -4.9527, -4.6487, -6.3643, -4.5533, -4.8413, -5.314, -4.3012, -5.7861, -5.1901, -4.3628, -4.6793, -4.6539, -4.5309, -5.0415, -3.8808, -5.5034, -5.3061, -5.5823, -5.2717, -4.6977, -5.2898, -4.9569, -4.6851, -5.2088, -5.0276, -5.0168, -5.3334, -10.114, -10.0907, -10.1133, -10.1667, -10.1196, -10.1045, -10.1652, -10.1943, -10.1585, -10.1574, -10.1806, -10.2458, -10.1486, -10.1611, -10.127, -10.236, -10.226, -10.2064, -10.1978, -10.201, -10.2234, -10.2081, -10.1872, -10.1988, -10.1681, -10.2194, -10.1966, -10.2065, -10.162, -10.2043, -9.1449, -5.3879, -4.6838, -3.5774, -5.3397, -5.6088, -4.5859, -4.9137, -4.2714, -5.6421, -5.8532, -6.2181, -5.4428, -5.2259, -6.6175, -5.9399, -6.5971, -4.2716, -4.7533, -6.4151, -5.2054, -7.2472, -4.8387, -5.3231, -5.3817, -5.8639, -5.6023, -5.2465, -4.6206, -6.7748, -5.1242, -3.6212, -4.7393, -4.5544, -5.0371, -4.9913, -4.8575, -4.798, -4.9723, -5.3147, -4.8573, -5.0545, -5.2875, -5.1261, -5.3062, -9.1392, -10.006, -9.7571, -10.3129, -10.7739, -9.5593, -8.3661, -9.8015, -9.2072, -10.3727, -8.8368, -10.8737, -9.7877, -9.6366, -9.4747, -10.0479, -9.0468, -9.4047, -9.4283, -10.8538, -9.1805, -8.9711, -8.882, -8.1467, -9.022, -9.0744, -10.3177, -10.0186, -9.24, -10.1211, -5.5259, -7.4002, -5.762, -8.3306, -4.2676, -8.0054, -4.5036, -4.5311, -5.8841, -5.3139, -7.5357, -5.3803, -7.4908, -6.5459, -4.6525, -5.8284, -7.5513, -6.3487, -6.2678, -5.087, -4.1046, -6.616, -5.2188, -5.2809, -4.5531, -3.1491, -5.7428, -4.8557, -6.8088, -4.365, -5.1824, -4.2685, -4.569, -4.3008, -5.1815, -5.2559, -5.5808, -3.664, -5.1317, -5.3824, -5.7376, -5.0545, -5.0962, -4.7255, -4.6434, -4.768, -4.6023, -4.9011, -5.1154, -5.0052, -5.2019, -5.1597, -10.1339, -10.1353, -10.2125, -10.2035, -10.258, -9.8486, -10.2205, -9.8303, -10.2144, -10.3006, -10.2635, -10.2478, -10.239, -10.3167, -10.3027, -8.5847, -10.1852, -9.4216, -10.253, -10.3668, -9.8329, -10.3151, -10.2612, -10.3615, -10.3441, -10.3517, -10.3167, -10.2224, -10.2213, -10.388, -9.5819, -7.7678, -7.3398, -9.545, -4.3503, -5.2703, -4.2179, -9.0624, -5.345, -4.6831, -4.8928, -5.6063, -4.8015, -4.167, -5.6058, -5.1979, -5.7712, -6.0449, -4.3264, -5.8201, -4.6804, -5.8383, -5.1562, -6.1132, -4.7527, -3.4961, -4.7069, -5.5569, -5.7185, -6.1881, -5.2389, -4.773, -5.3535, -4.763, -4.6103, -5.1524, -4.054, -5.0359, -4.9924, -5.4115, -4.9398, -5.3499, -5.3106, -4.8674, -4.9302, -5.2445, -5.29, -9.3737, -9.7715, -7.5579, -9.3803, -8.955, -8.0361, -9.6072, -7.308, -9.4667, -10.1587, -8.6317, -8.8436, -10.0573, -9.5578, -9.7795, -8.5534, -9.0563, -9.6348, -9.5349, -7.3923, -10.4288, -10.4357, -9.9519, -10.3174, -10.0696, -9.4435, -8.6042, -8.8914, -9.8577, -7.0478, -5.4823, -4.0137, -7.3948, -5.788, -7.294, -7.4217, -6.3875, -5.7775, -8.3353, -4.8226, -6.1931, -5.4519, -6.1683, -6.5996, -6.7306, -6.9131, -4.7503, -7.4684, -3.0775, -5.7122, -6.1081, -3.5112, -4.287, -5.6138, -4.5353, -4.115, -5.3942, -6.2456, -4.5129, -4.7828, -5.3309, -4.5667, -5.5555, -5.731, -5.1555, -5.9571, -5.1016, -4.7654, -4.5528, -4.7268, -4.4015, -5.1894, -5.5356, -5.1214, -5.2837, -4.9608, -4.7571, -4.9485, -4.9776, -5.2855, -5.3063, -5.3222, -5.3134, -5.3434, -10.5748, -10.5813, -9.7501, -10.1689, -10.5711, -10.6326, -10.6584, -10.6038, -10.5599, -10.6481, -10.6485, -10.67, -10.6348, -10.6698, -8.9636, -10.2919, -10.6652, -9.2434, -10.755, -10.6909, -10.7404, -10.7734, -9.3196, -10.7409, -10.175, -9.9731, -9.4779, -10.714, -10.6612, -10.5797, -10.1262, -6.0274, -10.194, -7.2875, -6.3531, -6.8152, -5.4078, -6.8207, -5.9549, -4.0272, -5.6686, -6.8387, -7.0226, -5.7249, -6.3041, -4.048, -6.3837, -5.822, -3.5099, -4.7357, -5.2211, -5.1304, -5.5522, -6.1377, -6.9957, -5.3618, -4.5842, -5.5284, -5.944, -5.3559, -4.599, -4.9807, -4.5636, -4.7101, -4.7363, -5.6997, -4.4138, -3.5068, -4.6906, -5.702, -4.6506, -5.2366, -5.3795, -4.5811, -5.0891, -5.0289, -5.1622, -5.0243, -4.8305, -5.27, -5.1168, -5.1358, -5.3861, -8.4128, -9.5185, -10.2973, -10.3584, -10.357, -10.4239, -10.3511, -10.4144, -10.4321, -10.464, -10.4512, -9.6222, -10.4125, -10.4586, -10.4559, -10.0453, -10.4807, -10.4918, -10.479, -10.1171, -10.0002, -10.5134, -10.4915, -10.5735, -10.5325, -10.5264, -9.7813, -10.5299, -10.5692, -9.7923, -9.1636, -7.8376, -7.3501, -7.5553, -7.2524, -8.0533, -7.1815, -5.4498, -6.8081, -3.1049, -6.8493, -5.584, -4.4629, -4.1953, -5.4285, -5.1656, -6.2279, -4.5076, -4.9157, -4.3496, -3.6571, -4.8215, -5.27, -5.3643, -6.4666, -4.2025, -5.1436, -6.2538, -6.4413, -4.7666, -5.3482, -5.9362, -4.5204, -5.019, -4.7039, -4.7364, -5.5346, -5.2528, -4.9319, -4.7953, -4.7992, -4.5302, -5.2646, -4.758, -4.7629, -5.1234, -5.3174, -5.3454, -10.4105, -10.5733, -10.619, -10.6218, -10.4205, -10.5642, -10.5318, -10.6863, -10.6838, -10.5662, -10.5085, -10.4703, -10.5139, -10.496, -10.6553, -10.5527, -10.2493, -10.5189, -10.6497, -10.5377, -10.5577, -10.4978, -10.4628, -10.5005, -10.5289, -10.5106, -10.5357, -10.5615, -10.5173, -10.5098, -9.31, -6.7436, -5.0758, -7.5757, -5.3924, -5.6731, -4.502, -6.8121, -6.3619, -4.0315, -6.4646, -6.3901, -5.1373, -5.661, -6.6068, -4.7777, -4.2155, -5.6341, -5.3137, -4.3283, -5.7811, -5.8972, -4.7167, -4.5526, -6.7623, -4.592, -6.1076, -7.0847, -5.7208, -5.8397, -5.591, -5.3051, -4.3808, -5.1027, -4.5913, -4.8794, -3.8512, -3.5289, -5.2919, -4.6385, -5.2602, -5.4013, -5.1636, -4.9305, -5.171, -4.9456, -5.0928, -4.9003, -5.0252, -5.2282, -9.8884, -8.1063, -10.0914, -10.4118, -6.2678, -10.4361, -10.0627, -8.9449, -8.6306, -8.8432, -10.1229, -9.2762, -8.5219, -9.1259, -9.1714, -9.5838, -9.5236, -8.4983, -9.2661, -9.852, -10.4298, -9.184, -7.9114, -9.1782, -6.2318, -9.4561, -9.9609, -6.7853, -10.1259, -9.1754, -4.4191, -5.6392, -7.4624, -7.6294, -5.0012, -4.2269, -5.1129, -4.8994, -7.5388, -7.593, -4.7633, -6.8682, -5.5704, -6.7431, -3.4931, -4.5478, -5.5745, -6.6047, -6.7855, -4.4583, -4.1994, -5.8545, -5.1186, -3.1839, -6.3052, -6.0028, -4.7832, -5.9576, -5.6055, -5.7518, -5.0739, -5.0461, -4.5417, -6.0758, -4.7469, -5.4679, -5.5273, -4.9524, -4.6936, -4.3408, -4.5204, -5.2463, -4.8998, -5.498, -5.3731, -4.6131, -5.247, -4.959, -4.911, -5.1969, -5.4345, -5.3535, -9.287, -9.8132, -10.6151, -10.5899, -10.6584, -10.7378, -8.7623, -10.7085, -10.2918, -10.7107, -9.3265, -8.8738, -10.7651, -8.7309, -10.7135, -10.2357, -10.7589, -10.234, -8.2336, -10.7011, -10.2395, -10.2651, -10.3016, -8.4548, -10.7121, -10.7378, -9.7132, -9.1305, -10.2068, -9.7057, -7.9228, -8.7203, -7.4543, -8.68, -8.6564, -6.3229, -7.2336, -4.5718, -5.666, -7.6431, -6.4165, -7.9477, -7.0345, -4.3955, -9.2697, -5.5667, -7.642, -6.314, -7.8578, -5.2816, -7.0692, -7.349, -5.1345, -6.309, -5.7308, -4.7197, -4.574, -4.2497, -3.6071, -5.0831, -4.1744, -5.5199, -4.4695, -5.0948, -6.5378, -3.332, -4.5709, -5.4779, -5.3439, -5.4193, -4.665, -5.1949, -4.8201, -4.6498, -5.0443, -5.0766, -4.547, -5.1219, -4.8444, -4.5565, -4.7478, -5.1957, -5.3962, -5.3356, -5.2065, -5.1601], \"loglift\": [30.0, 29.0, 28.0, 27.0, 26.0, 25.0, 24.0, 23.0, 22.0, 21.0, 20.0, 19.0, 18.0, 17.0, 16.0, 15.0, 14.0, 13.0, 12.0, 11.0, 10.0, 9.0, 8.0, 7.0, 6.0, 5.0, 4.0, 3.0, 2.0, 1.0, 0.8824, 0.8287, 0.7531, 0.7455, 0.7386, 0.7043, 0.6974, 0.6917, 0.6889, 0.6861, 0.6847, 0.6689, 0.6684, 0.6342, 0.6261, 0.6117, 0.6071, 0.6043, 0.604, 0.5984, 0.5977, 0.5961, 0.5933, 0.5902, 0.5872, 0.5859, 0.5846, 0.5784, 0.5759, 0.5653, 0.5393, 0.5465, 0.4584, 0.4985, 0.4423, 0.3956, 0.2938, 0.4865, 0.315, 0.2752, 0.4134, 0.2022, 0.3845, 0.3706, 0.1819, 0.4013, 0.3659, 0.3034, 0.308, 0.3047, 0.2099, 0.2774, -0.0796, 0.1145, 0.0724, 0.2788, 0.0459, 0.0715, 0.1302, -0.0223, 0.1813, 0.0767, -0.0624, -0.0101, -0.0212, -0.0664, 0.0098, -0.3102, 0.0889, 0.0339, 0.0926, -0.0155, -0.2099, -0.0264, -0.1514, -0.2994, -0.101, -0.3275, -0.4585, -0.1114, 1.1811, 1.1614, 1.1516, 1.1441, 1.1429, 1.1381, 1.1299, 1.1253, 1.1206, 1.1166, 1.1148, 1.1061, 1.1053, 1.1052, 1.102, 1.0987, 1.0967, 1.0967, 1.0956, 1.0948, 1.0942, 1.093, 1.0894, 1.087, 1.0867, 1.086, 1.0858, 1.0857, 1.0847, 1.082, 0.9744, 0.4828, 0.229, -0.0068, 0.2765, 0.3005, 0.0832, 0.1376, 0.0076, 0.2369, 0.2639, 0.3271, 0.1594, 0.1141, 0.3979, 0.254, 0.3807, -0.0959, -0.0321, 0.3326, 0.0614, 0.5009, -0.0332, 0.0547, 0.0626, 0.172, 0.1102, 0.0169, -0.1328, 0.3675, -0.0569, -0.4832, -0.181, -0.2541, -0.1081, -0.1483, -0.2247, -0.3335, -0.2791, -0.0928, -0.4716, -0.3544, -0.1797, -0.5269, -0.1907, 0.4237, 0.3947, 0.3841, 0.3523, 0.3499, 0.3442, 0.3359, 0.3302, 0.3268, 0.3256, 0.3237, 0.3197, 0.3161, 0.3152, 0.3149, 0.3111, 0.311, 0.3103, 0.3089, 0.3026, 0.299, 0.2971, 0.2918, 0.2916, 0.2915, 0.2897, 0.2895, 0.2894, 0.2879, 0.2865, 0.283, 0.2833, 0.2561, 0.2793, 0.2202, 0.2715, 0.1965, 0.1901, 0.2162, 0.1851, 0.2528, 0.1849, 0.2501, 0.2198, 0.153, 0.1938, 0.2471, 0.1951, 0.1893, 0.1285, 0.071, 0.1966, 0.1212, 0.1232, 0.0796, -0.0111, 0.1372, 0.0734, 0.1961, 0.0207, 0.081, 0.0105, 0.0301, -0.0005, 0.0747, 0.0734, 0.1042, -0.0934, 0.0582, 0.0711, 0.1159, 0.0127, 0.0193, -0.0563, -0.0851, -0.0748, -0.1378, -0.058, -0.0076, -0.0924, 0.0201, -0.1084, 1.3588, 1.3472, 1.2507, 1.2423, 1.1947, 1.182, 1.1799, 1.1778, 1.1757, 1.1633, 1.1607, 1.129, 1.1274, 1.1212, 1.1183, 1.1159, 1.1039, 1.0799, 1.0708, 1.0697, 1.0614, 1.0612, 1.0552, 1.0544, 1.0489, 1.0483, 1.0432, 1.042, 1.0373, 1.0365, 1.0286, 0.8253, 0.7476, 0.9445, 0.208, 0.2844, 0.0824, 0.8629, 0.2473, 0.1224, 0.1585, 0.2727, 0.1275, 0.0087, 0.2649, 0.1799, 0.2691, 0.31, -0.0474, 0.2467, 0.0127, 0.228, 0.0658, 0.2733, -0.0526, -0.3581, -0.0741, 0.1282, 0.1681, 0.2827, 0.0278, -0.1039, 0.0506, -0.1639, -0.2246, -0.0446, -0.4834, -0.1231, -0.1494, 0.0327, -0.2187, -0.0099, -0.0472, -0.3796, -0.4657, -0.1289, -0.2228, 0.4678, 0.4246, 0.4093, 0.4023, 0.3939, 0.3802, 0.3753, 0.3582, 0.3576, 0.3516, 0.3453, 0.344, 0.3438, 0.3423, 0.3399, 0.3378, 0.3364, 0.3361, 0.3346, 0.3345, 0.3299, 0.3292, 0.3292, 0.3283, 0.3269, 0.3216, 0.3206, 0.3188, 0.3166, 0.3161, 0.3069, 0.2867, 0.3108, 0.287, 0.3009, 0.2969, 0.2754, 0.2627, 0.3092, 0.2287, 0.2485, 0.2231, 0.2413, 0.2492, 0.2538, 0.2567, 0.1625, 0.2749, 0.0605, 0.1972, 0.2162, 0.0594, 0.0987, 0.1787, 0.0974, 0.0607, 0.1329, 0.2062, 0.0454, 0.0602, 0.1133, 0.0324, 0.1212, 0.1398, 0.06, 0.16, 0.014, -0.0443, -0.0883, -0.0577, -0.1226, 0.0005, 0.0666, -0.0542, -0.0203, -0.1553, -0.2693, -0.2553, -0.2775, -0.0636, -0.0501, -0.0554, -0.2056, -0.4144, 0.9178, 0.8819, 0.8771, 0.8617, 0.8484, 0.8313, 0.8241, 0.8204, 0.7989, 0.7883, 0.7725, 0.7679, 0.7656, 0.746, 0.737, 0.7162, 0.7011, 0.7002, 0.6908, 0.6858, 0.6841, 0.6793, 0.6689, 0.6591, 0.6556, 0.655, 0.6473, 0.646, 0.6448, 0.6399, 0.6317, 0.5178, 0.6318, 0.5312, 0.4758, 0.4891, 0.3913, 0.4684, 0.4, 0.2731, 0.3716, 0.4462, 0.4477, 0.3415, 0.3674, 0.1277, 0.3523, 0.2951, 0.0607, 0.1771, 0.2232, 0.1989, 0.237, 0.304, 0.4023, 0.1928, 0.085, 0.2087, 0.2635, 0.1712, 0.0337, 0.0865, -0.0053, -0.017, -0.0151, 0.1793, -0.1349, -0.3688, -0.0914, 0.1781, -0.1628, 0.0302, 0.074, -0.1954, -0.0379, -0.0999, -0.0466, -0.2187, -0.366, -0.0801, -0.2737, -0.4357, -0.0461, 1.2879, 1.1095, 1.0893, 1.0661, 1.0625, 1.0585, 1.0419, 1.0384, 1.031, 1.0286, 1.0127, 0.9883, 0.9875, 0.9873, 0.9652, 0.9628, 0.9557, 0.9324, 0.9213, 0.9135, 0.904, 0.9025, 0.8852, 0.8644, 0.8575, 0.85, 0.846, 0.8301, 0.7971, 0.7825, 0.78, 0.7555, 0.7373, 0.6432, 0.5932, 0.643, 0.5429, 0.3494, 0.4961, 0.0331, 0.4893, 0.3289, 0.1698, 0.0837, 0.2565, 0.2121, 0.3602, 0.0915, 0.1355, 0.0361, -0.0865, 0.1076, 0.1737, 0.1903, 0.3735, -0.0268, 0.1231, 0.3255, 0.3597, 0.0389, 0.1508, 0.2577, -0.0559, 0.0482, -0.0347, -0.0363, 0.1583, 0.0871, -0.0191, -0.0742, -0.1061, -0.2298, -0.0012, -0.1996, -0.2751, -0.2803, -0.1275, -0.2376, 0.8787, 0.8632, 0.8449, 0.8309, 0.829, 0.8259, 0.811, 0.8063, 0.7987, 0.7888, 0.7873, 0.7864, 0.7831, 0.783, 0.7826, 0.782, 0.7813, 0.7745, 0.7745, 0.765, 0.765, 0.7647, 0.7638, 0.7637, 0.7637, 0.7624, 0.7599, 0.7549, 0.7539, 0.7527, 0.7435, 0.5027, 0.302, 0.5116, 0.3202, 0.3413, 0.2192, 0.4399, 0.382, 0.1441, 0.3642, 0.3458, 0.2027, 0.2578, 0.3463, 0.1351, 0.0635, 0.2366, 0.1853, 0.0574, 0.2328, 0.2407, 0.0888, 0.0465, 0.3419, 0.0407, 0.2473, 0.3764, 0.1885, 0.1933, 0.146, 0.099, -0.0805, 0.0128, -0.1034, -0.0364, -0.2806, -0.3909, 0.0375, -0.174, 0.0066, 0.043, -0.0558, -0.2304, -0.1038, -0.2525, -0.1637, -0.342, -0.356, -0.1769, 0.4043, 0.4002, 0.3814, 0.3767, 0.3679, 0.3654, 0.3446, 0.3433, 0.3419, 0.3405, 0.3402, 0.3303, 0.3297, 0.3296, 0.3293, 0.3237, 0.3234, 0.3215, 0.3206, 0.3193, 0.3193, 0.3186, 0.3171, 0.3166, 0.3134, 0.3072, 0.3054, 0.3033, 0.3002, 0.2964, 0.2741, 0.2796, 0.2961, 0.2946, 0.2655, 0.2376, 0.2164, 0.2084, 0.279, 0.272, 0.1658, 0.2456, 0.1906, 0.2347, 0.0775, 0.1214, 0.1625, 0.215, 0.223, 0.1, 0.0795, 0.1598, 0.1034, -0.0459, 0.1773, 0.1524, 0.0598, 0.1477, 0.1071, 0.119, 0.0417, 0.0211, -0.0539, 0.1459, -0.0468, 0.0592, 0.065, -0.0396, -0.0944, -0.1651, -0.1347, 0.0098, -0.0943, 0.0566, 0.0046, -0.3128, -0.0571, -0.2378, -0.2783, -0.1456, 0.019, -0.0901, 0.8227, 0.7407, 0.7196, 0.6769, 0.647, 0.6171, 0.6032, 0.5946, 0.5937, 0.5905, 0.5876, 0.5875, 0.5868, 0.5848, 0.5822, 0.5761, 0.5758, 0.5758, 0.5726, 0.57, 0.5694, 0.5684, 0.5684, 0.5602, 0.5583, 0.5574, 0.5567, 0.5567, 0.5549, 0.5505, 0.5497, 0.5444, 0.5259, 0.5338, 0.5227, 0.4404, 0.472, 0.3572, 0.4008, 0.4727, 0.4174, 0.4807, 0.4405, 0.2977, 0.5323, 0.3143, 0.4454, 0.3575, 0.4466, 0.2731, 0.3928, 0.404, 0.2054, 0.3022, 0.2367, 0.1234, 0.0951, 0.0507, -0.0365, 0.1389, 0.0013, 0.173, 0.0183, 0.0951, 0.291, -0.194, -0.0126, 0.1244, 0.1003, 0.1078, -0.0323, 0.0613, -0.0146, -0.0506, 0.007, -0.0094, -0.1613, -0.0063, -0.1443, -0.2775, -0.2833, -0.0879, 0.0573, -0.0688, -0.2937, -0.439]}, \"token.table\": {\"Topic\": [3, 1, 3, 5, 7, 9, 10, 1, 3, 5, 7, 9, 10, 3, 5, 7, 9, 3, 5, 7, 9, 3, 5, 9, 3, 5, 7, 9, 10, 3, 5, 7, 9, 10, 3, 5, 7, 9, 3, 5, 9, 3, 5, 7, 9, 10, 3, 5, 7, 9, 3, 5, 9, 3, 5, 9, 3, 5, 9, 1, 3, 5, 7, 9, 10, 9, 3, 5, 9, 3, 5, 7, 9, 3, 3, 5, 7, 9, 1, 3, 5, 7, 9, 10, 3, 5, 7, 9, 10, 3, 5, 9, 3, 1, 3, 5, 6, 7, 9, 10, 3, 5, 7, 9, 3, 5, 9, 1, 3, 5, 6, 7, 9, 10, 1, 3, 5, 6, 7, 9, 10, 3, 5, 7, 9, 10, 1, 3, 5, 7, 9, 10, 3, 5, 7, 9, 3, 5, 9, 3, 5, 7, 9, 3, 3, 3, 5, 7, 9, 3, 3, 5, 9, 3, 5, 7, 9, 10, 3, 5, 9, 1, 3, 5, 7, 9, 10, 3, 5, 7, 9, 3, 5, 7, 9, 3, 5, 7, 9, 3, 5, 9, 3, 5, 9, 3, 5, 9, 3, 5, 7, 9, 3, 5, 7, 9, 10, 3, 5, 7, 9, 3, 5, 7, 9, 10, 1, 3, 5, 7, 9, 10, 1, 3, 5, 7, 9, 10, 3, 5, 7, 9, 10, 3, 5, 7, 9, 1, 3, 5, 7, 9, 10, 3, 5, 7, 9, 1, 3, 5, 7, 9, 10, 1, 3, 5, 7, 9, 10, 3, 5, 9, 3, 9, 1, 3, 5, 7, 9, 10, 3, 3, 3, 5, 7, 9, 3, 5, 7, 9, 10, 3, 5, 7, 9, 3, 5, 9, 3, 5, 7, 9, 3, 5, 9, 3, 5, 7, 9, 10, 1, 3, 5, 7, 9, 10, 3, 5, 9, 1, 3, 5, 6, 7, 9, 10, 1, 3, 5, 7, 9, 10, 3, 5, 7, 9, 3, 5, 7, 9, 10, 3, 5, 9, 3, 5, 9, 3, 5, 7, 9, 3, 3, 5, 7, 9, 10, 3, 5, 9, 3, 5, 7, 9, 10, 1, 3, 5, 7, 9, 10, 3, 5, 9, 3, 5, 9, 1, 3, 5, 6, 7, 9, 10, 1, 3, 5, 7, 9, 10, 3, 3, 1, 3, 5, 7, 9, 10, 1, 3, 5, 7, 9, 10, 3, 1, 3, 5, 7, 9, 10, 3, 5, 7, 9, 3, 5, 7, 9, 3, 9, 3, 5, 7, 9, 3, 5, 7, 9, 3, 5, 7, 9, 10, 3, 5, 7, 9, 10, 3, 3, 5, 9, 3, 3, 5, 7, 9, 10, 1, 3, 5, 7, 9, 10, 3, 5, 7, 9, 10, 3, 1, 3, 5, 7, 9, 10, 3, 5, 7, 9, 3, 5, 7, 9, 10, 3, 5, 7, 9, 1, 3, 5, 7, 9, 10, 3, 5, 9, 3, 5, 9, 3, 5, 7, 9, 3, 5, 9, 3, 5, 9, 1, 3, 5, 6, 7, 9, 10, 3, 5, 9, 3, 5, 9, 3, 5, 9, 3, 5, 9, 3, 3, 5, 9, 3, 5, 9, 3, 5, 7, 9, 3, 7, 9, 3, 5, 7, 9, 10, 3, 5, 7, 9, 10, 1, 3, 5, 7, 9, 10, 1, 3, 5, 7, 9, 10, 3, 5, 7, 9, 1, 3, 5, 7, 9, 10, 3, 5, 7, 9, 10, 3, 5, 7, 9, 10, 3, 5, 7, 9, 1, 3, 5, 7, 9, 10, 3, 5, 7, 9, 1, 3, 5, 7, 9, 10, 3, 5, 9, 3, 5, 9, 1, 3, 5, 7, 9, 10, 1, 3, 5, 7, 9, 10, 1, 3, 5, 7, 9, 10, 3, 5, 7, 9, 3, 1, 3, 5, 6, 7, 9, 10, 3, 5, 9, 3, 3, 5, 7, 9, 3, 5, 9, 3, 5, 7, 9, 10, 3, 5, 9, 3, 5, 9, 3, 5, 9, 1, 3, 5, 7, 9, 10, 3, 5, 7, 9, 3, 5, 7, 9, 3, 5, 7, 9, 1, 3, 5, 7, 9, 10, 1, 3, 5, 7, 9, 10, 3, 5, 7, 9, 3, 5, 7, 9, 3, 9, 3, 5, 7, 9, 3, 5, 9, 3, 1, 3, 5, 6, 7, 9, 10, 1, 3, 5, 7, 9, 10, 3, 5, 7, 9, 3, 1, 3, 5, 7, 9, 10, 3, 5, 7, 9, 1, 3, 5, 7, 9, 10, 1, 3, 5, 7, 9, 10, 3, 3, 5, 7, 9, 3, 5, 7, 9, 10, 3, 5, 9, 3, 5, 7, 9, 3, 5, 9, 3, 5, 7, 9, 10, 1, 3, 5, 7, 9, 10, 1, 3, 5, 7, 9, 10, 3, 5, 9, 1, 3, 5, 6, 7, 9, 10, 1, 3, 5, 7, 9, 10, 3, 5, 7, 9, 10, 3, 5, 7, 9, 3, 5, 7, 9, 10, 3, 5, 7, 9, 1, 3, 5, 6, 7, 9, 10, 3, 5, 7, 9, 3, 5, 7, 9, 10, 3, 5, 9, 3, 5, 7, 9, 3, 5, 9, 3, 5, 7, 9, 10, 3, 5, 7, 9, 10, 3, 5, 7, 9, 10, 3, 5, 9, 3, 5, 7, 9, 10, 3, 5, 7, 9, 10, 3, 5, 7, 9, 10, 3, 5, 9, 3, 5, 7, 9, 10, 3, 5, 9, 3, 5, 9, 3, 5, 7, 9, 10, 1, 3, 5, 7, 9, 10, 3, 5, 7, 9, 3, 5, 7, 9, 3, 5, 9, 3, 5, 7, 9, 10, 3, 5, 9, 3, 5, 7, 9, 10, 3, 5, 9, 3, 3, 5, 9, 3, 5, 9, 1, 3, 5, 7, 9, 10, 1, 3, 5, 7, 9, 10, 3, 5, 7, 9, 10, 3, 5, 7, 9, 3, 5, 9, 3, 5, 7, 9, 10, 3, 5, 7, 9, 10, 3, 5, 7, 9, 10, 3, 5, 9, 1, 3, 5, 7, 9, 10, 3, 5, 9, 3, 5, 9, 3, 9, 3, 5, 9, 3, 5, 7, 9, 3, 5, 7, 9, 3, 5, 9, 3, 3, 3, 5, 7, 9, 10, 3, 5, 7, 9, 3, 5, 7, 9, 10, 1, 3, 5, 7, 9, 10, 1, 3, 5, 7, 9, 10, 3, 9, 1, 3, 5, 7, 9, 10, 3, 5, 7, 9, 10, 3, 5, 9, 3, 5, 7, 9, 1, 3, 5, 6, 7, 9, 10, 3, 5, 7, 9, 1, 3, 5, 7, 9, 10, 3, 5, 7, 9, 3, 5, 7, 9, 3, 5, 7, 9, 10, 3, 5, 7, 9, 3, 5, 7, 9, 3, 5, 9, 3, 3, 1, 3, 5, 6, 7, 9, 10, 3, 5, 7, 9, 10, 3, 5, 7, 9, 10, 1, 3, 5, 7, 9, 10, 1, 3, 5, 7, 9, 10, 3, 5, 7, 9, 10, 1, 3, 5, 7, 9, 10, 3, 5, 9, 3, 5, 9, 3, 3, 5, 9, 1, 3, 5, 7, 9, 10, 3, 5, 7, 9, 10, 9, 3, 3, 5, 9, 1, 3, 5, 7, 9, 10, 3, 5, 7, 9, 10, 3, 5, 7, 9, 10, 3, 3, 1, 3, 5, 7, 9, 10, 3, 5, 7, 9, 3, 5, 7, 9, 10, 1, 3, 5, 7, 9, 10, 1, 3, 5, 7, 9, 10, 1, 3, 5, 7, 9, 10, 3, 5, 7, 9, 9, 3, 5, 7, 9, 3, 5, 9, 3, 1, 3, 5, 6, 7, 9, 10, 1, 3, 5, 7, 9, 10, 3, 5, 9, 3, 5, 9, 3, 5, 7, 9, 10, 1, 3, 5, 7, 9, 10, 3, 3, 5, 7, 9, 3, 5, 9, 1, 3, 5, 7, 9, 10, 3, 3, 5, 7, 9, 10, 3, 5, 7, 9, 3, 5, 7, 9, 3, 5, 7, 9, 1, 3, 5, 6, 7, 9, 10, 1, 3, 5, 7, 9, 10, 3, 5, 7, 9, 3, 5, 7, 9, 3, 3, 5, 7, 9, 3, 5, 7, 9, 10, 3, 5, 9, 3, 5, 9, 3, 3, 5, 7, 9, 3, 5, 9, 3, 5, 7, 9, 10, 3, 5, 9, 1, 3, 5, 7, 9, 10, 1, 3, 5, 7, 9, 10, 3, 5, 7, 9, 1, 3, 5, 7, 9, 10, 3, 5, 7, 9, 10, 3, 5, 7, 9, 3, 5, 7, 9, 10, 3, 5, 7, 9, 10, 1, 3, 5, 7, 9, 10, 3, 5, 9, 3, 3, 3, 3, 5, 9, 3, 5, 7, 9, 1, 3, 5, 7, 9, 10, 1, 3, 5, 7, 9, 10, 3], \"Freq\": [0.7005715464977872, 0.0023679961346808566, 0.33862344725936244, 0.28415953616170275, 0.061567899501702265, 0.3054715013738305, 0.00710398840404257, 0.003842502402160998, 0.46878529306364175, 0.22670764172749888, 0.05379503363025397, 0.23823514893398187, 0.007685004804321996, 0.3429474312119853, 0.2017337830658737, 0.0605201349197621, 0.38329418782516, 0.2584529850539828, 0.344603980071977, 0.08615099501799425, 0.2584529850539828, 0.4004079506111041, 0.4004079506111041, 0.20020397530555206, 0.37090898671050637, 0.3138460656781208, 0.042797190774289194, 0.25678314464573515, 0.0071328651290482, 0.3331198956181061, 0.3276589137227273, 0.060070800849166675, 0.26758811287356066, 0.005460981895378789, 0.2875896345508884, 0.2875896345508884, 0.11503585382035535, 0.2875896345508884, 0.22591160721995895, 0.4518232144399179, 0.22591160721995895, 0.2878095824669762, 0.24583735169054216, 0.05996032968062004, 0.38974214292403025, 0.005996032968062004, 0.29688502127312266, 0.3958466950308302, 0.09896167375770755, 0.1979233475154151, 0.28344828808010786, 0.28344828808010786, 0.28344828808010786, 0.4529796725232884, 0.4529796725232884, 0.4529796725232884, 0.40530919301841467, 0.40530919301841467, 0.40530919301841467, 0.002382367344201284, 0.4050024485142183, 0.176295183470895, 0.06670628563763596, 0.3371049792044817, 0.010720653048905779, 0.6778616116544406, 0.5705993589426962, 0.2852996794713481, 0.2852996794713481, 0.3522516192805519, 0.17612580964027594, 0.17612580964027594, 0.3522516192805519, 0.7859543122810596, 0.43228879718279134, 0.17291551887311654, 0.08645775943655827, 0.25937327830967477, 0.0030798672782124956, 0.38806327705477445, 0.2679484532044871, 0.058517478286037414, 0.2771880550391246, 0.006159734556424991, 0.3039207848037418, 0.29176395341159217, 0.08509781974504771, 0.3039207848037418, 0.012156831392149672, 0.4175517362852155, 0.4175517362852155, 0.4175517362852155, 0.46040264475217996, 0.0025693766412245296, 0.387975872824904, 0.27577975949143285, 0.0008564588804081765, 0.06509087491102142, 0.2595070407636775, 0.007708129923673589, 0.5477502874246624, 0.18258342914155412, 0.09129171457077706, 0.18258342914155412, 0.4367700330288277, 0.4367700330288277, 0.4367700330288277, 0.0018371502331638134, 0.3564071452337798, 0.2526081570600244, 0.0009185751165819067, 0.05787023234466013, 0.3224198659202493, 0.00826717604923716, 0.001986702020273252, 0.37270529900326216, 0.28409838889907507, 0.00039734040405465046, 0.061786432830498145, 0.27277418738351755, 0.006357446464874407, 0.42982813447854534, 0.18515673485229645, 0.052901924243513275, 0.3240242859915188, 0.006612740530439159, 0.002672275200995922, 0.3447235009284739, 0.24584931849162484, 0.06413460482390212, 0.3367066753254862, 0.008016825602987766, 0.5182498585710372, 0.2072999434284149, 0.051824985857103725, 0.2072999434284149, 0.5169698118891682, 0.17232327062972275, 0.17232327062972275, 0.3587485605429098, 0.1793742802714549, 0.1793742802714549, 0.1793742802714549, 0.6717024089111356, 0.7441269407215099, 0.4828801858862926, 0.18895311621637537, 0.04198958138141675, 0.27293227897920885, 0.6425844629732947, 0.4161436391564473, 0.20807181957822365, 0.4161436391564473, 0.3210172147255598, 0.2808900628848648, 0.08025430368138994, 0.3210172147255598, 0.020063575920347486, 0.3815120650736026, 0.3815120650736026, 0.3815120650736026, 0.003989968744608833, 0.3989968744608833, 0.23540815593192113, 0.051869593679914824, 0.30722759333488014, 0.003989968744608833, 0.49183234881625115, 0.16394411627208372, 0.08197205813604186, 0.24591617440812558, 0.3856859313763047, 0.29997794662601474, 0.06428098856271744, 0.2356969580632973, 0.5199416964185392, 0.1890697077885597, 0.04726742694713992, 0.23633713473569962, 0.4330349021241776, 0.2165174510620888, 0.2165174510620888, 0.2485919925636941, 0.2485919925636941, 0.2485919925636941, 0.5638632596300451, 0.22554530385201804, 0.22554530385201804, 0.5053360722008949, 0.2620261115115752, 0.056148452466766106, 0.18716150822255367, 0.37843137159751916, 0.3405882344377672, 0.04865546206253817, 0.22165266050711835, 0.00540616245139313, 0.2510640459943594, 0.2510640459943594, 0.1255320229971797, 0.376596068991539, 0.33866745554336847, 0.29903615755425084, 0.0576455243478074, 0.2954333122825129, 0.007205690543475925, 0.0027353447806606574, 0.38158059690216173, 0.2530193922111108, 0.06291292995519512, 0.29131421914036, 0.008206034341981971, 0.0022504510258449296, 0.4523406561948309, 0.24754961284294227, 0.04500902051689859, 0.2430487107912524, 0.009001804103379718, 0.314282767253941, 0.26593157229179626, 0.07252679244321716, 0.3384583647350134, 0.012087798740536193, 0.4781014064139895, 0.22865719437190804, 0.04157403534034691, 0.22865719437190804, 0.0031860807922323036, 0.31542199843099805, 0.29949159446983653, 0.0828381005980399, 0.2931194328853719, 0.006372161584464607, 0.5082182581259657, 0.23716852045878395, 0.03388121720839771, 0.20328730325038624, 0.003907759372722797, 0.3634216216632202, 0.3126207498178238, 0.06252414996356476, 0.250096599854259, 0.007815518745445595, 0.001435434319306555, 0.3846963975741567, 0.2712970863489389, 0.03732129230197043, 0.2971349040964569, 0.007177171596532774, 0.33835733836122517, 0.33835733836122517, 0.33835733836122517, 0.406503361445642, 0.406503361445642, 0.002871201286167512, 0.4995890237931471, 0.24979451189657356, 0.060295227009517754, 0.17801447974238574, 0.008613603858502536, 0.7593717063927573, 0.7695832319283089, 0.32108033140233133, 0.1926481988413988, 0.08562142170728836, 0.3852963976827976, 0.47097095118625343, 0.20184469336553718, 0.05233010568736149, 0.2616505284368075, 0.0074757293839087845, 0.3102006805962295, 0.4136009074616394, 0.10340022686540985, 0.2068004537308197, 0.17303307736306, 0.34606615472612, 0.34606615472612, 0.3322235153891825, 0.22148234359278834, 0.11074117179639417, 0.3322235153891825, 0.42616770839253115, 0.42616770839253115, 0.42616770839253115, 0.3612393934202391, 0.2851889948054519, 0.05703779896109038, 0.2851889948054519, 0.006337533217898931, 0.003861733451892708, 0.3707264113817, 0.2432892074692406, 0.0463408014227125, 0.3321090768627729, 0.007723466903785416, 0.4272018645906005, 0.4272018645906005, 0.4272018645906005, 0.0015309956722938895, 0.34324922972829003, 0.28354039850882834, 0.0006123982689175558, 0.05480964506812124, 0.3086487275344481, 0.007348779227010669, 0.00371628127577862, 0.43108862799031994, 0.24155828292561032, 0.04087909403356482, 0.2750048144076179, 0.011148843827335862, 0.30094805036318856, 0.24075844029055082, 0.060189610072637706, 0.42132727050846397, 0.37168993658052457, 0.2787674524353934, 0.08517894379970355, 0.25553683139911065, 0.0077435403454275955, 0.4078214700671394, 0.4078214700671394, 0.4078214700671394, 0.6128753328869341, 0.12257506657738682, 0.24515013315477363, 0.3241166711855071, 0.3241166711855071, 0.10803889039516903, 0.3241166711855071, 0.6707403606790536, 0.356559423608375, 0.262176046770864, 0.06292225122500734, 0.3041242142542022, 0.010487041870834558, 0.5024335351604672, 0.20097341406418687, 0.3014601210962803, 0.4286203150558993, 0.33337135615458835, 0.061231473579414185, 0.16328392954510448, 0.013606994128758708, 0.0023353457393805377, 0.36431393534336387, 0.2849121802044256, 0.04670691478761076, 0.2895828716831867, 0.00934138295752215, 0.36909995170992915, 0.36909995170992915, 0.36909995170992915, 0.4301787567175557, 0.21508937835877784, 0.21508937835877784, 0.002822612076363309, 0.3500038974690503, 0.20699155226664265, 0.000940870692121103, 0.05362962945090287, 0.3754074061563201, 0.010349577613332134, 0.0035262889980307664, 0.33852374381095357, 0.2503665188601844, 0.06699949096258456, 0.3349974548129228, 0.007052577996061533, 0.769879965970123, 0.6626934803770277, 0.001993990402515072, 0.38484014768540886, 0.2990985603772608, 0.059819712075452156, 0.24326682910683875, 0.007975961610060287, 0.0035392440059534317, 0.48841567282157355, 0.25482556842864706, 0.05662790409525491, 0.1911191763214853, 0.0070784880119068635, 0.6602374392832748, 0.004332338255772055, 0.31626069267136003, 0.30542984703192994, 0.0628189047086948, 0.3032636779040439, 0.00866467651154411, 0.4164351353074022, 0.27762342353826813, 0.13881171176913407, 0.27762342353826813, 0.31945349284331187, 0.2795218062378979, 0.05989752990812098, 0.29948764954060486, 0.6819261376668104, 0.6819261376668104, 0.2915205288112016, 0.23321642304896126, 0.058304105762240314, 0.40812874033568225, 0.375259060648066, 0.187629530324033, 0.187629530324033, 0.187629530324033, 0.37615197616757334, 0.2481002395998888, 0.07202910181932255, 0.2881164072772902, 0.008003233535480284, 0.3567546078679955, 0.2753895218630141, 0.08762393877459539, 0.2691306690934001, 0.006258852769613956, 0.7385291873397778, 0.3434750296222343, 0.3434750296222343, 0.3434750296222343, 0.6707484949126551, 0.3089038042531, 0.3403177504483305, 0.07329920778887118, 0.26701854265945935, 0.01047131539841017, 0.004338835113850933, 0.3601233144496275, 0.24297476637565227, 0.05640485648006214, 0.32975146865267096, 0.008677670227701866, 0.2976824426416447, 0.34419532430440164, 0.07442061066041117, 0.26977471364399047, 0.009302576332551396, 0.6982573776487039, 0.003364734052269626, 0.3936738841155462, 0.22543718150206493, 0.06392994699312289, 0.3028260647042663, 0.010094202156808878, 0.25053362400287016, 0.3340448320038269, 0.08351120800095672, 0.3340448320038269, 0.3247497250457469, 0.2800966378519567, 0.05683120188300571, 0.3328684681718906, 0.008118743126143671, 0.3083204464644532, 0.2522621834709163, 0.11211652598707389, 0.3083204464644532, 0.003524379941354814, 0.341864854311417, 0.28195039530838517, 0.05286569912032221, 0.3101454348392237, 0.007048759882709628, 0.325698349333555, 0.325698349333555, 0.325698349333555, 0.29062517351402384, 0.29062517351402384, 0.29062517351402384, 0.27261996354788975, 0.38945709078269963, 0.03894570907826996, 0.27261996354788975, 0.31337110177899363, 0.31337110177899363, 0.31337110177899363, 0.3619676323198781, 0.3619676323198781, 0.3619676323198781, 0.001905642723922239, 0.3766820450952959, 0.35635518937345867, 0.0006352142413074129, 0.04764106809805597, 0.20898548539013886, 0.008257785136996368, 0.22525654098515605, 0.22525654098515605, 0.4505130819703121, 0.34831865639655163, 0.34831865639655163, 0.34831865639655163, 0.3045262711902028, 0.3045262711902028, 0.3045262711902028, 0.24594379271348787, 0.24594379271348787, 0.24594379271348787, 0.6765589227999819, 0.40495629085484075, 0.40495629085484075, 0.40495629085484075, 0.5666697816282807, 0.28333489081414037, 0.28333489081414037, 0.37078034103417135, 0.20598907835231742, 0.08239563134092698, 0.3295825253637079, 0.3556390432147982, 0.3556390432147982, 0.3556390432147982, 0.2769915616100461, 0.2769915616100461, 0.0755431531663762, 0.35253471477642234, 0.025181051055458738, 0.37641652414442844, 0.23953778809190898, 0.047052065518053555, 0.32936445862637487, 0.008554921003282465, 0.004219828279355325, 0.32914660578971533, 0.2616293533200301, 0.07595690902839584, 0.32492677751036003, 0.00843965655871065, 0.003085843118636561, 0.3764728604736604, 0.28081172379592706, 0.0709743917286409, 0.2622966650841077, 0.009257529355909682, 0.5175690980629778, 0.1990650377165299, 0.03981300754330598, 0.23887804525983589, 0.0018657486185677883, 0.3862099640435322, 0.24441306903238025, 0.07462994474271153, 0.2873252872594394, 0.005597245855703365, 0.3061391970943871, 0.36354029654958464, 0.05740109945519757, 0.2487380976391895, 0.019133699818399193, 0.45502957449499143, 0.19159139978736484, 0.059872312433551504, 0.27541263719433695, 0.005987231243355151, 0.49927898345239363, 0.19971159338095745, 0.09985579669047873, 0.19971159338095745, 0.002556908846924236, 0.3912070535794081, 0.26336161123319635, 0.06903653886695438, 0.26336161123319635, 0.010227635387696945, 0.37181061016835076, 0.23238163135521922, 0.13942897881313154, 0.2788579576262631, 0.0030025881499598146, 0.4233649291443339, 0.21018117049718701, 0.05704917484923648, 0.30025881499598145, 0.006005176299919629, 0.3729990976091794, 0.3729990976091794, 0.1864995488045897, 0.46132486177047266, 0.1537749539234909, 0.1537749539234909, 0.002226753119013532, 0.3362397209710433, 0.27611738675767794, 0.07125609980843302, 0.30283842418584034, 0.011133765595067659, 0.00210550229136602, 0.43899722774981514, 0.22844699861321316, 0.06211231759529759, 0.26002953298370346, 0.007369258019781069, 0.0017965465846665977, 0.42578154056598366, 0.23714414917599091, 0.06467567704799752, 0.2604992547766567, 0.008982732923332988, 0.3814919274476645, 0.20196631453111652, 0.04488140322913701, 0.3814919274476645, 0.6723199020050021, 0.001644385145198456, 0.346143073064275, 0.2795454746837375, 0.000822192572599228, 0.04933155435595368, 0.31572194787810354, 0.007399733153393052, 0.33723278008532176, 0.33723278008532176, 0.33723278008532176, 0.7394227416080531, 0.3083413341450761, 0.35973155650258876, 0.08565037059585447, 0.2398210376683925, 0.25432353113034933, 0.25432353113034933, 0.5086470622606987, 0.31271996287223486, 0.36710604337175395, 0.06798260062439888, 0.2311408421229562, 0.013596520124879776, 0.3096217882837637, 0.3096217882837637, 0.3096217882837637, 0.33314443954638506, 0.33314443954638506, 0.33314443954638506, 0.3357162664143157, 0.22381084427621045, 0.3357162664143157, 0.0026920715195347003, 0.3378549757016049, 0.3365089399418375, 0.06864782374813486, 0.24632454403742507, 0.0080762145586041, 0.2618581517911582, 0.2618581517911582, 0.07141585957940678, 0.38088458442350287, 0.29359318278790025, 0.34252537991921694, 0.048932197131316704, 0.29359318278790025, 0.3369161332139329, 0.3369161332139329, 0.08422903330348322, 0.25268709991044963, 0.0021061849372334346, 0.45282976150518844, 0.22957415815844437, 0.06950410292870335, 0.2379988979073781, 0.006318554811700304, 0.0016697451213599792, 0.2972146316020763, 0.2521315133253568, 0.06678980485439916, 0.37235316206327534, 0.006678980485439917, 0.2713968791981993, 0.3683243360546991, 0.07754196548519982, 0.2713968791981993, 0.4220538645738625, 0.14068462152462083, 0.28136924304924166, 0.14068462152462083, 0.3494784148322619, 0.3494784148322619, 0.38293435099378875, 0.28720076324534155, 0.09573358774844719, 0.28720076324534155, 0.213842353489437, 0.427684706978874, 0.213842353489437, 0.7619934663991106, 0.001383687453348482, 0.384665112030878, 0.29472542756322667, 0.000691843726674241, 0.06226593540068169, 0.249755585329401, 0.00691843726674241, 0.0035540429832054492, 0.45847154483350294, 0.20613449302591605, 0.046202558781670844, 0.27721535269002506, 0.0071080859664108985, 0.2506079686248977, 0.2819339647030099, 0.12530398431244885, 0.3445859568592343, 0.6985240800566075, 0.002824588841335842, 0.3784949047390028, 0.3191785390709501, 0.06214095450938852, 0.2344408738308749, 0.005649177682671684, 0.41429659059589435, 0.34711335968845203, 0.04478882060496155, 0.1903524875710866, 0.003279063575460019, 0.3552318873415021, 0.2841855098732017, 0.044813868864620264, 0.3027668701341418, 0.008744169534560052, 0.003554988339559391, 0.4052686707097706, 0.17241693446863046, 0.05687981343295025, 0.3537213397861594, 0.007109976679118782, 0.6032119504773265, 0.279414967063031, 0.18627664470868732, 0.09313832235434366, 0.37255328941737464, 0.37421743878028174, 0.3070502061786927, 0.06716723260158902, 0.2494782925201878, 0.009595318943084147, 0.4084236788656527, 0.4084236788656527, 0.4084236788656527, 0.35768348683491735, 0.35768348683491735, 0.05961391447248622, 0.23845565788994488, 0.34834016280001556, 0.34834016280001556, 0.34834016280001556, 0.46220863961890324, 0.17234898426467576, 0.047004268435820666, 0.30552774483283435, 0.007834044739303445, 0.0022456601662110905, 0.3286149376555562, 0.24477695811700886, 0.05689005754401429, 0.3622998401487226, 0.005988427109896241, 0.003174715420321552, 0.32699568829311987, 0.32699568829311987, 0.06349430840643104, 0.276200241567975, 0.009524146260964657, 0.542537189416091, 0.18084572980536365, 0.18084572980536365, 0.0015324639538014965, 0.4697002018401587, 0.20458393783249978, 0.0007662319769007483, 0.04520768663714415, 0.27047988784596416, 0.007662319769007483, 0.0016520983048509074, 0.4064161829933232, 0.2544231389470397, 0.04130245762127269, 0.2891172033489088, 0.008260491524254537, 0.3249192884038591, 0.3411652528240521, 0.056860875470675344, 0.2599354307230873, 0.008122982210096477, 0.3322420428431792, 0.3713293420012003, 0.058630948737031625, 0.2345237949481265, 0.4093179238957261, 0.26605665053222194, 0.05116474048696576, 0.26605665053222194, 0.0051164740486965765, 0.4984438063730041, 0.24922190318650206, 0.08307396772883402, 0.24922190318650206, 0.002803889752052681, 0.4043209022459966, 0.28431442085814185, 0.0005607779504105361, 0.05832090684269576, 0.24225607457735163, 0.007850891305747506, 0.35436138838265335, 0.28348911070612265, 0.07087227767653066, 0.28348911070612265, 0.3094673641147173, 0.32353406248356814, 0.05626679347540315, 0.29540066574586654, 0.014066698368850787, 0.49038391302391776, 0.24519195651195888, 0.24519195651195888, 0.47638557421440486, 0.23819278710720243, 0.11909639355360122, 0.11909639355360122, 0.4210933748565829, 0.21054668742829144, 0.21054668742829144, 0.2964618472810149, 0.2541101548122985, 0.07411546182025372, 0.3599893859840895, 0.010587923117179104, 0.27948802814598017, 0.31555099951965504, 0.07212594274734972, 0.32456674236307376, 0.009015742843418715, 0.2946065186953811, 0.2817975396216689, 0.10247183258969779, 0.3202244768428056, 0.012808979073712224, 0.2560834391263011, 0.2560834391263011, 0.38412515868945163, 0.42201651886979913, 0.2309146990042297, 0.07166318244958853, 0.2548024264874259, 0.00796257582773206, 0.2864804043021257, 0.2864804043021257, 0.0646891235520929, 0.3604108312188033, 0.0092413033645847, 0.2563072651203398, 0.3507362575330966, 0.05395942423586102, 0.3237565454151661, 0.006744928029482627, 0.3302549459077311, 0.3302549459077311, 0.3302549459077311, 0.425425564891503, 0.27348786314453766, 0.04558131052408961, 0.22790655262044807, 0.015193770174696537, 0.3015475100238241, 0.3015475100238241, 0.3015475100238241, 0.3113886202363214, 0.3113886202363214, 0.3113886202363214, 0.38546887771743954, 0.2691009146329295, 0.05818398154225502, 0.27637391232571135, 0.007272997692781878, 0.0014243132038854196, 0.37459437262186535, 0.2179199201944692, 0.047002335728218846, 0.35180536135969864, 0.007121566019427098, 0.3091824157706066, 0.20612161051373773, 0.10306080525686886, 0.3091824157706066, 0.27291695002885513, 0.4093754250432827, 0.06822923750721378, 0.27291695002885513, 0.23089494438603847, 0.46178988877207694, 0.23089494438603847, 0.4557761906674769, 0.22788809533373844, 0.03798134922228974, 0.2658694445560282, 0.009495337305572435, 0.3161534594548913, 0.3161534594548913, 0.3161534594548913, 0.3153445959516091, 0.2871888284559297, 0.04504922799308701, 0.34350036344728846, 0.005631153499135877, 0.5708986914326367, 0.14272467285815918, 0.28544934571631836, 0.66502469339428, 0.21177777943702975, 0.21177777943702975, 0.4235555588740595, 0.3054344543774114, 0.45815168156611713, 0.3054344543774114, 0.0030545698846378045, 0.30240241857914263, 0.30851155834841826, 0.05803682780811829, 0.32072983788696946, 0.006109139769275609, 0.0030831533646256256, 0.4316414710475876, 0.18190604851291192, 0.06782937402176377, 0.3052321830979369, 0.009249460093876878, 0.33723354556254115, 0.2634637074707353, 0.05269274149414705, 0.3266949972637117, 0.010538548298829411, 0.27292727077784096, 0.27292727077784096, 0.09097575692594698, 0.3639030277037879, 0.3551428467127913, 0.17757142335639564, 0.3551428467127913, 0.38120566117081395, 0.19060283058540697, 0.06671099070489243, 0.35261523658300287, 0.009530141529270349, 0.4035061915077801, 0.24338468694120072, 0.057643741643968585, 0.28821870821984297, 0.012809720365326353, 0.3413518281777578, 0.16411145585469122, 0.07220904057606414, 0.4135608687538219, 0.006564458234187649, 0.6557092867476, 0.2185697622492, 0.2185697622492, 0.0025158436435120343, 0.367313171952757, 0.3019012372214441, 0.050316872870240684, 0.27171111349929966, 0.007547530930536102, 0.22900743907651766, 0.22900743907651766, 0.3435111586147765, 0.28214688996651205, 0.28214688996651205, 0.28214688996651205, 0.40140248267402673, 0.40140248267402673, 0.5435101376811075, 0.2717550688405537, 0.2717550688405537, 0.3482487805709222, 0.31342390251382996, 0.034824878057092216, 0.27859902445673773, 0.4195532041572248, 0.23974468808984273, 0.05993617202246068, 0.28469681710668826, 0.42738163977345067, 0.42738163977345067, 0.42738163977345067, 0.7516301837293667, 0.6733046268983373, 0.47570753169734314, 0.2180326186946156, 0.07928458861622385, 0.2180326186946156, 0.019821147154055963, 0.3153554587707023, 0.27593602642436454, 0.07883886469267558, 0.3153554587707023, 0.45568746538404353, 0.24705946918411997, 0.049411893836824, 0.23607904833149243, 0.005490210426313777, 0.0037145863703207096, 0.33802735969918457, 0.28230856414437394, 0.04828962281416923, 0.31945442784758105, 0.007429172740641419, 0.0016641651771745925, 0.40938463358494975, 0.26127393281641104, 0.05990994637828533, 0.26127393281641104, 0.00665666070869837, 0.46874513207831753, 0.46874513207831753, 0.0031036376486145018, 0.40347289431988526, 0.23898009894331665, 0.06517639062090454, 0.28863830132114865, 0.0031036376486145018, 0.3392802907315075, 0.2367071795801215, 0.06312191455469907, 0.35506076937018227, 0.007890239319337383, 0.36870826820768315, 0.36870826820768315, 0.18435413410384158, 0.2516959114715167, 0.2516959114715167, 0.08389863715717225, 0.4194931857858612, 0.0023439556238882588, 0.3433894988996299, 0.31409005360102665, 0.0011719778119441294, 0.058598890597206466, 0.27424280799492623, 0.005859889059720647, 0.4024976922926073, 0.3018732692194555, 0.10062442307315182, 0.3018732692194555, 0.0028434717975965237, 0.3497470311043724, 0.2672863489740732, 0.08530415392789571, 0.2871906515572489, 0.0056869435951930475, 0.47347646252890185, 0.23673823126445093, 0.11836911563222546, 0.23673823126445093, 0.47762949472002836, 0.19105179788801133, 0.09552589894400566, 0.286577696832017, 0.4466292332218775, 0.2287613145770592, 0.06536037559344549, 0.250548106441541, 0.010893395932240913, 0.23038409784227207, 0.23038409784227207, 0.11519204892113603, 0.3455761467634081, 0.4037331085556509, 0.31721887100801144, 0.08651423754763948, 0.20186655427782546, 0.43549751624792343, 0.43549751624792343, 0.43549751624792343, 0.5319245161689646, 0.6620794821373915, 0.00193513199520618, 0.45572358487105535, 0.25543742336721575, 0.00096756599760309, 0.05515126186337613, 0.22544287744151995, 0.00483782998801545, 0.3410338525994484, 0.31200969493141023, 0.06530435475308587, 0.2757294978463625, 0.00725603941700954, 0.44992161782505485, 0.1949660343908571, 0.05998954904334065, 0.28495035795586804, 0.014997387260835162, 0.002607624426078202, 0.39114366391173033, 0.22686332506880358, 0.05476011294764224, 0.31813017998154064, 0.007822873278234607, 0.0015965953154741823, 0.38477947102927795, 0.2506654645294466, 0.03672169225590619, 0.3161258724638881, 0.009579571892845093, 0.2729612496343558, 0.2729612496343558, 0.09748616058369851, 0.3314529459845749, 0.0194972321167397, 0.0037467124670734387, 0.37841795917441734, 0.3559376843719767, 0.05994739947317502, 0.19482904828781883, 0.007493424934146877, 0.4600512658964843, 0.4600512658964843, 0.4600512658964843, 0.300110427453089, 0.300110427453089, 0.300110427453089, 0.6470957951248484, 0.24770083614224772, 0.24770083614224772, 0.49540167228449544, 0.004956961554302541, 0.3271594625839677, 0.302374654812455, 0.04956961554302541, 0.302374654812455, 0.009913923108605081, 0.40263222298672774, 0.2496319782517712, 0.0885790890570801, 0.2496319782517712, 0.008052644459734555, 0.6868986796397979, 0.7993374741293321, 0.5164672245917605, 0.25823361229588027, 0.25823361229588027, 0.0015461863056298584, 0.39891606685250347, 0.2674902308739655, 0.05257033439141519, 0.26903641717959537, 0.009277117833779151, 0.35108406297592265, 0.28525580116793714, 0.07314251311998389, 0.2779415498559388, 0.007314251311998389, 0.2684340064461371, 0.2684340064461371, 0.07227069404319075, 0.3820022399425797, 0.010324384863312965, 0.6259193981573105, 0.6766100585206966, 0.0028155152749717092, 0.3632014704713505, 0.3632014704713505, 0.06757236659932102, 0.19427055397304793, 0.0056310305499434185, 0.33964896955852525, 0.20378938173511513, 0.06792979391170505, 0.40757876347023025, 0.30279285326641087, 0.34064195992471225, 0.05046547554440181, 0.30279285326641087, 0.012616368886100453, 0.0019154822542994936, 0.42715254270878705, 0.2432662462960357, 0.0593799498832843, 0.2624210688390306, 0.007661929017197974, 0.001992892382253526, 0.39459269168619815, 0.26106890207521194, 0.07174412576112695, 0.26505468683971894, 0.007971569529014105, 0.0032050557811851227, 0.2756347971819205, 0.2852499645254759, 0.051280892498961964, 0.3781965821798445, 0.009615167343555367, 0.24856356271076166, 0.39770170033721863, 0.0745690688132285, 0.2734199189818378, 0.6803100389286334, 0.3663319554820517, 0.2866945738555187, 0.06370990530122639, 0.2707670975302121, 0.4229838720204206, 0.4229838720204206, 0.4229838720204206, 0.6575477106953301, 0.0017714130252475175, 0.4083107023195528, 0.29494026870371165, 0.0008857065126237588, 0.0708565210099007, 0.21611238908019714, 0.00708565210099007, 0.0020124522320185234, 0.40450289863572325, 0.23545691114616726, 0.05836111472853718, 0.2918055736426859, 0.008049808928074094, 0.28521481855176195, 0.28521481855176195, 0.28521481855176195, 0.3553782280110348, 0.3553782280110348, 0.3553782280110348, 0.3081296527448492, 0.2421018700138101, 0.11004630455173187, 0.3301389136551956, 0.022009260910346374, 0.0025113793632608457, 0.3340134553136925, 0.3340134553136925, 0.057761725354999446, 0.2636948331423888, 0.0075341380897825366, 0.6910308822062424, 0.25822845988629345, 0.2905070173720801, 0.06455711497157336, 0.3873426898294402, 0.2513848869022066, 0.2513848869022066, 0.2513848869022066, 0.0036186507540197236, 0.3256785678617751, 0.3473904723858935, 0.054279761310295854, 0.2641615050434398, 0.007237301508039447, 0.6668414677422452, 0.34468082258228033, 0.33142386786757727, 0.09279868300292163, 0.21211127543524946, 0.013256954714703091, 0.2590470384840285, 0.3885705577260427, 0.06476175962100712, 0.3238087981050356, 0.4145911632222601, 0.20729558161113004, 0.05182389540278251, 0.31094337241669506, 0.14977868034973826, 0.2995573606994765, 0.14977868034973826, 0.44933604104921476, 0.0018653336447672453, 0.38052806353251806, 0.23627559500385106, 0.0006217778815890818, 0.06528667756685358, 0.3090236071497736, 0.005596000934301736, 0.0025368748859095156, 0.4185843561750701, 0.2435399890473135, 0.07610624657728547, 0.25115061370504205, 0.007610624657728547, 0.34908093900506487, 0.2133272405030952, 0.05818015650084415, 0.36847432450534623, 0.34621784413922907, 0.2308118960928194, 0.1154059480464097, 0.34621784413922907, 0.6720734648699822, 0.3311072075974986, 0.38629174219708173, 0.055184534599583106, 0.22073813839833242, 0.36177874464159965, 0.3061204762351997, 0.050092441565759954, 0.27272551519135974, 0.0055658268406399945, 0.42653172076772616, 0.42653172076772616, 0.42653172076772616, 0.16197292671767577, 0.4859187801530273, 0.32394585343535154, 0.5200795973011322, 0.43859304619825634, 0.24198237031627937, 0.06049559257906984, 0.24198237031627937, 0.4641493140507592, 0.4641493140507592, 0.4641493140507592, 0.3952487168420151, 0.2535557806156324, 0.05966018367426644, 0.2759283494934823, 0.01491504591856661, 0.4334417153279486, 0.4334417153279486, 0.4334417153279486, 0.0018948479291533646, 0.4585531988551142, 0.20274872841941, 0.05779286183917762, 0.2728581017980845, 0.006631967752036776, 0.0015862119318919413, 0.42827722161082415, 0.2839319358086575, 0.03965529829729853, 0.2411042136475751, 0.0047586357956758245, 0.3130989290114266, 0.37571871481371194, 0.06261978580228532, 0.2504791432091413, 0.002312039605607355, 0.39767081216446504, 0.22657988134952078, 0.062425069351398584, 0.30518922794017084, 0.006936118816822065, 0.31571256600343106, 0.27165964981690577, 0.0660793742797879, 0.33773902409669365, 0.00734215269775421, 0.2983612205857231, 0.2131151575612308, 0.08524606302449232, 0.4262303151224616, 0.32664468666241747, 0.2638284007657987, 0.0753795430759425, 0.32664468666241747, 0.012563257179323748, 0.3722596487523073, 0.21094713429297415, 0.08065625722966659, 0.32262502891866635, 0.0062043274792051226, 0.003592821155082836, 0.41676725398960895, 0.22634773277021866, 0.06467078079149105, 0.2802400500964612, 0.007185642310165672, 0.5836834277921424, 0.1459208569480356, 0.2918417138960712, 0.5839152495229429, 0.6888738204295484, 0.7519359703254377, 0.31841206761642704, 0.31841206761642704, 0.31841206761642704, 0.22019618738160143, 0.22019618738160143, 0.11009809369080072, 0.44039237476320287, 0.0027370439734647413, 0.3339193647626984, 0.26001917747915043, 0.04926679152236534, 0.3448675406565574, 0.008211131920394223, 0.004807381390947727, 0.3990126554486613, 0.33170931597539316, 0.062495958082320446, 0.19229525563790906, 0.009614762781895454, 0.6930078549998111], \"Term\": [\"accelerometer\", \"access\", \"access\", \"access\", \"access\", \"access\", \"access\", \"account\", \"account\", \"account\", \"account\", \"account\", \"account\", \"addresses\", \"addresses\", \"addresses\", \"addresses\", \"agency\", \"agency\", \"agency\", \"agency\", \"aid\", \"aid\", \"aid\", \"also\", \"also\", \"also\", \"also\", \"also\", \"andor\", \"andor\", \"andor\", \"andor\", \"andor\", \"answers\", \"answers\", \"answers\", \"answers\", \"applet\", \"applet\", \"applet\", \"application\", \"application\", \"application\", \"application\", \"application\", \"apply\", \"apply\", \"apply\", \"apply\", \"approvals\", \"approvals\", \"approvals\", \"arrived\", \"arrived\", \"arrived\", \"arriving\", \"arriving\", \"arriving\", \"associated\", \"associated\", \"associated\", \"associated\", \"associated\", \"associated\", \"associations\", \"attempted\", \"attempted\", \"attempted\", \"attendees\", \"attendees\", \"attendees\", \"attendees\", \"audios\", \"authenticable\", \"authenticable\", \"authenticable\", \"authenticable\", \"authentication\", \"authentication\", \"authentication\", \"authentication\", \"authentication\", \"authentication\", \"authorization\", \"authorization\", \"authorization\", \"authorization\", \"authorization\", \"avoid\", \"avoid\", \"avoid\", \"barcode\", \"based\", \"based\", \"based\", \"based\", \"based\", \"based\", \"based\", \"bearer\", \"bearer\", \"bearer\", \"bearer\", \"bind\", \"bind\", \"bind\", \"block\", \"block\", \"block\", \"block\", \"block\", \"block\", \"block\", \"blockchain\", \"blockchain\", \"blockchain\", \"blockchain\", \"blockchain\", \"blockchain\", \"blockchain\", \"blockchains\", \"blockchains\", \"blockchains\", \"blockchains\", \"blockchains\", \"blocks\", \"blocks\", \"blocks\", \"blocks\", \"blocks\", \"blocks\", \"broadcasts\", \"broadcasts\", \"broadcasts\", \"broadcasts\", \"bytes\", \"bytes\", \"bytes\", \"called\", \"called\", \"called\", \"called\", \"cancellation\", \"candidates\", \"centralized\", \"centralized\", \"centralized\", \"centralized\", \"chambers\", \"cipher\", \"cipher\", \"cipher\", \"circuitry\", \"circuitry\", \"circuitry\", \"circuitry\", \"circuitry\", \"clearance\", \"clearance\", \"clearance\", \"client\", \"client\", \"client\", \"client\", \"client\", \"client\", \"clock\", \"clock\", \"clock\", \"clock\", \"cloud\", \"cloud\", \"cloud\", \"cloud\", \"coding\", \"coding\", \"coding\", \"coding\", \"color\", \"color\", \"color\", \"committal\", \"committal\", \"committal\", \"committer\", \"committer\", \"committer\", \"common\", \"common\", \"common\", \"common\", \"communication\", \"communication\", \"communication\", \"communication\", \"communication\", \"composite\", \"composite\", \"composite\", \"composite\", \"comprising\", \"comprising\", \"comprising\", \"comprising\", \"comprising\", \"computer\", \"computer\", \"computer\", \"computer\", \"computer\", \"computer\", \"computing\", \"computing\", \"computing\", \"computing\", \"computing\", \"computing\", \"configuration\", \"configuration\", \"configuration\", \"configuration\", \"configuration\", \"connection\", \"connection\", \"connection\", \"connection\", \"consensus\", \"consensus\", \"consensus\", \"consensus\", \"consensus\", \"consensus\", \"consent\", \"consent\", \"consent\", \"consent\", \"content\", \"content\", \"content\", \"content\", \"content\", \"content\", \"contract\", \"contract\", \"contract\", \"contract\", \"contract\", \"contract\", \"converted\", \"converted\", \"converted\", \"copyrighted\", \"copyrighted\", \"corresponding\", \"corresponding\", \"corresponding\", \"corresponding\", \"corresponding\", \"corresponding\", \"counted\", \"counting\", \"coupled\", \"coupled\", \"coupled\", \"coupled\", \"creating\", \"creating\", \"creating\", \"creating\", \"creating\", \"credibility\", \"credibility\", \"credibility\", \"credibility\", \"crosslink\", \"crosslink\", \"crosslink\", \"cryptlet\", \"cryptlet\", \"cryptlet\", \"cryptlet\", \"cryptodelegate\", \"cryptodelegate\", \"cryptodelegate\", \"cryptographic\", \"cryptographic\", \"cryptographic\", \"cryptographic\", \"cryptographic\", \"current\", \"current\", \"current\", \"current\", \"current\", \"current\", \"cves\", \"cves\", \"cves\", \"data\", \"data\", \"data\", \"data\", \"data\", \"data\", \"data\", \"database\", \"database\", \"database\", \"database\", \"database\", \"database\", \"databases\", \"databases\", \"databases\", \"databases\", \"decentralized\", \"decentralized\", \"decentralized\", \"decentralized\", \"decentralized\", \"delegated\", \"delegated\", \"delegated\", \"dental\", \"dental\", \"dental\", \"deploying\", \"deploying\", \"deploying\", \"deploying\", \"derivable\", \"described\", \"described\", \"described\", \"described\", \"described\", \"desired\", \"desired\", \"desired\", \"determined\", \"determined\", \"determined\", \"determined\", \"determined\", \"determining\", \"determining\", \"determining\", \"determining\", \"determining\", \"determining\", \"developers\", \"developers\", \"developers\", \"deviation\", \"deviation\", \"deviation\", \"device\", \"device\", \"device\", \"device\", \"device\", \"device\", \"device\", \"devices\", \"devices\", \"devices\", \"devices\", \"devices\", \"devices\", \"dialog\", \"differences\", \"digital\", \"digital\", \"digital\", \"digital\", \"digital\", \"digital\", \"disclosed\", \"disclosed\", \"disclosed\", \"disclosed\", \"disclosed\", \"disclosed\", \"disposable\", \"distributed\", \"distributed\", \"distributed\", \"distributed\", \"distributed\", \"distributed\", \"divided\", \"divided\", \"divided\", \"divided\", \"documents\", \"documents\", \"documents\", \"documents\", \"dollar\", \"dollar\", \"dynamic\", \"dynamic\", \"dynamic\", \"dynamic\", \"earlier\", \"earlier\", \"earlier\", \"earlier\", \"electronic\", \"electronic\", \"electronic\", \"electronic\", \"electronic\", \"embodiments\", \"embodiments\", \"embodiments\", \"embodiments\", \"embodiments\", \"emerging\", \"employing\", \"employing\", \"employing\", \"emulates\", \"encoded\", \"encoded\", \"encoded\", \"encoded\", \"encoded\", \"encrypted\", \"encrypted\", \"encrypted\", \"encrypted\", \"encrypted\", \"encrypted\", \"entities\", \"entities\", \"entities\", \"entities\", \"entities\", \"entitiesusers\", \"entity\", \"entity\", \"entity\", \"entity\", \"entity\", \"entity\", \"even\", \"even\", \"even\", \"even\", \"event\", \"event\", \"event\", \"event\", \"event\", \"evident\", \"evident\", \"evident\", \"evident\", \"example\", \"example\", \"example\", \"example\", \"example\", \"example\", \"exceeds\", \"exceeds\", \"exceeds\", \"expirations\", \"expirations\", \"expirations\", \"facilitating\", \"facilitating\", \"facilitating\", \"facilitating\", \"facts\", \"facts\", \"facts\", \"fat\", \"fat\", \"fat\", \"first\", \"first\", \"first\", \"first\", \"first\", \"first\", \"first\", \"flexible\", \"flexible\", \"flexible\", \"footwear\", \"footwear\", \"footwear\", \"forensics\", \"forensics\", \"forensics\", \"fragment\", \"fragment\", \"fragment\", \"fragmented\", \"fulfilling\", \"fulfilling\", \"fulfilling\", \"fund\", \"fund\", \"fund\", \"furnisher\", \"furnisher\", \"furnisher\", \"furnisher\", \"galois\", \"galois\", \"galois\", \"game\", \"game\", \"game\", \"game\", \"game\", \"generate\", \"generate\", \"generate\", \"generate\", \"generate\", \"generated\", \"generated\", \"generated\", \"generated\", \"generated\", \"generated\", \"generating\", \"generating\", \"generating\", \"generating\", \"generating\", \"generating\", \"greater\", \"greater\", \"greater\", \"greater\", \"hash\", \"hash\", \"hash\", \"hash\", \"hash\", \"hash\", \"header\", \"header\", \"header\", \"header\", \"header\", \"herein\", \"herein\", \"herein\", \"herein\", \"herein\", \"housing\", \"housing\", \"housing\", \"housing\", \"identifier\", \"identifier\", \"identifier\", \"identifier\", \"identifier\", \"identifier\", \"identities\", \"identities\", \"identities\", \"identities\", \"identity\", \"identity\", \"identity\", \"identity\", \"identity\", \"identity\", \"immutability\", \"immutability\", \"immutability\", \"impression\", \"impression\", \"impression\", \"include\", \"include\", \"include\", \"include\", \"include\", \"include\", \"includes\", \"includes\", \"includes\", \"includes\", \"includes\", \"includes\", \"including\", \"including\", \"including\", \"including\", \"including\", \"including\", \"individual\", \"individual\", \"individual\", \"individual\", \"inertial\", \"information\", \"information\", \"information\", \"information\", \"information\", \"information\", \"information\", \"install\", \"install\", \"install\", \"installs\", \"instructions\", \"instructions\", \"instructions\", \"instructions\", \"intact\", \"intact\", \"intact\", \"integrity\", \"integrity\", \"integrity\", \"integrity\", \"integrity\", \"interleaved\", \"interleaved\", \"interleaved\", \"invokes\", \"invokes\", \"invokes\", \"issues\", \"issues\", \"issues\", \"key\", \"key\", \"key\", \"key\", \"key\", \"key\", \"knowledge\", \"knowledge\", \"knowledge\", \"knowledge\", \"label\", \"label\", \"label\", \"label\", \"language\", \"language\", \"language\", \"language\", \"least\", \"least\", \"least\", \"least\", \"least\", \"least\", \"ledger\", \"ledger\", \"ledger\", \"ledger\", \"ledger\", \"ledger\", \"link\", \"link\", \"link\", \"link\", \"linket\", \"linket\", \"linket\", \"linket\", \"linkets\", \"linkets\", \"logging\", \"logging\", \"logging\", \"logging\", \"logicmodule\", \"logicmodule\", \"logicmodule\", \"maps\", \"may\", \"may\", \"may\", \"may\", \"may\", \"may\", \"may\", \"media\", \"media\", \"media\", \"media\", \"media\", \"media\", \"meeting\", \"meeting\", \"meeting\", \"meeting\", \"memorialized\", \"message\", \"message\", \"message\", \"message\", \"message\", \"message\", \"metadata\", \"metadata\", \"metadata\", \"metadata\", \"method\", \"method\", \"method\", \"method\", \"method\", \"method\", \"methods\", \"methods\", \"methods\", \"methods\", \"methods\", \"methods\", \"middle\", \"might\", \"might\", \"might\", \"might\", \"mobile\", \"mobile\", \"mobile\", \"mobile\", \"mobile\", \"monetizing\", \"monetizing\", \"monetizing\", \"monitoring\", \"monitoring\", \"monitoring\", \"monitoring\", \"movies\", \"movies\", \"movies\", \"multiple\", \"multiple\", \"multiple\", \"multiple\", \"multiple\", \"network\", \"network\", \"network\", \"network\", \"network\", \"network\", \"new\", \"new\", \"new\", \"new\", \"new\", \"new\", \"nfvi\", \"nfvi\", \"nfvi\", \"node\", \"node\", \"node\", \"node\", \"node\", \"node\", \"node\", \"nodes\", \"nodes\", \"nodes\", \"nodes\", \"nodes\", \"nodes\", \"non\", \"non\", \"non\", \"non\", \"non\", \"notification\", \"notification\", \"notification\", \"notification\", \"obtaining\", \"obtaining\", \"obtaining\", \"obtaining\", \"obtaining\", \"occupant\", \"occupant\", \"occupant\", \"occupant\", \"one\", \"one\", \"one\", \"one\", \"one\", \"one\", \"one\", \"operable\", \"operable\", \"operable\", \"operable\", \"operations\", \"operations\", \"operations\", \"operations\", \"operations\", \"orders\", \"orders\", \"orders\", \"organized\", \"organized\", \"organized\", \"organized\", \"pad\", \"pad\", \"pad\", \"part\", \"part\", \"part\", \"part\", \"part\", \"particular\", \"particular\", \"particular\", \"particular\", \"particular\", \"parties\", \"parties\", \"parties\", \"parties\", \"parties\", \"partitioned\", \"partitioned\", \"partitioned\", \"party\", \"party\", \"party\", \"party\", \"party\", \"performed\", \"performed\", \"performed\", \"performed\", \"performed\", \"performing\", \"performing\", \"performing\", \"performing\", \"performing\", \"permissive\", \"permissive\", \"permissive\", \"physical\", \"physical\", \"physical\", \"physical\", \"physical\", \"piv\", \"piv\", \"piv\", \"placement\", \"placement\", \"placement\", \"platform\", \"platform\", \"platform\", \"platform\", \"platform\", \"plurality\", \"plurality\", \"plurality\", \"plurality\", \"plurality\", \"plurality\", \"possession\", \"possession\", \"possession\", \"possession\", \"potential\", \"potential\", \"potential\", \"potential\", \"pow\", \"pow\", \"pow\", \"predetermined\", \"predetermined\", \"predetermined\", \"predetermined\", \"predetermined\", \"preferred\", \"preferred\", \"preferred\", \"present\", \"present\", \"present\", \"present\", \"present\", \"pricer\", \"pricer\", \"pricer\", \"prices\", \"principal\", \"principal\", \"principal\", \"printed\", \"printed\", \"printed\", \"private\", \"private\", \"private\", \"private\", \"private\", \"private\", \"processing\", \"processing\", \"processing\", \"processing\", \"processing\", \"processing\", \"program\", \"program\", \"program\", \"program\", \"program\", \"promise\", \"promise\", \"promise\", \"promise\", \"prompt\", \"prompt\", \"prompt\", \"proof\", \"proof\", \"proof\", \"proof\", \"proof\", \"provide\", \"provide\", \"provide\", \"provide\", \"provide\", \"providing\", \"providing\", \"providing\", \"providing\", \"providing\", \"pruning\", \"pruning\", \"pruning\", \"public\", \"public\", \"public\", \"public\", \"public\", \"public\", \"publicly\", \"publicly\", \"publicly\", \"publicprivate\", \"publicprivate\", \"publicprivate\", \"publishers\", \"publishers\", \"purchasers\", \"purchasers\", \"purchasers\", \"purposes\", \"purposes\", \"purposes\", \"purposes\", \"query\", \"query\", \"query\", \"query\", \"quiescence\", \"quiescence\", \"quiescence\", \"ratification\", \"reads\", \"real\", \"real\", \"real\", \"real\", \"real\", \"receipt\", \"receipt\", \"receipt\", \"receipt\", \"receive\", \"receive\", \"receive\", \"receive\", \"receive\", \"received\", \"received\", \"received\", \"received\", \"received\", \"received\", \"receiving\", \"receiving\", \"receiving\", \"receiving\", \"receiving\", \"receiving\", \"recomputation\", \"recomputation\", \"record\", \"record\", \"record\", \"record\", \"record\", \"record\", \"records\", \"records\", \"records\", \"records\", \"records\", \"reduces\", \"reduces\", \"reduces\", \"represents\", \"represents\", \"represents\", \"represents\", \"request\", \"request\", \"request\", \"request\", \"request\", \"request\", \"request\", \"requiring\", \"requiring\", \"requiring\", \"requiring\", \"response\", \"response\", \"response\", \"response\", \"response\", \"response\", \"return\", \"return\", \"return\", \"return\", \"road\", \"road\", \"road\", \"road\", \"root\", \"root\", \"root\", \"root\", \"root\", \"run\", \"run\", \"run\", \"run\", \"said\", \"said\", \"said\", \"said\", \"scalability\", \"scalability\", \"scalability\", \"scanner\", \"scoped\", \"second\", \"second\", \"second\", \"second\", \"second\", \"second\", \"second\", \"security\", \"security\", \"security\", \"security\", \"security\", \"selected\", \"selected\", \"selected\", \"selected\", \"selected\", \"server\", \"server\", \"server\", \"server\", \"server\", \"server\", \"service\", \"service\", \"service\", \"service\", \"service\", \"service\", \"services\", \"services\", \"services\", \"services\", \"services\", \"set\", \"set\", \"set\", \"set\", \"set\", \"set\", \"settable\", \"settable\", \"settable\", \"settings\", \"settings\", \"settings\", \"sgx\", \"shielded\", \"shielded\", \"shielded\", \"signature\", \"signature\", \"signature\", \"signature\", \"signature\", \"signature\", \"signed\", \"signed\", \"signed\", \"signed\", \"signed\", \"signers\", \"slidechain\", \"smallcells\", \"smallcells\", \"smallcells\", \"smart\", \"smart\", \"smart\", \"smart\", \"smart\", \"smart\", \"software\", \"software\", \"software\", \"software\", \"software\", \"specific\", \"specific\", \"specific\", \"specific\", \"specific\", \"speedometer\", \"stabilize\", \"state\", \"state\", \"state\", \"state\", \"state\", \"state\", \"station\", \"station\", \"station\", \"station\", \"status\", \"status\", \"status\", \"status\", \"status\", \"storage\", \"storage\", \"storage\", \"storage\", \"storage\", \"storage\", \"stored\", \"stored\", \"stored\", \"stored\", \"stored\", \"stored\", \"storing\", \"storing\", \"storing\", \"storing\", \"storing\", \"storing\", \"stream\", \"stream\", \"stream\", \"stream\", \"strengthened\", \"structure\", \"structure\", \"structure\", \"structure\", \"subordinate\", \"subordinate\", \"subordinate\", \"superior\", \"system\", \"system\", \"system\", \"system\", \"system\", \"system\", \"system\", \"systems\", \"systems\", \"systems\", \"systems\", \"systems\", \"systems\", \"taken\", \"taken\", \"taken\", \"tally\", \"tally\", \"tally\", \"tamper\", \"tamper\", \"tamper\", \"tamper\", \"tamper\", \"target\", \"target\", \"target\", \"target\", \"target\", \"target\", \"telemetry\", \"temporary\", \"temporary\", \"temporary\", \"temporary\", \"tertiary\", \"tertiary\", \"tertiary\", \"time\", \"time\", \"time\", \"time\", \"time\", \"time\", \"timeline\", \"timestamp\", \"timestamp\", \"timestamp\", \"timestamp\", \"timestamp\", \"tokenized\", \"tokenized\", \"tokenized\", \"tokenized\", \"tool\", \"tool\", \"tool\", \"tool\", \"trade\", \"trade\", \"trade\", \"trade\", \"transaction\", \"transaction\", \"transaction\", \"transaction\", \"transaction\", \"transaction\", \"transaction\", \"transactions\", \"transactions\", \"transactions\", \"transactions\", \"transactions\", \"transactions\", \"transmitted\", \"transmitted\", \"transmitted\", \"transmitted\", \"transparent\", \"transparent\", \"transparent\", \"transparent\", \"try\", \"two\", \"two\", \"two\", \"two\", \"type\", \"type\", \"type\", \"type\", \"type\", \"unalterable\", \"unalterable\", \"unalterable\", \"unchanged\", \"unchanged\", \"unchanged\", \"unpermissioned\", \"updated\", \"updated\", \"updated\", \"updated\", \"uppermost\", \"uppermost\", \"uppermost\", \"use\", \"use\", \"use\", \"use\", \"use\", \"useable\", \"useable\", \"useable\", \"user\", \"user\", \"user\", \"user\", \"user\", \"user\", \"using\", \"using\", \"using\", \"using\", \"using\", \"using\", \"validator\", \"validator\", \"validator\", \"validator\", \"value\", \"value\", \"value\", \"value\", \"value\", \"value\", \"values\", \"values\", \"values\", \"values\", \"values\", \"variable\", \"variable\", \"variable\", \"variable\", \"various\", \"various\", \"various\", \"various\", \"various\", \"vehicle\", \"vehicle\", \"vehicle\", \"vehicle\", \"vehicle\", \"verification\", \"verification\", \"verification\", \"verification\", \"verification\", \"verification\", \"verifier\", \"verifier\", \"verifier\", \"vertex\", \"viable\", \"videos\", \"violation\", \"violation\", \"violation\", \"vsim\", \"vsim\", \"vsim\", \"vsim\", \"wherein\", \"wherein\", \"wherein\", \"wherein\", \"wherein\", \"wherein\", \"whether\", \"whether\", \"whether\", \"whether\", \"whether\", \"whether\", \"wrote\"]}, \"R\": 30, \"lambda.step\": 0.01, \"plot.opts\": {\"xlab\": \"PC1\", \"ylab\": \"PC2\"}, \"topic.order\": [1, 2, 3, 4, 5, 6, 7, 8, 9, 10]};\n",
              "\n",
              "function LDAvis_load_lib(url, callback){\n",
              "  var s = document.createElement('script');\n",
              "  s.src = url;\n",
              "  s.async = true;\n",
              "  s.onreadystatechange = s.onload = callback;\n",
              "  s.onerror = function(){console.warn(\"failed to load library \" + url);};\n",
              "  document.getElementsByTagName(\"head\")[0].appendChild(s);\n",
              "}\n",
              "\n",
              "if(typeof(LDAvis) !== \"undefined\"){\n",
              "   // already loaded: just create the visualization\n",
              "   !function(LDAvis){\n",
              "       new LDAvis(\"#\" + \"ldavis_el711403613679103521476815775\", ldavis_el711403613679103521476815775_data);\n",
              "   }(LDAvis);\n",
              "}else if(typeof define === \"function\" && define.amd){\n",
              "   // require.js is available: use it to load d3/LDAvis\n",
              "   require.config({paths: {d3: \"https://d3js.org/d3.v5\"}});\n",
              "   require([\"d3\"], function(d3){\n",
              "      window.d3 = d3;\n",
              "      LDAvis_load_lib(\"https://cdn.jsdelivr.net/gh/bmabey/pyLDAvis@3.3.1/pyLDAvis/js/ldavis.v3.0.0.js\", function(){\n",
              "        new LDAvis(\"#\" + \"ldavis_el711403613679103521476815775\", ldavis_el711403613679103521476815775_data);\n",
              "      });\n",
              "    });\n",
              "}else{\n",
              "    // require.js not available: dynamically load d3 & LDAvis\n",
              "    LDAvis_load_lib(\"https://d3js.org/d3.v5.js\", function(){\n",
              "         LDAvis_load_lib(\"https://cdn.jsdelivr.net/gh/bmabey/pyLDAvis@3.3.1/pyLDAvis/js/ldavis.v3.0.0.js\", function(){\n",
              "                 new LDAvis(\"#\" + \"ldavis_el711403613679103521476815775\", ldavis_el711403613679103521476815775_data);\n",
              "            })\n",
              "         });\n",
              "}\n",
              "</script>"
            ],
            "text/plain": [
              "<IPython.core.display.HTML object>"
            ]
          },
          "metadata": {},
          "execution_count": 36
        }
      ]
    },
    {
      "cell_type": "markdown",
      "source": [
        "Saliency: a measure of how much the term tells you about the topic.\n",
        "\n",
        "Relevance: a weighted average of the probability of the word given the topic and the word given the topic normalized by the probability of the topic.\n",
        "\n",
        "The size of the bubble measures the importance of the topics, relative to the data."
      ],
      "metadata": {
        "id": "mqLb041QYeqM"
      }
    },
    {
      "cell_type": "markdown",
      "source": [
        "## Spacy, Nouns and Matcher\n",
        "\n",
        "Initially, let's consider simply searching for nouns and their frequency across time periods in the patents."
      ],
      "metadata": {
        "id": "szu7KJzAMK0U"
      }
    },
    {
      "cell_type": "code",
      "source": [
        "data['patent_abstract'] = data['patent_abstract'].apply(lambda x : text_cleaner_light(x))"
      ],
      "metadata": {
        "id": "ZSOKL4y1SiMQ"
      },
      "execution_count": null,
      "outputs": []
    },
    {
      "cell_type": "code",
      "source": [
        "from collections import Counter\n",
        "import spacy\n",
        "nlp = spacy.load('en_core_web_sm')"
      ],
      "metadata": {
        "id": "NZdmnOT8KjXT"
      },
      "execution_count": null,
      "outputs": []
    },
    {
      "cell_type": "code",
      "source": [
        "def common_nouns(year):\n",
        "    # Spacy to find nouns\n",
        "    per_year = data[data['patent_year'] == year]\n",
        "    long_string = '. '.join(list(per_year['patent_abstract'].values))\n",
        "    \n",
        "    doc = nlp(long_string)\n",
        "    nouns = [token.lemma_ for token in doc if token.pos_ == \"NOUN\"]\n",
        "    noun_freq = Counter(nouns)\n",
        "    top_nouns = noun_freq.most_common(25)\n",
        "    return noun_freq, top_nouns"
      ],
      "metadata": {
        "id": "9klJo1h-w5gI"
      },
      "execution_count": null,
      "outputs": []
    },
    {
      "cell_type": "code",
      "source": [
        "noun_freq, top_nouns = common_nouns(2019)"
      ],
      "metadata": {
        "id": "kleSwP4M_gI-"
      },
      "execution_count": null,
      "outputs": []
    },
    {
      "cell_type": "code",
      "source": [
        "top_nouns"
      ],
      "metadata": {
        "colab": {
          "base_uri": "https://localhost:8080/"
        },
        "id": "1L-gF4kW_xee",
        "outputId": "ab9a2f73-e143-4c35-ed1b-8a975f58497a"
      },
      "execution_count": null,
      "outputs": [
        {
          "output_type": "execute_result",
          "data": {
            "text/plain": [
              "[('blockchain', 559),\n",
              " ('datum', 319),\n",
              " ('block', 297),\n",
              " ('device', 255),\n",
              " ('system', 251),\n",
              " ('transaction', 242),\n",
              " ('network', 192),\n",
              " ('method', 167),\n",
              " ('user', 148),\n",
              " ('ledger', 137),\n",
              " ('information', 117),\n",
              " ('request', 100),\n",
              " ('entity', 96),\n",
              " ('value', 94),\n",
              " ('plurality', 93),\n",
              " ('node', 87),\n",
              " ('hash', 86),\n",
              " ('service', 84),\n",
              " ('computer', 84),\n",
              " ('contract', 77),\n",
              " ('data', 76),\n",
              " ('message', 73),\n",
              " ('identity', 70),\n",
              " ('key', 66),\n",
              " ('server', 63)]"
            ]
          },
          "metadata": {},
          "execution_count": 40
        }
      ]
    },
    {
      "cell_type": "markdown",
      "source": [
        "The standout noun is \"datum\" but that is due to the \"token.lemma_\" operation which converts data to datum. Some of the nouns hint towards the applications of blockchain, i,e, transaction, contract and identity."
      ],
      "metadata": {
        "id": "Z9dOANS5EKdu"
      }
    },
    {
      "cell_type": "code",
      "source": [
        "def noun_extraction(text):\n",
        "    patterns = [r'\\b(?i)' + 'transaction' + r'\\b']\n",
        "\n",
        "    output = []\n",
        "    flag = 0\n",
        "    for pat in patterns:\n",
        "        if re.search(pat, text) != None:\n",
        "            flag = 1\n",
        "            break\n",
        "    return flag"
      ],
      "metadata": {
        "id": "yDt8UYREOQK0"
      },
      "execution_count": null,
      "outputs": []
    },
    {
      "cell_type": "code",
      "source": [
        "data['check_nouns'] = data['patent_abstract'].apply(noun_extraction)"
      ],
      "metadata": {
        "colab": {
          "base_uri": "https://localhost:8080/"
        },
        "id": "Lu35eB74VWbo",
        "outputId": "ace8b2fb-de41-43c6-ed83-c20a4dcf3f8c"
      },
      "execution_count": null,
      "outputs": [
        {
          "output_type": "stream",
          "name": "stderr",
          "text": [
            "/usr/local/lib/python3.7/dist-packages/ipykernel_launcher.py:7: DeprecationWarning: Flags not at the start of the expression '\\\\b(?i)transaction\\\\b'\n",
            "  import sys\n"
          ]
        }
      ]
    },
    {
      "cell_type": "code",
      "source": [
        "data[data['check_nouns'] != 0]"
      ],
      "metadata": {
        "colab": {
          "base_uri": "https://localhost:8080/",
          "height": 423
        },
        "id": "Z7BIi_HlViam",
        "outputId": "94ca5817-eadf-441d-f9ff-e0a85d5c0c19"
      },
      "execution_count": null,
      "outputs": [
        {
          "output_type": "execute_result",
          "data": {
            "text/html": [
              "\n",
              "  <div id=\"df-e3f7817a-e683-4459-8b7f-7499c8bad33a\">\n",
              "    <div class=\"colab-df-container\">\n",
              "      <div>\n",
              "<style scoped>\n",
              "    .dataframe tbody tr th:only-of-type {\n",
              "        vertical-align: middle;\n",
              "    }\n",
              "\n",
              "    .dataframe tbody tr th {\n",
              "        vertical-align: top;\n",
              "    }\n",
              "\n",
              "    .dataframe thead th {\n",
              "        text-align: right;\n",
              "    }\n",
              "</style>\n",
              "<table border=\"1\" class=\"dataframe\">\n",
              "  <thead>\n",
              "    <tr style=\"text-align: right;\">\n",
              "      <th></th>\n",
              "      <th>patent_abstract</th>\n",
              "      <th>patent_date</th>\n",
              "      <th>patent_number</th>\n",
              "      <th>patent_title</th>\n",
              "      <th>patent_year</th>\n",
              "      <th>year-month</th>\n",
              "      <th>check_nouns</th>\n",
              "    </tr>\n",
              "  </thead>\n",
              "  <tbody>\n",
              "    <tr>\n",
              "      <th>0</th>\n",
              "      <td>using a blockchain transaction acceleration sy...</td>\n",
              "      <td>2020-05-26</td>\n",
              "      <td>10664469</td>\n",
              "      <td>Accelerating transaction deliveries in blockch...</td>\n",
              "      <td>2020</td>\n",
              "      <td>2020-05-01</td>\n",
              "      <td>1</td>\n",
              "    </tr>\n",
              "    <tr>\n",
              "      <th>1</th>\n",
              "      <td>using a blockchain transaction acceleration sy...</td>\n",
              "      <td>2021-06-22</td>\n",
              "      <td>11042535</td>\n",
              "      <td>Accelerating transaction deliveries in blockch...</td>\n",
              "      <td>2021</td>\n",
              "      <td>2021-06-01</td>\n",
              "      <td>1</td>\n",
              "    </tr>\n",
              "    <tr>\n",
              "      <th>2</th>\n",
              "      <td>a distributed transaction ledger  is used to c...</td>\n",
              "      <td>2021-03-30</td>\n",
              "      <td>10964145</td>\n",
              "      <td>Access control system using blockchain ledger</td>\n",
              "      <td>2021</td>\n",
              "      <td>2021-03-01</td>\n",
              "      <td>1</td>\n",
              "    </tr>\n",
              "    <tr>\n",
              "      <th>3</th>\n",
              "      <td>implementations of the present specification i...</td>\n",
              "      <td>2020-04-07</td>\n",
              "      <td>10615985</td>\n",
              "      <td>Achieving consensus among network nodes in a d...</td>\n",
              "      <td>2020</td>\n",
              "      <td>2020-04-01</td>\n",
              "      <td>1</td>\n",
              "    </tr>\n",
              "    <tr>\n",
              "      <th>4</th>\n",
              "      <td>implementations of the present specification i...</td>\n",
              "      <td>2020-07-07</td>\n",
              "      <td>10708066</td>\n",
              "      <td>Achieving consensus among network nodes in a d...</td>\n",
              "      <td>2020</td>\n",
              "      <td>2020-07-01</td>\n",
              "      <td>1</td>\n",
              "    </tr>\n",
              "    <tr>\n",
              "      <th>...</th>\n",
              "      <td>...</td>\n",
              "      <td>...</td>\n",
              "      <td>...</td>\n",
              "      <td>...</td>\n",
              "      <td>...</td>\n",
              "      <td>...</td>\n",
              "      <td>...</td>\n",
              "    </tr>\n",
              "    <tr>\n",
              "      <th>1616</th>\n",
              "      <td>a computer implemented method for validating u...</td>\n",
              "      <td>2021-01-12</td>\n",
              "      <td>10891383</td>\n",
              "      <td>Validating computer resource usage</td>\n",
              "      <td>2021</td>\n",
              "      <td>2021-01-01</td>\n",
              "      <td>1</td>\n",
              "    </tr>\n",
              "    <tr>\n",
              "      <th>1621</th>\n",
              "      <td>techniques are provided for validating sensor ...</td>\n",
              "      <td>2020-09-15</td>\n",
              "      <td>10778426</td>\n",
              "      <td>Validation of sensor data using a blockchain</td>\n",
              "      <td>2020</td>\n",
              "      <td>2020-09-01</td>\n",
              "      <td>1</td>\n",
              "    </tr>\n",
              "    <tr>\n",
              "      <th>1622</th>\n",
              "      <td>an example operation may include one or more o...</td>\n",
              "      <td>2021-03-02</td>\n",
              "      <td>10937253</td>\n",
              "      <td>Validation of vehicle data via blockchain</td>\n",
              "      <td>2021</td>\n",
              "      <td>2021-03-01</td>\n",
              "      <td>1</td>\n",
              "    </tr>\n",
              "    <tr>\n",
              "      <th>1637</th>\n",
              "      <td>systems and methods as described herein may in...</td>\n",
              "      <td>2020-05-19</td>\n",
              "      <td>10659219</td>\n",
              "      <td>Workflow management via distributed ledgers an...</td>\n",
              "      <td>2020</td>\n",
              "      <td>2020-05-01</td>\n",
              "      <td>1</td>\n",
              "    </tr>\n",
              "    <tr>\n",
              "      <th>1638</th>\n",
              "      <td>systems and methods as described herein may in...</td>\n",
              "      <td>2021-05-25</td>\n",
              "      <td>11018853</td>\n",
              "      <td>Workflow management via distributed ledgers an...</td>\n",
              "      <td>2021</td>\n",
              "      <td>2021-05-01</td>\n",
              "      <td>1</td>\n",
              "    </tr>\n",
              "  </tbody>\n",
              "</table>\n",
              "<p>451 rows × 7 columns</p>\n",
              "</div>\n",
              "      <button class=\"colab-df-convert\" onclick=\"convertToInteractive('df-e3f7817a-e683-4459-8b7f-7499c8bad33a')\"\n",
              "              title=\"Convert this dataframe to an interactive table.\"\n",
              "              style=\"display:none;\">\n",
              "        \n",
              "  <svg xmlns=\"http://www.w3.org/2000/svg\" height=\"24px\"viewBox=\"0 0 24 24\"\n",
              "       width=\"24px\">\n",
              "    <path d=\"M0 0h24v24H0V0z\" fill=\"none\"/>\n",
              "    <path d=\"M18.56 5.44l.94 2.06.94-2.06 2.06-.94-2.06-.94-.94-2.06-.94 2.06-2.06.94zm-11 1L8.5 8.5l.94-2.06 2.06-.94-2.06-.94L8.5 2.5l-.94 2.06-2.06.94zm10 10l.94 2.06.94-2.06 2.06-.94-2.06-.94-.94-2.06-.94 2.06-2.06.94z\"/><path d=\"M17.41 7.96l-1.37-1.37c-.4-.4-.92-.59-1.43-.59-.52 0-1.04.2-1.43.59L10.3 9.45l-7.72 7.72c-.78.78-.78 2.05 0 2.83L4 21.41c.39.39.9.59 1.41.59.51 0 1.02-.2 1.41-.59l7.78-7.78 2.81-2.81c.8-.78.8-2.07 0-2.86zM5.41 20L4 18.59l7.72-7.72 1.47 1.35L5.41 20z\"/>\n",
              "  </svg>\n",
              "      </button>\n",
              "      \n",
              "  <style>\n",
              "    .colab-df-container {\n",
              "      display:flex;\n",
              "      flex-wrap:wrap;\n",
              "      gap: 12px;\n",
              "    }\n",
              "\n",
              "    .colab-df-convert {\n",
              "      background-color: #E8F0FE;\n",
              "      border: none;\n",
              "      border-radius: 50%;\n",
              "      cursor: pointer;\n",
              "      display: none;\n",
              "      fill: #1967D2;\n",
              "      height: 32px;\n",
              "      padding: 0 0 0 0;\n",
              "      width: 32px;\n",
              "    }\n",
              "\n",
              "    .colab-df-convert:hover {\n",
              "      background-color: #E2EBFA;\n",
              "      box-shadow: 0px 1px 2px rgba(60, 64, 67, 0.3), 0px 1px 3px 1px rgba(60, 64, 67, 0.15);\n",
              "      fill: #174EA6;\n",
              "    }\n",
              "\n",
              "    [theme=dark] .colab-df-convert {\n",
              "      background-color: #3B4455;\n",
              "      fill: #D2E3FC;\n",
              "    }\n",
              "\n",
              "    [theme=dark] .colab-df-convert:hover {\n",
              "      background-color: #434B5C;\n",
              "      box-shadow: 0px 1px 3px 1px rgba(0, 0, 0, 0.15);\n",
              "      filter: drop-shadow(0px 1px 2px rgba(0, 0, 0, 0.3));\n",
              "      fill: #FFFFFF;\n",
              "    }\n",
              "  </style>\n",
              "\n",
              "      <script>\n",
              "        const buttonEl =\n",
              "          document.querySelector('#df-e3f7817a-e683-4459-8b7f-7499c8bad33a button.colab-df-convert');\n",
              "        buttonEl.style.display =\n",
              "          google.colab.kernel.accessAllowed ? 'block' : 'none';\n",
              "\n",
              "        async function convertToInteractive(key) {\n",
              "          const element = document.querySelector('#df-e3f7817a-e683-4459-8b7f-7499c8bad33a');\n",
              "          const dataTable =\n",
              "            await google.colab.kernel.invokeFunction('convertToInteractive',\n",
              "                                                     [key], {});\n",
              "          if (!dataTable) return;\n",
              "\n",
              "          const docLinkHtml = 'Like what you see? Visit the ' +\n",
              "            '<a target=\"_blank\" href=https://colab.research.google.com/notebooks/data_table.ipynb>data table notebook</a>'\n",
              "            + ' to learn more about interactive tables.';\n",
              "          element.innerHTML = '';\n",
              "          dataTable['output_type'] = 'display_data';\n",
              "          await google.colab.output.renderOutput(dataTable, element);\n",
              "          const docLink = document.createElement('div');\n",
              "          docLink.innerHTML = docLinkHtml;\n",
              "          element.appendChild(docLink);\n",
              "        }\n",
              "      </script>\n",
              "    </div>\n",
              "  </div>\n",
              "  "
            ],
            "text/plain": [
              "                                        patent_abstract  ... check_nouns\n",
              "0     using a blockchain transaction acceleration sy...  ...           1\n",
              "1     using a blockchain transaction acceleration sy...  ...           1\n",
              "2     a distributed transaction ledger  is used to c...  ...           1\n",
              "3     implementations of the present specification i...  ...           1\n",
              "4     implementations of the present specification i...  ...           1\n",
              "...                                                 ...  ...         ...\n",
              "1616  a computer implemented method for validating u...  ...           1\n",
              "1621  techniques are provided for validating sensor ...  ...           1\n",
              "1622  an example operation may include one or more o...  ...           1\n",
              "1637  systems and methods as described herein may in...  ...           1\n",
              "1638  systems and methods as described herein may in...  ...           1\n",
              "\n",
              "[451 rows x 7 columns]"
            ]
          },
          "metadata": {},
          "execution_count": 60
        }
      ]
    },
    {
      "cell_type": "code",
      "source": [
        ""
      ],
      "metadata": {
        "id": "wy2ePj4oFgch"
      },
      "execution_count": null,
      "outputs": []
    }
  ]
}