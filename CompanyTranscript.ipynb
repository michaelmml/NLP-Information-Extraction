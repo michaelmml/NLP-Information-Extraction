{
  "nbformat": 4,
  "nbformat_minor": 0,
  "metadata": {
    "colab": {
      "name": "CompanyNLP.ipynb",
      "provenance": [],
      "authorship_tag": "ABX9TyMmZASUtLcdvQgSr/5iTFmQ"
    },
    "kernelspec": {
      "name": "python3",
      "display_name": "Python 3"
    },
    "language_info": {
      "name": "python"
    }
  },
  "cells": [
    {
      "cell_type": "markdown",
      "source": [
        "# Data Extraction\n",
        "\n",
        "Built through **PDF Plumber** and depends on structure of the company's transcript releases - intuitive to adapt code. Consider the data in its raw form, consisting of text and \\n (new lines). Normally, these are consistent for companies and therefore straightforward to implement rules to extract **dates, names,** etc. depending on where they are positioned in the format of the transcript.\n",
        "\n",
        "For example, the dates for the below transcript form follow from 'Earnings Call' in the title. By finding the index of where that title ends: \n",
        "\n",
        "**date_idx = txt.find('EVENT DATE/TIME: ') + len('EVENT DATE/TIME: ')** \n",
        "\n",
        "We can find a range that encompasses the title and use split() to identify the month, day, year, etc."
      ],
      "metadata": {
        "id": "hsn2ODhiMLCq"
      }
    },
    {
      "cell_type": "code",
      "source": [
        "import os\n",
        "import pdfplumber"
      ],
      "metadata": {
        "id": "cYo3kW_J6z5V"
      },
      "execution_count": null,
      "outputs": []
    },
    {
      "cell_type": "code",
      "execution_count": null,
      "metadata": {
        "id": "ZBh_nfAtKpMX"
      },
      "outputs": [],
      "source": [
        "def transcript_convert(ticker):\n",
        "    path = '...Transcripts/ALK'\n",
        "    # path = os.path.join(*paths, ticker)\n",
        "    pdf_list = [x for x in os.listdir(path) if x[-4:] == '.pdf']\n",
        "    print(pdf_list)\n",
        "    columns = ['particip', 'qna', 'transcript', 'date', 'company']\n",
        "    data = pd.DataFrame(columns=columns)\n",
        "    for f in pdf_list:\n",
        "        found_start = False\n",
        "        out = ''\n",
        "        with pdfplumber.open(os.path.join(path, f)) as pdf:\n",
        "\n",
        "            for i,v in enumerate(pdf.pages):\n",
        "                curr_page = pdf.pages[i]\n",
        "                txt = curr_page.extract_text()\n",
        "\n",
        "                if i == 0:\n",
        "                    if txt.find(ticker + ' -') != -1:\n",
        "                        dt_idx = txt.find(ticker + ' -')\n",
        "                        qt_txt = txt[dt_idx:].split('\\n')\n",
        "                        qt_txt = [x for x in qt_txt if x != ' '][0].strip(ticker + ' -')  # remove ' '\n",
        "                    else:\n",
        "                        qt_txt = [x for x in txt.split('\\n') if 'Earnings' in x][0]\n",
        "                    quarter = qt_txt.split()[0]\n",
        "                    year = qt_txt.split()[1]\n",
        "                    date_idx = txt.find('EVENT DATE/TIME: ') + len('EVENT DATE/TIME: ')\n",
        "                    date_idx_end = date_idx + 50  # static character count for length of date\n",
        "                    date = parse(txt[date_idx:date_idx_end].split('\\n')[0]).strftime('%m-%d-%y')\n",
        "                    comp_name = qt_txt.split(' Earnings Call')[0][qt_txt.split(' Earnings Call')[0].find(year)+ len(year) + 1:]\n",
        "\n",
        "                elif i == 1:\n",
        "                    corp_idx = txt.find('CORPORATE PARTICIPANTS')+len('CORPORATE PARTICIPANTS\\n')\n",
        "                    corp_idx_end = txt.find('\\nCONFERENCE CALL PARTICIPANTS')\n",
        "                    conf_idx = txt.find('CONFERENCE CALL PARTICIPANTS') + len('CONFERENCE CALL PARTICIPANTS\\n')\n",
        "                    conf_idx_end = txt.find('PRESENTATION')\n",
        "                    corp_txt = txt[corp_idx:corp_idx_end].split('\\n')\n",
        "                    corp_name = [x.split(comp_name.split()[0])[0] for x in corp_txt]\n",
        "                    corp_name = [x.strip() for x in corp_name if x.strip() != '']\n",
        "                    corp_speaker1 = corp_name\n",
        "                    corp_speaker2 = [x.split()[0] + ' ' + x.split()[1] for x in corp_txt if len(x.split()) >= 2]\n",
        "                    corp_speaker3 = [x.split()[0] + ' ' + x.split()[2] for x in corp_txt if\n",
        "                                     len(x.split()) >= 3]\n",
        "                    corp_speaker4 = [x.split()[0] + ' ' + x.split()[1] + ' ' + x.split()[2] for x in corp_txt if\n",
        "                                     len(x.split()) >= 3]\n",
        "\n",
        "                    conf_txt = txt[conf_idx:conf_idx_end].split('\\n')\n",
        "                    conf_speaker1 = [x.split()[0] + ' ' + x.split()[1] for x in conf_txt if len(x.split()) >= 2]\n",
        "                    conf_speaker2 = [x.split()[0] + ' ' + x.split()[2] for x in conf_txt if len(x.split()) >= 3]    # accounts for speakers with middle name\n",
        "                    conf_speaker3 = [x.split()[0] + ' ' + x.split()[1] + ' ' + x.split()[2] for x in conf_txt if len(x.split()) >=3]    # accounts for speakers with middle name\n",
        "\n",
        "                    speaker_list = corp_speaker1 + corp_speaker2 + corp_speaker3 + corp_speaker4 + conf_speaker1 + conf_speaker2 + conf_speaker3\n",
        "\n",
        "                    columns = ['corp_particip','conf_particip']\n",
        "                    df_speaker = pd.DataFrame(columns=columns)\n",
        "                    corp_list = corp_speaker1 + corp_speaker2 + corp_speaker3 + corp_speaker4\n",
        "                    conf_list = conf_speaker1 + conf_speaker2 + conf_speaker3\n",
        "                    df_speaker['corp_particip'] = corp_list + (max(len(corp_list), len(conf_list)) -len(corp_list)) * ['']\n",
        "                    df_speaker['conf_particip'] = conf_list + (max(len(corp_list), len(conf_list)) -len(conf_list)) * ['']\n",
        "                    df_speaker.to_csv(os.path.join(path, ticker + '_' + date + '_speakers.csv'), index=False)\n",
        "\n",
        "                # remove footer\n",
        "                if i != 0 and i != len(pdf.pages)-1:\n",
        "                    beginning_idx = txt.find('Earnings Call')+len('Earnings Call\\n')\n",
        "                    pg_num_idx = txt.find('\\n' + str(i + 1))\n",
        "                    txt = txt[beginning_idx:pg_num_idx]\n",
        "\n",
        "                # remove disclaimer\n",
        "                elif i ==len(pdf.pages)-1:  # if last page remove disclaimer\n",
        "                    beginning_idx = txt.find('Earnings Call')+len('Earnings Call\\n')\n",
        "                    dis_idx = txt.find('DISCLAIMER')\n",
        "                    txt = txt[beginning_idx:dis_idx]\n",
        "\n",
        "                # write to file\n",
        "                if found_start == True:\n",
        "                    out = out+txt\n",
        "\n",
        "                elif txt.find('PRESENTATION') != -1 and found_start == False:\n",
        "                    found_start = True\n",
        "                    start_idx = txt.find('PRESENTATION')+len('PRESENTATION\\n')\n",
        "                    out = out+txt[start_idx:]\n",
        "\n",
        "        columns = ['particip', 'qna', 'transcript', 'date', 'company']\n",
        "        df = pd.DataFrame(columns=columns)\n",
        "        speaker = ''\n",
        "        content = ''\n",
        "        qna_start_j = 1000  # initialize\n",
        "        j = 0\n",
        "        for line in out.split('\\n'):\n",
        "\n",
        "            if line.find('QUESTIONS AND ANSWERS') != -1:\n",
        "                qna_start_j = j + 2\n",
        "            if len(line.split()) == 1:\n",
        "                find_speaker = [x for x in ['Operator'] if (x in line)]\n",
        "            else:\n",
        "                find_speaker = [x for x in speaker_list if (x + ' -' in line)]  # + ' -'\n",
        "\n",
        "            if find_speaker == []:\n",
        "                content = content + ' ' + line\n",
        "            else:\n",
        "                if speaker != '':\n",
        "                    if speaker in corp_list:\n",
        "                        df.loc[j] = [speaker, 0, content, date, ticker]\n",
        "                    else:\n",
        "                        df.loc[j] = [speaker, 1, content, date, ticker]\n",
        "                    content = ''\n",
        "                    j += 1\n",
        "\n",
        "                speaker = find_speaker[0]\n",
        "\n",
        "        print(pdf.pages[0].extract_text())\n",
        "        data = data.append(df)\n",
        "\n",
        "    data.to_csv(os.path.join(path, ticker + '.csv'), index=False)\n",
        "    print('converted: ' + os.path.join(path, ticker + '.csv'))"
      ]
    },
    {
      "cell_type": "markdown",
      "source": [
        "**Result is a file of multiple transcripts - by speaker, whether company personnel or external and date of the earnings call.**"
      ],
      "metadata": {
        "id": "hQrBKn3fNqfO"
      }
    },
    {
      "cell_type": "code",
      "source": [
        "from google.colab import drive\n",
        "drive.mount(\"/content/drive\")"
      ],
      "metadata": {
        "colab": {
          "base_uri": "https://localhost:8080/"
        },
        "id": "Wn1gRB1w6NAI",
        "outputId": "48cf75b4-024d-4ac0-8976-5935e2dec5e4"
      },
      "execution_count": 1,
      "outputs": [
        {
          "output_type": "stream",
          "name": "stdout",
          "text": [
            "Mounted at /content/drive\n"
          ]
        }
      ]
    },
    {
      "cell_type": "code",
      "source": [
        "import pandas as pd\n",
        "import numpy as np\n",
        "import re"
      ],
      "metadata": {
        "id": "q365QI506bM6"
      },
      "execution_count": 2,
      "outputs": []
    },
    {
      "cell_type": "code",
      "source": [
        "root_folder='/content/drive/My Drive/DataAnalysis'"
      ],
      "metadata": {
        "id": "JF1pkYIy6QPb"
      },
      "execution_count": 3,
      "outputs": []
    },
    {
      "cell_type": "code",
      "source": [
        "data = pd.read_csv(root_folder+'/Transcripts_test.csv')\n",
        "data['date'] = pd.Series(pd.to_datetime(data['date'], format='%m-%d-%y'))\n",
        "data.info()"
      ],
      "metadata": {
        "id": "JVnuXIhaNp0k",
        "colab": {
          "base_uri": "https://localhost:8080/"
        },
        "outputId": "9073b8d9-22d2-4de6-8415-cae28111023c"
      },
      "execution_count": 4,
      "outputs": [
        {
          "output_type": "stream",
          "name": "stdout",
          "text": [
            "<class 'pandas.core.frame.DataFrame'>\n",
            "RangeIndex: 1058 entries, 0 to 1057\n",
            "Data columns (total 5 columns):\n",
            " #   Column      Non-Null Count  Dtype         \n",
            "---  ------      --------------  -----         \n",
            " 0   particip    1058 non-null   object        \n",
            " 1   qna         1058 non-null   int64         \n",
            " 2   transcript  1058 non-null   object        \n",
            " 3   date        1058 non-null   datetime64[ns]\n",
            " 4   company     1058 non-null   object        \n",
            "dtypes: datetime64[ns](1), int64(1), object(3)\n",
            "memory usage: 41.5+ KB\n"
          ]
        }
      ]
    },
    {
      "cell_type": "markdown",
      "source": [
        "# Data Processing and Exploratory Analysis\n",
        "\n",
        "Clean text using regex and filter dataframe as appropriate, for example by age, by date, by topics, etc."
      ],
      "metadata": {
        "id": "tXAhMC78RGF5"
      }
    },
    {
      "cell_type": "code",
      "source": [
        "def clean(text):\n",
        "    # removing paragraph numbers\n",
        "    text = re.sub('[0-9]+.\\t', '', str(text))\n",
        "    # removing new line characters\n",
        "    text = re.sub('\\n ', '', str(text))\n",
        "    text = re.sub('\\n', ' ', str(text))\n",
        "    # removing apostrophes\n",
        "    text = re.sub(\"'s\", '', str(text))\n",
        "    # removing hyphens\n",
        "    text = re.sub(\"-\", ' ', str(text))\n",
        "    text = re.sub(\"— \", '', str(text))\n",
        "    # removing quotation marks\n",
        "    text = re.sub('\\\"', '', str(text))\n",
        "    # removing salutations\n",
        "    text = re.sub(\"Mr\\.\", 'Mr', str(text))\n",
        "    text = re.sub(\"Mrs\\.\", 'Mrs', str(text))\n",
        "    # removing any reference to outside text\n",
        "    text = re.sub(\"[\\(\\[].*?[\\)\\]]\", \"\", str(text))\n",
        "\n",
        "    return text"
      ],
      "metadata": {
        "id": "IbKh7Gd1MCe1"
      },
      "execution_count": 5,
      "outputs": []
    },
    {
      "cell_type": "code",
      "source": [
        "# preprocessing speeches\n",
        "data['Transcript_clean'] = data['transcript'].apply(clean)"
      ],
      "metadata": {
        "id": "HjW5twTcOeFM"
      },
      "execution_count": 6,
      "outputs": []
    },
    {
      "cell_type": "code",
      "source": [
        "data.info()"
      ],
      "metadata": {
        "colab": {
          "base_uri": "https://localhost:8080/"
        },
        "id": "6B4yH8k46-y-",
        "outputId": "35ddec43-7ba0-4603-9f23-e67a33cdf597"
      },
      "execution_count": 7,
      "outputs": [
        {
          "output_type": "stream",
          "name": "stdout",
          "text": [
            "<class 'pandas.core.frame.DataFrame'>\n",
            "RangeIndex: 1058 entries, 0 to 1057\n",
            "Data columns (total 6 columns):\n",
            " #   Column            Non-Null Count  Dtype         \n",
            "---  ------            --------------  -----         \n",
            " 0   particip          1058 non-null   object        \n",
            " 1   qna               1058 non-null   int64         \n",
            " 2   transcript        1058 non-null   object        \n",
            " 3   date              1058 non-null   datetime64[ns]\n",
            " 4   company           1058 non-null   object        \n",
            " 5   Transcript_clean  1058 non-null   object        \n",
            "dtypes: datetime64[ns](1), int64(1), object(4)\n",
            "memory usage: 49.7+ KB\n"
          ]
        }
      ]
    },
    {
      "cell_type": "markdown",
      "source": [
        "**Considering a subset of data - namely only company personnel.**"
      ],
      "metadata": {
        "id": "vvZZUAd3OrYY"
      }
    },
    {
      "cell_type": "code",
      "source": [
        "data_subset = data[data['qna'] == 0]\n",
        "data_subset = data_subset.drop(['particip'], axis=1)\n",
        "# data_subset = data_subset.groupby(['date'])['Transcript_clean'].apply(' '.join).reset_index()\n",
        "data_subset['year'] = pd.DatetimeIndex(data_subset['date']).year\n",
        "data_subset.info()"
      ],
      "metadata": {
        "id": "naAJzQHnOfNz",
        "colab": {
          "base_uri": "https://localhost:8080/"
        },
        "outputId": "266a719f-1e5b-424a-820d-f6672f022988"
      },
      "execution_count": 8,
      "outputs": [
        {
          "output_type": "stream",
          "name": "stdout",
          "text": [
            "<class 'pandas.core.frame.DataFrame'>\n",
            "Int64Index: 693 entries, 0 to 1057\n",
            "Data columns (total 6 columns):\n",
            " #   Column            Non-Null Count  Dtype         \n",
            "---  ------            --------------  -----         \n",
            " 0   qna               693 non-null    int64         \n",
            " 1   transcript        693 non-null    object        \n",
            " 2   date              693 non-null    datetime64[ns]\n",
            " 3   company           693 non-null    object        \n",
            " 4   Transcript_clean  693 non-null    object        \n",
            " 5   year              693 non-null    int64         \n",
            "dtypes: datetime64[ns](1), int64(2), object(3)\n",
            "memory usage: 37.9+ KB\n"
          ]
        }
      ]
    },
    {
      "cell_type": "code",
      "source": [
        "import matplotlib.pyplot as plt\n",
        "%matplotlib inline\n",
        "# Import the seaborn library, it is a powerful library for plotting and commonly used with matplotlib\n",
        "import seaborn as sns\n",
        "sns.set_style(\"white\")\n",
        "import random\n",
        "from collections import Counter\n",
        "\n",
        "import string\n",
        "import nltk\n",
        "from nltk.tokenize import word_tokenize\n",
        "import gensim\n",
        "from gensim.summarization.textcleaner import split_sentences\n",
        "\n",
        "from wordcloud import WordCloud\n",
        "\n",
        "# Load the library with the CountVectorizer method\n",
        "from sklearn.feature_extraction.text import CountVectorizer\n",
        "\n",
        "# Load the LDA model from sk-learn\n",
        "from sklearn.decomposition import LatentDirichletAllocation as LDA\n",
        "import warnings\n",
        "warnings.simplefilter(\"ignore\", DeprecationWarning)"
      ],
      "metadata": {
        "id": "mkkJAXKl7HQ6"
      },
      "execution_count": 9,
      "outputs": []
    },
    {
      "cell_type": "code",
      "source": [
        "nltk.download('stopwords')\n",
        "nltk.download('punkt')"
      ],
      "metadata": {
        "colab": {
          "base_uri": "https://localhost:8080/"
        },
        "id": "Zu6GEaHe-L0E",
        "outputId": "21db768a-767b-4bdd-d6d8-1d270f117823"
      },
      "execution_count": 10,
      "outputs": [
        {
          "output_type": "stream",
          "name": "stdout",
          "text": [
            "[nltk_data] Downloading package stopwords to /root/nltk_data...\n",
            "[nltk_data]   Unzipping corpora/stopwords.zip.\n",
            "[nltk_data] Downloading package punkt to /root/nltk_data...\n",
            "[nltk_data]   Unzipping tokenizers/punkt.zip.\n"
          ]
        },
        {
          "output_type": "execute_result",
          "data": {
            "text/plain": [
              "True"
            ]
          },
          "metadata": {},
          "execution_count": 10
        }
      ]
    },
    {
      "cell_type": "code",
      "source": [
        "nltk.download('averaged_perceptron_tagger')"
      ],
      "metadata": {
        "id": "CVUBlFnlSDL8"
      },
      "execution_count": null,
      "outputs": []
    },
    {
      "cell_type": "code",
      "source": [
        "nltk.download('universal_tagset')"
      ],
      "metadata": {
        "id": "NRcrS0vqSLW3"
      },
      "execution_count": null,
      "outputs": []
    },
    {
      "cell_type": "code",
      "source": [
        "# Define some global variables for text processing\n",
        "punc = string.punctuation\n",
        "stopwords = nltk.corpus.stopwords.words('english')"
      ],
      "metadata": {
        "id": "igm5zq189eF8"
      },
      "execution_count": 11,
      "outputs": []
    },
    {
      "cell_type": "code",
      "source": [
        "def count_stopwords(text, stopwords):\n",
        "    ''' Return the number of stopwords in the text\n",
        "        Input:\n",
        "            - text: string\n",
        "            - stopwords: list of string, containing the stopwords\n",
        "        Output:\n",
        "            - int, number of stopwords in the text argument\n",
        "    '''\n",
        "    word_tokens = word_tokenize(text) #splitta i pezzi\n",
        "    stopwords_x = [w for w in word_tokens if w in stopwords]\n",
        "    \n",
        "    return len(stopwords_x)"
      ],
      "metadata": {
        "id": "3v4qiIzc9jhY"
      },
      "execution_count": 12,
      "outputs": []
    },
    {
      "cell_type": "code",
      "source": [
        "data_subset['text_sent_count'] = data_subset['Transcript_clean'].apply(lambda x : len(split_sentences(x)))\n",
        "data_subset['text_word_count'] = data_subset['Transcript_clean'].apply(lambda x : len(x.split()))\n",
        "data_subset['text_char_count'] = data_subset['Transcript_clean'].apply(lambda x : len(x.replace(\" \",\"\")))\n",
        "data_subset['text_word_density'] = data_subset['text_word_count'] / (data_subset['text_char_count'] + 1)\n",
        "data_subset['text_sent_density'] = data_subset['text_sent_count'] / (data_subset['text_word_count'] + 1)\n",
        "data_subset['text_punc_count'] = data_subset['Transcript_clean'].apply(lambda x : len([a for a in x if a in punc]))\n",
        "\n",
        "# Stopwords\n",
        "data_subset['text_stopw_count'] =  data_subset['Transcript_clean'].apply(lambda x : count_stopwords(x, stopwords))\n",
        "data_subset['text_stopw_density'] = data_subset['text_stopw_count'] / (data_subset['text_word_count'] + 1)"
      ],
      "metadata": {
        "id": "poYVNE_U-S-M"
      },
      "execution_count": 13,
      "outputs": []
    },
    {
      "cell_type": "code",
      "source": [
        "print(data_subset[['text_word_count', 'text_char_count', 'text_word_density', 'text_punc_count']].head(5))"
      ],
      "metadata": {
        "colab": {
          "base_uri": "https://localhost:8080/"
        },
        "id": "MZCp7iUR-5eH",
        "outputId": "dfce71c8-837f-4e29-8dd1-a3b4446af23e"
      },
      "execution_count": 14,
      "outputs": [
        {
          "output_type": "stream",
          "name": "stdout",
          "text": [
            "   text_word_count  text_char_count  text_word_density  text_punc_count\n",
            "0             1653             8263           0.200024              241\n",
            "1             1862             9687           0.192197              207\n",
            "3              192              823           0.233010               33\n",
            "4              119              548           0.216758               16\n",
            "6              126              568           0.221441               14\n"
          ]
        }
      ]
    },
    {
      "cell_type": "code",
      "source": [
        "data_subset[['text_sent_count', 'text_word_count', 'text_char_count', 'text_stopw_count', 'text_punc_count']].describe()"
      ],
      "metadata": {
        "colab": {
          "base_uri": "https://localhost:8080/",
          "height": 300
        },
        "id": "LSYgiT8M-90w",
        "outputId": "36cebb77-1105-4ba1-c4d2-80c082860b3f"
      },
      "execution_count": 15,
      "outputs": [
        {
          "output_type": "execute_result",
          "data": {
            "text/html": [
              "\n",
              "  <div id=\"df-624db0dc-6846-44cf-94ca-f50322020c14\">\n",
              "    <div class=\"colab-df-container\">\n",
              "      <div>\n",
              "<style scoped>\n",
              "    .dataframe tbody tr th:only-of-type {\n",
              "        vertical-align: middle;\n",
              "    }\n",
              "\n",
              "    .dataframe tbody tr th {\n",
              "        vertical-align: top;\n",
              "    }\n",
              "\n",
              "    .dataframe thead th {\n",
              "        text-align: right;\n",
              "    }\n",
              "</style>\n",
              "<table border=\"1\" class=\"dataframe\">\n",
              "  <thead>\n",
              "    <tr style=\"text-align: right;\">\n",
              "      <th></th>\n",
              "      <th>text_sent_count</th>\n",
              "      <th>text_word_count</th>\n",
              "      <th>text_char_count</th>\n",
              "      <th>text_stopw_count</th>\n",
              "      <th>text_punc_count</th>\n",
              "    </tr>\n",
              "  </thead>\n",
              "  <tbody>\n",
              "    <tr>\n",
              "      <th>count</th>\n",
              "      <td>693.000000</td>\n",
              "      <td>693.000000</td>\n",
              "      <td>693.000000</td>\n",
              "      <td>693.000000</td>\n",
              "      <td>693.000000</td>\n",
              "    </tr>\n",
              "    <tr>\n",
              "      <th>mean</th>\n",
              "      <td>9.666667</td>\n",
              "      <td>186.976912</td>\n",
              "      <td>866.701299</td>\n",
              "      <td>85.028860</td>\n",
              "      <td>27.636364</td>\n",
              "    </tr>\n",
              "    <tr>\n",
              "      <th>std</th>\n",
              "      <td>12.304306</td>\n",
              "      <td>280.925405</td>\n",
              "      <td>1386.459402</td>\n",
              "      <td>116.484732</td>\n",
              "      <td>38.471451</td>\n",
              "    </tr>\n",
              "    <tr>\n",
              "      <th>min</th>\n",
              "      <td>1.000000</td>\n",
              "      <td>1.000000</td>\n",
              "      <td>3.000000</td>\n",
              "      <td>0.000000</td>\n",
              "      <td>1.000000</td>\n",
              "    </tr>\n",
              "    <tr>\n",
              "      <th>25%</th>\n",
              "      <td>3.000000</td>\n",
              "      <td>43.000000</td>\n",
              "      <td>194.000000</td>\n",
              "      <td>21.000000</td>\n",
              "      <td>7.000000</td>\n",
              "    </tr>\n",
              "    <tr>\n",
              "      <th>50%</th>\n",
              "      <td>6.000000</td>\n",
              "      <td>108.000000</td>\n",
              "      <td>471.000000</td>\n",
              "      <td>53.000000</td>\n",
              "      <td>16.000000</td>\n",
              "    </tr>\n",
              "    <tr>\n",
              "      <th>75%</th>\n",
              "      <td>11.000000</td>\n",
              "      <td>187.000000</td>\n",
              "      <td>821.000000</td>\n",
              "      <td>92.000000</td>\n",
              "      <td>29.000000</td>\n",
              "    </tr>\n",
              "    <tr>\n",
              "      <th>max</th>\n",
              "      <td>85.000000</td>\n",
              "      <td>1862.000000</td>\n",
              "      <td>9687.000000</td>\n",
              "      <td>732.000000</td>\n",
              "      <td>241.000000</td>\n",
              "    </tr>\n",
              "  </tbody>\n",
              "</table>\n",
              "</div>\n",
              "      <button class=\"colab-df-convert\" onclick=\"convertToInteractive('df-624db0dc-6846-44cf-94ca-f50322020c14')\"\n",
              "              title=\"Convert this dataframe to an interactive table.\"\n",
              "              style=\"display:none;\">\n",
              "        \n",
              "  <svg xmlns=\"http://www.w3.org/2000/svg\" height=\"24px\"viewBox=\"0 0 24 24\"\n",
              "       width=\"24px\">\n",
              "    <path d=\"M0 0h24v24H0V0z\" fill=\"none\"/>\n",
              "    <path d=\"M18.56 5.44l.94 2.06.94-2.06 2.06-.94-2.06-.94-.94-2.06-.94 2.06-2.06.94zm-11 1L8.5 8.5l.94-2.06 2.06-.94-2.06-.94L8.5 2.5l-.94 2.06-2.06.94zm10 10l.94 2.06.94-2.06 2.06-.94-2.06-.94-.94-2.06-.94 2.06-2.06.94z\"/><path d=\"M17.41 7.96l-1.37-1.37c-.4-.4-.92-.59-1.43-.59-.52 0-1.04.2-1.43.59L10.3 9.45l-7.72 7.72c-.78.78-.78 2.05 0 2.83L4 21.41c.39.39.9.59 1.41.59.51 0 1.02-.2 1.41-.59l7.78-7.78 2.81-2.81c.8-.78.8-2.07 0-2.86zM5.41 20L4 18.59l7.72-7.72 1.47 1.35L5.41 20z\"/>\n",
              "  </svg>\n",
              "      </button>\n",
              "      \n",
              "  <style>\n",
              "    .colab-df-container {\n",
              "      display:flex;\n",
              "      flex-wrap:wrap;\n",
              "      gap: 12px;\n",
              "    }\n",
              "\n",
              "    .colab-df-convert {\n",
              "      background-color: #E8F0FE;\n",
              "      border: none;\n",
              "      border-radius: 50%;\n",
              "      cursor: pointer;\n",
              "      display: none;\n",
              "      fill: #1967D2;\n",
              "      height: 32px;\n",
              "      padding: 0 0 0 0;\n",
              "      width: 32px;\n",
              "    }\n",
              "\n",
              "    .colab-df-convert:hover {\n",
              "      background-color: #E2EBFA;\n",
              "      box-shadow: 0px 1px 2px rgba(60, 64, 67, 0.3), 0px 1px 3px 1px rgba(60, 64, 67, 0.15);\n",
              "      fill: #174EA6;\n",
              "    }\n",
              "\n",
              "    [theme=dark] .colab-df-convert {\n",
              "      background-color: #3B4455;\n",
              "      fill: #D2E3FC;\n",
              "    }\n",
              "\n",
              "    [theme=dark] .colab-df-convert:hover {\n",
              "      background-color: #434B5C;\n",
              "      box-shadow: 0px 1px 3px 1px rgba(0, 0, 0, 0.15);\n",
              "      filter: drop-shadow(0px 1px 2px rgba(0, 0, 0, 0.3));\n",
              "      fill: #FFFFFF;\n",
              "    }\n",
              "  </style>\n",
              "\n",
              "      <script>\n",
              "        const buttonEl =\n",
              "          document.querySelector('#df-624db0dc-6846-44cf-94ca-f50322020c14 button.colab-df-convert');\n",
              "        buttonEl.style.display =\n",
              "          google.colab.kernel.accessAllowed ? 'block' : 'none';\n",
              "\n",
              "        async function convertToInteractive(key) {\n",
              "          const element = document.querySelector('#df-624db0dc-6846-44cf-94ca-f50322020c14');\n",
              "          const dataTable =\n",
              "            await google.colab.kernel.invokeFunction('convertToInteractive',\n",
              "                                                     [key], {});\n",
              "          if (!dataTable) return;\n",
              "\n",
              "          const docLinkHtml = 'Like what you see? Visit the ' +\n",
              "            '<a target=\"_blank\" href=https://colab.research.google.com/notebooks/data_table.ipynb>data table notebook</a>'\n",
              "            + ' to learn more about interactive tables.';\n",
              "          element.innerHTML = '';\n",
              "          dataTable['output_type'] = 'display_data';\n",
              "          await google.colab.output.renderOutput(dataTable, element);\n",
              "          const docLink = document.createElement('div');\n",
              "          docLink.innerHTML = docLinkHtml;\n",
              "          element.appendChild(docLink);\n",
              "        }\n",
              "      </script>\n",
              "    </div>\n",
              "  </div>\n",
              "  "
            ],
            "text/plain": [
              "       text_sent_count  text_word_count  ...  text_stopw_count  text_punc_count\n",
              "count       693.000000       693.000000  ...        693.000000       693.000000\n",
              "mean          9.666667       186.976912  ...         85.028860        27.636364\n",
              "std          12.304306       280.925405  ...        116.484732        38.471451\n",
              "min           1.000000         1.000000  ...          0.000000         1.000000\n",
              "25%           3.000000        43.000000  ...         21.000000         7.000000\n",
              "50%           6.000000       108.000000  ...         53.000000        16.000000\n",
              "75%          11.000000       187.000000  ...         92.000000        29.000000\n",
              "max          85.000000      1862.000000  ...        732.000000       241.000000\n",
              "\n",
              "[8 rows x 5 columns]"
            ]
          },
          "metadata": {},
          "execution_count": 15
        }
      ]
    },
    {
      "cell_type": "code",
      "source": [
        "quarters = data_subset['date'].unique()"
      ],
      "metadata": {
        "id": "FBjBjhLGQBHA"
      },
      "execution_count": 16,
      "outputs": []
    },
    {
      "cell_type": "code",
      "source": [
        "labels_dict={'sum_word_count': 'Word Count of Summaries','text_word_count': 'Word Count of Texts',\n",
        "             'sum_char_count': 'Char Count of Summaries','text_char_count': 'Char Count of Texts',\n",
        "             'sum_word_density': 'Word Density of Summaries','text_word_density': 'Word Density of Texts',\n",
        "             'sum_punc_count': 'Punctuation Count of Summaries','text_punc_count': 'Punctuation Count of Texts',\n",
        "             'text_sent_count': 'Sentence Count of Texts', 'sum_sent_count': 'Sentence Count of Summaries',\n",
        "             'text_sent_density': 'Sentence Density of Texts', 'sum_sent_density': 'Sentence Density of Summaries',\n",
        "             'text_stopw_count': 'Stopwords Count of Texts', 'sum_stopw_count': 'Stopwords Count of Summaries',\n",
        "             'ADJ': 'adjective','ADP': 'adposition', 'ADV': 'adverb','CONJ': 'conjunction',\n",
        "             'DET': 'determiner','NOUN': 'noun', 'text_unknown_count': 'Unknown words in Texts',\n",
        "             'sum_unknown_count': 'Unknown words in Summaries',}"
      ],
      "metadata": {
        "id": "-t7RBjCE_DUs"
      },
      "execution_count": 17,
      "outputs": []
    },
    {
      "cell_type": "code",
      "source": [
        "def plot_boxplots(data, plot_vars, labels, figsize):\n",
        "    ''' Plot a box-plot of the variables in the plot_vars list using the labels and a size of figesize\n",
        "        Input:\n",
        "        - data: a dataframe, containing the data points to plot\n",
        "        - plot_vars: a (1,x) array, containig the columns to plot\n",
        "        - labels: a dctionary, to map the column names to its label\n",
        "        - figsize: a tuple, indicating the size of the figure\n",
        "    '''\n",
        "    \n",
        "   # We need to identify is this a matrix or a vector\n",
        "    if plot_vars.ndim == 1:\n",
        "        nrows=1\n",
        "        ncols = plot_vars.shape[0]\n",
        "    else:\n",
        "        nrows= plot_vars.shape[0]\n",
        "        ncols = plot_vars.shape[1]\n",
        "\n",
        "    f, axes = plt.subplots(nrows, ncols, sharey=False, figsize=(15,5))\n",
        "\n",
        "    for i in range(nrows):\n",
        "        for j in range(ncols):\n",
        "            # If the column name is defined we plot it\n",
        "            if plot_vars[i,j]!=None:\n",
        "                if axes.ndim>1:\n",
        "                    #Set the title\n",
        "                    axes[i,j].set_title(labels[plot_vars[i,j]])\n",
        "                    axes[i,j].grid(True)\n",
        "                    #Set x ticks\n",
        "                    axes[i,j].tick_params(\n",
        "                        axis='x',          # changes apply to the x-axis\n",
        "                        which='both',      # both major and minor ticks are affected\n",
        "                        bottom=False,      # ticks along the bottom edge are off\n",
        "                        top=False,         # ticks along the top edge are off\n",
        "                        labelbottom=False)\n",
        "                    # Plot a boxplot for the column in plot_vars\n",
        "                    axes[i,j].boxplot(data[plot_vars[i,j]])\n",
        "                else:\n",
        "                    #Set the title\n",
        "                    axes[j].set_title(labels[plot_vars[i,j]])\n",
        "                    axes[j].grid(True)\n",
        "                    #Set x ticks\n",
        "                    axes[j].tick_params(\n",
        "                        axis='x',          # changes apply to the x-axis\n",
        "                        which='both',      # both major and minor ticks are affected\n",
        "                        bottom=False,      # ticks along the bottom edge are off\n",
        "                        top=False,         # ticks along the top edge are off\n",
        "                        labelbottom=False)\n",
        "                    # Plot a boxplot for the column in plot_vars\n",
        "                    axes[j].boxplot(data[plot_vars[i,j]])\n",
        "                \n",
        "            else:\n",
        "                axes[i,j].set_visible(False)\n",
        "\n",
        "    f.tight_layout()\n",
        "    plt.show() \n",
        "\n",
        "\n",
        "def get_cmap(n, name='hsv'):\n",
        "    return plt.cm.get_cmap(name, n)\n",
        "\n",
        "def plot_histograms(data, plot_vars, xlim, labels, figsize):\n",
        "\n",
        "    kwargs = dict(hist_kws={'alpha':.7}, kde_kws={'linewidth':2})\n",
        "    fig, axes = plt.subplots(plot_vars.shape[0], plot_vars.shape[1], figsize=figsize, sharey=False, dpi=100)\n",
        "\n",
        "    for i in range(plot_vars.shape[1]):\n",
        "\n",
        "        sns.distplot(data[plot_vars[0,i]] , color=(random.uniform(0, 1), random.uniform(0, 1), random.uniform(0, 1),), \n",
        "                     ax=axes[i], axlabel=labels[plot_vars[0,i]], bins= 50, norm_hist = True)\n",
        "        # For a better visualization we set the x limit\n",
        "        axes[i].set_xlim(left=0, right=xlim[i])\n",
        "        \n",
        "    fig.tight_layout()"
      ],
      "metadata": {
        "id": "6xMFfoewFsYp"
      },
      "execution_count": 18,
      "outputs": []
    },
    {
      "cell_type": "code",
      "source": [
        "import warnings\n",
        "warnings.filterwarnings(\"ignore\", category=FutureWarning) "
      ],
      "metadata": {
        "id": "WLVP024HPZ58"
      },
      "execution_count": 19,
      "outputs": []
    },
    {
      "cell_type": "code",
      "source": [
        "# Set financial quarter to look at \n",
        "per_quarter = data_subset[data_subset['date'] == quarters[2]]\n",
        "# Set the columns to plot\n",
        "plot_vars=np.array([['text_sent_count', 'text_word_count', 'text_char_count','text_sent_density','text_word_density']])\n",
        "plot_boxplots(per_quarter, plot_vars, labels_dict, figsize=(10,3))\n",
        "plot_histograms(per_quarter, plot_vars, [200, 3000, 8000, 0.5, 0.5], labels_dict, figsize=(10,3))"
      ],
      "metadata": {
        "colab": {
          "base_uri": "https://localhost:8080/",
          "height": 653
        },
        "id": "ElFwiHQ0F2WW",
        "outputId": "dd4ecff9-618a-4596-9532-2f39c8ae368b"
      },
      "execution_count": 20,
      "outputs": [
        {
          "output_type": "display_data",
          "data": {
            "image/png": "[encoded data removed]",
            "text/plain": [
              "<Figure size 1080x360 with 5 Axes>"
            ]
          },
          "metadata": {}
        },
        {
          "output_type": "display_data",
          "data": {
            "image/png": "[encoded data removed]",
            "text/plain": [
              "<Figure size 1000x300 with 5 Axes>"
            ]
          },
          "metadata": {}
        }
      ]
    },
    {
      "cell_type": "markdown",
      "source": [
        "## Part of Speech Tagging\n",
        "\n",
        "The process of classifying words into their parts of speech and labeling them accordingly is known as part-of-speech tagging, POS-tagging, or simply tagging. Parts of speech are also known as word classes or lexical categories. The collection of tags used for a particular task is known as a tagset. Our emphasis in the next section is on exploiting tags, and tagging text automatically.\n",
        "\n",
        "Tag Meaning English Examples:\n",
        "\n",
        "*   ADJ, adjective: new, good, high, special, big, local\n",
        "*   ADP,adposition: on, of, at, with, by, into, under\n",
        "*   ADV, adverb: really, already, still, early, now\n",
        "*   CONJ, conjunction: and, or, but, if, while, although\n",
        "*   DET, determiner or article: the, a, some, most, every, no, which\n",
        "*   NOUN, noun: year, home, costs, time, Africa\n",
        "*   NUM,numeral: twenty-four, fourth, 1991, 14:24\n",
        "*   PRT, particle: at, on, out, over per, that, up, with\n",
        "*   PRON, pronoun: he, their, her, its, my, I, us\n",
        "*   VERB, verb: is, say, told, given, playing, would\n",
        "*   ., punctuation marks: . , ; !\n",
        "*   X, othe: ersatz, esprit, dunno, gr8,"
      ],
      "metadata": {
        "id": "XyMmAmj6QvEH"
      }
    },
    {
      "cell_type": "code",
      "source": [
        "def get_pos_tags(sentences, tagset='universal'):\n",
        "\n",
        "    #Create the Dataframe to store the count of tags\n",
        "    df = pd.DataFrame(columns=['ADJ','ADP','ADV','CONJ','DET','NOUN','NUM','PRT','PRON','VERB','.','X'])\n",
        "    for sent in sentences:\n",
        "        # Extract the part of Speech tags in the sentence\n",
        "        pos_tags = Counter([j for i,j in nltk.pos_tag(word_tokenize(sent), tagset='universal')])\n",
        "        #Appends the pos tags to the dataframe, fill NaN values with 0\n",
        "        df = df.append(pos_tags, ignore_index=True).fillna(0)\n",
        "\n",
        "    return df.astype(int)"
      ],
      "metadata": {
        "id": "JyIsR6TXRtag"
      },
      "execution_count": null,
      "outputs": []
    },
    {
      "cell_type": "code",
      "source": [
        "# Identify the taggings for the text variable\n",
        "news_text = data_subset['Transcript_clean'].values\n",
        "df_text = get_pos_tags(news_text)"
      ],
      "metadata": {
        "id": "JoPZdfxMRvxr"
      },
      "execution_count": null,
      "outputs": []
    },
    {
      "cell_type": "code",
      "source": [
        "# Select the columns to plot: those related to pos taggings\n",
        "plot_vars=np.array([['ADJ','ADP','ADV','CONJ','DET','NOUN']])\n",
        "# Plot a histograms of the variables \n",
        "plot_histograms(df_text, plot_vars, [100, 100, 50, 50, 100, 300], labels_dict, figsize=(15,5))"
      ],
      "metadata": {
        "id": "Lcc1Rvs8SPFf"
      },
      "execution_count": null,
      "outputs": []
    },
    {
      "cell_type": "markdown",
      "source": [
        "# Further Data Cleaning\n",
        "\n",
        "Contraction mapping, text cleaning function, stemming and lemmatizer. Additional use of regex to remove apostrophe and [^a-zA-Z\\s\\-] to remove any other remaining special characters - making the distinction for \"-\" to be replaced by space rather than blank. Remove stopwords and a manually created function to remove short words."
      ],
      "metadata": {
        "id": "YKCNpHb2hWxM"
      }
    },
    {
      "cell_type": "code",
      "source": [
        "contraction_mapping = {\"ain't\": \"is not\", \"aren't\": \"are not\",\"can't\": \"cannot\", \"'cause\": \"because\", \"could've\": \"could have\", \"couldn't\": \"could not\",\n",
        "                           \"didn't\": \"did not\",  \"doesn't\": \"does not\", \"don't\": \"do not\", \"hadn't\": \"had not\", \"hasn't\": \"has not\", \"haven't\": \"have not\",\n",
        "                           \"he'd\": \"he would\",\"he'll\": \"he will\", \"he's\": \"he is\", \"how'd\": \"how did\", \"how'd'y\": \"how do you\", \"how'll\": \"how will\", \"how's\": \"how is\",\n",
        "                           \"I'd\": \"I would\", \"I'd've\": \"I would have\", \"I'll\": \"I will\", \"I'll've\": \"I will have\",\"I'm\": \"I am\", \"I've\": \"I have\", \"i'd\": \"i would\",\n",
        "                           \"i'd've\": \"i would have\", \"i'll\": \"i will\",  \"i'll've\": \"i will have\",\"i'm\": \"i am\", \"i've\": \"i have\", \"isn't\": \"is not\", \"it'd\": \"it would\",\n",
        "                           \"it'd've\": \"it would have\", \"it'll\": \"it will\", \"it'll've\": \"it will have\",\"it's\": \"it is\", \"let's\": \"let us\", \"ma'am\": \"madam\",\n",
        "                           \"mayn't\": \"may not\", \"might've\": \"might have\",\"mightn't\": \"might not\",\"mightn't've\": \"might not have\", \"must've\": \"must have\",\n",
        "                           \"mustn't\": \"must not\", \"mustn't've\": \"must not have\", \"needn't\": \"need not\", \"needn't've\": \"need not have\",\"o'clock\": \"of the clock\",\n",
        "                           \"oughtn't\": \"ought not\", \"oughtn't've\": \"ought not have\", \"shan't\": \"shall not\", \"sha'n't\": \"shall not\", \"shan't've\": \"shall not have\",\n",
        "                           \"she'd\": \"she would\", \"she'd've\": \"she would have\", \"she'll\": \"she will\", \"she'll've\": \"she will have\", \"she's\": \"she is\",\n",
        "                           \"should've\": \"should have\", \"shouldn't\": \"should not\", \"shouldn't've\": \"should not have\", \"so've\": \"so have\",\"so's\": \"so as\",\n",
        "                           \"this's\": \"this is\",\"that'd\": \"that would\", \"that'd've\": \"that would have\", \"that's\": \"that is\", \"there'd\": \"there would\",\n",
        "                           \"there'd've\": \"there would have\", \"there's\": \"there is\", \"here's\": \"here is\",\"they'd\": \"they would\", \"they'd've\": \"they would have\",\n",
        "                           \"they'll\": \"they will\", \"they'll've\": \"they will have\", \"they're\": \"they are\", \"they've\": \"they have\", \"to've\": \"to have\",\n",
        "                           \"wasn't\": \"was not\", \"we'd\": \"we would\", \"we'd've\": \"we would have\", \"we'll\": \"we will\", \"we'll've\": \"we will have\", \"we're\": \"we are\",\n",
        "                           \"we've\": \"we have\", \"weren't\": \"were not\", \"what'll\": \"what will\", \"what'll've\": \"what will have\", \"what're\": \"what are\",\n",
        "                           \"what's\": \"what is\", \"what've\": \"what have\", \"when's\": \"when is\", \"when've\": \"when have\", \"where'd\": \"where did\", \"where's\": \"where is\",\n",
        "                           \"where've\": \"where have\", \"who'll\": \"who will\", \"who'll've\": \"who will have\", \"who's\": \"who is\", \"who've\": \"who have\",\n",
        "                           \"why's\": \"why is\", \"why've\": \"why have\", \"will've\": \"will have\", \"won't\": \"will not\", \"won't've\": \"will not have\",\n",
        "                           \"would've\": \"would have\", \"wouldn't\": \"would not\", \"wouldn't've\": \"would not have\", \"y'all\": \"you all\",\n",
        "                           \"y'all'd\": \"you all would\",\"y'all'd've\": \"you all would have\",\"y'all're\": \"you all are\",\"y'all've\": \"you all have\",\n",
        "                           \"you'd\": \"you would\", \"you'd've\": \"you would have\", \"you'll\": \"you will\", \"you'll've\": \"you will have\",\n",
        "                           \"you're\": \"you are\", \"you've\": \"you have\"}"
      ],
      "metadata": {
        "id": "vq2q2TLphEkD"
      },
      "execution_count": 21,
      "outputs": []
    },
    {
      "cell_type": "code",
      "source": [
        "def text_cleaner(text):\n",
        "    newString = text.lower()\n",
        "    newString = re.sub('\"', '', newString)\n",
        "    newString = re.sub(r'\\([^)]*\\)', '', newString)\n",
        "    newString = ' '.join([contraction_mapping[t] if t in contraction_mapping else t for t in newString.split(' ')])\n",
        "    newString = re.sub(r\"’s\\b\", \"\", newString)\n",
        "    newString = re.sub('[^a-zA-Z\\s\\-]', '', newString)\n",
        "    newString = re.sub('[^a-zA-Z\\s]', ' ', newString)\n",
        "    tokens = [w for w in newString.split() if w not in stopwords]\n",
        "    long_words = []\n",
        "    prev_word = []\n",
        "    for i in tokens:\n",
        "        if i not in prev_word and len(i) >= 3:  # removing short word\n",
        "            long_words.append(i)\n",
        "            prev_word = [i]\n",
        "    return (\" \".join(long_words)).strip()"
      ],
      "metadata": {
        "id": "dZVDWZYsfxx0"
      },
      "execution_count": 22,
      "outputs": []
    },
    {
      "cell_type": "code",
      "source": [
        "def simple_stemmer(text):\n",
        "    ps = nltk.porter.PorterStemmer()\n",
        "    text = ' '.join([ps.stem(word) for word in text.split()])\n",
        "    return text\n",
        "\n",
        "def lemmatize_text(text):\n",
        "    text = nlp(text)\n",
        "    text = ' '.join([word.lemma_ if word.lemma_ != '-PRON-' else word.text for word in text])\n",
        "    return text"
      ],
      "metadata": {
        "id": "LSNsCtbzhT4N"
      },
      "execution_count": 23,
      "outputs": []
    },
    {
      "cell_type": "markdown",
      "source": [
        "# Wordcloud and Topic Analysis"
      ],
      "metadata": {
        "id": "nshoLl4DXUm8"
      }
    },
    {
      "cell_type": "code",
      "source": [
        "def plot_wordcloud(q):\n",
        "    per_quarter = data_subset[data_subset['date'] == quarters[q]]\n",
        "    cleaned_text = per_quarter['Transcript_clean'].apply(lambda x : text_cleaner(x))\n",
        "    # Join the different processed texts together.\n",
        "    long_string = ','.join(list(cleaned_text.values))\n",
        "    # Create a WordCloud object\n",
        "    wordcloud = WordCloud(background_color=\"white\", max_words=1000, contour_width=3, contour_color='steelblue')\n",
        "    # Generate a word cloud\n",
        "    wordcloud.generate(long_string)\n",
        "    # Visualize the word cloud\n",
        "    return wordcloud.to_image()"
      ],
      "metadata": {
        "id": "MHP5pu6Qi-9-"
      },
      "execution_count": 24,
      "outputs": []
    },
    {
      "cell_type": "code",
      "source": [
        "plot_wordcloud(4)"
      ],
      "metadata": {
        "colab": {
          "base_uri": "https://localhost:8080/",
          "height": 217
        },
        "id": "yqxRpVLMjbtg",
        "outputId": "a7eea516-e672-4368-fd21-10f33ec3143d"
      },
      "execution_count": 25,
      "outputs": [
        {
          "output_type": "execute_result",
          "data": {
            "image/png": "[encoded data removed]",
            "text/plain": [
              "<PIL.Image.Image image mode=RGB size=400x200 at 0x7FAC6D813D50>"
            ]
          },
          "metadata": {},
          "execution_count": 25
        }
      ]
    },
    {
      "cell_type": "code",
      "source": [
        "topic_list = [\"apac\", \"emea\", \"america\", \"usa\", \"south america\", \"middle east\", \"europe\", \"china\", \"africa\", \"oceania\", \"737max\", \"max\"]"
      ],
      "metadata": {
        "id": "FGBEzDdSvwUx"
      },
      "execution_count": 31,
      "outputs": []
    },
    {
      "cell_type": "code",
      "source": [
        "import spacy\n",
        "nlp = spacy.load(\"en_core_web_sm\")"
      ],
      "metadata": {
        "id": "WvPkWWcIjOny"
      },
      "execution_count": 27,
      "outputs": []
    },
    {
      "cell_type": "code",
      "source": [
        "def topic(content_list):\n",
        "      mentioned_topics = []\n",
        "      main_topics = []\n",
        "      temp_list = []\n",
        "\n",
        "      for word in word_tokenize(content_list):\n",
        "        for topic in topic_list:\n",
        "          if word == topic:\n",
        "            temp_list.append(topic)\n",
        "\n",
        "      counted_topics = dict(Counter(temp_list))\n",
        "      temp_dict = dict.fromkeys(temp_list, 0)\n",
        "      temp_list = list(temp_dict)\n",
        "      mentioned_topics.append(temp_list)\n",
        "\n",
        "      keywords = []\n",
        "      for key in counted_topics.keys():\n",
        "        if counted_topics[key] > np.mean(list(counted_topics.values())):\n",
        "          keywords.append(key)\n",
        "      if len(keywords) != 0:\n",
        "        main_topics.append(keywords)\n",
        "      else:\n",
        "        main_topics.append(temp_list)\n",
        "    \n",
        "      return mentioned_topics"
      ],
      "metadata": {
        "id": "-EK71z0Rm6HH"
      },
      "execution_count": 26,
      "outputs": []
    },
    {
      "cell_type": "code",
      "source": [
        "def get_people(content_list):\n",
        "      final_names = []\n",
        "      temp_list = []\n",
        "\n",
        "      text = content_list\n",
        "      doc = nlp(text)\n",
        "      persons = [X.text for X in doc.ents if X.label_ == 'PERSON']\n",
        "      persons_dict = dict.fromkeys(persons, 0)\n",
        "      persons = list(persons_dict)\n",
        "\n",
        "      full_names = []\n",
        "      for person in persons: \n",
        "        if len(word_tokenize(person)) >= 2:\n",
        "          string_name = re.sub(r\"[^a-zA-Z0-9]+\", ' ', person).strip()\n",
        "          full_names.append(string_name)\n",
        "    \n",
        "      for person in persons:\n",
        "        for name in full_names:\n",
        "          tokens = word_tokenize(name)\n",
        "          for n in range(len(tokens)):\n",
        "            if person == tokens[n]:\n",
        "              final_names.append(name)\n",
        "\n",
        "      for name in full_names:\n",
        "        final_names.append(name)\n",
        "\n",
        "      return final_names"
      ],
      "metadata": {
        "id": "QOKmaM2gy0Q8"
      },
      "execution_count": 28,
      "outputs": []
    },
    {
      "cell_type": "code",
      "source": [
        "data_subset = data_subset.groupby(['date'])['Transcript_clean'].apply(' '.join).reset_index()\n",
        "data_subset['Transcript_clean'] = data_subset['Transcript_clean'].apply(lambda x : text_cleaner(x))\n",
        "data_subset['topic'] = data_subset['Transcript_clean'].apply(lambda x : topic(x))\n",
        "data_subset['names'] = data_subset['Transcript_clean'].apply(lambda x : get_people(x))"
      ],
      "metadata": {
        "id": "cIUyS2j4R54E"
      },
      "execution_count": 32,
      "outputs": []
    },
    {
      "cell_type": "code",
      "source": [
        "data_subset"
      ],
      "metadata": {
        "colab": {
          "base_uri": "https://localhost:8080/",
          "height": 501
        },
        "id": "Zb6QpbUzl_a8",
        "outputId": "ca8e491c-b52a-49bf-e13e-ee7a44b8cbea"
      },
      "execution_count": 33,
      "outputs": [
        {
          "output_type": "execute_result",
          "data": {
            "text/html": [
              "\n",
              "  <div id=\"df-962158a3-2501-4ae2-bbcf-ddecc5985223\">\n",
              "    <div class=\"colab-df-container\">\n",
              "      <div>\n",
              "<style scoped>\n",
              "    .dataframe tbody tr th:only-of-type {\n",
              "        vertical-align: middle;\n",
              "    }\n",
              "\n",
              "    .dataframe tbody tr th {\n",
              "        vertical-align: top;\n",
              "    }\n",
              "\n",
              "    .dataframe thead th {\n",
              "        text-align: right;\n",
              "    }\n",
              "</style>\n",
              "<table border=\"1\" class=\"dataframe\">\n",
              "  <thead>\n",
              "    <tr style=\"text-align: right;\">\n",
              "      <th></th>\n",
              "      <th>date</th>\n",
              "      <th>Transcript_clean</th>\n",
              "      <th>topic</th>\n",
              "      <th>names</th>\n",
              "    </tr>\n",
              "  </thead>\n",
              "  <tbody>\n",
              "    <tr>\n",
              "      <th>0</th>\n",
              "      <td>2018-04-23</td>\n",
              "      <td>thanks matt good morning everyone important ti...</td>\n",
              "      <td>[[america]]</td>\n",
              "      <td>[andrew discuss, andrew good morning, jamie an...</td>\n",
              "    </tr>\n",
              "    <tr>\n",
              "      <th>1</th>\n",
              "      <td>2018-07-26</td>\n",
              "      <td>thanks amber good morning everyone thank joini...</td>\n",
              "      <td>[[america]]</td>\n",
              "      <td>[brad good morning, mike brad, cfo brandon, an...</td>\n",
              "    </tr>\n",
              "    <tr>\n",
              "      <th>2</th>\n",
              "      <td>2019-01-24</td>\n",
              "      <td>thanks sia good afternoon everyone thank joini...</td>\n",
              "      <td>[[america]]</td>\n",
              "      <td>[andrew harrison, andrew brandon, andrew chanc...</td>\n",
              "    </tr>\n",
              "    <tr>\n",
              "      <th>3</th>\n",
              "      <td>2019-04-25</td>\n",
              "      <td>thanks catherine good afternoon thank joining ...</td>\n",
              "      <td>[[america, max]]</td>\n",
              "      <td>[brad tilden, echo brad, kevin brad, coo ben m...</td>\n",
              "    </tr>\n",
              "    <tr>\n",
              "      <th>4</th>\n",
              "      <td>2019-04-26</td>\n",
              "      <td>good morning everyone welcome american airline...</td>\n",
              "      <td>[[max, china, america]]</td>\n",
              "      <td>[max recertified, max answer, robert isom, may...</td>\n",
              "    </tr>\n",
              "    <tr>\n",
              "      <th>5</th>\n",
              "      <td>2019-07-25</td>\n",
              "      <td>good morning everyone welcome american airline...</td>\n",
              "      <td>[[max, europe, china, america]]</td>\n",
              "      <td>[dan mckenzie, dan shane, robert isom, dallas ...</td>\n",
              "    </tr>\n",
              "    <tr>\n",
              "      <th>6</th>\n",
              "      <td>2019-10-24</td>\n",
              "      <td>thank good morning everyone welcome american a...</td>\n",
              "      <td>[[max, america, china]]</td>\n",
              "      <td>[dan shane, max grounding, max aircraft, charl...</td>\n",
              "    </tr>\n",
              "    <tr>\n",
              "      <th>7</th>\n",
              "      <td>2020-01-23</td>\n",
              "      <td>good morning everybody welcome american airlin...</td>\n",
              "      <td>[[max, america, europe, africa, china]]</td>\n",
              "      <td>[doug parker, robert isom, robert follow, robe...</td>\n",
              "    </tr>\n",
              "    <tr>\n",
              "      <th>8</th>\n",
              "      <td>2020-04-30</td>\n",
              "      <td>thanks cindy good morning everyone welcome ame...</td>\n",
              "      <td>[[europe, america, china]]</td>\n",
              "      <td>[doug parker, david doug, jamie doug, mary sch...</td>\n",
              "    </tr>\n",
              "    <tr>\n",
              "      <th>9</th>\n",
              "      <td>2020-07-23</td>\n",
              "      <td>thanks sarah good morning everyone welcome ame...</td>\n",
              "      <td>[[america, europe, africa]]</td>\n",
              "      <td>[doug parker, doug good morning, david seymour...</td>\n",
              "    </tr>\n",
              "    <tr>\n",
              "      <th>10</th>\n",
              "      <td>2020-10-22</td>\n",
              "      <td>thanks operator good morning everyone welcome ...</td>\n",
              "      <td>[[america, usa, europe]]</td>\n",
              "      <td>[robert isom, robert remarks, robert derek, ro...</td>\n",
              "    </tr>\n",
              "    <tr>\n",
              "      <th>11</th>\n",
              "      <td>2021-01-28</td>\n",
              "      <td>thanks victor good morning everyone welcome am...</td>\n",
              "      <td>[[max, america, europe]]</td>\n",
              "      <td>[max aircraft, aircraft max, allocations max, ...</td>\n",
              "    </tr>\n",
              "    <tr>\n",
              "      <th>12</th>\n",
              "      <td>2021-04-22</td>\n",
              "      <td>thanks crystal good morning everyone welcome a...</td>\n",
              "      <td>[[america, max, europe]]</td>\n",
              "      <td>[dan mckenzie, max aircraft, joe always, charl...</td>\n",
              "    </tr>\n",
              "  </tbody>\n",
              "</table>\n",
              "</div>\n",
              "      <button class=\"colab-df-convert\" onclick=\"convertToInteractive('df-962158a3-2501-4ae2-bbcf-ddecc5985223')\"\n",
              "              title=\"Convert this dataframe to an interactive table.\"\n",
              "              style=\"display:none;\">\n",
              "        \n",
              "  <svg xmlns=\"http://www.w3.org/2000/svg\" height=\"24px\"viewBox=\"0 0 24 24\"\n",
              "       width=\"24px\">\n",
              "    <path d=\"M0 0h24v24H0V0z\" fill=\"none\"/>\n",
              "    <path d=\"M18.56 5.44l.94 2.06.94-2.06 2.06-.94-2.06-.94-.94-2.06-.94 2.06-2.06.94zm-11 1L8.5 8.5l.94-2.06 2.06-.94-2.06-.94L8.5 2.5l-.94 2.06-2.06.94zm10 10l.94 2.06.94-2.06 2.06-.94-2.06-.94-.94-2.06-.94 2.06-2.06.94z\"/><path d=\"M17.41 7.96l-1.37-1.37c-.4-.4-.92-.59-1.43-.59-.52 0-1.04.2-1.43.59L10.3 9.45l-7.72 7.72c-.78.78-.78 2.05 0 2.83L4 21.41c.39.39.9.59 1.41.59.51 0 1.02-.2 1.41-.59l7.78-7.78 2.81-2.81c.8-.78.8-2.07 0-2.86zM5.41 20L4 18.59l7.72-7.72 1.47 1.35L5.41 20z\"/>\n",
              "  </svg>\n",
              "      </button>\n",
              "      \n",
              "  <style>\n",
              "    .colab-df-container {\n",
              "      display:flex;\n",
              "      flex-wrap:wrap;\n",
              "      gap: 12px;\n",
              "    }\n",
              "\n",
              "    .colab-df-convert {\n",
              "      background-color: #E8F0FE;\n",
              "      border: none;\n",
              "      border-radius: 50%;\n",
              "      cursor: pointer;\n",
              "      display: none;\n",
              "      fill: #1967D2;\n",
              "      height: 32px;\n",
              "      padding: 0 0 0 0;\n",
              "      width: 32px;\n",
              "    }\n",
              "\n",
              "    .colab-df-convert:hover {\n",
              "      background-color: #E2EBFA;\n",
              "      box-shadow: 0px 1px 2px rgba(60, 64, 67, 0.3), 0px 1px 3px 1px rgba(60, 64, 67, 0.15);\n",
              "      fill: #174EA6;\n",
              "    }\n",
              "\n",
              "    [theme=dark] .colab-df-convert {\n",
              "      background-color: #3B4455;\n",
              "      fill: #D2E3FC;\n",
              "    }\n",
              "\n",
              "    [theme=dark] .colab-df-convert:hover {\n",
              "      background-color: #434B5C;\n",
              "      box-shadow: 0px 1px 3px 1px rgba(0, 0, 0, 0.15);\n",
              "      filter: drop-shadow(0px 1px 2px rgba(0, 0, 0, 0.3));\n",
              "      fill: #FFFFFF;\n",
              "    }\n",
              "  </style>\n",
              "\n",
              "      <script>\n",
              "        const buttonEl =\n",
              "          document.querySelector('#df-962158a3-2501-4ae2-bbcf-ddecc5985223 button.colab-df-convert');\n",
              "        buttonEl.style.display =\n",
              "          google.colab.kernel.accessAllowed ? 'block' : 'none';\n",
              "\n",
              "        async function convertToInteractive(key) {\n",
              "          const element = document.querySelector('#df-962158a3-2501-4ae2-bbcf-ddecc5985223');\n",
              "          const dataTable =\n",
              "            await google.colab.kernel.invokeFunction('convertToInteractive',\n",
              "                                                     [key], {});\n",
              "          if (!dataTable) return;\n",
              "\n",
              "          const docLinkHtml = 'Like what you see? Visit the ' +\n",
              "            '<a target=\"_blank\" href=https://colab.research.google.com/notebooks/data_table.ipynb>data table notebook</a>'\n",
              "            + ' to learn more about interactive tables.';\n",
              "          element.innerHTML = '';\n",
              "          dataTable['output_type'] = 'display_data';\n",
              "          await google.colab.output.renderOutput(dataTable, element);\n",
              "          const docLink = document.createElement('div');\n",
              "          docLink.innerHTML = docLinkHtml;\n",
              "          element.appendChild(docLink);\n",
              "        }\n",
              "      </script>\n",
              "    </div>\n",
              "  </div>\n",
              "  "
            ],
            "text/plain": [
              "         date  ...                                              names\n",
              "0  2018-04-23  ...  [andrew discuss, andrew good morning, jamie an...\n",
              "1  2018-07-26  ...  [brad good morning, mike brad, cfo brandon, an...\n",
              "2  2019-01-24  ...  [andrew harrison, andrew brandon, andrew chanc...\n",
              "3  2019-04-25  ...  [brad tilden, echo brad, kevin brad, coo ben m...\n",
              "4  2019-04-26  ...  [max recertified, max answer, robert isom, may...\n",
              "5  2019-07-25  ...  [dan mckenzie, dan shane, robert isom, dallas ...\n",
              "6  2019-10-24  ...  [dan shane, max grounding, max aircraft, charl...\n",
              "7  2020-01-23  ...  [doug parker, robert isom, robert follow, robe...\n",
              "8  2020-04-30  ...  [doug parker, david doug, jamie doug, mary sch...\n",
              "9  2020-07-23  ...  [doug parker, doug good morning, david seymour...\n",
              "10 2020-10-22  ...  [robert isom, robert remarks, robert derek, ro...\n",
              "11 2021-01-28  ...  [max aircraft, aircraft max, allocations max, ...\n",
              "12 2021-04-22  ...  [dan mckenzie, max aircraft, joe always, charl...\n",
              "\n",
              "[13 rows x 4 columns]"
            ]
          },
          "metadata": {},
          "execution_count": 33
        }
      ]
    },
    {
      "cell_type": "code",
      "source": [
        "from sklearn.feature_extraction.text import CountVectorizer\n",
        "from sklearn.feature_extraction.text import TfidfTransformer\n",
        "from sklearn.cluster import MiniBatchKMeans\n",
        "from sklearn.feature_extraction.text import TfidfVectorizer"
      ],
      "metadata": {
        "id": "jPJcnG-lO2Ab"
      },
      "execution_count": 34,
      "outputs": []
    },
    {
      "cell_type": "code",
      "source": [
        "#This function maps matrices to coordinates. The TF-IDF function maps \n",
        "#Frequency scores to matrices, which then need to be sorted to help us find our keywords. \n",
        "\n",
        "def sort_coo(coo_matrix):\n",
        "    tuples = zip(coo_matrix.col, coo_matrix.data)\n",
        "    return sorted(tuples, key=lambda x: (x[1], x[0]), reverse=True)"
      ],
      "metadata": {
        "id": "qYcnaxqc6zWP"
      },
      "execution_count": 35,
      "outputs": []
    },
    {
      "cell_type": "code",
      "source": [
        "#As with above, this is a helper function that will assist in the sorting and\n",
        "#selection of keywords once the frequencies have been mapped to matrices. \n",
        "#This function specifically helps us to choose the most relevant keywords, \n",
        "#based on TF-IDF statistics\n",
        "\n",
        "def extract_topn_from_vector(feature_names, sorted_items, topn=10):\n",
        "    sorted_items = sorted_items[:topn]\n",
        "    score_vals = []\n",
        "    feature_vals = []\n",
        "\n",
        "    for idx, score in sorted_items:\n",
        "        fname = feature_names[idx]\n",
        "        score_vals.append(round(score, 3))\n",
        "        feature_vals.append(feature_names[idx])\n",
        "\n",
        "    results = {}\n",
        "    for idx in range(len(feature_vals)):\n",
        "        results[feature_vals[idx]]=score_vals[idx]\n",
        "    return results"
      ],
      "metadata": {
        "id": "5tRQpmQZ6z0G"
      },
      "execution_count": 36,
      "outputs": []
    },
    {
      "cell_type": "code",
      "source": [
        "def get_keywords(content_list):\n",
        "  keywords = []\n",
        "\n",
        "  # stop_words = set(stopwords.words('english'))\n",
        "  cv = CountVectorizer(max_df = 0.85)\n",
        "  word_count_vector = cv.fit_transform(content_list)\n",
        "\n",
        "  tfidf_transformer = TfidfTransformer(smooth_idf=True,use_idf=True)\n",
        "  tfidf_transformer.fit(word_count_vector)\n",
        "\n",
        "  feature_names = cv.get_feature_names()\n",
        "\n",
        "  for i in range(len(content_list)):\n",
        "    doc = content_list[i]\n",
        "    tf_idf_vector = tfidf_transformer.transform(cv.transform([doc]))\n",
        "    sorted_items = sort_coo(tf_idf_vector.tocoo())\n",
        "    keys = extract_topn_from_vector(feature_names,sorted_items,10)\n",
        "    keywords.append(list(keys.keys()))\n",
        "  \n",
        "  return keywords"
      ],
      "metadata": {
        "id": "sX87t22263gg"
      },
      "execution_count": 37,
      "outputs": []
    },
    {
      "cell_type": "code",
      "source": [
        "data_subset = data_subset.dropna(axis=1)"
      ],
      "metadata": {
        "id": "ZwA6R9EI8u4N"
      },
      "execution_count": 38,
      "outputs": []
    },
    {
      "cell_type": "code",
      "source": [
        "data_subset = pd.concat([data_subset, pd.Series(get_keywords(data_subset['Transcript_clean'].tolist()))], axis = 1)"
      ],
      "metadata": {
        "id": "yEaeysS34Ju0"
      },
      "execution_count": 39,
      "outputs": []
    },
    {
      "cell_type": "code",
      "source": [
        "data_subset"
      ],
      "metadata": {
        "colab": {
          "base_uri": "https://localhost:8080/",
          "height": 726
        },
        "id": "mbV7UyUkbbw-",
        "outputId": "2446b267-1351-4e2c-b959-61c2d3ea2961"
      },
      "execution_count": 40,
      "outputs": [
        {
          "output_type": "execute_result",
          "data": {
            "text/html": [
              "\n",
              "  <div id=\"df-f9bf7a04-eeec-4b0b-a95c-c58e271e9e40\">\n",
              "    <div class=\"colab-df-container\">\n",
              "      <div>\n",
              "<style scoped>\n",
              "    .dataframe tbody tr th:only-of-type {\n",
              "        vertical-align: middle;\n",
              "    }\n",
              "\n",
              "    .dataframe tbody tr th {\n",
              "        vertical-align: top;\n",
              "    }\n",
              "\n",
              "    .dataframe thead th {\n",
              "        text-align: right;\n",
              "    }\n",
              "</style>\n",
              "<table border=\"1\" class=\"dataframe\">\n",
              "  <thead>\n",
              "    <tr style=\"text-align: right;\">\n",
              "      <th></th>\n",
              "      <th>date</th>\n",
              "      <th>Transcript_clean</th>\n",
              "      <th>topic</th>\n",
              "      <th>names</th>\n",
              "      <th>0</th>\n",
              "    </tr>\n",
              "  </thead>\n",
              "  <tbody>\n",
              "    <tr>\n",
              "      <th>0</th>\n",
              "      <td>2018-04-23</td>\n",
              "      <td>thanks matt good morning everyone important ti...</td>\n",
              "      <td>[[america]]</td>\n",
              "      <td>[andrew discuss, andrew good morning, jamie an...</td>\n",
              "      <td>[pss, slots, merger, sort, alaska, loyalty, sy...</td>\n",
              "    </tr>\n",
              "    <tr>\n",
              "      <th>1</th>\n",
              "      <td>2018-07-26</td>\n",
              "      <td>thanks amber good morning everyone thank joini...</td>\n",
              "      <td>[[america]]</td>\n",
              "      <td>[brad good morning, mike brad, cfo brandon, an...</td>\n",
              "      <td>[integration, award, points, productivity, mer...</td>\n",
              "    </tr>\n",
              "    <tr>\n",
              "      <th>2</th>\n",
              "      <td>2019-01-24</td>\n",
              "      <td>thanks sia good afternoon everyone thank joini...</td>\n",
              "      <td>[[america]]</td>\n",
              "      <td>[andrew harrison, andrew brandon, andrew chanc...</td>\n",
              "      <td>[andrew, actually, sort, fares, employees, cla...</td>\n",
              "    </tr>\n",
              "    <tr>\n",
              "      <th>3</th>\n",
              "      <td>2019-04-25</td>\n",
              "      <td>thanks catherine good afternoon thank joining ...</td>\n",
              "      <td>[[america, max]]</td>\n",
              "      <td>[brad tilden, echo brad, kevin brad, coo ben m...</td>\n",
              "      <td>[california, productivity, guests, sort, prici...</td>\n",
              "    </tr>\n",
              "    <tr>\n",
              "      <th>4</th>\n",
              "      <td>2019-04-26</td>\n",
              "      <td>good morning everyone welcome american airline...</td>\n",
              "      <td>[[max, china, america]]</td>\n",
              "      <td>[max recertified, max answer, robert isom, may...</td>\n",
              "      <td>[max, august, faa, cancellations, airworthy, d...</td>\n",
              "    </tr>\n",
              "    <tr>\n",
              "      <th>5</th>\n",
              "      <td>2019-07-25</td>\n",
              "      <td>good morning everyone welcome american airline...</td>\n",
              "      <td>[[max, europe, china, america]]</td>\n",
              "      <td>[dan mckenzie, dan shane, robert isom, dallas ...</td>\n",
              "      <td>[actually, max, points, margin, improvement, o...</td>\n",
              "    </tr>\n",
              "    <tr>\n",
              "      <th>6</th>\n",
              "      <td>2019-10-24</td>\n",
              "      <td>thank good morning everyone welcome american a...</td>\n",
              "      <td>[[max, america, china]]</td>\n",
              "      <td>[dan shane, max grounding, max aircraft, charl...</td>\n",
              "      <td>[max, chicago, free, sort, margin, brandon, op...</td>\n",
              "    </tr>\n",
              "    <tr>\n",
              "      <th>7</th>\n",
              "      <td>2020-01-23</td>\n",
              "      <td>good morning everybody welcome american airlin...</td>\n",
              "      <td>[[max, america, europe, africa, china]]</td>\n",
              "      <td>[doug parker, robert isom, robert follow, robe...</td>\n",
              "      <td>[max, gap, settlement, margin, factor, shareho...</td>\n",
              "    </tr>\n",
              "    <tr>\n",
              "      <th>8</th>\n",
              "      <td>2020-04-30</td>\n",
              "      <td>thanks cindy good morning everyone welcome ame...</td>\n",
              "      <td>[[europe, america, china]]</td>\n",
              "      <td>[doug parker, david doug, jamie doug, mary sch...</td>\n",
              "      <td>[loan, liquidity, cares, masks, act, collatera...</td>\n",
              "    </tr>\n",
              "    <tr>\n",
              "      <th>9</th>\n",
              "      <td>2020-07-23</td>\n",
              "      <td>thanks sarah good morning everyone welcome ame...</td>\n",
              "      <td>[[america, europe, africa]]</td>\n",
              "      <td>[doug parker, doug good morning, david seymour...</td>\n",
              "      <td>[crisis, burn, york, liquidity, june, vasu, do...</td>\n",
              "    </tr>\n",
              "    <tr>\n",
              "      <th>10</th>\n",
              "      <td>2020-10-22</td>\n",
              "      <td>thanks operator good morning everyone welcome ...</td>\n",
              "      <td>[[america, usa, europe]]</td>\n",
              "      <td>[robert isom, robert remarks, robert derek, ro...</td>\n",
              "      <td>[burn, recovery, perspective, covid, liquidity...</td>\n",
              "    </tr>\n",
              "    <tr>\n",
              "      <th>11</th>\n",
              "      <td>2021-01-28</td>\n",
              "      <td>thanks victor good morning everyone welcome am...</td>\n",
              "      <td>[[max, america, europe]]</td>\n",
              "      <td>[max aircraft, aircraft max, allocations max, ...</td>\n",
              "      <td>[pandemic, international, testing, robert, rec...</td>\n",
              "    </tr>\n",
              "    <tr>\n",
              "      <th>12</th>\n",
              "      <td>2021-04-22</td>\n",
              "      <td>thanks crystal good morning everyone welcome a...</td>\n",
              "      <td>[[america, max, europe]]</td>\n",
              "      <td>[dan mckenzie, max aircraft, joe always, charl...</td>\n",
              "      <td>[pandemic, international, liquidity, robert, h...</td>\n",
              "    </tr>\n",
              "  </tbody>\n",
              "</table>\n",
              "</div>\n",
              "      <button class=\"colab-df-convert\" onclick=\"convertToInteractive('df-f9bf7a04-eeec-4b0b-a95c-c58e271e9e40')\"\n",
              "              title=\"Convert this dataframe to an interactive table.\"\n",
              "              style=\"display:none;\">\n",
              "        \n",
              "  <svg xmlns=\"http://www.w3.org/2000/svg\" height=\"24px\"viewBox=\"0 0 24 24\"\n",
              "       width=\"24px\">\n",
              "    <path d=\"M0 0h24v24H0V0z\" fill=\"none\"/>\n",
              "    <path d=\"M18.56 5.44l.94 2.06.94-2.06 2.06-.94-2.06-.94-.94-2.06-.94 2.06-2.06.94zm-11 1L8.5 8.5l.94-2.06 2.06-.94-2.06-.94L8.5 2.5l-.94 2.06-2.06.94zm10 10l.94 2.06.94-2.06 2.06-.94-2.06-.94-.94-2.06-.94 2.06-2.06.94z\"/><path d=\"M17.41 7.96l-1.37-1.37c-.4-.4-.92-.59-1.43-.59-.52 0-1.04.2-1.43.59L10.3 9.45l-7.72 7.72c-.78.78-.78 2.05 0 2.83L4 21.41c.39.39.9.59 1.41.59.51 0 1.02-.2 1.41-.59l7.78-7.78 2.81-2.81c.8-.78.8-2.07 0-2.86zM5.41 20L4 18.59l7.72-7.72 1.47 1.35L5.41 20z\"/>\n",
              "  </svg>\n",
              "      </button>\n",
              "      \n",
              "  <style>\n",
              "    .colab-df-container {\n",
              "      display:flex;\n",
              "      flex-wrap:wrap;\n",
              "      gap: 12px;\n",
              "    }\n",
              "\n",
              "    .colab-df-convert {\n",
              "      background-color: #E8F0FE;\n",
              "      border: none;\n",
              "      border-radius: 50%;\n",
              "      cursor: pointer;\n",
              "      display: none;\n",
              "      fill: #1967D2;\n",
              "      height: 32px;\n",
              "      padding: 0 0 0 0;\n",
              "      width: 32px;\n",
              "    }\n",
              "\n",
              "    .colab-df-convert:hover {\n",
              "      background-color: #E2EBFA;\n",
              "      box-shadow: 0px 1px 2px rgba(60, 64, 67, 0.3), 0px 1px 3px 1px rgba(60, 64, 67, 0.15);\n",
              "      fill: #174EA6;\n",
              "    }\n",
              "\n",
              "    [theme=dark] .colab-df-convert {\n",
              "      background-color: #3B4455;\n",
              "      fill: #D2E3FC;\n",
              "    }\n",
              "\n",
              "    [theme=dark] .colab-df-convert:hover {\n",
              "      background-color: #434B5C;\n",
              "      box-shadow: 0px 1px 3px 1px rgba(0, 0, 0, 0.15);\n",
              "      filter: drop-shadow(0px 1px 2px rgba(0, 0, 0, 0.3));\n",
              "      fill: #FFFFFF;\n",
              "    }\n",
              "  </style>\n",
              "\n",
              "      <script>\n",
              "        const buttonEl =\n",
              "          document.querySelector('#df-f9bf7a04-eeec-4b0b-a95c-c58e271e9e40 button.colab-df-convert');\n",
              "        buttonEl.style.display =\n",
              "          google.colab.kernel.accessAllowed ? 'block' : 'none';\n",
              "\n",
              "        async function convertToInteractive(key) {\n",
              "          const element = document.querySelector('#df-f9bf7a04-eeec-4b0b-a95c-c58e271e9e40');\n",
              "          const dataTable =\n",
              "            await google.colab.kernel.invokeFunction('convertToInteractive',\n",
              "                                                     [key], {});\n",
              "          if (!dataTable) return;\n",
              "\n",
              "          const docLinkHtml = 'Like what you see? Visit the ' +\n",
              "            '<a target=\"_blank\" href=https://colab.research.google.com/notebooks/data_table.ipynb>data table notebook</a>'\n",
              "            + ' to learn more about interactive tables.';\n",
              "          element.innerHTML = '';\n",
              "          dataTable['output_type'] = 'display_data';\n",
              "          await google.colab.output.renderOutput(dataTable, element);\n",
              "          const docLink = document.createElement('div');\n",
              "          docLink.innerHTML = docLinkHtml;\n",
              "          element.appendChild(docLink);\n",
              "        }\n",
              "      </script>\n",
              "    </div>\n",
              "  </div>\n",
              "  "
            ],
            "text/plain": [
              "         date  ...                                                  0\n",
              "0  2018-04-23  ...  [pss, slots, merger, sort, alaska, loyalty, sy...\n",
              "1  2018-07-26  ...  [integration, award, points, productivity, mer...\n",
              "2  2019-01-24  ...  [andrew, actually, sort, fares, employees, cla...\n",
              "3  2019-04-25  ...  [california, productivity, guests, sort, prici...\n",
              "4  2019-04-26  ...  [max, august, faa, cancellations, airworthy, d...\n",
              "5  2019-07-25  ...  [actually, max, points, margin, improvement, o...\n",
              "6  2019-10-24  ...  [max, chicago, free, sort, margin, brandon, op...\n",
              "7  2020-01-23  ...  [max, gap, settlement, margin, factor, shareho...\n",
              "8  2020-04-30  ...  [loan, liquidity, cares, masks, act, collatera...\n",
              "9  2020-07-23  ...  [crisis, burn, york, liquidity, june, vasu, do...\n",
              "10 2020-10-22  ...  [burn, recovery, perspective, covid, liquidity...\n",
              "11 2021-01-28  ...  [pandemic, international, testing, robert, rec...\n",
              "12 2021-04-22  ...  [pandemic, international, liquidity, robert, h...\n",
              "\n",
              "[13 rows x 5 columns]"
            ]
          },
          "metadata": {},
          "execution_count": 40
        }
      ]
    },
    {
      "cell_type": "code",
      "source": [
        "cluster_keywords = []\n",
        "cluster_number = []"
      ],
      "metadata": {
        "id": "LZLaywVK9l15"
      },
      "execution_count": 41,
      "outputs": []
    },
    {
      "cell_type": "code",
      "source": [
        "#This function checks the clustering algorithm against various 'k' parameters \n",
        "#to find the optimal value of 'k'. \n",
        "\n",
        "def find_optimal_clusters(data, max_k):\n",
        "    iters = range(2, max_k+1, 2)\n",
        "    \n",
        "    sse = []\n",
        "    for k in iters:\n",
        "        sse.append(MiniBatchKMeans(n_clusters=k, \n",
        "                                   init_size=1024, \n",
        "                                   batch_size=2048,\n",
        "                                   random_state=20).fit(data).inertia_)\n",
        "        \n",
        "        print('Fit {} clusters'.format(k))\n",
        "        \n",
        "    f, ax = plt.subplots(1, 1)\n",
        "    ax.plot(iters, sse, marker='o')\n",
        "    ax.set_xlabel('Cluster Centers')\n",
        "    ax.set_xticks(iters)\n",
        "    ax.set_xticklabels(iters)\n",
        "    ax.set_ylabel('SSE')\n",
        "    ax.set_title('SSE by Cluster Center Plot')"
      ],
      "metadata": {
        "id": "BUsOd_5zPPR6"
      },
      "execution_count": 42,
      "outputs": []
    },
    {
      "cell_type": "code",
      "source": [
        "#Getting keywords from content lists, \n",
        "#to help with categorizing topic clusters later\n",
        "\n",
        "def get_top_keywords(data, clusters, labels, n_terms):\n",
        "  df = pd.DataFrame(data.todense()).groupby(clusters).mean()\n",
        "  for i,r in df.iterrows():\n",
        "    cluster_keywords.append(','.join([labels[t] for t in np.argsort(r)[-n_terms:]]))"
      ],
      "metadata": {
        "id": "nAgbqFj5QEkN"
      },
      "execution_count": 43,
      "outputs": []
    },
    {
      "cell_type": "code",
      "source": [
        "#Applying clustering to content lists for topic modeling\n",
        "\n",
        "def themes(content_list):\n",
        "\n",
        "  cv = CountVectorizer(max_df = 0.85)\n",
        "  word_count_vector = cv.fit_transform(content_list)\n",
        "\n",
        "  tfidf_transformer = TfidfTransformer(smooth_idf=True,use_idf=True)\n",
        "  tfidf_transformer.fit(word_count_vector)\n",
        "\n",
        "  feature_names = cv.get_feature_names()\n",
        "  vector = tfidf_transformer.transform(cv.transform(content_list))\n",
        "\n",
        "  find_optimal_clusters(vector,5)\n",
        "\n",
        "  clusters = MiniBatchKMeans(n_clusters=5, init_size=1024, batch_size=2048, random_state=20).fit_predict(vector)\n",
        "  for cluster in clusters:\n",
        "    cluster_number.append(int(cluster))\n",
        "  \n",
        "  get_top_keywords(vector, clusters, cv.get_feature_names(), 20)"
      ],
      "metadata": {
        "id": "CkUOJOd49KvO"
      },
      "execution_count": 44,
      "outputs": []
    },
    {
      "cell_type": "code",
      "source": [
        "themes(data_subset['Transcript_clean'].tolist())"
      ],
      "metadata": {
        "colab": {
          "base_uri": "https://localhost:8080/",
          "height": 330
        },
        "id": "Z6HMeyuQ9tb2",
        "outputId": "ede8c4dd-c872-4a58-d30c-c1e6a38e2392"
      },
      "execution_count": 45,
      "outputs": [
        {
          "output_type": "stream",
          "name": "stdout",
          "text": [
            "Fit 2 clusters\n",
            "Fit 4 clusters\n"
          ]
        },
        {
          "output_type": "display_data",
          "data": {
            "image/png": "[encoded data removed]",
            "text/plain": [
              "<Figure size 432x288 with 1 Axes>"
            ]
          },
          "metadata": {}
        }
      ]
    },
    {
      "cell_type": "code",
      "source": [
        "cluster_keywords"
      ],
      "metadata": {
        "colab": {
          "base_uri": "https://localhost:8080/"
        },
        "id": "0HHgHRblbigC",
        "outputId": "981f1b77-0abb-4b6f-8d2a-0874427a83cb"
      },
      "execution_count": 46,
      "outputs": [
        {
          "output_type": "execute_result",
          "data": {
            "text/plain": [
              "['fare,afternoon,synergies,christmas,partners,brad,owners,alaska,adjusted,virgin,points,loyalty,integration,rasm,class,employees,fares,sort,actually,andrew',\n",
              " 'low,virgin,ben,pss,adjustments,synergies,pricing,shane,brandon,integration,alaska,points,guests,productivity,fares,merger,andrew,loyalty,california,sort',\n",
              " 'reliability,gap,pretax,operational,faa,record,domestic,items,improvement,derek,shareholders,points,grounding,factor,dfw,free,robert,actually,margin,max',\n",
              " 'haul,support,loan,york,jetblue,testing,psp,perspective,crisis,indeed,covid,vasu,doug,robert,derek,international,recovery,burn,liquidity,pandemic',\n",
              " 'tranche,outs,financing,reasonable,assets,treasury,grant,support,leaves,ato,crisis,doug,burn,derek,collateral,act,masks,cares,liquidity,loan']"
            ]
          },
          "metadata": {},
          "execution_count": 46
        }
      ]
    },
    {
      "cell_type": "code",
      "source": [
        "topic_dict={}\n",
        "\n",
        "for i in range(len(cluster_keywords)):\n",
        "  temp_list=[]\n",
        "  for n in nltk.word_tokenize(cluster_keywords[i]):\n",
        "    for item in cat_list:\n",
        "      if n in item:\n",
        "        temp_list.append(item[0])\n",
        "  \n",
        "  temp_dict=dict.fromkeys(temp_list,0)\n",
        "  temp_list=list(temp_dict)\n",
        "\n",
        "  topic_dict[i] = temp_list\n",
        "\n",
        "for num in cluster_number:\n",
        "  topic_categories.append(topic_dict[num])"
      ],
      "metadata": {
        "id": "KwAGf3e8b4QM"
      },
      "execution_count": null,
      "outputs": []
    },
    {
      "cell_type": "markdown",
      "source": [
        "**Breaking this down by whole sentences to analyse the contents, context and grammatical structure through PoS.**"
      ],
      "metadata": {
        "id": "3tu15x6qPg68"
      }
    },
    {
      "cell_type": "code",
      "source": [
        "def sentences(text):\n",
        "    # split sentences and questions\n",
        "    text = re.split('[.?]', text)\n",
        "    clean_sent = []\n",
        "    for sent in text:\n",
        "        clean_sent.append(sent)\n",
        "    return clean_sent"
      ],
      "metadata": {
        "id": "-bl54mezPS4F"
      },
      "execution_count": null,
      "outputs": []
    },
    {
      "cell_type": "code",
      "source": [
        "# sentences\n",
        "data_subset['sent'] = data_subset['Transcript_clean'].apply(sentences)\n",
        "\n",
        "# create a dataframe containing sentences\n",
        "df2 = pd.DataFrame(columns=['Sent', 'Year', 'Len'])"
      ],
      "metadata": {
        "id": "yYYEYchfPfad"
      },
      "execution_count": null,
      "outputs": []
    },
    {
      "cell_type": "code",
      "source": [
        "row_list = []\n",
        "\n",
        "for i in range(len(data_subset)):\n",
        "    for sent in data_subset.loc[i, 'sent']:\n",
        "        wordcount = len(sent.split())\n",
        "        year = data_subset.loc[i, 'year']\n",
        "\n",
        "        dict1 = {'Year': year, 'Sent': sent, 'Len': wordcount}\n",
        "        row_list.append(dict1)\n",
        "\n",
        "df2 = pd.DataFrame(row_list)\n",
        "print(df2.head(10))"
      ],
      "metadata": {
        "id": "pKWv0OpfPrJq"
      },
      "execution_count": null,
      "outputs": []
    },
    {
      "cell_type": "code",
      "source": [
        "import spacy\n",
        "from spacy.matcher import Matcher\n",
        "from spacy import displacy\n",
        "# import visualise_spacy_tree\n",
        "from IPython.display import Image, display\n",
        "# load english language model\n",
        "nlp = spacy.load('en_core_web_sm', disable=['ner', 'textcat'])"
      ],
      "metadata": {
        "id": "X4Dv1Pp4Ptsy"
      },
      "execution_count": null,
      "outputs": []
    },
    {
      "cell_type": "markdown",
      "source": [
        "**Information Extraction – Finding Keywords and using Dependencies**\n",
        "SpaCy’s Matcher class. It allows us to match a sequence of words based on certain patterns and using regex to find sentences that only contain keywords"
      ],
      "metadata": {
        "id": "lKO4iT46PyF8"
      }
    },
    {
      "cell_type": "code",
      "source": [
        "def prog_sent(text):\n",
        "    patterns = [r'\\b(?i)' + 'coronavirus' + r'\\b',\n",
        "                r'\\b(?i)' + 'Covid-19' + r'\\b',\n",
        "                r'\\b(?i)' + 'lockdown' + r'\\b',\n",
        "                r'\\b(?i)' + 'vaccine' + r'\\b', ]\n",
        "\n",
        "    output = []\n",
        "    flag = 0\n",
        "    for pat in patterns:\n",
        "        if re.search(pat, text) != None:\n",
        "            flag = 1\n",
        "            break\n",
        "    return flag"
      ],
      "metadata": {
        "id": "T_kMloCWPv4X"
      },
      "execution_count": null,
      "outputs": []
    },
    {
      "cell_type": "code",
      "source": [
        "def all_schemes(text, check):\n",
        "    schemes = []\n",
        "\n",
        "    doc = nlp(text)\n",
        "\n",
        "    # initiatives\n",
        "    prog_list = ['coronavirus', 'Covid-19',\n",
        "                 'lockdown', 'vaccine']\n",
        "\n",
        "    # pattern to match initiatives names\n",
        "    pattern = [{'POS': 'DET'},\n",
        "               {'POS': 'PROPN', 'DEP': 'compound'},\n",
        "               {'POS': 'PROPN', 'DEP': 'compound'},\n",
        "               {'POS': 'PROPN', 'OP': '?'},\n",
        "               {'POS': 'PROPN', 'OP': '?'},\n",
        "               {'POS': 'PR OPN', 'OP': '?'},\n",
        "               {'LOWER': {'IN': prog_list}, 'OP': '+'}\n",
        "               ]\n",
        "\n",
        "    if check == 0:\n",
        "        # return blank list\n",
        "        return schemes\n",
        "\n",
        "    # Matcher class object\n",
        "    matcher = Matcher(nlp.vocab)\n",
        "    matcher.add(\"matching\", [pattern])\n",
        "    matches = matcher(doc)\n",
        "\n",
        "    for i in range(0, len(matches)):\n",
        "\n",
        "        # match: id, start, end\n",
        "        start, end = matches[i][1], matches[i][2]\n",
        "\n",
        "        if doc[start].pos_ == 'DET':\n",
        "            start = start + 1\n",
        "\n",
        "        # matched string\n",
        "        span = str(doc[start:end])\n",
        "\n",
        "        if (len(schemes) != 0) and (schemes[-1] in span):\n",
        "            schemes[-1] = span\n",
        "        else:\n",
        "            schemes.append(span)\n",
        "\n",
        "    return schemes"
      ],
      "metadata": {
        "id": "24KklpQ7QB5r"
      },
      "execution_count": null,
      "outputs": []
    },
    {
      "cell_type": "code",
      "source": [
        "def sent_subtree(text):\n",
        "    # pattern match for schemes or initiatives\n",
        "    patterns = [r'\\b(?i)' + 'coronavirus' + r'\\b',\n",
        "                r'\\b(?i)' + 'Covid-19' + r'\\b',\n",
        "                r'\\b(?i)' + 'lockdown' + r'\\b',\n",
        "                r'\\b(?i)' + 'vaccine' + r'\\b']\n",
        "\n",
        "    schemes = []\n",
        "    doc = nlp(text)\n",
        "    flag = 0\n",
        "    # if no initiative present in sentence\n",
        "    for pat in patterns:\n",
        "\n",
        "        if re.search(pat, text) != None:\n",
        "            flag = 1\n",
        "            break\n",
        "\n",
        "    if flag == 0:\n",
        "        return schemes\n",
        "\n",
        "    # iterating over sentence tokens\n",
        "    for token in doc:\n",
        "\n",
        "        for pat in patterns:\n",
        "\n",
        "            # if we get a pattern match\n",
        "            if re.search(pat, token.text) != None:\n",
        "\n",
        "                word = ''\n",
        "                # iterating over token subtree\n",
        "                for node in token.subtree:\n",
        "                    # only extract the proper nouns\n",
        "                    if (node.pos_ == 'PROPN'):\n",
        "                        word += node.text + ' '\n",
        "\n",
        "                if len(word) != 0:\n",
        "                    schemes.append(word)\n",
        "\n",
        "    return schemes"
      ],
      "metadata": {
        "id": "XBMgSjweQG_v"
      },
      "execution_count": null,
      "outputs": []
    }
  ]
}